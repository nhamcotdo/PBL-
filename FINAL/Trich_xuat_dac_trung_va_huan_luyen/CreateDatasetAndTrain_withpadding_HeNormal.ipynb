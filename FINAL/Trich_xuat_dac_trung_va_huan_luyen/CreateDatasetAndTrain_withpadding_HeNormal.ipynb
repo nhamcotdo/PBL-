{
  "cells": [
    {
      "attachments": {},
      "cell_type": "markdown",
      "metadata": {
        "id": "dDV1tdTdo_33"
      },
      "source": [
        "# 1. Import and Install Dependencies"
      ]
    },
    {
      "cell_type": "code",
      "execution_count": 1,
      "metadata": {
        "colab": {
          "base_uri": "https://localhost:8080/"
        },
        "id": "LZqZOwTpo_3z",
        "outputId": "f3187683-0c2c-49cf-a1f7-eada6358aa03"
      },
      "outputs": [
        {
          "name": "stdout",
          "output_type": "stream",
          "text": [
            "Looking in indexes: https://pypi.org/simple, https://us-python.pkg.dev/colab-wheels/public/simple/\n",
            "Collecting mediapipe\n",
            "  Downloading mediapipe-0.9.3.0-cp310-cp310-manylinux_2_17_x86_64.manylinux2014_x86_64.whl (33.9 MB)\n",
            "\u001b[2K     \u001b[90m━━━━━━━━━━━━━━━━━━━━━━━━━━━━━━━━━━━━━━━━\u001b[0m \u001b[32m33.9/33.9 MB\u001b[0m \u001b[31m15.8 MB/s\u001b[0m eta \u001b[36m0:00:00\u001b[0m\n",
            "\u001b[?25hRequirement already satisfied: numpy in /usr/local/lib/python3.10/dist-packages (from mediapipe) (1.22.4)\n",
            "Requirement already satisfied: opencv-contrib-python in /usr/local/lib/python3.10/dist-packages (from mediapipe) (4.7.0.72)\n",
            "Requirement already satisfied: attrs>=19.1.0 in /usr/local/lib/python3.10/dist-packages (from mediapipe) (23.1.0)\n",
            "Collecting sounddevice>=0.4.4\n",
            "  Downloading sounddevice-0.4.6-py3-none-any.whl (31 kB)\n",
            "Requirement already satisfied: flatbuffers>=2.0 in /usr/local/lib/python3.10/dist-packages (from mediapipe) (23.3.3)\n",
            "Requirement already satisfied: absl-py in /usr/local/lib/python3.10/dist-packages (from mediapipe) (1.4.0)\n",
            "Requirement already satisfied: matplotlib in /usr/local/lib/python3.10/dist-packages (from mediapipe) (3.7.1)\n",
            "Requirement already satisfied: protobuf<4,>=3.11 in /usr/local/lib/python3.10/dist-packages (from mediapipe) (3.20.3)\n",
            "Requirement already satisfied: CFFI>=1.0 in /usr/local/lib/python3.10/dist-packages (from sounddevice>=0.4.4->mediapipe) (1.15.1)\n",
            "Requirement already satisfied: kiwisolver>=1.0.1 in /usr/local/lib/python3.10/dist-packages (from matplotlib->mediapipe) (1.4.4)\n",
            "Requirement already satisfied: pillow>=6.2.0 in /usr/local/lib/python3.10/dist-packages (from matplotlib->mediapipe) (8.4.0)\n",
            "Requirement already satisfied: python-dateutil>=2.7 in /usr/local/lib/python3.10/dist-packages (from matplotlib->mediapipe) (2.8.2)\n",
            "Requirement already satisfied: cycler>=0.10 in /usr/local/lib/python3.10/dist-packages (from matplotlib->mediapipe) (0.11.0)\n",
            "Requirement already satisfied: packaging>=20.0 in /usr/local/lib/python3.10/dist-packages (from matplotlib->mediapipe) (23.1)\n",
            "Requirement already satisfied: contourpy>=1.0.1 in /usr/local/lib/python3.10/dist-packages (from matplotlib->mediapipe) (1.0.7)\n",
            "Requirement already satisfied: pyparsing>=2.3.1 in /usr/local/lib/python3.10/dist-packages (from matplotlib->mediapipe) (3.0.9)\n",
            "Requirement already satisfied: fonttools>=4.22.0 in /usr/local/lib/python3.10/dist-packages (from matplotlib->mediapipe) (4.39.3)\n",
            "Requirement already satisfied: pycparser in /usr/local/lib/python3.10/dist-packages (from CFFI>=1.0->sounddevice>=0.4.4->mediapipe) (2.21)\n",
            "Requirement already satisfied: six>=1.5 in /usr/local/lib/python3.10/dist-packages (from python-dateutil>=2.7->matplotlib->mediapipe) (1.16.0)\n",
            "Installing collected packages: sounddevice, mediapipe\n",
            "Successfully installed mediapipe-0.9.3.0 sounddevice-0.4.6\n",
            "Looking in indexes: https://pypi.org/simple, https://us-python.pkg.dev/colab-wheels/public/simple/\n",
            "Requirement already satisfied: pandas in /usr/local/lib/python3.10/dist-packages (1.5.3)\n",
            "Requirement already satisfied: python-dateutil>=2.8.1 in /usr/local/lib/python3.10/dist-packages (from pandas) (2.8.2)\n",
            "Requirement already satisfied: numpy>=1.21.0 in /usr/local/lib/python3.10/dist-packages (from pandas) (1.22.4)\n",
            "Requirement already satisfied: pytz>=2020.1 in /usr/local/lib/python3.10/dist-packages (from pandas) (2022.7.1)\n",
            "Requirement already satisfied: six>=1.5 in /usr/local/lib/python3.10/dist-packages (from python-dateutil>=2.8.1->pandas) (1.16.0)\n",
            "Looking in indexes: https://pypi.org/simple, https://us-python.pkg.dev/colab-wheels/public/simple/\n",
            "Requirement already satisfied: numpy in /usr/local/lib/python3.10/dist-packages (1.22.4)\n",
            "Looking in indexes: https://pypi.org/simple, https://us-python.pkg.dev/colab-wheels/public/simple/\n",
            "Requirement already satisfied: pydot in /usr/local/lib/python3.10/dist-packages (1.4.2)\n",
            "Requirement already satisfied: pyparsing>=2.1.4 in /usr/local/lib/python3.10/dist-packages (from pydot) (3.0.9)\n"
          ]
        }
      ],
      "source": [
        "# Nếu chưa có thư viện thì run cell này\n",
        "!pip install mediapipe\n",
        "!pip install pandas\n",
        "!pip install numpy\n",
        "!pip install pydot"
      ]
    },
    {
      "cell_type": "code",
      "execution_count": 2,
      "metadata": {
        "colab": {
          "base_uri": "https://localhost:8080/"
        },
        "id": "x2QfIyJGpum8",
        "outputId": "4d630605-1b78-48fe-d9d6-3595e5d62695"
      },
      "outputs": [
        {
          "name": "stdout",
          "output_type": "stream",
          "text": [
            "Mounted at /content/drive\n"
          ]
        }
      ],
      "source": [
        "from google.colab import drive\n",
        "drive.mount('/content/drive')"
      ]
    },
    {
      "cell_type": "code",
      "execution_count": 2,
      "metadata": {
        "id": "Kh3UZtVDo_34"
      },
      "outputs": [],
      "source": [
        "import cv2\n",
        "import numpy as np\n",
        "import os\n",
        "from matplotlib import pyplot as plt\n",
        "import time\n",
        "import mediapipe as mp\n",
        "from PIL import Image, ImageOps\n",
        "import traceback\n",
        "import time"
      ]
    },
    {
      "attachments": {},
      "cell_type": "markdown",
      "metadata": {
        "id": "uEwTOLbeo_34"
      },
      "source": [
        "# 2. Keypoints using MP Holistic"
      ]
    },
    {
      "cell_type": "code",
      "execution_count": 4,
      "metadata": {
        "id": "qGD_26t3o_35"
      },
      "outputs": [],
      "source": [
        "mp_holistic = mp.solutions.holistic # Holistic model\n",
        "mp_drawing = mp.solutions.drawing_utils # Drawing utilities"
      ]
    },
    {
      "cell_type": "code",
      "execution_count": 5,
      "metadata": {
        "id": "nsZDwD_ko_35"
      },
      "outputs": [],
      "source": [
        "def mediapipe_detection(image, model):\n",
        "    image = cv2.cvtColor(image, cv2.COLOR_BGR2RGB) # COLOR CONVERSION BGR 2 RGB\n",
        "    image.flags.writeable = False                  # Image is no longer writeable\n",
        "    results = model.process(image)                 # Make prediction\n",
        "    image.flags.writeable = True                   # Image is now writeable \n",
        "    image = cv2.cvtColor(image, cv2.COLOR_RGB2BGR) # COLOR COVERSION RGB 2 BGR\n",
        "    return image, results"
      ]
    },
    {
      "cell_type": "code",
      "execution_count": 6,
      "metadata": {
        "id": "0RCg1KzIo_36"
      },
      "outputs": [],
      "source": [
        "def draw_landmarks(image, results):\n",
        "    mp_drawing.draw_landmarks(image, results.pose_landmarks, mp_holistic.POSE_CONNECTIONS) # Draw pose connections\n",
        "    mp_drawing.draw_landmarks(image, results.left_hand_landmarks, mp_holistic.HAND_CONNECTIONS) # Draw left hand connections\n",
        "    mp_drawing.draw_landmarks(image, results.right_hand_landmarks, mp_holistic.HAND_CONNECTIONS) # Draw right hand connections"
      ]
    },
    {
      "cell_type": "code",
      "execution_count": 7,
      "metadata": {
        "id": "Wz4ur5U3o_36"
      },
      "outputs": [],
      "source": [
        "def draw_styled_landmarks(image, results):\n",
        "    # Draw pose connections\n",
        "    mp_drawing.draw_landmarks(image, results.pose_landmarks, mp_holistic.POSE_CONNECTIONS,\n",
        "                             mp_drawing.DrawingSpec(color=(80,22,10), thickness=2, circle_radius=4), \n",
        "                             mp_drawing.DrawingSpec(color=(80,44,121), thickness=2, circle_radius=2)\n",
        "                             ) \n",
        "    # Draw left hand connections\n",
        "    mp_drawing.draw_landmarks(image, results.left_hand_landmarks, mp_holistic.HAND_CONNECTIONS, \n",
        "                             mp_drawing.DrawingSpec(color=(121,22,76), thickness=2, circle_radius=4), \n",
        "                             mp_drawing.DrawingSpec(color=(121,44,250), thickness=2, circle_radius=2)\n",
        "                             ) \n",
        "    # Draw right hand connections  \n",
        "    mp_drawing.draw_landmarks(image, results.right_hand_landmarks, mp_holistic.HAND_CONNECTIONS, \n",
        "                             mp_drawing.DrawingSpec(color=(245,117,66), thickness=2, circle_radius=4), \n",
        "                             mp_drawing.DrawingSpec(color=(245,66,230), thickness=2, circle_radius=2)\n",
        "                             ) "
      ]
    },
    {
      "cell_type": "code",
      "execution_count": 8,
      "metadata": {
        "id": "MtCQ32fzo_3-"
      },
      "outputs": [],
      "source": [
        "# cap = cv2.VideoCapture(0)\n",
        "# # Set mediapipe model \n",
        "# with mp_holistic.Holistic(min_detection_confidence=0.5, min_tracking_confidence=0.5) as holistic:\n",
        "#     while cap.isOpened():\n",
        "\n",
        "#         # Read feed\n",
        "#         ret, frame = cap.read()\n",
        "\n",
        "#         # Make detections\n",
        "#         image, results = mediapipe_detection(frame, holistic)\n",
        "#         print(results)\n",
        "        \n",
        "#         # Draw landmarks\n",
        "#         draw_styled_landmarks(image, results)\n",
        "\n",
        "#         # Show to screen\n",
        "#         cv2.imshow('OpenCV Feed', image)\n",
        "\n",
        "#         # Break gracefully\n",
        "#         if cv2.waitKey(10) & 0xFF == ord('q'):\n",
        "#             break\n",
        "#     cap.release()\n",
        "#     cv2.destroyAllWindows()"
      ]
    },
    {
      "attachments": {},
      "cell_type": "markdown",
      "metadata": {
        "id": "vVcxCZbto_3-"
      },
      "source": [
        "# 3. Setup Folders for Collection"
      ]
    },
    {
      "cell_type": "code",
      "execution_count": 3,
      "metadata": {
        "id": "RtysfZFfo_3_"
      },
      "outputs": [],
      "source": [
        "# Path for exported data, numpy arrays\n",
        "# DATA_PATH = os.path.join('./Data')\n",
        "DATA_PATH = os.path.join('./drive/MyDrive/PBL5/Data/')\n",
        "\n",
        "# Actions that we try to detect\n",
        "actions = np.array(\n",
        "[\n",
        "    \"Bye\",\n",
        "    \"Eat\",\n",
        "    \"Fine\",\n",
        "    \"Good\",\n",
        "    \"Hello\",\n",
        "    \"I\",\n",
        "    \"You\",\n",
        "    \"Love\",\n",
        "    \"None\",\n",
        "    \"Read\",\n",
        "    \"What\",\n",
        "    \"Name\",\n",
        "    \"Sleep\",\n",
        "    \"Your\"\n",
        "  ]\n",
        "    )\n",
        "\n",
        "# Path for exported data, numpy arrays\n",
        "# DATASET_PATH = os.path.join('./Data')\n",
        "\n"
      ]
    },
    {
      "cell_type": "code",
      "execution_count": 4,
      "metadata": {
        "colab": {
          "base_uri": "https://localhost:8080/"
        },
        "id": "wnkmyzq7R6Ke",
        "outputId": "c538949b-e2fd-4925-defb-c0288a573aba"
      },
      "outputs": [
        {
          "data": {
            "text/plain": [
              "14"
            ]
          },
          "execution_count": 4,
          "metadata": {},
          "output_type": "execute_result"
        }
      ],
      "source": [
        "len(set(actions))"
      ]
    },
    {
      "attachments": {},
      "cell_type": "markdown",
      "metadata": {
        "id": "BTSjYUp6o_4A"
      },
      "source": [
        "# 4. Extract Keypoint Values"
      ]
    },
    {
      "cell_type": "code",
      "execution_count": 67,
      "metadata": {
        "id": "XFmAHFpQo_4A"
      },
      "outputs": [],
      "source": [
        "import subprocess\n",
        "list_num_frames  = []\n",
        "\n",
        "for class_index, class_name in enumerate(actions):\n",
        "    files_list = os.listdir(os.path.join(DATA_PATH, class_name))\n",
        "    # Iterate through all the files present in the files list.\n",
        "    for file_name in files_list:\n",
        "        # print(file_name)\n",
        "        # Get the complete video path.\n",
        "        video_file_path = os.path.join(\n",
        "            DATA_PATH, class_name, file_name)\n",
        "        c = 'ffmpeg -y -i ' + video_file_path + ' -r 20 -c:v libx264 -preset ultrafast -movflags +faststart ' + video_file_path\n",
        "        subprocess.call(c, shell=True)\n",
        "        cap = cv2.VideoCapture(video_file_path)\n",
        "        num_frames = 0\n",
        "        while True:\n",
        "            num_frames += 1\n",
        "            rt, f = cap.read()\n",
        "            if not rt:\n",
        "                break\n",
        "        list_num_frames.append(num_frames)\n",
        "        cap.release()\n"
      ]
    },
    {
      "cell_type": "code",
      "execution_count": 68,
      "metadata": {
        "colab": {
          "base_uri": "https://localhost:8080/",
          "height": 473
        },
        "id": "rZwwSGuwo_4B",
        "outputId": "6d5ef451-1ac7-4a16-aecc-b46f89a384b8"
      },
      "outputs": [
        {
          "data": {
            "text/plain": [
              "Text(0.5, 1.0, 'SỐ LƯỢNG FRAME MỖI HÀNH ĐỘNG')"
            ]
          },
          "execution_count": 68,
          "metadata": {},
          "output_type": "execute_result"
        },
        {
          "data": {
            "image/png": "[encoded data removed]",
            "text/plain": [
              "<Figure size 640x480 with 1 Axes>"
            ]
          },
          "metadata": {},
          "output_type": "display_data"
        }
      ],
      "source": [
        "a = plt.hist(list_num_frames)\n",
        "plt.title('SỐ LƯỢNG FRAME MỖI HÀNH ĐỘNG')"
      ]
    },
    {
      "cell_type": "code",
      "execution_count": 69,
      "metadata": {
        "colab": {
          "base_uri": "https://localhost:8080/"
        },
        "id": "YHtWwwU8FSGg",
        "outputId": "6a0331df-3b8d-461c-a9a5-90eeb376c50c"
      },
      "outputs": [
        {
          "data": {
            "text/plain": [
              "216"
            ]
          },
          "execution_count": 69,
          "metadata": {},
          "output_type": "execute_result"
        }
      ],
      "source": [
        "sum(np.array(list_num_frames) > 12)"
      ]
    },
    {
      "cell_type": "code",
      "execution_count": 70,
      "metadata": {
        "id": "JALRkJdxo_4C"
      },
      "outputs": [],
      "source": [
        "sequence_length = 12"
      ]
    },
    {
      "cell_type": "code",
      "execution_count": 71,
      "metadata": {
        "id": "SxVlt1Qlo_4D"
      },
      "outputs": [],
      "source": [
        "def extract_keypoints(results):\n",
        "    pose = np.array([[res.x, res.y, res.z, res.visibility] for res in results.pose_landmarks.landmark]).flatten() if results.pose_landmarks else np.zeros(33*4)\n",
        "    lh = np.array([[res.x, res.y, res.z, res.visibility] for res in results.left_hand_landmarks.landmark]).flatten() if results.left_hand_landmarks else np.zeros(21*4)\n",
        "    rh = np.array([[res.x, res.y, res.z, res.visibility] for res in results.right_hand_landmarks.landmark]).flatten() if results.right_hand_landmarks else np.zeros(21*4)\n",
        "    return np.concatenate([pose, lh, rh])"
      ]
    },
    {
      "cell_type": "code",
      "execution_count": 72,
      "metadata": {
        "id": "B0hJqPrlo_4D"
      },
      "outputs": [],
      "source": [
        "def rotate_image(image, angle):\n",
        "    image_center = tuple(np.array(image.shape[1::-1]) / 2)\n",
        "    rot_mat = cv2.getRotationMatrix2D(image_center, angle, 1.0)\n",
        "    result = cv2.warpAffine(image, rot_mat, image.shape[1::-1], flags=cv2.INTER_LINEAR)\n",
        "    return result"
      ]
    },
    {
      "cell_type": "code",
      "execution_count": 73,
      "metadata": {
        "id": "mtoNKigw-ECr"
      },
      "outputs": [],
      "source": [
        "def resize_with_padding(img, expected_size):\n",
        "    img = Image.fromarray(img)\n",
        "    img.thumbnail((expected_size[0], expected_size[1]))\n",
        "    delta_width = expected_size[0] - img.size[0]\n",
        "    delta_height = expected_size[1] - img.size[1]\n",
        "    pad_width = delta_width // 2\n",
        "    pad_height = delta_height // 2\n",
        "    padding = (pad_width, pad_height, delta_width - pad_width, delta_height - pad_height)\n",
        "    return np.array(ImageOps.expand(img, padding))"
      ]
    },
    {
      "cell_type": "code",
      "execution_count": 74,
      "metadata": {
        "id": "NLmRPeFYo_4D"
      },
      "outputs": [],
      "source": [
        "def frames_extraction(video_path, rev=False, angle=0, padding=False):\n",
        "    video_reader = cv2.VideoCapture(video_path)\n",
        "    video_frames_count = 0\n",
        "    s, f = video_reader.read()\n",
        "    while s:\n",
        "        s, f = video_reader.read()\n",
        "        video_frames_count += 1\n",
        "    video_reader.release()\n",
        "\n",
        "    if video_frames_count < sequence_length:\n",
        "        return []\n",
        "    skip_frames = int(0.1 * video_frames_count)\n",
        "    skip_frames_window = max(int((video_frames_count - skip_frames*2) /sequence_length), 1)\n",
        "\n",
        "    # Danh sách chứa các frame sẽ lấy\n",
        "    video_keypoints = []\n",
        "\n",
        "    cap = cv2.VideoCapture(video_path)\n",
        "    with mp_holistic.Holistic(min_detection_confidence=0.5, min_tracking_confidence=0.5) as holistic:\n",
        "        for frame_counter in range(sequence_length):\n",
        "            cap.set(cv2.CAP_PROP_POS_FRAMES,\n",
        "                    skip_frames + frame_counter * skip_frames_window)\n",
        "            \n",
        "            ret, frame = cap.read()\n",
        "            if not ret:\n",
        "                print('eror')\n",
        "                continue\n",
        "\n",
        "            if rev:\n",
        "                frame = cv2.flip(frame, 1)\n",
        "            if angle:\n",
        "                frame = rotate_image(frame, angle=angle)\n",
        "            if padding: \n",
        "                padding = np.random.randint(12, 17) / 10\n",
        "                frame = resize_with_padding(frame, (int(frame.shape[1] * padding),int(frame.shape[0] * padding)))\n",
        "\n",
        "            image, results = mediapipe_detection(frame, holistic)\n",
        "            draw_styled_landmarks(image, results)   \n",
        "\n",
        "            keypoints = extract_keypoints(results)\n",
        "            video_keypoints.append(keypoints)\n",
        "\n",
        "    return video_keypoints\n"
      ]
    },
    {
      "attachments": {},
      "cell_type": "markdown",
      "metadata": {
        "id": "Hf6CZNUbo_4F"
      },
      "source": [
        "# 5. Collect Keypoint Values for Training and Testing"
      ]
    },
    {
      "cell_type": "code",
      "execution_count": 83,
      "metadata": {
        "id": "H4tx7lmB-ECt"
      },
      "outputs": [],
      "source": [
        "features = []\n",
        "labels = []\n",
        "def dataOneFile(video_file_path, class_index, padding=False):\n",
        "    global features\n",
        "    global labels\n",
        "    video_keypoints = frames_extraction(video_file_path, padding=padding)\n",
        "    if len(video_keypoints) == sequence_length:\n",
        "        features.append(video_keypoints)\n",
        "        labels.append(class_index)\n",
        "\n",
        "    # flip \n",
        "    video_keypoints = frames_extraction(video_file_path,  padding=padding, rev=True)\n",
        "    if len(video_keypoints) == sequence_length:\n",
        "        features.append(video_keypoints)\n",
        "        labels.append(class_index)\n",
        "    # random rotate\n",
        "    video_keypoints = frames_extraction(video_file_path, angle=np.random.randint(10, 30), padding=padding, rev=True)\n",
        "    if len(video_keypoints) == sequence_length:\n",
        "        features.append(video_keypoints)\n",
        "        labels.append(class_index)\n",
        "    \n",
        "    video_keypoints = frames_extraction(video_file_path, angle=np.random.randint(-30, -10), padding=padding, rev=True)\n",
        "    if len(video_keypoints) == sequence_length:\n",
        "        features.append(video_keypoints)\n",
        "        labels.append(class_index)\n",
        "\n",
        "    video_keypoints = frames_extraction(video_file_path, padding=padding, rev=False)\n",
        "    if len(video_keypoints) == sequence_length:\n",
        "        features.append(video_keypoints)\n",
        "        labels.append(class_index)\n",
        "    # random rotate\n",
        "    video_keypoints = frames_extraction(video_file_path, angle=np.random.randint(10, 30), padding=padding, rev=False)\n",
        "    if len(video_keypoints) == sequence_length:\n",
        "        features.append(video_keypoints)\n",
        "        labels.append(class_index)\n",
        "    \n",
        "    video_keypoints = frames_extraction(video_file_path, angle=np.random.randint(-30, -10), padding=padding, rev=False)\n",
        "    if len(video_keypoints) == sequence_length:\n",
        "        features.append(video_keypoints)\n",
        "        labels.append(class_index)"
      ]
    },
    {
      "cell_type": "code",
      "execution_count": 84,
      "metadata": {
        "id": "-7-Uwp3-o_4G"
      },
      "outputs": [],
      "source": [
        "def create_dataset():\n",
        "    for class_index, class_name in enumerate(actions):\n",
        "        print(f'Extracting Data of Class: {class_name}')\n",
        "\n",
        "        files_list = os.listdir(os.path.join(DATA_PATH, class_name))\n",
        "\n",
        "        # Iterate through all the files present in the files list.\n",
        "        for file_name in files_list:\n",
        "            # print(file_name)\n",
        "            try:\n",
        "                video_file_path = os.path.join(\n",
        "                    DATA_PATH, class_name, file_name)\n",
        "                dataOneFile(video_file_path, class_index)\n",
        "                dataOneFile(video_file_path, class_index, True)\n",
        "                \n",
        "            except Exception as e:\n",
        "                print(e)\n",
        "                traceback.print_stack()\n",
        "                continue\n",
        "\n",
        "        cv2.destroyAllWindows()\n",
        "    return features, labels"
      ]
    },
    {
      "cell_type": "code",
      "execution_count": 85,
      "metadata": {
        "colab": {
          "base_uri": "https://localhost:8080/"
        },
        "id": "_NETHIgXo_4G",
        "outputId": "7bb9d69c-6d58-4219-9ffc-5c280550d81e"
      },
      "outputs": [
        {
          "name": "stdout",
          "output_type": "stream",
          "text": [
            "Extracting Data of Class: Bye\n",
            "video37428.avi\n",
            "video191327.avi\n",
            "video482995.avi\n",
            "video196846.avi\n",
            "video143362.avi\n",
            "video120227.avi\n",
            "video720597.avi\n",
            "video340613.avi\n",
            "video418613.avi\n",
            "video178054.avi\n",
            "video128510.avi\n",
            "video365760.avi\n",
            "video466794.avi\n",
            "video110828.avi\n",
            "video283759.avi\n",
            "video97025.avi\n",
            "video143212.avi\n",
            "video715320.avi\n",
            "video163353.avi\n",
            "video136007.avi\n",
            "video96991.avi\n",
            "video317003.avi\n",
            "video67374.avi\n",
            "video694331.avi\n",
            "video77719.avi\n",
            "video43395.avi\n",
            "video150143.avi\n",
            "video207212.avi\n",
            "video516601.avi\n",
            "video487758.avi\n",
            "video86084.avi\n",
            "video58000.avi\n",
            "video169287.avi\n",
            "video522035.avi\n",
            "video511943.avi\n",
            "video128989.avi\n",
            "video701151.avi\n",
            "video104198.avi\n",
            "video50642.avi\n",
            "video370956.avi\n",
            "Extracting Data of Class: Eat\n",
            "video294505.avi\n",
            "257.avi\n",
            "114.avi\n",
            "115.avi\n",
            "video86326.avi\n",
            "video56012.avi\n",
            "video70500.avi\n",
            "video156789.avi\n",
            "video292522.avi\n",
            "video204388.avi\n",
            "video173689.avi\n",
            "256.avi\n",
            "009.avi\n",
            "video226738.avi\n",
            "007.avi\n",
            "video204628.avi\n",
            "video90924.avi\n",
            "video304945.avi\n",
            "video282980.avi\n",
            "008.avi\n",
            "253.avi\n",
            "261.avi\n",
            "262.avi\n",
            "110.avi\n",
            "106.avi\n",
            "video305330.avi\n",
            "video196346.avi\n",
            "097.avi\n",
            "012.avi\n",
            "video152052.avi\n",
            "video42622.avi\n",
            "109.avi\n",
            "252.avi\n",
            "video79783.avi\n",
            "video23779.avi\n",
            "video204321.avi\n",
            "video195345.avi\n",
            "video236700.avi\n",
            "100.avi\n",
            "video244638.avi\n",
            "254.avi\n",
            "video69227.avi\n",
            "video217993.avi\n",
            "video61688.avi\n",
            "video314170.avi\n",
            "video299877.avi\n",
            "116.avi\n",
            "video38642.avi\n",
            "108.avi\n",
            "video164139.avi\n",
            "video215948.avi\n",
            "260.avi\n",
            "video277665.avi\n",
            "112.avi\n",
            "255.avi\n",
            "Extracting Data of Class: Fine\n",
            "video600879.avi\n",
            "video111935.avi\n",
            "video56688.avi\n",
            "video97960.avi\n",
            "video519363.avi\n",
            "video365629.avi\n",
            "video137298.avi\n",
            "video605652.avi\n",
            "video258319.avi\n",
            "video250397.avi\n",
            "video382633.avi\n",
            "video358879.avi\n",
            "video22281.avi\n",
            "video457184.avi\n",
            "video643737.avi\n",
            "video31267.avi\n",
            "video302519.avi\n",
            "video616295.avi\n",
            "video632704.avi\n",
            "video37652.avi\n",
            "video609980.avi\n",
            "video117566.avi\n",
            "video392505.avi\n",
            "video352700.avi\n",
            "video264585.avi\n",
            "video336840.avi\n",
            "video386984.avi\n",
            "video276789.avi\n",
            "video67619.avi\n",
            "video467123.avi\n",
            "video43326.avi\n",
            "video638538.avi\n",
            "video243832.avi\n",
            "video62280.avi\n",
            "video569970.avi\n",
            "video514529.avi\n",
            "video48540.avi\n",
            "video26786.avi\n",
            "video17503.avi\n",
            "video307449.avi\n",
            "video269826.avi\n",
            "Extracting Data of Class: Good\n",
            "video416221.avi\n",
            "video145939.avi\n",
            "video346869.avi\n",
            "video183380.avi\n",
            "video151483.avi\n",
            "video188820.avi\n",
            "video222490.avi\n",
            "video80509.avi\n",
            "video76557.avi\n",
            "video327545.avi\n",
            "video397359.avi\n",
            "video194480.avi\n",
            "video217020.avi\n",
            "video68202.avi\n",
            "video342083.avi\n",
            "video54280.avi\n",
            "video695422.avi\n",
            "video90202.avi\n",
            "video402479.avi\n",
            "video35644.avi\n",
            "video321925.avi\n",
            "video207400.avi\n",
            "video683877.avi\n",
            "video39542.avi\n",
            "video714417.avi\n",
            "video103008.avi\n",
            "video173656.avi\n",
            "video726003.avi\n",
            "video720535.avi\n",
            "video167315.avi\n",
            "video702313.avi\n",
            "video708982.avi\n",
            "video25581.avi\n",
            "video84910.avi\n",
            "video43465.avi\n",
            "video47594.avi\n",
            "video212506.avi\n",
            "video448210.avi\n",
            "video63475.avi\n",
            "video162604.avi\n",
            "video391859.avi\n",
            "video20906.avi\n",
            "video443380.avi\n",
            "video99025.avi\n",
            "video688859.avi\n",
            "video141067.avi\n",
            "video375107.avi\n",
            "video29437.avi\n",
            "video250531.avi\n",
            "video58373.avi\n",
            "video332450.avi\n",
            "Extracting Data of Class: Hello\n",
            "video2007950.avi\n",
            "video792033.avi\n",
            "video775293.avi\n",
            "video790454.avi\n",
            "video1467923.avi\n",
            "video1731057.avi\n",
            "video1408775.avi\n",
            "video653538.avi\n",
            "video447790.avi\n",
            "video2044617.avi\n",
            "video1547687.avi\n",
            "video838673.avi\n",
            "video1831308.avi\n",
            "video506814.avi\n",
            "video457099.avi\n",
            "video2091543.avi\n",
            "video2034977.avi\n",
            "video2052450.avi\n",
            "video1840390.avi\n",
            "video820700.avi\n",
            "video1721934.avi\n",
            "video1525132.avi\n",
            "video620149.avi\n",
            "video1506419.avi\n",
            "video855809.avi\n",
            "video795628.avi\n",
            "video515351.avi\n",
            "video2236489.avi\n",
            "video828078.avi\n",
            "video1555612.avi\n",
            "video571854.avi\n",
            "video1514076.avi\n",
            "video1761975.avi\n",
            "video1934374.avi\n",
            "video710428.avi\n",
            "video2028352.avi\n",
            "video1460139.avi\n",
            "video728111.avi\n",
            "video800761.avi\n",
            "video1568457.avi\n",
            "video850313.avi\n",
            "video1917283.avi\n",
            "video349794.avi\n",
            "video1752361.avi\n",
            "video641580.avi\n",
            "video1451961.avi\n",
            "video357916.avi\n",
            "total time:  4470.540081739426\n"
          ]
        }
      ],
      "source": [
        "time_start = time.time()\n",
        "create_dataset()\n",
        "features = np.asarray(features)\n",
        "labels = np.array(labels)\n",
        "np.savez_compressed(f'{DATA_PATH}/data_rich_full_padding1.npz', features=features, labels=labels)\n",
        "time_end = time.time()\n",
        "print('total time: ', time_end - time_start)"
      ]
    },
    {
      "cell_type": "code",
      "execution_count": 9,
      "metadata": {
        "colab": {
          "base_uri": "https://localhost:8080/"
        },
        "id": "BDVQBvnWuN_J",
        "outputId": "fc4c41ed-1913-4471-d2fa-f4d18b348465"
      },
      "outputs": [
        {
          "data": {
            "text/plain": [
              "{0, 1, 2, 3, 4}"
            ]
          },
          "execution_count": 9,
          "metadata": {},
          "output_type": "execute_result"
        }
      ],
      "source": [
        "data1 = np.load(f'{DATA_PATH}data_rich_full_padding1.npz')\n",
        "X1 = data1['features']\n",
        "labels1 = data1['labels']\n",
        "set(labels1)"
      ]
    },
    {
      "cell_type": "code",
      "execution_count": 10,
      "metadata": {
        "colab": {
          "base_uri": "https://localhost:8080/"
        },
        "id": "8OxHelJquxgc",
        "outputId": "3b0f3744-82c9-4966-8c87-d546fc506012"
      },
      "outputs": [
        {
          "data": {
            "text/plain": [
              "{5, 6, 7, 8, 9}"
            ]
          },
          "execution_count": 10,
          "metadata": {},
          "output_type": "execute_result"
        }
      ],
      "source": [
        "data2 = np.load(f'{DATA_PATH}data_rich_full_padding2.npz')\n",
        "X2 = data2['features']\n",
        "labels2 = data2['labels']\n",
        "set(labels2)"
      ]
    },
    {
      "cell_type": "code",
      "execution_count": 11,
      "metadata": {
        "colab": {
          "base_uri": "https://localhost:8080/"
        },
        "id": "7RHFCcEwu6Ub",
        "outputId": "145b4b8f-983c-4163-afc8-cf5857fdecba"
      },
      "outputs": [
        {
          "data": {
            "text/plain": [
              "{10, 11, 12, 13}"
            ]
          },
          "execution_count": 11,
          "metadata": {},
          "output_type": "execute_result"
        }
      ],
      "source": [
        "data3 = np.load(f'{DATA_PATH}data_rich_full_padding3.npz')\n",
        "X3 = data3['features']\n",
        "labels3 = data3['labels'] \n",
        "set(labels3)"
      ]
    },
    {
      "cell_type": "code",
      "execution_count": null,
      "metadata": {
        "id": "DnCAn_OdyXa8"
      },
      "outputs": [],
      "source": [
        "x10 = X3[labels==10]\n",
        "labels10 = labels3[labels3==10]\n",
        "x10 = x10[:658]\n",
        "labels10 = labels10[:658]\n",
        "X3 = np.concatenate([X3, x10])\n",
        "labels3 = np.concatenate([labels3, labels10])\n"
      ]
    },
    {
      "cell_type": "code",
      "execution_count": 12,
      "metadata": {
        "colab": {
          "base_uri": "https://localhost:8080/"
        },
        "id": "WLLkAC-VvjnQ",
        "outputId": "2d0efc03-b647-432c-eeb7-77bb2c7a2c57"
      },
      "outputs": [
        {
          "data": {
            "text/plain": [
              "(10220, 10, 300)"
            ]
          },
          "execution_count": 12,
          "metadata": {},
          "output_type": "execute_result"
        }
      ],
      "source": [
        "X = np.concatenate([X1, X2, X3])\n",
        "X.shape"
      ]
    },
    {
      "cell_type": "code",
      "execution_count": 13,
      "metadata": {
        "colab": {
          "base_uri": "https://localhost:8080/"
        },
        "id": "h762aoamvk_b",
        "outputId": "0d87a63a-4741-47aa-9b72-bdc8d013de6b"
      },
      "outputs": [
        {
          "data": {
            "text/plain": [
              "(10220,)"
            ]
          },
          "execution_count": 13,
          "metadata": {},
          "output_type": "execute_result"
        }
      ],
      "source": [
        "labels = np.concatenate([labels1, labels2, labels3])\n",
        "labels.shape"
      ]
    },
    {
      "cell_type": "code",
      "execution_count": 46,
      "metadata": {
        "id": "uRyxobXCBwoB"
      },
      "outputs": [],
      "source": [
        "np.savez_compressed(f'{DATA_PATH}/data_rich_full_padding.npz', features=X, labels=labels)"
      ]
    },
    {
      "attachments": {},
      "cell_type": "markdown",
      "metadata": {
        "id": "hD-05nsao_4G"
      },
      "source": [
        "# 6. Preprocess Data and Create Labels and Features"
      ]
    },
    {
      "cell_type": "code",
      "execution_count": 1,
      "metadata": {
        "colab": {
          "base_uri": "https://localhost:8080/"
        },
        "id": "kVfjLQDrjK3I",
        "outputId": "697cf160-94c7-4065-87f9-0693d699a25c"
      },
      "outputs": [
        {
          "name": "stdout",
          "output_type": "stream",
          "text": [
            "Looking in indexes: https://pypi.org/simple, https://us-python.pkg.dev/colab-wheels/public/simple/\n",
            "Collecting mediapipe\n",
            "  Downloading mediapipe-0.9.3.0-cp310-cp310-manylinux_2_17_x86_64.manylinux2014_x86_64.whl (33.9 MB)\n",
            "\u001b[2K     \u001b[90m━━━━━━━━━━━━━━━━━━━━━━━━━━━━━━━━━━━━━━━━\u001b[0m \u001b[32m33.9/33.9 MB\u001b[0m \u001b[31m58.5 MB/s\u001b[0m eta \u001b[36m0:00:00\u001b[0m\n",
            "\u001b[?25hRequirement already satisfied: protobuf<4,>=3.11 in /usr/local/lib/python3.10/dist-packages (from mediapipe) (3.20.3)\n",
            "Requirement already satisfied: flatbuffers>=2.0 in /usr/local/lib/python3.10/dist-packages (from mediapipe) (23.3.3)\n",
            "Collecting sounddevice>=0.4.4\n",
            "  Downloading sounddevice-0.4.6-py3-none-any.whl (31 kB)\n",
            "Requirement already satisfied: attrs>=19.1.0 in /usr/local/lib/python3.10/dist-packages (from mediapipe) (23.1.0)\n",
            "Requirement already satisfied: opencv-contrib-python in /usr/local/lib/python3.10/dist-packages (from mediapipe) (4.7.0.72)\n",
            "Requirement already satisfied: absl-py in /usr/local/lib/python3.10/dist-packages (from mediapipe) (1.4.0)\n",
            "Requirement already satisfied: matplotlib in /usr/local/lib/python3.10/dist-packages (from mediapipe) (3.7.1)\n",
            "Requirement already satisfied: numpy in /usr/local/lib/python3.10/dist-packages (from mediapipe) (1.22.4)\n",
            "Requirement already satisfied: CFFI>=1.0 in /usr/local/lib/python3.10/dist-packages (from sounddevice>=0.4.4->mediapipe) (1.15.1)\n",
            "Requirement already satisfied: pyparsing>=2.3.1 in /usr/local/lib/python3.10/dist-packages (from matplotlib->mediapipe) (3.0.9)\n",
            "Requirement already satisfied: contourpy>=1.0.1 in /usr/local/lib/python3.10/dist-packages (from matplotlib->mediapipe) (1.0.7)\n",
            "Requirement already satisfied: packaging>=20.0 in /usr/local/lib/python3.10/dist-packages (from matplotlib->mediapipe) (23.1)\n",
            "Requirement already satisfied: kiwisolver>=1.0.1 in /usr/local/lib/python3.10/dist-packages (from matplotlib->mediapipe) (1.4.4)\n",
            "Requirement already satisfied: fonttools>=4.22.0 in /usr/local/lib/python3.10/dist-packages (from matplotlib->mediapipe) (4.39.3)\n",
            "Requirement already satisfied: pillow>=6.2.0 in /usr/local/lib/python3.10/dist-packages (from matplotlib->mediapipe) (8.4.0)\n",
            "Requirement already satisfied: cycler>=0.10 in /usr/local/lib/python3.10/dist-packages (from matplotlib->mediapipe) (0.11.0)\n",
            "Requirement already satisfied: python-dateutil>=2.7 in /usr/local/lib/python3.10/dist-packages (from matplotlib->mediapipe) (2.8.2)\n",
            "Requirement already satisfied: pycparser in /usr/local/lib/python3.10/dist-packages (from CFFI>=1.0->sounddevice>=0.4.4->mediapipe) (2.21)\n",
            "Requirement already satisfied: six>=1.5 in /usr/local/lib/python3.10/dist-packages (from python-dateutil>=2.7->matplotlib->mediapipe) (1.16.0)\n",
            "Installing collected packages: sounddevice, mediapipe\n",
            "Successfully installed mediapipe-0.9.3.0 sounddevice-0.4.6\n",
            "Looking in indexes: https://pypi.org/simple, https://us-python.pkg.dev/colab-wheels/public/simple/\n",
            "Requirement already satisfied: pandas in /usr/local/lib/python3.10/dist-packages (1.5.3)\n",
            "Requirement already satisfied: pytz>=2020.1 in /usr/local/lib/python3.10/dist-packages (from pandas) (2022.7.1)\n",
            "Requirement already satisfied: numpy>=1.21.0 in /usr/local/lib/python3.10/dist-packages (from pandas) (1.22.4)\n",
            "Requirement already satisfied: python-dateutil>=2.8.1 in /usr/local/lib/python3.10/dist-packages (from pandas) (2.8.2)\n",
            "Requirement already satisfied: six>=1.5 in /usr/local/lib/python3.10/dist-packages (from python-dateutil>=2.8.1->pandas) (1.16.0)\n",
            "Looking in indexes: https://pypi.org/simple, https://us-python.pkg.dev/colab-wheels/public/simple/\n",
            "Requirement already satisfied: numpy in /usr/local/lib/python3.10/dist-packages (1.22.4)\n",
            "Looking in indexes: https://pypi.org/simple, https://us-python.pkg.dev/colab-wheels/public/simple/\n",
            "Requirement already satisfied: pydot in /usr/local/lib/python3.10/dist-packages (1.4.2)\n",
            "Requirement already satisfied: pyparsing>=2.1.4 in /usr/local/lib/python3.10/dist-packages (from pydot) (3.0.9)\n"
          ]
        }
      ],
      "source": [
        "# Nếu chưa có thư viện thì run cell này\n",
        "!pip install mediapipe\n",
        "!pip install pandas\n",
        "!pip install numpy\n",
        "!pip install pydot"
      ]
    },
    {
      "cell_type": "code",
      "execution_count": 2,
      "metadata": {
        "colab": {
          "base_uri": "https://localhost:8080/"
        },
        "id": "vFvzRGvKjX1_",
        "outputId": "6c484d2f-b9b2-4089-a6f8-a3b1af73d3e5"
      },
      "outputs": [
        {
          "name": "stdout",
          "output_type": "stream",
          "text": [
            "Mounted at /content/drive\n"
          ]
        }
      ],
      "source": [
        "from google.colab import drive\n",
        "drive.mount('/content/drive')"
      ]
    },
    {
      "cell_type": "code",
      "execution_count": 3,
      "metadata": {
        "id": "pJmOqwfbo_4H"
      },
      "outputs": [],
      "source": [
        "from sklearn.model_selection import train_test_split\n",
        "from tensorflow.keras.utils import to_categorical\n",
        "from sklearn.model_selection import StratifiedShuffleSplit\n",
        "import cv2\n",
        "import numpy as np\n",
        "import os\n",
        "from matplotlib import pyplot as plt\n",
        "import time\n",
        "import mediapipe as mp\n",
        "import matplotlib.pyplot as plt\n",
        "from sklearn.metrics import multilabel_confusion_matrix, accuracy_score\n"
      ]
    },
    {
      "cell_type": "code",
      "execution_count": 4,
      "metadata": {
        "colab": {
          "base_uri": "https://localhost:8080/"
        },
        "id": "plAGkLtVcNr6",
        "outputId": "dc41037d-97f7-4ec0-e6ea-5943f968ff4f"
      },
      "outputs": [
        {
          "data": {
            "text/plain": [
              "{'Bye': 0,\n",
              " 'Eat': 1,\n",
              " 'Fine': 2,\n",
              " 'Good': 3,\n",
              " 'Hello': 4,\n",
              " 'I': 5,\n",
              " 'You': 6,\n",
              " 'Love': 7,\n",
              " 'None': 8,\n",
              " 'Read': 9,\n",
              " 'What': 10,\n",
              " 'Name': 11,\n",
              " 'Sleep': 12,\n",
              " 'Your': 13}"
            ]
          },
          "execution_count": 4,
          "metadata": {},
          "output_type": "execute_result"
        }
      ],
      "source": [
        "# Path for exported data, numpy arrays\n",
        "# DATA_PATH = os.path.join('./Data')\n",
        "DATA_PATH = os.path.join('./drive/MyDrive/PBL5/Data/')\n",
        "log_dir = os.path.join(f'./drive/MyDrive/PBL5/Data/Logs/{time.time()}')\n",
        "checkpoint_filepath = f'./drive/MyDrive/PBL5/Data/checkpoint/{time.time()}'\n",
        "\n",
        "\n",
        "# Actions that we try to detect\n",
        "actions = np.array(\n",
        "['Bye','Eat', 'Fine', 'Good', 'Hello', 'I', 'You', 'Love', 'None', 'Read', 'What', 'Name', 'Sleep', 'Your']\n",
        "    )\n",
        "sequence_length = 12\n",
        "# Path for exported data, numpy arrays\n",
        "# DATASET_PATH = os.path.join('./Data')\n",
        "label_map = {label:num for num, label in enumerate(actions)}\n",
        "label_map"
      ]
    },
    {
      "cell_type": "code",
      "execution_count": 5,
      "metadata": {
        "id": "BKQ0DtV7o_4I"
      },
      "outputs": [],
      "source": [
        "data = np.load(f'{DATA_PATH}/data_rich_full_padding.npz')\n",
        "X = data['features']\n",
        "labels = data['labels']"
      ]
    },
    {
      "cell_type": "code",
      "execution_count": 6,
      "metadata": {
        "colab": {
          "base_uri": "https://localhost:8080/"
        },
        "id": "j5L1OQolvoMk",
        "outputId": "e22b8be6-6093-416e-f6fb-b92d70842d1c"
      },
      "outputs": [
        {
          "data": {
            "text/plain": [
              "(9534, 10, 300)"
            ]
          },
          "execution_count": 6,
          "metadata": {},
          "output_type": "execute_result"
        }
      ],
      "source": [
        "X.shape"
      ]
    },
    {
      "cell_type": "code",
      "execution_count": 7,
      "metadata": {
        "id": "mwSYLmBPo_4I"
      },
      "outputs": [],
      "source": [
        "y = to_categorical(labels).astype(int)"
      ]
    },
    {
      "cell_type": "code",
      "execution_count": 8,
      "metadata": {
        "colab": {
          "base_uri": "https://localhost:8080/"
        },
        "id": "c1vtq8IVo_4J",
        "outputId": "651c0c39-2ed4-4b77-c95a-b3ac62332897"
      },
      "outputs": [
        {
          "data": {
            "text/plain": [
              "(9534, 14)"
            ]
          },
          "execution_count": 8,
          "metadata": {},
          "output_type": "execute_result"
        }
      ],
      "source": [
        "y.shape"
      ]
    },
    {
      "cell_type": "code",
      "execution_count": 9,
      "metadata": {
        "colab": {
          "base_uri": "https://localhost:8080/"
        },
        "id": "X_tQ_nCbv5i4",
        "outputId": "e632d147-c4ad-49cc-85ac-6c9678400b1c"
      },
      "outputs": [
        {
          "name": "stdout",
          "output_type": "stream",
          "text": [
            "0 560\n",
            "1 770\n",
            "2 546\n",
            "3 700\n",
            "4 658\n",
            "5 742\n",
            "6 742\n",
            "7 784\n",
            "8 728\n",
            "9 644\n",
            "10 658\n",
            "11 616\n",
            "12 700\n",
            "13 686\n"
          ]
        }
      ],
      "source": [
        "for i in set(labels):\n",
        "  print(i, len(y[labels==i]))"
      ]
    },
    {
      "cell_type": "code",
      "execution_count": 10,
      "metadata": {
        "colab": {
          "base_uri": "https://localhost:8080/",
          "height": 517
        },
        "id": "cZav1-R9o_4J",
        "outputId": "e32693d3-6004-488f-dfb3-ee84fb4d1cab"
      },
      "outputs": [
        {
          "data": {
            "text/plain": [
              "(array([112., 154., 109., 140., 132., 148., 148., 157., 146., 129., 132.,\n",
              "        123., 140., 137.]),\n",
              " array([ 0.,  1.,  2.,  3.,  4.,  5.,  6.,  7.,  8.,  9., 10., 11., 12.,\n",
              "        13., 14.]),\n",
              " <BarContainer object of 14 artists>)"
            ]
          },
          "execution_count": 10,
          "metadata": {},
          "output_type": "execute_result"
        },
        {
          "data": {
            "image/png": "[encoded data removed]",
            "text/plain": [
              "<Figure size 640x480 with 1 Axes>"
            ]
          },
          "metadata": {},
          "output_type": "display_data"
        }
      ],
      "source": [
        "from sklearn.model_selection import StratifiedShuffleSplit\n",
        "\n",
        "# Define the splitter\n",
        "splitter = StratifiedShuffleSplit(n_splits=1, test_size=0.2, random_state=42)\n",
        "\n",
        "# Get the indices for splitting\n",
        "train_idx, test_idx = next(splitter.split(X, y))\n",
        "\n",
        "# Split the data into train and test sets\n",
        "X_train_val = X[train_idx]\n",
        "X_test = X[test_idx]\n",
        "y_train_val = y[train_idx]\n",
        "y_test = y[test_idx]\n",
        "plt.hist(np.argmax(y_train_val, 1), bins=np.arange(0,15), label=label_map)\n",
        "plt.hist(np.argmax(y_test, 1), bins=np.arange(0,15), label=label_map)"
      ]
    },
    {
      "cell_type": "code",
      "execution_count": 49,
      "metadata": {
        "colab": {
          "base_uri": "https://localhost:8080/",
          "height": 517
        },
        "id": "72Tf08HTo_4K",
        "outputId": "a4f27553-cb3c-4f03-b44e-4e71a0d08d98"
      },
      "outputs": [
        {
          "data": {
            "text/plain": [
              "(array([ 90., 123.,  87., 112., 105., 119., 119., 126., 116., 103., 105.,\n",
              "         99., 112., 110.]),\n",
              " array([ 0.,  1.,  2.,  3.,  4.,  5.,  6.,  7.,  8.,  9., 10., 11., 12.,\n",
              "        13., 14.]),\n",
              " <BarContainer object of 14 artists>)"
            ]
          },
          "execution_count": 49,
          "metadata": {},
          "output_type": "execute_result"
        },
        {
          "data": {
            "image/png": "[encoded data removed]",
            "text/plain": [
              "<Figure size 640x480 with 1 Axes>"
            ]
          },
          "metadata": {},
          "output_type": "display_data"
        }
      ],
      "source": [
        "from sklearn.model_selection import StratifiedShuffleSplit\n",
        "\n",
        "# Define the splitter\n",
        "splitter2 = StratifiedShuffleSplit(n_splits=1, test_size=0.2, random_state=42)\n",
        "\n",
        "# Get the indices for splitting\n",
        "train_idx, val_idx = next(splitter2.split(X_train_val, y_train_val))\n",
        "\n",
        "# Split the data into train and val sets\n",
        "X_train = X_train_val[train_idx]\n",
        "X_val = X_train_val[val_idx]\n",
        "y_train = y_train_val[train_idx]\n",
        "y_val = y_train_val[val_idx]\n",
        "plt.hist(np.argmax(y_train, 1), bins=range(0,15), label=label_map)\n",
        "plt.hist(np.argmax(y_val, 1), bins=range(0,15), label=label_map)"
      ]
    },
    {
      "attachments": {},
      "cell_type": "markdown",
      "metadata": {
        "id": "H_oBDKG2o_4L"
      },
      "source": [
        "# 7. Build and Train LSTM Neural Network"
      ]
    },
    {
      "cell_type": "code",
      "execution_count": 12,
      "metadata": {
        "id": "n3TWBQcUo_4L"
      },
      "outputs": [],
      "source": [
        "from tensorflow.keras.models import Sequential\n",
        "from tensorflow.keras.optimizers import Adam\n",
        "from tensorflow.keras.layers import Dense, Dropout, LSTM\n",
        "from tensorflow.keras.callbacks import TensorBoard, EarlyStopping\n",
        "from tensorflow.keras import initializers\n",
        "import tensorflow as tf\n",
        "import time"
      ]
    },
    {
      "cell_type": "code",
      "execution_count": 25,
      "metadata": {
        "id": "_Ha-GnTWo_4L"
      },
      "outputs": [],
      "source": [
        "# set Glorot initialization for all layers\n",
        "\n",
        "model = Sequential()\n",
        "model.add(LSTM(64, return_sequences=True, activation='relu',\n",
        "     kernel_initializer= initializers.he_normal(), \n",
        "     input_shape=(sequence_length,X.shape[-1])))\n",
        "model.add(LSTM(128, return_sequences=True, activation='relu',\n",
        "     kernel_initializer= initializers.he_normal()))\n",
        "model.add(LSTM(64, return_sequences=False, activation='relu',\n",
        "     kernel_initializer= initializers.he_normal()))\n",
        "model.add(Dense(64, activation='relu',\n",
        "     kernel_initializer= initializers.he_normal()))\n",
        "model.add(Dense(32, activation='relu',\n",
        "     kernel_initializer= initializers.he_normal()))\n",
        "model.add(Dense(actions.shape[0], activation='softmax',\n",
        "     kernel_initializer= initializers.he_normal()))"
      ]
    },
    {
      "cell_type": "code",
      "execution_count": 20,
      "metadata": {
        "colab": {
          "base_uri": "https://localhost:8080/",
          "height": 754
        },
        "id": "Tyb-pis2o_4M",
        "outputId": "8d929dce-a30e-4990-c9b3-f84620162229"
      },
      "outputs": [
        {
          "data": {
            "image/png": "[encoded data removed]",
            "text/plain": [
              "<IPython.core.display.Image object>"
            ]
          },
          "execution_count": 20,
          "metadata": {},
          "output_type": "execute_result"
        }
      ],
      "source": [
        "from keras.utils import plot_model\n",
        "\n",
        "# Plot the model\n",
        "plot_model(model, show_shapes=True, show_layer_names=True)"
      ]
    },
    {
      "cell_type": "code",
      "execution_count": 21,
      "metadata": {
        "colab": {
          "base_uri": "https://localhost:8080/"
        },
        "id": "phN83nf6o_4M",
        "outputId": "1c29b15c-b840-4e85-bbff-01361ef10699"
      },
      "outputs": [
        {
          "name": "stdout",
          "output_type": "stream",
          "text": [
            "Model: \"sequential_1\"\n",
            "_________________________________________________________________\n",
            " Layer (type)                Output Shape              Param #   \n",
            "=================================================================\n",
            " lstm_3 (LSTM)               (None, 10, 64)            93440     \n",
            "                                                                 \n",
            " lstm_4 (LSTM)               (None, 10, 128)           98816     \n",
            "                                                                 \n",
            " lstm_5 (LSTM)               (None, 64)                49408     \n",
            "                                                                 \n",
            " dense_3 (Dense)             (None, 64)                4160      \n",
            "                                                                 \n",
            " dense_4 (Dense)             (None, 32)                2080      \n",
            "                                                                 \n",
            " dense_5 (Dense)             (None, 14)                462       \n",
            "                                                                 \n",
            "=================================================================\n",
            "Total params: 248,366\n",
            "Trainable params: 248,366\n",
            "Non-trainable params: 0\n",
            "_________________________________________________________________\n"
          ]
        }
      ],
      "source": [
        "model.summary()"
      ]
    },
    {
      "cell_type": "code",
      "execution_count": 22,
      "metadata": {
        "colab": {
          "base_uri": "https://localhost:8080/"
        },
        "id": "kp-pNoqkjr37",
        "outputId": "2ea0b080-4e07-49c8-eab0-e0daf1a2b234"
      },
      "outputs": [
        {
          "data": {
            "text/plain": [
              "[]"
            ]
          },
          "execution_count": 22,
          "metadata": {},
          "output_type": "execute_result"
        }
      ],
      "source": [
        "from tensorflow.python.client import device_lib\n",
        "\n",
        "def get_available_gpus():\n",
        "    local_device_protos = device_lib.list_local_devices()\n",
        "    return [x.name for x in local_device_protos if x.device_type == 'GPU']\n",
        "\n",
        "get_available_gpus()"
      ]
    },
    {
      "cell_type": "code",
      "execution_count": 26,
      "metadata": {
        "colab": {
          "base_uri": "https://localhost:8080/"
        },
        "id": "ggCX345to_4M",
        "outputId": "1fe196fe-31ea-441c-ef1c-8cb45dbf7e16"
      },
      "outputs": [
        {
          "name": "stdout",
          "output_type": "stream",
          "text": [
            "Epoch 1/300\n",
            "3048/3051 [============================>.] - ETA: 0s - loss: 1.6720 - categorical_accuracy: 0.4281"
          ]
        },
        {
          "name": "stderr",
          "output_type": "stream",
          "text": [
            "WARNING:absl:Found untraced functions such as _update_step_xla while saving (showing 1 of 1). These functions will not be directly callable after loading.\n"
          ]
        },
        {
          "name": "stdout",
          "output_type": "stream",
          "text": [
            "\b\b\b\b\b\b\b\b\b\b\b\b\b\b\b\b\b\b\b\b\b\b\b\b\b\b\b\b\b\b\b\b\b\b\b\b\b\b\b\b\b\b\b\b\b\b\b\b\b\b\b\b\b\b\b\b\b\b\b\b\b\b\b\b\b\b\b\b\b\b\b\b\b\b\b\b\b\b\b\b\b\b\b\b\b\b\b\b\b\b\b\b\b\b\b\b\b\b\r3051/3051 [==============================] - 66s 20ms/step - loss: 1.6719 - categorical_accuracy: 0.4280 - val_loss: 1.3215 - val_categorical_accuracy: 0.5151 - lr: 0.0010\n",
            "Epoch 2/300\n",
            "3050/3051 [============================>.] - ETA: 0s - loss: 0.9236 - categorical_accuracy: 0.6718"
          ]
        },
        {
          "name": "stderr",
          "output_type": "stream",
          "text": [
            "WARNING:absl:Found untraced functions such as _update_step_xla while saving (showing 1 of 1). These functions will not be directly callable after loading.\n"
          ]
        },
        {
          "name": "stdout",
          "output_type": "stream",
          "text": [
            "\b\b\b\b\b\b\b\b\b\b\b\b\b\b\b\b\b\b\b\b\b\b\b\b\b\b\b\b\b\b\b\b\b\b\b\b\b\b\b\b\b\b\b\b\b\b\b\b\b\b\b\b\b\b\b\b\b\b\b\b\b\b\b\b\b\b\b\b\b\b\b\b\b\b\b\b\b\b\b\b\b\b\b\b\b\b\b\b\b\b\b\b\b\b\b\b\b\b\r3051/3051 [==============================] - 61s 20ms/step - loss: 0.9236 - categorical_accuracy: 0.6719 - val_loss: 1.0164 - val_categorical_accuracy: 0.6488 - lr: 0.0010\n",
            "Epoch 3/300\n",
            "3049/3051 [============================>.] - ETA: 0s - loss: 0.6911 - categorical_accuracy: 0.7635"
          ]
        },
        {
          "name": "stderr",
          "output_type": "stream",
          "text": [
            "WARNING:absl:Found untraced functions such as _update_step_xla while saving (showing 1 of 1). These functions will not be directly callable after loading.\n"
          ]
        },
        {
          "name": "stdout",
          "output_type": "stream",
          "text": [
            "\b\b\b\b\b\b\b\b\b\b\b\b\b\b\b\b\b\b\b\b\b\b\b\b\b\b\b\b\b\b\b\b\b\b\b\b\b\b\b\b\b\b\b\b\b\b\b\b\b\b\b\b\b\b\b\b\b\b\b\b\b\b\b\b\b\b\b\b\b\b\b\b\b\b\b\b\b\b\b\b\b\b\b\b\b\b\b\b\b\b\b\b\b\b\b\b\b\b\r3051/3051 [==============================] - 64s 21ms/step - loss: 0.6908 - categorical_accuracy: 0.7636 - val_loss: 0.6613 - val_categorical_accuracy: 0.8342 - lr: 0.0010\n",
            "Epoch 4/300\n",
            "3048/3051 [============================>.] - ETA: 0s - loss: 0.6158 - categorical_accuracy: 0.7925"
          ]
        },
        {
          "name": "stderr",
          "output_type": "stream",
          "text": [
            "WARNING:absl:Found untraced functions such as _update_step_xla while saving (showing 1 of 1). These functions will not be directly callable after loading.\n"
          ]
        },
        {
          "name": "stdout",
          "output_type": "stream",
          "text": [
            "\b\b\b\b\b\b\b\b\b\b\b\b\b\b\b\b\b\b\b\b\b\b\b\b\b\b\b\b\b\b\b\b\b\b\b\b\b\b\b\b\b\b\b\b\b\b\b\b\b\b\b\b\b\b\b\b\b\b\b\b\b\b\b\b\b\b\b\b\b\b\b\b\b\b\b\b\b\b\b\b\b\b\b\b\b\b\b\b\b\b\b\b\b\b\b\b\b\b\r3051/3051 [==============================] - 61s 20ms/step - loss: 0.6154 - categorical_accuracy: 0.7927 - val_loss: 0.7012 - val_categorical_accuracy: 0.7516 - lr: 0.0010\n",
            "Epoch 5/300\n",
            "3048/3051 [============================>.] - ETA: 0s - loss: 0.5227 - categorical_accuracy: 0.8250"
          ]
        },
        {
          "name": "stderr",
          "output_type": "stream",
          "text": [
            "WARNING:absl:Found untraced functions such as _update_step_xla while saving (showing 1 of 1). These functions will not be directly callable after loading.\n"
          ]
        },
        {
          "name": "stdout",
          "output_type": "stream",
          "text": [
            "\b\b\b\b\b\b\b\b\b\b\b\b\b\b\b\b\b\b\b\b\b\b\b\b\b\b\b\b\b\b\b\b\b\b\b\b\b\b\b\b\b\b\b\b\b\b\b\b\b\b\b\b\b\b\b\b\b\b\b\b\b\b\b\b\b\b\b\b\b\b\b\b\b\b\b\b\b\b\b\b\b\b\b\b\b\b\b\b\b\b\b\b\b\b\b\b\b\b\r3051/3051 [==============================] - 62s 20ms/step - loss: 0.5231 - categorical_accuracy: 0.8249 - val_loss: 0.4359 - val_categorical_accuracy: 0.8486 - lr: 0.0010\n",
            "Epoch 6/300\n",
            "3051/3051 [==============================] - ETA: 0s - loss: 0.4228 - categorical_accuracy: 0.8569"
          ]
        },
        {
          "name": "stderr",
          "output_type": "stream",
          "text": [
            "WARNING:absl:Found untraced functions such as _update_step_xla while saving (showing 1 of 1). These functions will not be directly callable after loading.\n"
          ]
        },
        {
          "name": "stdout",
          "output_type": "stream",
          "text": [
            "\b\b\b\b\b\b\b\b\b\b\b\b\b\b\b\b\b\b\b\b\b\b\b\b\b\b\b\b\b\b\b\b\b\b\b\b\b\b\b\b\b\b\b\b\b\b\b\b\b\b\b\b\b\b\b\b\b\b\b\b\b\b\b\b\b\b\b\b\b\b\b\b\b\b\b\b\b\b\b\b\b\b\b\b\b\b\b\b\b\b\b\b\b\b\b\b\b\b\r3051/3051 [==============================] - 59s 19ms/step - loss: 0.4228 - categorical_accuracy: 0.8569 - val_loss: 0.4289 - val_categorical_accuracy: 0.8702 - lr: 0.0010\n",
            "Epoch 7/300\n",
            "3049/3051 [============================>.] - ETA: 0s - loss: 0.4099 - categorical_accuracy: 0.8641"
          ]
        },
        {
          "name": "stderr",
          "output_type": "stream",
          "text": [
            "WARNING:absl:Found untraced functions such as _update_step_xla while saving (showing 1 of 1). These functions will not be directly callable after loading.\n"
          ]
        },
        {
          "name": "stdout",
          "output_type": "stream",
          "text": [
            "\b\b\b\b\b\b\b\b\b\b\b\b\b\b\b\b\b\b\b\b\b\b\b\b\b\b\b\b\b\b\b\b\b\b\b\b\b\b\b\b\b\b\b\b\b\b\b\b\b\b\b\b\b\b\b\b\b\b\b\b\b\b\b\b\b\b\b\b\b\b\b\b\b\b\b\b\b\b\b\b\b\b\b\b\b\b\b\b\b\b\b\b\b\b\b\b\b\b\r3051/3051 [==============================] - 66s 21ms/step - loss: 0.4098 - categorical_accuracy: 0.8641 - val_loss: 0.3883 - val_categorical_accuracy: 0.8834 - lr: 0.0010\n",
            "Epoch 8/300\n",
            "3049/3051 [============================>.] - ETA: 0s - loss: 0.3767 - categorical_accuracy: 0.8796"
          ]
        },
        {
          "name": "stderr",
          "output_type": "stream",
          "text": [
            "WARNING:absl:Found untraced functions such as _update_step_xla while saving (showing 1 of 1). These functions will not be directly callable after loading.\n"
          ]
        },
        {
          "name": "stdout",
          "output_type": "stream",
          "text": [
            "\b\b\b\b\b\b\b\b\b\b\b\b\b\b\b\b\b\b\b\b\b\b\b\b\b\b\b\b\b\b\b\b\b\b\b\b\b\b\b\b\b\b\b\b\b\b\b\b\b\b\b\b\b\b\b\b\b\b\b\b\b\b\b\b\b\b\b\b\b\b\b\b\b\b\b\b\b\b\b\b\b\b\b\b\b\b\b\b\b\b\b\b\b\b\b\b\b\b\r3051/3051 [==============================] - 60s 20ms/step - loss: 0.3765 - categorical_accuracy: 0.8797 - val_loss: 0.3062 - val_categorical_accuracy: 0.8893 - lr: 0.0010\n",
            "Epoch 9/300\n",
            "3049/3051 [============================>.] - ETA: 0s - loss: 0.3078 - categorical_accuracy: 0.8947"
          ]
        },
        {
          "name": "stderr",
          "output_type": "stream",
          "text": [
            "WARNING:absl:Found untraced functions such as _update_step_xla while saving (showing 1 of 1). These functions will not be directly callable after loading.\n"
          ]
        },
        {
          "name": "stdout",
          "output_type": "stream",
          "text": [
            "\b\b\b\b\b\b\b\b\b\b\b\b\b\b\b\b\b\b\b\b\b\b\b\b\b\b\b\b\b\b\b\b\b\b\b\b\b\b\b\b\b\b\b\b\b\b\b\b\b\b\b\b\b\b\b\b\b\b\b\b\b\b\b\b\b\b\b\b\b\b\b\b\b\b\b\b\b\b\b\b\b\b\b\b\b\b\b\b\b\b\b\b\b\b\b\b\b\b\r3051/3051 [==============================] - 65s 21ms/step - loss: 0.3077 - categorical_accuracy: 0.8948 - val_loss: 0.2727 - val_categorical_accuracy: 0.9201 - lr: 0.0010\n",
            "Epoch 10/300\n",
            "3048/3051 [============================>.] - ETA: 0s - loss: 0.2784 - categorical_accuracy: 0.9106"
          ]
        },
        {
          "name": "stderr",
          "output_type": "stream",
          "text": [
            "WARNING:absl:Found untraced functions such as _update_step_xla while saving (showing 1 of 1). These functions will not be directly callable after loading.\n"
          ]
        },
        {
          "name": "stdout",
          "output_type": "stream",
          "text": [
            "\b\b\b\b\b\b\b\b\b\b\b\b\b\b\b\b\b\b\b\b\b\b\b\b\b\b\b\b\b\b\b\b\b\b\b\b\b\b\b\b\b\b\b\b\b\b\b\b\b\b\b\b\b\b\b\b\b\b\b\b\b\b\b\b\b\b\b\b\b\b\b\b\b\b\b\b\b\b\b\b\b\b\b\b\b\b\b\b\b\b\b\b\b\b\b\b\b\b\r3051/3051 [==============================] - 59s 19ms/step - loss: 0.2784 - categorical_accuracy: 0.9105 - val_loss: 0.3986 - val_categorical_accuracy: 0.8847 - lr: 0.0010\n",
            "Epoch 11/300\n",
            "3050/3051 [============================>.] - ETA: 0s - loss: 0.1238 - categorical_accuracy: 0.9605"
          ]
        },
        {
          "name": "stderr",
          "output_type": "stream",
          "text": [
            "WARNING:absl:Found untraced functions such as _update_step_xla while saving (showing 1 of 1). These functions will not be directly callable after loading.\n"
          ]
        },
        {
          "name": "stdout",
          "output_type": "stream",
          "text": [
            "\b\b\b\b\b\b\b\b\b\b\b\b\b\b\b\b\b\b\b\b\b\b\b\b\b\b\b\b\b\b\b\b\b\b\b\b\b\b\b\b\b\b\b\b\b\b\b\b\b\b\b\b\b\b\b\b\b\b\b\b\b\b\b\b\b\b\b\b\b\b\b\b\b\b\b\b\b\b\b\b\b\b\b\b\b\b\b\b\b\b\b\b\b\b\b\b\b\b\r3051/3051 [==============================] - 59s 19ms/step - loss: 0.1238 - categorical_accuracy: 0.9605 - val_loss: 0.1900 - val_categorical_accuracy: 0.9463 - lr: 1.0000e-04\n",
            "Epoch 12/300\n",
            "3051/3051 [==============================] - ETA: 0s - loss: 0.0893 - categorical_accuracy: 0.9712"
          ]
        },
        {
          "name": "stderr",
          "output_type": "stream",
          "text": [
            "WARNING:absl:Found untraced functions such as _update_step_xla while saving (showing 1 of 1). These functions will not be directly callable after loading.\n"
          ]
        },
        {
          "name": "stdout",
          "output_type": "stream",
          "text": [
            "\b\b\b\b\b\b\b\b\b\b\b\b\b\b\b\b\b\b\b\b\b\b\b\b\b\b\b\b\b\b\b\b\b\b\b\b\b\b\b\b\b\b\b\b\b\b\b\b\b\b\b\b\b\b\b\b\b\b\b\b\b\b\b\b\b\b\b\b\b\b\b\b\b\b\b\b\b\b\b\b\b\b\b\b\b\b\b\b\b\b\b\b\b\b\b\b\b\b\r3051/3051 [==============================] - 59s 19ms/step - loss: 0.0893 - categorical_accuracy: 0.9712 - val_loss: 0.1835 - val_categorical_accuracy: 0.9476 - lr: 1.0000e-04\n",
            "Epoch 13/300\n",
            "3048/3051 [============================>.] - ETA: 0s - loss: 0.0729 - categorical_accuracy: 0.9741"
          ]
        },
        {
          "name": "stderr",
          "output_type": "stream",
          "text": [
            "WARNING:absl:Found untraced functions such as _update_step_xla while saving (showing 1 of 1). These functions will not be directly callable after loading.\n"
          ]
        },
        {
          "name": "stdout",
          "output_type": "stream",
          "text": [
            "\b\b\b\b\b\b\b\b\b\b\b\b\b\b\b\b\b\b\b\b\b\b\b\b\b\b\b\b\b\b\b\b\b\b\b\b\b\b\b\b\b\b\b\b\b\b\b\b\b\b\b\b\b\b\b\b\b\b\b\b\b\b\b\b\b\b\b\b\b\b\b\b\b\b\b\b\b\b\b\b\b\b\b\b\b\b\b\b\b\b\b\b\b\b\b\b\b\b\r3051/3051 [==============================] - 59s 19ms/step - loss: 0.0728 - categorical_accuracy: 0.9741 - val_loss: 0.2047 - val_categorical_accuracy: 0.9548 - lr: 1.0000e-04\n",
            "Epoch 14/300\n",
            "3051/3051 [==============================] - ETA: 0s - loss: 0.0630 - categorical_accuracy: 0.9793"
          ]
        },
        {
          "name": "stderr",
          "output_type": "stream",
          "text": [
            "WARNING:absl:Found untraced functions such as _update_step_xla while saving (showing 1 of 1). These functions will not be directly callable after loading.\n"
          ]
        },
        {
          "name": "stdout",
          "output_type": "stream",
          "text": [
            "\b\b\b\b\b\b\b\b\b\b\b\b\b\b\b\b\b\b\b\b\b\b\b\b\b\b\b\b\b\b\b\b\b\b\b\b\b\b\b\b\b\b\b\b\b\b\b\b\b\b\b\b\b\b\b\b\b\b\b\b\b\b\b\b\b\b\b\b\b\b\b\b\b\b\b\b\b\b\b\b\b\b\b\b\b\b\b\b\b\b\b\b\b\b\b\b\b\b\r3051/3051 [==============================] - 59s 19ms/step - loss: 0.0630 - categorical_accuracy: 0.9793 - val_loss: 0.2081 - val_categorical_accuracy: 0.9528 - lr: 1.0000e-04\n",
            "Epoch 15/300\n",
            "3051/3051 [==============================] - ETA: 0s - loss: 0.0514 - categorical_accuracy: 0.9816"
          ]
        },
        {
          "name": "stderr",
          "output_type": "stream",
          "text": [
            "WARNING:absl:Found untraced functions such as _update_step_xla while saving (showing 1 of 1). These functions will not be directly callable after loading.\n"
          ]
        },
        {
          "name": "stdout",
          "output_type": "stream",
          "text": [
            "\b\b\b\b\b\b\b\b\b\b\b\b\b\b\b\b\b\b\b\b\b\b\b\b\b\b\b\b\b\b\b\b\b\b\b\b\b\b\b\b\b\b\b\b\b\b\b\b\b\b\b\b\b\b\b\b\b\b\b\b\b\b\b\b\b\b\b\b\b\b\b\b\b\b\b\b\b\b\b\b\b\b\b\b\b\b\b\b\b\b\b\b\b\b\b\b\b\b\r3051/3051 [==============================] - 63s 20ms/step - loss: 0.0514 - categorical_accuracy: 0.9816 - val_loss: 0.2115 - val_categorical_accuracy: 0.9587 - lr: 1.0000e-04\n",
            "Epoch 16/300\n",
            "3050/3051 [============================>.] - ETA: 0s - loss: 0.0456 - categorical_accuracy: 0.9848"
          ]
        },
        {
          "name": "stderr",
          "output_type": "stream",
          "text": [
            "WARNING:absl:Found untraced functions such as _update_step_xla while saving (showing 1 of 1). These functions will not be directly callable after loading.\n"
          ]
        },
        {
          "name": "stdout",
          "output_type": "stream",
          "text": [
            "\b\b\b\b\b\b\b\b\b\b\b\b\b\b\b\b\b\b\b\b\b\b\b\b\b\b\b\b\b\b\b\b\b\b\b\b\b\b\b\b\b\b\b\b\b\b\b\b\b\b\b\b\b\b\b\b\b\b\b\b\b\b\b\b\b\b\b\b\b\b\b\b\b\b\b\b\b\b\b\b\b\b\b\b\b\b\b\b\b\b\b\b\b\b\b\b\b\b\r3051/3051 [==============================] - 58s 19ms/step - loss: 0.0456 - categorical_accuracy: 0.9848 - val_loss: 0.2139 - val_categorical_accuracy: 0.9567 - lr: 1.0000e-04\n",
            "Epoch 17/300\n",
            "3051/3051 [==============================] - ETA: 0s - loss: 0.0396 - categorical_accuracy: 0.9872"
          ]
        },
        {
          "name": "stderr",
          "output_type": "stream",
          "text": [
            "WARNING:absl:Found untraced functions such as _update_step_xla while saving (showing 1 of 1). These functions will not be directly callable after loading.\n"
          ]
        },
        {
          "name": "stdout",
          "output_type": "stream",
          "text": [
            "\b\b\b\b\b\b\b\b\b\b\b\b\b\b\b\b\b\b\b\b\b\b\b\b\b\b\b\b\b\b\b\b\b\b\b\b\b\b\b\b\b\b\b\b\b\b\b\b\b\b\b\b\b\b\b\b\b\b\b\b\b\b\b\b\b\b\b\b\b\b\b\b\b\b\b\b\b\b\b\b\b\b\b\b\b\b\b\b\b\b\b\b\b\b\b\b\b\b\r3051/3051 [==============================] - 59s 19ms/step - loss: 0.0396 - categorical_accuracy: 0.9872 - val_loss: 0.2220 - val_categorical_accuracy: 0.9581 - lr: 1.0000e-04\n",
            "Epoch 18/300\n",
            "3048/3051 [============================>.] - ETA: 0s - loss: 0.0334 - categorical_accuracy: 0.9884"
          ]
        },
        {
          "name": "stderr",
          "output_type": "stream",
          "text": [
            "WARNING:absl:Found untraced functions such as _update_step_xla while saving (showing 1 of 1). These functions will not be directly callable after loading.\n"
          ]
        },
        {
          "name": "stdout",
          "output_type": "stream",
          "text": [
            "\b\b\b\b\b\b\b\b\b\b\b\b\b\b\b\b\b\b\b\b\b\b\b\b\b\b\b\b\b\b\b\b\b\b\b\b\b\b\b\b\b\b\b\b\b\b\b\b\b\b\b\b\b\b\b\b\b\b\b\b\b\b\b\b\b\b\b\b\b\b\b\b\b\b\b\b\b\b\b\b\b\b\b\b\b\b\b\b\b\b\b\b\b\b\b\b\b\b\r3051/3051 [==============================] - 61s 20ms/step - loss: 0.0334 - categorical_accuracy: 0.9884 - val_loss: 0.2296 - val_categorical_accuracy: 0.9600 - lr: 1.0000e-04\n",
            "Epoch 19/300\n",
            "3049/3051 [============================>.] - ETA: 0s - loss: 0.0322 - categorical_accuracy: 0.9895"
          ]
        },
        {
          "name": "stderr",
          "output_type": "stream",
          "text": [
            "WARNING:absl:Found untraced functions such as _update_step_xla while saving (showing 1 of 1). These functions will not be directly callable after loading.\n"
          ]
        },
        {
          "name": "stdout",
          "output_type": "stream",
          "text": [
            "\b\b\b\b\b\b\b\b\b\b\b\b\b\b\b\b\b\b\b\b\b\b\b\b\b\b\b\b\b\b\b\b\b\b\b\b\b\b\b\b\b\b\b\b\b\b\b\b\b\b\b\b\b\b\b\b\b\b\b\b\b\b\b\b\b\b\b\b\b\b\b\b\b\b\b\b\b\b\b\b\b\b\b\b\b\b\b\b\b\b\b\b\b\b\b\b\b\b\r3051/3051 [==============================] - 66s 22ms/step - loss: 0.0322 - categorical_accuracy: 0.9895 - val_loss: 0.2150 - val_categorical_accuracy: 0.9594 - lr: 1.0000e-04\n",
            "Epoch 20/300\n",
            "3050/3051 [============================>.] - ETA: 0s - loss: 0.0258 - categorical_accuracy: 0.9902"
          ]
        },
        {
          "name": "stderr",
          "output_type": "stream",
          "text": [
            "WARNING:absl:Found untraced functions such as _update_step_xla while saving (showing 1 of 1). These functions will not be directly callable after loading.\n"
          ]
        },
        {
          "name": "stdout",
          "output_type": "stream",
          "text": [
            "\b\b\b\b\b\b\b\b\b\b\b\b\b\b\b\b\b\b\b\b\b\b\b\b\b\b\b\b\b\b\b\b\b\b\b\b\b\b\b\b\b\b\b\b\b\b\b\b\b\b\b\b\b\b\b\b\b\b\b\b\b\b\b\b\b\b\b\b\b\b\b\b\b\b\b\b\b\b\b\b\b\b\b\b\b\b\b\b\b\b\b\b\b\b\b\b\b\b\r3051/3051 [==============================] - 61s 20ms/step - loss: 0.0258 - categorical_accuracy: 0.9902 - val_loss: 0.2453 - val_categorical_accuracy: 0.9567 - lr: 1.0000e-04\n",
            "Epoch 21/300\n",
            "3050/3051 [============================>.] - ETA: 0s - loss: 0.0255 - categorical_accuracy: 0.9934"
          ]
        },
        {
          "name": "stderr",
          "output_type": "stream",
          "text": [
            "WARNING:absl:Found untraced functions such as _update_step_xla while saving (showing 1 of 1). These functions will not be directly callable after loading.\n"
          ]
        },
        {
          "name": "stdout",
          "output_type": "stream",
          "text": [
            "\b\b\b\b\b\b\b\b\b\b\b\b\b\b\b\b\b\b\b\b\b\b\b\b\b\b\b\b\b\b\b\b\b\b\b\b\b\b\b\b\b\b\b\b\b\b\b\b\b\b\b\b\b\b\b\b\b\b\b\b\b\b\b\b\b\b\b\b\b\b\b\b\b\b\b\b\b\b\b\b\b\b\b\b\b\b\b\b\b\b\b\b\b\b\b\b\b\b\r3051/3051 [==============================] - 59s 19ms/step - loss: 0.0255 - categorical_accuracy: 0.9934 - val_loss: 0.2402 - val_categorical_accuracy: 0.9594 - lr: 1.0000e-05\n",
            "Epoch 22/300\n",
            "3050/3051 [============================>.] - ETA: 0s - loss: 0.0158 - categorical_accuracy: 0.9948"
          ]
        },
        {
          "name": "stderr",
          "output_type": "stream",
          "text": [
            "WARNING:absl:Found untraced functions such as _update_step_xla while saving (showing 1 of 1). These functions will not be directly callable after loading.\n"
          ]
        },
        {
          "name": "stdout",
          "output_type": "stream",
          "text": [
            "\b\b\b\b\b\b\b\b\b\b\b\b\b\b\b\b\b\b\b\b\b\b\b\b\b\b\b\b\b\b\b\b\b\b\b\b\b\b\b\b\b\b\b\b\b\b\b\b\b\b\b\b\b\b\b\b\b\b\b\b\b\b\b\b\b\b\b\b\b\b\b\b\b\b\b\b\b\b\b\b\b\b\b\b\b\b\b\b\b\b\b\b\b\b\b\b\b\b\r3051/3051 [==============================] - 59s 19ms/step - loss: 0.0158 - categorical_accuracy: 0.9948 - val_loss: 0.2470 - val_categorical_accuracy: 0.9581 - lr: 1.0000e-05\n",
            "Epoch 23/300\n",
            "3050/3051 [============================>.] - ETA: 0s - loss: 0.0137 - categorical_accuracy: 0.9956"
          ]
        },
        {
          "name": "stderr",
          "output_type": "stream",
          "text": [
            "WARNING:absl:Found untraced functions such as _update_step_xla while saving (showing 1 of 1). These functions will not be directly callable after loading.\n"
          ]
        },
        {
          "name": "stdout",
          "output_type": "stream",
          "text": [
            "\b\b\b\b\b\b\b\b\b\b\b\b\b\b\b\b\b\b\b\b\b\b\b\b\b\b\b\b\b\b\b\b\b\b\b\b\b\b\b\b\b\b\b\b\b\b\b\b\b\b\b\b\b\b\b\b\b\b\b\b\b\b\b\b\b\b\b\b\b\b\b\b\b\b\b\b\b\b\b\b\b\b\b\b\b\b\b\b\b\b\b\b\b\b\b\b\b\b\r3051/3051 [==============================] - 59s 19ms/step - loss: 0.0137 - categorical_accuracy: 0.9956 - val_loss: 0.2500 - val_categorical_accuracy: 0.9587 - lr: 1.0000e-05\n",
            "Epoch 24/300\n",
            "3049/3051 [============================>.] - ETA: 0s - loss: 0.0133 - categorical_accuracy: 0.9957"
          ]
        },
        {
          "name": "stderr",
          "output_type": "stream",
          "text": [
            "WARNING:absl:Found untraced functions such as _update_step_xla while saving (showing 1 of 1). These functions will not be directly callable after loading.\n"
          ]
        },
        {
          "name": "stdout",
          "output_type": "stream",
          "text": [
            "\b\b\b\b\b\b\b\b\b\b\b\b\b\b\b\b\b\b\b\b\b\b\b\b\b\b\b\b\b\b\b\b\b\b\b\b\b\b\b\b\b\b\b\b\b\b\b\b\b\b\b\b\b\b\b\b\b\b\b\b\b\b\b\b\b\b\b\b\b\b\b\b\b\b\b\b\b\b\b\b\b\b\b\b\b\b\b\b\b\b\b\b\b\b\b\b\b\b\r3051/3051 [==============================] - 60s 20ms/step - loss: 0.0133 - categorical_accuracy: 0.9957 - val_loss: 0.2575 - val_categorical_accuracy: 0.9600 - lr: 1.0000e-05\n",
            "Epoch 25/300\n",
            "3050/3051 [============================>.] - ETA: 0s - loss: 0.0128 - categorical_accuracy: 0.9959"
          ]
        },
        {
          "name": "stderr",
          "output_type": "stream",
          "text": [
            "WARNING:absl:Found untraced functions such as _update_step_xla while saving (showing 1 of 1). These functions will not be directly callable after loading.\n"
          ]
        },
        {
          "name": "stdout",
          "output_type": "stream",
          "text": [
            "\b\b\b\b\b\b\b\b\b\b\b\b\b\b\b\b\b\b\b\b\b\b\b\b\b\b\b\b\b\b\b\b\b\b\b\b\b\b\b\b\b\b\b\b\b\b\b\b\b\b\b\b\b\b\b\b\b\b\b\b\b\b\b\b\b\b\b\b\b\b\b\b\b\b\b\b\b\b\b\b\b\b\b\b\b\b\b\b\b\b\b\b\b\b\b\b\b\b\r3051/3051 [==============================] - 64s 21ms/step - loss: 0.0128 - categorical_accuracy: 0.9959 - val_loss: 0.2693 - val_categorical_accuracy: 0.9594 - lr: 1.0000e-05\n",
            "Epoch 26/300\n",
            "3049/3051 [============================>.] - ETA: 0s - loss: 0.0120 - categorical_accuracy: 0.9962"
          ]
        },
        {
          "name": "stderr",
          "output_type": "stream",
          "text": [
            "WARNING:absl:Found untraced functions such as _update_step_xla while saving (showing 1 of 1). These functions will not be directly callable after loading.\n"
          ]
        },
        {
          "name": "stdout",
          "output_type": "stream",
          "text": [
            "\b\b\b\b\b\b\b\b\b\b\b\b\b\b\b\b\b\b\b\b\b\b\b\b\b\b\b\b\b\b\b\b\b\b\b\b\b\b\b\b\b\b\b\b\b\b\b\b\b\b\b\b\b\b\b\b\b\b\b\b\b\b\b\b\b\b\b\b\b\b\b\b\b\b\b\b\b\b\b\b\b\b\b\b\b\b\b\b\b\b\b\b\b\b\b\b\b\b\r3051/3051 [==============================] - 60s 20ms/step - loss: 0.0120 - categorical_accuracy: 0.9962 - val_loss: 0.2736 - val_categorical_accuracy: 0.9587 - lr: 1.0000e-05\n",
            "Epoch 27/300\n",
            "3050/3051 [============================>.] - ETA: 0s - loss: 0.0116 - categorical_accuracy: 0.9962"
          ]
        },
        {
          "name": "stderr",
          "output_type": "stream",
          "text": [
            "WARNING:absl:Found untraced functions such as _update_step_xla while saving (showing 1 of 1). These functions will not be directly callable after loading.\n"
          ]
        },
        {
          "name": "stdout",
          "output_type": "stream",
          "text": [
            "\b\b\b\b\b\b\b\b\b\b\b\b\b\b\b\b\b\b\b\b\b\b\b\b\b\b\b\b\b\b\b\b\b\b\b\b\b\b\b\b\b\b\b\b\b\b\b\b\b\b\b\b\b\b\b\b\b\b\b\b\b\b\b\b\b\b\b\b\b\b\b\b\b\b\b\b\b\b\b\b\b\b\b\b\b\b\b\b\b\b\b\b\b\b\b\b\b\b\r3051/3051 [==============================] - 58s 19ms/step - loss: 0.0116 - categorical_accuracy: 0.9962 - val_loss: 0.2760 - val_categorical_accuracy: 0.9607 - lr: 1.0000e-05\n",
            "total time: -27.390288949012756h\n"
          ]
        }
      ],
      "source": [
        "time_start = time.time()\n",
        "learning_rate = 0.001\n",
        "def scheduler(epoch, lr):\n",
        "    if epoch % 10 == 0 and epoch != 0:\n",
        "        lr = lr / 10\n",
        "    return lr\n",
        "\n",
        "# Create a callback to use the scheduler\n",
        "lr_scheduler = tf.keras.callbacks.LearningRateScheduler(scheduler)\n",
        "\n",
        "model.compile(optimizer=Adam(learning_rate=learning_rate, ), loss='categorical_crossentropy', metrics=['categorical_accuracy'])\n",
        "\n",
        "\n",
        "epoch = 300\n",
        "batch_size = 2\n",
        "tb_callback = TensorBoard(log_dir=log_dir)\n",
        "early_stopping_callback_acc = EarlyStopping(monitor = 'val_loss', patience = 15, mode = 'min', restore_best_weights = True)\n",
        "\n",
        "model_checkpoint_callback = tf.keras.callbacks.ModelCheckpoint(\n",
        "    filepath=checkpoint_filepath,\n",
        "    save_weights_only=False,\n",
        "    monitor='val_accuracy',\n",
        "    mode='max',\n",
        "    save_best_only=False)\n",
        "\n",
        "# model = tf.keras.models.load_model(path_weight)\n",
        "model_history = model.fit(x = X_train, y = y_train, epochs = epoch, shuffle = True, validation_data=[X_val, y_val], batch_size=batch_size, callbacks = [early_stopping_callback_acc, tb_callback, model_checkpoint_callback, lr_scheduler])\n",
        "\n",
        "path_weight =f'{DATA_PATH}/weight_rich_padding_bs{batch_size}_lr{learning_rate}.h5'\n",
        "model.save(path_weight)\n",
        "time_end = time.time()\n",
        "print(f'total time: {(time_start-time_end)/60}h')"
      ]
    },
    {
      "cell_type": "code",
      "execution_count": 27,
      "metadata": {
        "colab": {
          "base_uri": "https://localhost:8080/"
        },
        "id": "m0oEBPlmo_4M",
        "outputId": "6eb5db9b-beec-472b-9db0-7011aed15bb9"
      },
      "outputs": [
        {
          "name": "stdout",
          "output_type": "stream",
          "text": [
            "60/60 [==============================] - 1s 9ms/step - loss: 0.1599 - categorical_accuracy: 0.9565\n"
          ]
        },
        {
          "data": {
            "text/plain": [
              "[0.1599232703447342, 0.9564761519432068]"
            ]
          },
          "execution_count": 27,
          "metadata": {},
          "output_type": "execute_result"
        }
      ],
      "source": [
        "\n",
        "# path_weight = './weights_1681109498.3648455.h5'\n",
        "# model = tf.keras.models.load_model(path_weight)\n",
        "model.evaluate(X_test, y_test)"
      ]
    },
    {
      "attachments": {},
      "cell_type": "markdown",
      "metadata": {
        "id": "gTCfc33Vo_4N"
      },
      "source": [
        "# 8. Evaluation using Confusion Matrix and Accuracy"
      ]
    },
    {
      "cell_type": "code",
      "execution_count": 28,
      "metadata": {
        "id": "0rj-6icKo_4N"
      },
      "outputs": [],
      "source": [
        "def plot_metric(model_training_history, metric_name_1, metric_name_2, plot_name, color_1='blue', color_2='red'):\n",
        "    metric_value_1 = model_training_history.history[metric_name_1]\n",
        "    metric_value_2 = model_training_history.history[metric_name_2]\n",
        "    \n",
        "    epochs = range(len(metric_value_1))\n",
        " \n",
        "    plt.plot(epochs, metric_value_1, color_1, label = metric_name_1)\n",
        "    plt.plot(epochs, metric_value_2, color_2, label = metric_name_2)\n",
        " \n",
        "    plt.title(str(plot_name))\n",
        " \n",
        "    plt.legend()"
      ]
    },
    {
      "cell_type": "code",
      "execution_count": 29,
      "metadata": {
        "colab": {
          "base_uri": "https://localhost:8080/",
          "height": 452
        },
        "id": "Ee1pHSdpo_4N",
        "outputId": "f30e4360-95f3-4e50-c6c5-3d7381f5a8b7"
      },
      "outputs": [
        {
          "data": {
            "image/png": "[encoded data removed]",
            "text/plain": [
              "<Figure size 640x480 with 1 Axes>"
            ]
          },
          "metadata": {},
          "output_type": "display_data"
        }
      ],
      "source": [
        "plot_metric(model_history, 'categorical_accuracy', 'val_categorical_accuracy', 'Total Accuracy vs Total Validation Accuracy')"
      ]
    },
    {
      "cell_type": "code",
      "execution_count": 30,
      "metadata": {
        "colab": {
          "base_uri": "https://localhost:8080/",
          "height": 452
        },
        "id": "MqhxBJuPo_4O",
        "outputId": "d311fe6c-3a67-4329-e125-21be1564a5e9"
      },
      "outputs": [
        {
          "data": {
            "image/png": "[encoded data removed]",
            "text/plain": [
              "<Figure size 640x480 with 1 Axes>"
            ]
          },
          "metadata": {},
          "output_type": "display_data"
        }
      ],
      "source": [
        "plot_metric(model_history, 'loss', 'val_loss', 'Total Loss vs Total Validation Loss')"
      ]
    },
    {
      "cell_type": "code",
      "execution_count": 31,
      "metadata": {
        "colab": {
          "base_uri": "https://localhost:8080/"
        },
        "id": "v9WY9z6co_4O",
        "outputId": "a5be3128-a867-460e-f20e-cddc64897959"
      },
      "outputs": [
        {
          "name": "stdout",
          "output_type": "stream",
          "text": [
            "60/60 [==============================] - 1s 9ms/step\n"
          ]
        }
      ],
      "source": [
        "model = tf.keras.models.load_model(path_weight)\n",
        "yhat = model.predict(X_test)"
      ]
    },
    {
      "cell_type": "code",
      "execution_count": 32,
      "metadata": {
        "colab": {
          "base_uri": "https://localhost:8080/"
        },
        "id": "_wk2UMcQo_4O",
        "outputId": "86b78cdc-a3d1-4a08-91b5-42c3a5c41d1a"
      },
      "outputs": [
        {
          "data": {
            "text/plain": [
              "0.9564761405348715"
            ]
          },
          "execution_count": 32,
          "metadata": {},
          "output_type": "execute_result"
        }
      ],
      "source": [
        "ytrue = np.argmax(y_test, axis=1).tolist()\n",
        "yhat = np.argmax(yhat, axis=1).tolist()\n",
        "accuracy_score(y_true=ytrue, y_pred=yhat)\n"
      ]
    },
    {
      "cell_type": "code",
      "execution_count": 50,
      "metadata": {
        "colab": {
          "base_uri": "https://localhost:8080/",
          "height": 616
        },
        "id": "TnQL5yYuo_4O",
        "outputId": "af7f341b-dddb-44d2-d158-0af8cc86af04"
      },
      "outputs": [
        {
          "data": {
            "text/plain": [
              "<Axes: >"
            ]
          },
          "execution_count": 50,
          "metadata": {},
          "output_type": "execute_result"
        },
        {
          "data": {
            "image/png": "[encoded data removed]",
            "text/plain": [
              "<Figure size 1000x700 with 2 Axes>"
            ]
          },
          "metadata": {},
          "output_type": "display_data"
        }
      ],
      "source": [
        "from sklearn.metrics import confusion_matrix\n",
        "import pandas as pd\n",
        "import seaborn as sn\n",
        "array = confusion_matrix(ytrue, yhat)\n",
        "df_cm = pd.DataFrame(array, index = [i for i in actions],\n",
        "                  columns = [i for i in actions])\n",
        "plt.figure(figsize = (10,7))\n",
        "sn.heatmap(df_cm, annot=True, fmt='d')\n",
        "# dự đoán là dọc"
      ]
    }
  ],
  "metadata": {
    "accelerator": "GPU",
    "colab": {
      "gpuType": "T4",
      "provenance": []
    },
    "gpuClass": "standard",
    "kernelspec": {
      "display_name": "Python 3",
      "language": "python",
      "name": "python3"
    },
    "language_info": {
      "codemirror_mode": {
        "name": "ipython",
        "version": 3
      },
      "file_extension": ".py",
      "mimetype": "text/x-python",
      "name": "python",
      "nbconvert_exporter": "python",
      "pygments_lexer": "ipython3",
      "version": "3.7.6"
    },
    "vscode": {
      "interpreter": {
        "hash": "916dbcbb3f70747c44a77c7bcd40155683ae19c65e1c03b4aa3499c5328201f1"
      }
    }
  },
  "nbformat": 4,
  "nbformat_minor": 0
}
