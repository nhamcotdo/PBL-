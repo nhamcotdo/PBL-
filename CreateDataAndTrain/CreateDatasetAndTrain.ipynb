{
  "cells": [
    {
      "cell_type": "code",
      "execution_count": 2,
      "metadata": {
        "colab": {
          "base_uri": "https://localhost:8080/"
        },
        "id": "LZqZOwTpo_3z",
        "outputId": "0cfc45c2-1a92-4777-fe39-0c650fd53c27"
      },
      "outputs": [
        {
          "name": "stdout",
          "output_type": "stream",
          "text": [
            "Looking in indexes: https://pypi.org/simple, https://us-python.pkg.dev/colab-wheels/public/simple/\n",
            "Collecting mediapipe\n",
            "  Downloading mediapipe-0.9.3.0-cp39-cp39-manylinux_2_17_x86_64.manylinux2014_x86_64.whl (33.9 MB)\n",
            "\u001b[2K     \u001b[90m━━━━━━━━━━━━━━━━━━━━━━━━━━━━━━━━━━━━━━━━\u001b[0m \u001b[32m33.9/33.9 MB\u001b[0m \u001b[31m12.1 MB/s\u001b[0m eta \u001b[36m0:00:00\u001b[0m\n",
            "\u001b[?25hRequirement already satisfied: attrs>=19.1.0 in /usr/local/lib/python3.9/dist-packages (from mediapipe) (23.1.0)\n",
            "Requirement already satisfied: numpy in /usr/local/lib/python3.9/dist-packages (from mediapipe) (1.22.4)\n",
            "Requirement already satisfied: opencv-contrib-python in /usr/local/lib/python3.9/dist-packages (from mediapipe) (4.7.0.72)\n",
            "Requirement already satisfied: flatbuffers>=2.0 in /usr/local/lib/python3.9/dist-packages (from mediapipe) (23.3.3)\n",
            "Requirement already satisfied: absl-py in /usr/local/lib/python3.9/dist-packages (from mediapipe) (1.4.0)\n",
            "Requirement already satisfied: matplotlib in /usr/local/lib/python3.9/dist-packages (from mediapipe) (3.7.1)\n",
            "Requirement already satisfied: protobuf<4,>=3.11 in /usr/local/lib/python3.9/dist-packages (from mediapipe) (3.20.3)\n",
            "Collecting sounddevice>=0.4.4\n",
            "  Downloading sounddevice-0.4.6-py3-none-any.whl (31 kB)\n",
            "Requirement already satisfied: CFFI>=1.0 in /usr/local/lib/python3.9/dist-packages (from sounddevice>=0.4.4->mediapipe) (1.15.1)\n",
            "Requirement already satisfied: importlib-resources>=3.2.0 in /usr/local/lib/python3.9/dist-packages (from matplotlib->mediapipe) (5.12.0)\n",
            "Requirement already satisfied: kiwisolver>=1.0.1 in /usr/local/lib/python3.9/dist-packages (from matplotlib->mediapipe) (1.4.4)\n",
            "Requirement already satisfied: fonttools>=4.22.0 in /usr/local/lib/python3.9/dist-packages (from matplotlib->mediapipe) (4.39.3)\n",
            "Requirement already satisfied: cycler>=0.10 in /usr/local/lib/python3.9/dist-packages (from matplotlib->mediapipe) (0.11.0)\n",
            "Requirement already satisfied: contourpy>=1.0.1 in /usr/local/lib/python3.9/dist-packages (from matplotlib->mediapipe) (1.0.7)\n",
            "Requirement already satisfied: packaging>=20.0 in /usr/local/lib/python3.9/dist-packages (from matplotlib->mediapipe) (23.1)\n",
            "Requirement already satisfied: pyparsing>=2.3.1 in /usr/local/lib/python3.9/dist-packages (from matplotlib->mediapipe) (3.0.9)\n",
            "Requirement already satisfied: python-dateutil>=2.7 in /usr/local/lib/python3.9/dist-packages (from matplotlib->mediapipe) (2.8.2)\n",
            "Requirement already satisfied: pillow>=6.2.0 in /usr/local/lib/python3.9/dist-packages (from matplotlib->mediapipe) (8.4.0)\n",
            "Requirement already satisfied: pycparser in /usr/local/lib/python3.9/dist-packages (from CFFI>=1.0->sounddevice>=0.4.4->mediapipe) (2.21)\n",
            "Requirement already satisfied: zipp>=3.1.0 in /usr/local/lib/python3.9/dist-packages (from importlib-resources>=3.2.0->matplotlib->mediapipe) (3.15.0)\n",
            "Requirement already satisfied: six>=1.5 in /usr/local/lib/python3.9/dist-packages (from python-dateutil>=2.7->matplotlib->mediapipe) (1.16.0)\n",
            "Installing collected packages: sounddevice, mediapipe\n",
            "Successfully installed mediapipe-0.9.3.0 sounddevice-0.4.6\n",
            "Looking in indexes: https://pypi.org/simple, https://us-python.pkg.dev/colab-wheels/public/simple/\n",
            "Requirement already satisfied: pandas in /usr/local/lib/python3.9/dist-packages (1.5.3)\n",
            "Requirement already satisfied: pytz>=2020.1 in /usr/local/lib/python3.9/dist-packages (from pandas) (2022.7.1)\n",
            "Requirement already satisfied: numpy>=1.20.3 in /usr/local/lib/python3.9/dist-packages (from pandas) (1.22.4)\n",
            "Requirement already satisfied: python-dateutil>=2.8.1 in /usr/local/lib/python3.9/dist-packages (from pandas) (2.8.2)\n",
            "Requirement already satisfied: six>=1.5 in /usr/local/lib/python3.9/dist-packages (from python-dateutil>=2.8.1->pandas) (1.16.0)\n",
            "Looking in indexes: https://pypi.org/simple, https://us-python.pkg.dev/colab-wheels/public/simple/\n",
            "Requirement already satisfied: numpy in /usr/local/lib/python3.9/dist-packages (1.22.4)\n",
            "Looking in indexes: https://pypi.org/simple, https://us-python.pkg.dev/colab-wheels/public/simple/\n",
            "Requirement already satisfied: pydot in /usr/local/lib/python3.9/dist-packages (1.4.2)\n",
            "Requirement already satisfied: pyparsing>=2.1.4 in /usr/local/lib/python3.9/dist-packages (from pydot) (3.0.9)\n"
          ]
        }
      ],
      "source": [
        "# Nếu chưa có thư viện thì run cell này\n",
        "!pip install mediapipe\n",
        "!pip install pandas\n",
        "!pip install numpy\n",
        "!pip install pydot"
      ]
    },
    {
      "cell_type": "code",
      "execution_count": 8,
      "metadata": {
        "colab": {
          "base_uri": "https://localhost:8080/"
        },
        "id": "x2QfIyJGpum8",
        "outputId": "9825ea3b-217b-40b2-aa37-e06f26c3623d"
      },
      "outputs": [
        {
          "name": "stdout",
          "output_type": "stream",
          "text": [
            "Mounted at /content/drive\n"
          ]
        }
      ],
      "source": [
        "from google.colab import drive\n",
        "drive.mount('/content/drive')"
      ]
    },
    {
      "cell_type": "markdown",
      "metadata": {
        "id": "dDV1tdTdo_33"
      },
      "source": [
        "# 1. Import and Install Dependencies"
      ]
    },
    {
      "cell_type": "code",
      "execution_count": null,
      "metadata": {
        "id": "Kh3UZtVDo_34"
      },
      "outputs": [],
      "source": [
        "import cv2\n",
        "import numpy as np\n",
        "import os\n",
        "from matplotlib import pyplot as plt\n",
        "import time\n",
        "import mediapipe as mp"
      ]
    },
    {
      "cell_type": "markdown",
      "metadata": {
        "id": "uEwTOLbeo_34"
      },
      "source": [
        "# 2. Keypoints using MP Holistic"
      ]
    },
    {
      "cell_type": "code",
      "execution_count": null,
      "metadata": {
        "id": "qGD_26t3o_35"
      },
      "outputs": [],
      "source": [
        "mp_holistic = mp.solutions.holistic # Holistic model\n",
        "mp_drawing = mp.solutions.drawing_utils # Drawing utilities"
      ]
    },
    {
      "cell_type": "code",
      "execution_count": null,
      "metadata": {
        "id": "nsZDwD_ko_35"
      },
      "outputs": [],
      "source": [
        "def mediapipe_detection(image, model):\n",
        "    image = cv2.cvtColor(image, cv2.COLOR_BGR2RGB) # COLOR CONVERSION BGR 2 RGB\n",
        "    image.flags.writeable = False                  # Image is no longer writeable\n",
        "    results = model.process(image)                 # Make prediction\n",
        "    image.flags.writeable = True                   # Image is now writeable \n",
        "    image = cv2.cvtColor(image, cv2.COLOR_RGB2BGR) # COLOR COVERSION RGB 2 BGR\n",
        "    return image, results"
      ]
    },
    {
      "cell_type": "code",
      "execution_count": null,
      "metadata": {
        "id": "0RCg1KzIo_36"
      },
      "outputs": [],
      "source": [
        "def draw_landmarks(image, results):\n",
        "    mp_drawing.draw_landmarks(image, results.pose_landmarks, mp_holistic.POSE_CONNECTIONS) # Draw pose connections\n",
        "    mp_drawing.draw_landmarks(image, results.left_hand_landmarks, mp_holistic.HAND_CONNECTIONS) # Draw left hand connections\n",
        "    mp_drawing.draw_landmarks(image, results.right_hand_landmarks, mp_holistic.HAND_CONNECTIONS) # Draw right hand connections"
      ]
    },
    {
      "cell_type": "code",
      "execution_count": null,
      "metadata": {
        "id": "Wz4ur5U3o_36"
      },
      "outputs": [],
      "source": [
        "def draw_styled_landmarks(image, results):\n",
        "    # Draw pose connections\n",
        "    mp_drawing.draw_landmarks(image, results.pose_landmarks, mp_holistic.POSE_CONNECTIONS,\n",
        "                             mp_drawing.DrawingSpec(color=(80,22,10), thickness=2, circle_radius=4), \n",
        "                             mp_drawing.DrawingSpec(color=(80,44,121), thickness=2, circle_radius=2)\n",
        "                             ) \n",
        "    # Draw left hand connections\n",
        "    mp_drawing.draw_landmarks(image, results.left_hand_landmarks, mp_holistic.HAND_CONNECTIONS, \n",
        "                             mp_drawing.DrawingSpec(color=(121,22,76), thickness=2, circle_radius=4), \n",
        "                             mp_drawing.DrawingSpec(color=(121,44,250), thickness=2, circle_radius=2)\n",
        "                             ) \n",
        "    # Draw right hand connections  \n",
        "    mp_drawing.draw_landmarks(image, results.right_hand_landmarks, mp_holistic.HAND_CONNECTIONS, \n",
        "                             mp_drawing.DrawingSpec(color=(245,117,66), thickness=2, circle_radius=4), \n",
        "                             mp_drawing.DrawingSpec(color=(245,66,230), thickness=2, circle_radius=2)\n",
        "                             ) "
      ]
    },
    {
      "cell_type": "code",
      "execution_count": null,
      "metadata": {
        "id": "MtCQ32fzo_3-"
      },
      "outputs": [],
      "source": [
        "# cap = cv2.VideoCapture(0)\n",
        "# # Set mediapipe model \n",
        "# with mp_holistic.Holistic(min_detection_confidence=0.5, min_tracking_confidence=0.5) as holistic:\n",
        "#     while cap.isOpened():\n",
        "\n",
        "#         # Read feed\n",
        "#         ret, frame = cap.read()\n",
        "\n",
        "#         # Make detections\n",
        "#         image, results = mediapipe_detection(frame, holistic)\n",
        "#         print(results)\n",
        "        \n",
        "#         # Draw landmarks\n",
        "#         draw_styled_landmarks(image, results)\n",
        "\n",
        "#         # Show to screen\n",
        "#         cv2.imshow('OpenCV Feed', image)\n",
        "\n",
        "#         # Break gracefully\n",
        "#         if cv2.waitKey(10) & 0xFF == ord('q'):\n",
        "#             break\n",
        "#     cap.release()\n",
        "#     cv2.destroyAllWindows()"
      ]
    },
    {
      "cell_type": "markdown",
      "metadata": {
        "id": "vVcxCZbto_3-"
      },
      "source": [
        "# 3. Setup Folders for Collection"
      ]
    },
    {
      "cell_type": "code",
      "execution_count": null,
      "metadata": {
        "id": "RtysfZFfo_3_"
      },
      "outputs": [],
      "source": [
        "# Path for exported data, numpy arrays\n",
        "# DATA_PATH = os.path.join('./Data')\n",
        "DATA_PATH = os.path.join('./drive/MyDrive/PBL5/Data/')\n",
        "\n",
        "# Actions that we try to detect\n",
        "actions = np.array(\n",
        "    ['Bye', 'Fine', 'Good', 'Hello', 'I', 'You', 'Love', 'None']\n",
        "    )\n",
        "\n",
        "# Path for exported data, numpy arrays\n",
        "# DATASET_PATH = os.path.join('./Data')\n",
        "\n"
      ]
    },
    {
      "cell_type": "markdown",
      "metadata": {
        "id": "BTSjYUp6o_4A"
      },
      "source": [
        "# 4. Extract Keypoint Values"
      ]
    },
    {
      "cell_type": "code",
      "execution_count": null,
      "metadata": {
        "id": "XFmAHFpQo_4A"
      },
      "outputs": [],
      "source": [
        "list_num_frames  = []\n",
        "for class_index, class_name in enumerate(actions):\n",
        "    files_list = os.listdir(os.path.join(DATA_PATH, class_name))\n",
        "    # Iterate through all the files present in the files list.\n",
        "    for file_name in files_list:\n",
        "        # print(file_name)\n",
        "        # Get the complete video path.\n",
        "        video_file_path = os.path.join(\n",
        "            DATA_PATH, class_name, file_name)\n",
        "        cap = cv2.VideoCapture(video_file_path)\n",
        "        num_frames = 0\n",
        "        while True:\n",
        "            num_frames += 1\n",
        "            rt, f = cap.read()\n",
        "            if not rt:\n",
        "                break\n",
        "        list_num_frames.append(num_frames)\n",
        "        cap.release()\n"
      ]
    },
    {
      "cell_type": "code",
      "execution_count": null,
      "metadata": {
        "colab": {
          "base_uri": "https://localhost:8080/",
          "height": 474
        },
        "id": "rZwwSGuwo_4B",
        "outputId": "df035c7c-274c-4356-83a6-10fe2ced9889"
      },
      "outputs": [
        {
          "data": {
            "text/plain": [
              "Text(0.5, 1.0, 'SỐ LƯỢNG FRAME MỖI HÀNH ĐỘNG')"
            ]
          },
          "execution_count": 19,
          "metadata": {},
          "output_type": "execute_result"
        },
        {
          "data": {
            "image/png": "[encoded data removed]",
            "text/plain": [
              "<Figure size 640x480 with 1 Axes>"
            ]
          },
          "metadata": {},
          "output_type": "display_data"
        }
      ],
      "source": [
        "plt.hist(list_num_frames, bins=len(set(list_num_frames)))\n",
        "plt.title('SỐ LƯỢNG FRAME MỖI HÀNH ĐỘNG')"
      ]
    },
    {
      "cell_type": "code",
      "execution_count": null,
      "metadata": {
        "id": "JALRkJdxo_4C"
      },
      "outputs": [],
      "source": [
        "sequence_length = 10"
      ]
    },
    {
      "cell_type": "code",
      "execution_count": null,
      "metadata": {},
      "outputs": [],
      "source": [
        "from PIL import Image, ImageOps\n",
        "\n",
        "\n",
        "def padding(img, expected_size):\n",
        "    desired_size = expected_size\n",
        "    delta_width = desired_size[0] - img.size[0]\n",
        "    delta_height = desired_size[1] - img.size[1]\n",
        "    pad_width = delta_width // 2\n",
        "    pad_height = delta_height // 2\n",
        "    padding = (pad_width, pad_height, delta_width - pad_width, delta_height - pad_height)\n",
        "    return ImageOps.expand(img, padding)\n",
        "\n",
        "\n",
        "def resize_with_padding(img, expected_size):\n",
        "    img.thumbnail((expected_size[0], expected_size[1]))\n",
        "    delta_width = expected_size[0] - img.size[0]\n",
        "    delta_height = expected_size[1] - img.size[1]\n",
        "    pad_width = delta_width // 2\n",
        "    pad_height = delta_height // 2\n",
        "    padding = (pad_width, pad_height, delta_width - pad_width, delta_height - pad_height)\n",
        "    return ImageOps.expand(img, padding)\n",
        "\n",
        "img = resize_with_padding(Image.fromarray(image), (int(image.shape[1]*1.2), int(image.shape[0]*1.2)))\n",
        "\n",
        "cv2.imshow('as', np.array(img))\n",
        "cv2.waitKey(1)"
      ]
    },
    {
      "cell_type": "code",
      "execution_count": null,
      "metadata": {
        "id": "SxVlt1Qlo_4D"
      },
      "outputs": [],
      "source": [
        "def extract_keypoints(results):\n",
        "    pose = np.array([[res.x, res.y, res.z, res.visibility] for res in results.pose_landmarks.landmark]).flatten() if results.pose_landmarks else np.zeros(33*4)\n",
        "    lh = np.array([[res.x, res.y, res.z, res.visibility] for res in results.left_hand_landmarks.landmark]).flatten() if results.left_hand_landmarks else np.zeros(21*4)\n",
        "    rh = np.array([[res.x, res.y, res.z, res.visibility] for res in results.right_hand_landmarks.landmark]).flatten() if results.right_hand_landmarks else np.zeros(21*4)\n",
        "    return np.concatenate([pose, lh, rh])"
      ]
    },
    {
      "cell_type": "code",
      "execution_count": null,
      "metadata": {
        "id": "B0hJqPrlo_4D"
      },
      "outputs": [],
      "source": [
        "def rotate_image(image, angle):\n",
        "    image_center = tuple(np.array(image.shape[1::-1]) / 2)\n",
        "    rot_mat = cv2.getRotationMatrix2D(image_center, angle, 1.0)\n",
        "    result = cv2.warpAffine(image, rot_mat, image.shape[1::-1], flags=cv2.INTER_LINEAR)\n",
        "    return result"
      ]
    },
    {
      "cell_type": "code",
      "execution_count": null,
      "metadata": {
        "id": "NLmRPeFYo_4D"
      },
      "outputs": [],
      "source": [
        "def frames_extraction(video_path, rev=False, angle=0):\n",
        "    video_reader = cv2.VideoCapture(video_path)\n",
        "    video_frames_count = 0\n",
        "    s, f = video_reader.read()\n",
        "    while s:\n",
        "        s, f = video_reader.read()\n",
        "        video_frames_count += 1\n",
        "    video_reader.release()\n",
        "\n",
        "    if video_frames_count < sequence_length:\n",
        "        return []\n",
        "    \n",
        "    skip_frames_window = max(int(video_frames_count/sequence_length), 1)\n",
        "\n",
        "    # Danh sách chứa các frame sẽ lấy\n",
        "    video_keypoints = []\n",
        "\n",
        "    cap = cv2.VideoCapture(video_path)\n",
        "    with mp_holistic.Holistic(min_detection_confidence=0.5, min_tracking_confidence=0.5) as holistic:\n",
        "        for frame_counter in range(sequence_length):\n",
        "            cap.set(cv2.CAP_PROP_POS_FRAMES,\n",
        "                    frame_counter * skip_frames_window)\n",
        "            \n",
        "            ret, frame = cap.read()\n",
        "            if rev:\n",
        "                frame = cv2.flip(frame, 1)\n",
        "            if angle:\n",
        "                frame = rotate_image(frame, angle=angle)\n",
        "\n",
        "            if not ret:\n",
        "                # cap = cv2.VideoCapture(video_path)\n",
        "                print('eror')\n",
        "                continue\n",
        "                # break\n",
        "\n",
        "            image, results = mediapipe_detection(frame, holistic)\n",
        "            draw_styled_landmarks(image, results)   \n",
        "\n",
        "            keypoints = extract_keypoints(results)\n",
        "            video_keypoints.append(keypoints)\n",
        "            # cv2.imshow('OpenCV Feed', cv2.flip(image, 1))\n",
        "            if cv2.waitKey(1) == ord('e'):\n",
        "                return\n",
        "\n",
        "    return video_keypoints\n"
      ]
    },
    {
      "cell_type": "code",
      "execution_count": null,
      "metadata": {
        "id": "QsKtoOZuo_4E"
      },
      "outputs": [],
      "source": [
        "rs = frames_extraction('./Data/2023-04-09 13_04_06.avi', True)\n",
        "cv2.destroyAllWindows()\n"
      ]
    },
    {
      "cell_type": "code",
      "execution_count": null,
      "metadata": {
        "colab": {
          "base_uri": "https://localhost:8080/"
        },
        "id": "tqGWUDVjo_4F",
        "outputId": "3b225ddc-21a9-497a-889f-b355e9e04c60"
      },
      "outputs": [
        {
          "data": {
            "text/plain": [
              "(0,)"
            ]
          },
          "execution_count": 25,
          "metadata": {},
          "output_type": "execute_result"
        }
      ],
      "source": [
        "np.shape(rs)"
      ]
    },
    {
      "cell_type": "markdown",
      "metadata": {
        "id": "Hf6CZNUbo_4F"
      },
      "source": [
        "# 5. Collect Keypoint Values for Training and Testing"
      ]
    },
    {
      "cell_type": "code",
      "execution_count": null,
      "metadata": {
        "id": "-7-Uwp3-o_4G"
      },
      "outputs": [],
      "source": [
        "def create_dataset():\n",
        "    features = []\n",
        "    labels = []\n",
        "\n",
        "    for class_index, class_name in enumerate(actions):\n",
        "        print(f'Extracting Data of Class: {class_name}')\n",
        "\n",
        "        files_list = os.listdir(os.path.join(DATA_PATH, class_name))\n",
        "\n",
        "        # Iterate through all the files present in the files list.\n",
        "        for file_name in files_list:\n",
        "            # print(file_name)\n",
        "            try:\n",
        "                video_file_path = os.path.join(\n",
        "                    DATA_PATH, class_name, file_name)\n",
        "\n",
        "                video_keypoints = frames_extraction(video_file_path)\n",
        "                if len(video_keypoints) == sequence_length:\n",
        "                    features.append(video_keypoints)\n",
        "                    labels.append(class_index)\n",
        "\n",
        "                # flip\n",
        "                video_keypoints = frames_extraction(video_file_path, True)\n",
        "                if len(video_keypoints) == sequence_length:\n",
        "                    features.append(video_keypoints)\n",
        "                    labels.append(class_index)\n",
        "                \n",
        "                \n",
        "                # random rotate\n",
        "                video_keypoints = frames_extraction(video_file_path, True, np.random.randint(10, 30))\n",
        "                if len(video_keypoints) == sequence_length:\n",
        "                    features.append(video_keypoints)\n",
        "                    labels.append(class_index)\n",
        "                \n",
        "                video_keypoints = frames_extraction(video_file_path, True, np.random.randint(-30, -10))\n",
        "                if len(video_keypoints) == sequence_length:\n",
        "                    features.append(video_keypoints)\n",
        "                    labels.append(class_index)\n",
        "                \n",
        "            except:\n",
        "                continue\n",
        "\n",
        "        cv2.destroyAllWindows()\n",
        "\n",
        "\n",
        "    features = np.asarray(features)\n",
        "    labels = np.array(labels)\n",
        "\n",
        "    return features, labels\n"
      ]
    },
    {
      "cell_type": "code",
      "execution_count": null,
      "metadata": {
        "colab": {
          "base_uri": "https://localhost:8080/",
          "height": 507
        },
        "id": "_NETHIgXo_4G",
        "outputId": "0b3c50fd-cce9-48c7-84f9-3e2957a3b9af"
      },
      "outputs": [
        {
          "name": "stdout",
          "output_type": "stream",
          "text": [
            "Extracting Data of Class: Bye\n",
            "Extracting Data of Class: Fine\n",
            "Extracting Data of Class: Good\n",
            "Extracting Data of Class: Hello\n",
            "Extracting Data of Class: I\n",
            "Extracting Data of Class: You\n",
            "Extracting Data of Class: Love\n",
            "Extracting Data of Class: None\n"
          ]
        },
        {
          "ename": "FileNotFoundError",
          "evalue": "ignored",
          "output_type": "error",
          "traceback": [
            "\u001b[0;31m---------------------------------------------------------------------------\u001b[0m",
            "\u001b[0;31mFileNotFoundError\u001b[0m                         Traceback (most recent call last)",
            "\u001b[0;32m<ipython-input-27-9ea572edf43d>\u001b[0m in \u001b[0;36m<cell line: 2>\u001b[0;34m()\u001b[0m\n\u001b[1;32m      1\u001b[0m \u001b[0mfeatures\u001b[0m\u001b[0;34m,\u001b[0m \u001b[0mlabels\u001b[0m \u001b[0;34m=\u001b[0m \u001b[0mcreate_dataset\u001b[0m\u001b[0;34m(\u001b[0m\u001b[0;34m)\u001b[0m\u001b[0;34m\u001b[0m\u001b[0;34m\u001b[0m\u001b[0m\n\u001b[0;32m----> 2\u001b[0;31m \u001b[0mnp\u001b[0m\u001b[0;34m.\u001b[0m\u001b[0msavez_compressed\u001b[0m\u001b[0;34m(\u001b[0m\u001b[0;34mf'{DATASET_PATH}/data_rich.npz'\u001b[0m\u001b[0;34m,\u001b[0m \u001b[0mfeatures\u001b[0m\u001b[0;34m=\u001b[0m\u001b[0mfeatures\u001b[0m\u001b[0;34m,\u001b[0m \u001b[0mlabels\u001b[0m\u001b[0;34m=\u001b[0m\u001b[0mlabels\u001b[0m\u001b[0;34m)\u001b[0m\u001b[0;34m\u001b[0m\u001b[0;34m\u001b[0m\u001b[0m\n\u001b[0m",
            "\u001b[0;32m/usr/local/lib/python3.9/dist-packages/numpy/core/overrides.py\u001b[0m in \u001b[0;36msavez_compressed\u001b[0;34m(*args, **kwargs)\u001b[0m\n",
            "\u001b[0;32m/usr/local/lib/python3.9/dist-packages/numpy/lib/npyio.py\u001b[0m in \u001b[0;36msavez_compressed\u001b[0;34m(file, *args, **kwds)\u001b[0m\n\u001b[1;32m    681\u001b[0m \u001b[0;34m\u001b[0m\u001b[0m\n\u001b[1;32m    682\u001b[0m     \"\"\"\n\u001b[0;32m--> 683\u001b[0;31m     \u001b[0m_savez\u001b[0m\u001b[0;34m(\u001b[0m\u001b[0mfile\u001b[0m\u001b[0;34m,\u001b[0m \u001b[0margs\u001b[0m\u001b[0;34m,\u001b[0m \u001b[0mkwds\u001b[0m\u001b[0;34m,\u001b[0m \u001b[0;32mTrue\u001b[0m\u001b[0;34m)\u001b[0m\u001b[0;34m\u001b[0m\u001b[0;34m\u001b[0m\u001b[0m\n\u001b[0m\u001b[1;32m    684\u001b[0m \u001b[0;34m\u001b[0m\u001b[0m\n\u001b[1;32m    685\u001b[0m \u001b[0;34m\u001b[0m\u001b[0m\n",
            "\u001b[0;32m/usr/local/lib/python3.9/dist-packages/numpy/lib/npyio.py\u001b[0m in \u001b[0;36m_savez\u001b[0;34m(file, args, kwds, compress, allow_pickle, pickle_kwargs)\u001b[0m\n\u001b[1;32m    707\u001b[0m         \u001b[0mcompression\u001b[0m \u001b[0;34m=\u001b[0m \u001b[0mzipfile\u001b[0m\u001b[0;34m.\u001b[0m\u001b[0mZIP_STORED\u001b[0m\u001b[0;34m\u001b[0m\u001b[0;34m\u001b[0m\u001b[0m\n\u001b[1;32m    708\u001b[0m \u001b[0;34m\u001b[0m\u001b[0m\n\u001b[0;32m--> 709\u001b[0;31m     \u001b[0mzipf\u001b[0m \u001b[0;34m=\u001b[0m \u001b[0mzipfile_factory\u001b[0m\u001b[0;34m(\u001b[0m\u001b[0mfile\u001b[0m\u001b[0;34m,\u001b[0m \u001b[0mmode\u001b[0m\u001b[0;34m=\u001b[0m\u001b[0;34m\"w\"\u001b[0m\u001b[0;34m,\u001b[0m \u001b[0mcompression\u001b[0m\u001b[0;34m=\u001b[0m\u001b[0mcompression\u001b[0m\u001b[0;34m)\u001b[0m\u001b[0;34m\u001b[0m\u001b[0;34m\u001b[0m\u001b[0m\n\u001b[0m\u001b[1;32m    710\u001b[0m \u001b[0;34m\u001b[0m\u001b[0m\n\u001b[1;32m    711\u001b[0m     \u001b[0;32mfor\u001b[0m \u001b[0mkey\u001b[0m\u001b[0;34m,\u001b[0m \u001b[0mval\u001b[0m \u001b[0;32min\u001b[0m \u001b[0mnamedict\u001b[0m\u001b[0;34m.\u001b[0m\u001b[0mitems\u001b[0m\u001b[0;34m(\u001b[0m\u001b[0;34m)\u001b[0m\u001b[0;34m:\u001b[0m\u001b[0;34m\u001b[0m\u001b[0;34m\u001b[0m\u001b[0m\n",
            "\u001b[0;32m/usr/local/lib/python3.9/dist-packages/numpy/lib/npyio.py\u001b[0m in \u001b[0;36mzipfile_factory\u001b[0;34m(file, *args, **kwargs)\u001b[0m\n\u001b[1;32m     99\u001b[0m     \u001b[0;32mimport\u001b[0m \u001b[0mzipfile\u001b[0m\u001b[0;34m\u001b[0m\u001b[0;34m\u001b[0m\u001b[0m\n\u001b[1;32m    100\u001b[0m     \u001b[0mkwargs\u001b[0m\u001b[0;34m[\u001b[0m\u001b[0;34m'allowZip64'\u001b[0m\u001b[0;34m]\u001b[0m \u001b[0;34m=\u001b[0m \u001b[0;32mTrue\u001b[0m\u001b[0;34m\u001b[0m\u001b[0;34m\u001b[0m\u001b[0m\n\u001b[0;32m--> 101\u001b[0;31m     \u001b[0;32mreturn\u001b[0m \u001b[0mzipfile\u001b[0m\u001b[0;34m.\u001b[0m\u001b[0mZipFile\u001b[0m\u001b[0;34m(\u001b[0m\u001b[0mfile\u001b[0m\u001b[0;34m,\u001b[0m \u001b[0;34m*\u001b[0m\u001b[0margs\u001b[0m\u001b[0;34m,\u001b[0m \u001b[0;34m**\u001b[0m\u001b[0mkwargs\u001b[0m\u001b[0;34m)\u001b[0m\u001b[0;34m\u001b[0m\u001b[0;34m\u001b[0m\u001b[0m\n\u001b[0m\u001b[1;32m    102\u001b[0m \u001b[0;34m\u001b[0m\u001b[0m\n\u001b[1;32m    103\u001b[0m \u001b[0;34m\u001b[0m\u001b[0m\n",
            "\u001b[0;32m/usr/lib/python3.9/zipfile.py\u001b[0m in \u001b[0;36m__init__\u001b[0;34m(self, file, mode, compression, allowZip64, compresslevel, strict_timestamps)\u001b[0m\n\u001b[1;32m   1246\u001b[0m             \u001b[0;32mwhile\u001b[0m \u001b[0;32mTrue\u001b[0m\u001b[0;34m:\u001b[0m\u001b[0;34m\u001b[0m\u001b[0;34m\u001b[0m\u001b[0m\n\u001b[1;32m   1247\u001b[0m                 \u001b[0;32mtry\u001b[0m\u001b[0;34m:\u001b[0m\u001b[0;34m\u001b[0m\u001b[0;34m\u001b[0m\u001b[0m\n\u001b[0;32m-> 1248\u001b[0;31m                     \u001b[0mself\u001b[0m\u001b[0;34m.\u001b[0m\u001b[0mfp\u001b[0m \u001b[0;34m=\u001b[0m \u001b[0mio\u001b[0m\u001b[0;34m.\u001b[0m\u001b[0mopen\u001b[0m\u001b[0;34m(\u001b[0m\u001b[0mfile\u001b[0m\u001b[0;34m,\u001b[0m \u001b[0mfilemode\u001b[0m\u001b[0;34m)\u001b[0m\u001b[0;34m\u001b[0m\u001b[0;34m\u001b[0m\u001b[0m\n\u001b[0m\u001b[1;32m   1249\u001b[0m                 \u001b[0;32mexcept\u001b[0m \u001b[0mOSError\u001b[0m\u001b[0;34m:\u001b[0m\u001b[0;34m\u001b[0m\u001b[0;34m\u001b[0m\u001b[0m\n\u001b[1;32m   1250\u001b[0m                     \u001b[0;32mif\u001b[0m \u001b[0mfilemode\u001b[0m \u001b[0;32min\u001b[0m \u001b[0mmodeDict\u001b[0m\u001b[0;34m:\u001b[0m\u001b[0;34m\u001b[0m\u001b[0;34m\u001b[0m\u001b[0m\n",
            "\u001b[0;31mFileNotFoundError\u001b[0m: [Errno 2] No such file or directory: './Data/data_rich.npz'"
          ]
        }
      ],
      "source": [
        "features, labels = create_dataset()\n",
        "\n"
      ]
    },
    {
      "cell_type": "code",
      "execution_count": null,
      "metadata": {
        "id": "C5ky1CtY1Y-h"
      },
      "outputs": [],
      "source": [
        "np.savez_compressed(f'{DATA_PATH}/data_rich.npz', features=features, labels=labels)"
      ]
    },
    {
      "cell_type": "markdown",
      "metadata": {
        "id": "hD-05nsao_4G"
      },
      "source": [
        "# 6. Preprocess Data and Create Labels and Features"
      ]
    },
    {
      "cell_type": "code",
      "execution_count": 3,
      "metadata": {
        "id": "pJmOqwfbo_4H"
      },
      "outputs": [],
      "source": [
        "from sklearn.model_selection import train_test_split\n",
        "from tensorflow.keras.utils import to_categorical\n",
        "from sklearn.model_selection import StratifiedShuffleSplit\n",
        "import cv2\n",
        "import numpy as np\n",
        "import os\n",
        "from matplotlib import pyplot as plt\n",
        "import time\n",
        "import mediapipe as mp\n"
      ]
    },
    {
      "cell_type": "code",
      "execution_count": 4,
      "metadata": {
        "id": "plAGkLtVcNr6"
      },
      "outputs": [],
      "source": [
        "# Path for exported data, numpy arrays\n",
        "# DATA_PATH = os.path.join('./Data')\n",
        "DATA_PATH = os.path.join('./drive/MyDrive/PBL5/Data/')\n",
        "\n",
        "# Actions that we try to detect\n",
        "actions = np.array(\n",
        "    ['Bye', 'Fine', 'Good', 'Hello', 'I', 'You', 'Love', 'None']\n",
        "    )\n",
        "sequence_length = 10\n",
        "# Path for exported data, numpy arrays\n",
        "# DATASET_PATH = os.path.join('./Data')"
      ]
    },
    {
      "cell_type": "code",
      "execution_count": 5,
      "metadata": {
        "colab": {
          "base_uri": "https://localhost:8080/"
        },
        "id": "iFwuV7e1o_4H",
        "outputId": "dc833514-b7b1-4880-fe08-78009657e840"
      },
      "outputs": [
        {
          "data": {
            "text/plain": [
              "{'Bye': 0,\n",
              " 'Fine': 1,\n",
              " 'Good': 2,\n",
              " 'Hello': 3,\n",
              " 'I': 4,\n",
              " 'You': 5,\n",
              " 'Love': 6,\n",
              " 'None': 7}"
            ]
          },
          "execution_count": 5,
          "metadata": {},
          "output_type": "execute_result"
        }
      ],
      "source": [
        "actions = np.array(\n",
        "    ['Bye', 'Fine', 'Good', 'Hello', 'I', 'You', 'Love', 'None']\n",
        "    )\n",
        "label_map = {label:num for num, label in enumerate(actions)}\n",
        "label_map"
      ]
    },
    {
      "cell_type": "code",
      "execution_count": 9,
      "metadata": {
        "id": "BKQ0DtV7o_4I"
      },
      "outputs": [],
      "source": [
        "data = np.load(f'{DATA_PATH}/data_rich.npz')\n",
        "X = data['features']\n",
        "labels = data['labels']"
      ]
    },
    {
      "cell_type": "code",
      "execution_count": 11,
      "metadata": {
        "colab": {
          "base_uri": "https://localhost:8080/"
        },
        "id": "uQGBWskxo_4I",
        "outputId": "6e03d7e1-1bbb-4503-f808-63433a154a0f"
      },
      "outputs": [
        {
          "data": {
            "text/plain": [
              "(1560, 10, 300)"
            ]
          },
          "execution_count": 11,
          "metadata": {},
          "output_type": "execute_result"
        }
      ],
      "source": [
        "X.shape"
      ]
    },
    {
      "cell_type": "code",
      "execution_count": 12,
      "metadata": {
        "id": "mwSYLmBPo_4I"
      },
      "outputs": [],
      "source": [
        "y = to_categorical(labels).astype(int)"
      ]
    },
    {
      "cell_type": "code",
      "execution_count": 13,
      "metadata": {
        "colab": {
          "base_uri": "https://localhost:8080/"
        },
        "id": "c1vtq8IVo_4J",
        "outputId": "338b1de7-fbf0-4596-f794-9e6531a86b2b"
      },
      "outputs": [
        {
          "data": {
            "text/plain": [
              "(1560, 8)"
            ]
          },
          "execution_count": 13,
          "metadata": {},
          "output_type": "execute_result"
        }
      ],
      "source": [
        "y.shape"
      ]
    },
    {
      "cell_type": "code",
      "execution_count": 14,
      "metadata": {
        "colab": {
          "base_uri": "https://localhost:8080/",
          "height": 485
        },
        "id": "cZav1-R9o_4J",
        "outputId": "5419f58d-6112-410d-9b18-32c422f75887"
      },
      "outputs": [
        {
          "data": {
            "text/plain": [
              "(array([32., 31., 40., 38., 42., 42., 45., 42.]),\n",
              " array([0.   , 0.875, 1.75 , 2.625, 3.5  , 4.375, 5.25 , 6.125, 7.   ]),\n",
              " <BarContainer object of 8 artists>)"
            ]
          },
          "execution_count": 14,
          "metadata": {},
          "output_type": "execute_result"
        },
        {
          "data": {
            "image/png": "[encoded data removed]",
            "text/plain": [
              "<Figure size 640x480 with 1 Axes>"
            ]
          },
          "metadata": {},
          "output_type": "display_data"
        }
      ],
      "source": [
        "from sklearn.model_selection import StratifiedShuffleSplit\n",
        "\n",
        "# Define the splitter\n",
        "splitter = StratifiedShuffleSplit(n_splits=1, test_size=0.2, random_state=42)\n",
        "\n",
        "# Get the indices for splitting\n",
        "train_idx, test_idx = next(splitter.split(X, y))\n",
        "\n",
        "# Split the data into train and test sets\n",
        "X_train_val = X[train_idx]\n",
        "X_test = X[test_idx]\n",
        "y_train_val = y[train_idx]\n",
        "y_test = y[test_idx]\n",
        "plt.hist(np.argmax(y_train_val, 1), bins=8, label=label_map)\n",
        "plt.hist(np.argmax(y_test, 1), bins=8, label=label_map)"
      ]
    },
    {
      "cell_type": "code",
      "execution_count": 15,
      "metadata": {
        "colab": {
          "base_uri": "https://localhost:8080/",
          "height": 488
        },
        "id": "72Tf08HTo_4K",
        "outputId": "53cf360f-b760-431d-b8e8-e18c90fe5a1d"
      },
      "outputs": [
        {
          "data": {
            "text/plain": [
              "(array([32., 31., 40., 37., 43., 43., 45., 41.]),\n",
              " array([0.   , 0.875, 1.75 , 2.625, 3.5  , 4.375, 5.25 , 6.125, 7.   ]),\n",
              " <BarContainer object of 8 artists>)"
            ]
          },
          "execution_count": 15,
          "metadata": {},
          "output_type": "execute_result"
        },
        {
          "data": {
            "image/png": "[encoded data removed]",
            "text/plain": [
              "<Figure size 640x480 with 1 Axes>"
            ]
          },
          "metadata": {},
          "output_type": "display_data"
        }
      ],
      "source": [
        "from sklearn.model_selection import StratifiedShuffleSplit\n",
        "\n",
        "# Define the splitter\n",
        "splitter2 = StratifiedShuffleSplit(n_splits=1, test_size=0.25, random_state=42)\n",
        "\n",
        "# Get the indices for splitting\n",
        "train_idx, val_idx = next(splitter2.split(X_train_val, y_train_val))\n",
        "\n",
        "# Split the data into train and val sets\n",
        "X_train = X_train_val[train_idx]\n",
        "X_val = X_train_val[val_idx]\n",
        "y_train = y_train_val[train_idx]\n",
        "y_val = y_train_val[val_idx]\n",
        "plt.hist(np.argmax(y_train, 1), bins=len(actions), label=label_map)\n",
        "plt.hist(np.argmax(y_val, 1), bins=len(actions), label=label_map)"
      ]
    },
    {
      "cell_type": "markdown",
      "metadata": {
        "id": "H_oBDKG2o_4L"
      },
      "source": [
        "# 7. Build and Train LSTM Neural Network"
      ]
    },
    {
      "cell_type": "code",
      "execution_count": 16,
      "metadata": {
        "id": "n3TWBQcUo_4L"
      },
      "outputs": [],
      "source": [
        "from tensorflow.keras.models import Sequential\n",
        "from tensorflow.keras.optimizers import Adam\n",
        "from tensorflow.keras.layers import Dense, Dropout, LSTM\n",
        "from tensorflow.keras.callbacks import TensorBoard\n",
        "from tensorflow.keras.callbacks import EarlyStopping\n",
        "from tensorflow.keras.optimizers import Adam\n",
        "import tensorflow as tf"
      ]
    },
    {
      "cell_type": "code",
      "execution_count": 46,
      "metadata": {
        "id": "_Ha-GnTWo_4L"
      },
      "outputs": [],
      "source": [
        "model = Sequential()\n",
        "model.add(LSTM(64, return_sequences=True, activation='relu', input_shape=(sequence_length,X.shape[-1])))\n",
        "model.add(LSTM(128, return_sequences=True, activation='relu'))\n",
        "model.add(LSTM(64, return_sequences=False, activation='relu'))\n",
        "model.add(Dense(64, activation='relu'))\n",
        "model.add(Dense(32, activation='relu'))\n",
        "model.add(Dense(actions.shape[0], activation='softmax'))"
      ]
    },
    {
      "cell_type": "code",
      "execution_count": 47,
      "metadata": {
        "colab": {
          "base_uri": "https://localhost:8080/",
          "height": 754
        },
        "id": "Tyb-pis2o_4M",
        "outputId": "2f856fe8-5b8f-4b74-81af-0cb9f2594ffa"
      },
      "outputs": [
        {
          "data": {
            "image/png": "[encoded data removed]",
            "text/plain": [
              "<IPython.core.display.Image object>"
            ]
          },
          "execution_count": 47,
          "metadata": {},
          "output_type": "execute_result"
        }
      ],
      "source": [
        "from keras.utils import plot_model\n",
        "\n",
        "# Plot the model\n",
        "plot_model(model, show_shapes=True, show_layer_names=True)"
      ]
    },
    {
      "cell_type": "code",
      "execution_count": 48,
      "metadata": {
        "colab": {
          "base_uri": "https://localhost:8080/"
        },
        "id": "phN83nf6o_4M",
        "outputId": "895c3fdc-8b33-45dd-b0d5-a814309a3674"
      },
      "outputs": [
        {
          "name": "stdout",
          "output_type": "stream",
          "text": [
            "Model: \"sequential_2\"\n",
            "_________________________________________________________________\n",
            " Layer (type)                Output Shape              Param #   \n",
            "=================================================================\n",
            " lstm_6 (LSTM)               (None, 10, 64)            93440     \n",
            "                                                                 \n",
            " lstm_7 (LSTM)               (None, 10, 128)           98816     \n",
            "                                                                 \n",
            " lstm_8 (LSTM)               (None, 64)                49408     \n",
            "                                                                 \n",
            " dense_6 (Dense)             (None, 64)                4160      \n",
            "                                                                 \n",
            " dense_7 (Dense)             (None, 32)                2080      \n",
            "                                                                 \n",
            " dense_8 (Dense)             (None, 8)                 264       \n",
            "                                                                 \n",
            "=================================================================\n",
            "Total params: 248,168\n",
            "Trainable params: 248,168\n",
            "Non-trainable params: 0\n",
            "_________________________________________________________________\n"
          ]
        }
      ],
      "source": [
        "model.summary()"
      ]
    },
    {
      "cell_type": "code",
      "execution_count": 49,
      "metadata": {
        "id": "8NBfmvUIo_4M"
      },
      "outputs": [],
      "source": [
        "model.compile(optimizer=Adam(learning_rate=0.0015), loss='categorical_crossentropy', metrics=['categorical_accuracy'])"
      ]
    },
    {
      "cell_type": "code",
      "execution_count": 59,
      "metadata": {
        "colab": {
          "base_uri": "https://localhost:8080/"
        },
        "id": "ggCX345to_4M",
        "outputId": "7af1cf03-9642-44a3-e077-7145a950e301"
      },
      "outputs": [
        {
          "name": "stdout",
          "output_type": "stream",
          "text": [
            "Epoch 1/500\n",
            "234/234 [==============================] - 6s 26ms/step - loss: 0.2319 - categorical_accuracy: 0.8932 - val_loss: 0.3370 - val_categorical_accuracy: 0.8750\n",
            "Epoch 2/500\n",
            "234/234 [==============================] - 5s 20ms/step - loss: 0.2445 - categorical_accuracy: 0.8996 - val_loss: 0.3346 - val_categorical_accuracy: 0.8654\n",
            "Epoch 3/500\n",
            "234/234 [==============================] - 6s 27ms/step - loss: 0.2629 - categorical_accuracy: 0.8996 - val_loss: 0.3094 - val_categorical_accuracy: 0.8718\n",
            "Epoch 4/500\n",
            "234/234 [==============================] - 6s 24ms/step - loss: 0.2359 - categorical_accuracy: 0.9038 - val_loss: 0.3687 - val_categorical_accuracy: 0.8686\n",
            "Epoch 5/500\n",
            "234/234 [==============================] - 7s 28ms/step - loss: 0.3295 - categorical_accuracy: 0.8857 - val_loss: 0.3679 - val_categorical_accuracy: 0.8654\n",
            "Epoch 6/500\n",
            "234/234 [==============================] - 7s 30ms/step - loss: 0.2254 - categorical_accuracy: 0.9177 - val_loss: 0.3106 - val_categorical_accuracy: 0.8846\n",
            "Epoch 7/500\n",
            "234/234 [==============================] - 5s 22ms/step - loss: 0.1874 - categorical_accuracy: 0.9167 - val_loss: 0.2280 - val_categorical_accuracy: 0.8974\n",
            "Epoch 8/500\n",
            "234/234 [==============================] - 5s 24ms/step - loss: 0.1451 - categorical_accuracy: 0.9402 - val_loss: 0.1928 - val_categorical_accuracy: 0.9519\n",
            "Epoch 9/500\n",
            "234/234 [==============================] - 6s 27ms/step - loss: 0.2336 - categorical_accuracy: 0.9145 - val_loss: 0.8433 - val_categorical_accuracy: 0.7660\n",
            "Epoch 10/500\n",
            "234/234 [==============================] - 5s 20ms/step - loss: 0.1433 - categorical_accuracy: 0.9509 - val_loss: 0.1755 - val_categorical_accuracy: 0.9679\n",
            "Epoch 11/500\n",
            "234/234 [==============================] - 6s 27ms/step - loss: 0.1320 - categorical_accuracy: 0.9594 - val_loss: 0.1994 - val_categorical_accuracy: 0.9455\n",
            "Epoch 12/500\n",
            "234/234 [==============================] - 5s 23ms/step - loss: 0.0977 - categorical_accuracy: 0.9669 - val_loss: 0.1533 - val_categorical_accuracy: 0.9712\n",
            "Epoch 13/500\n",
            "234/234 [==============================] - 5s 20ms/step - loss: 0.1279 - categorical_accuracy: 0.9615 - val_loss: 0.1611 - val_categorical_accuracy: 0.9615\n",
            "Epoch 14/500\n",
            "234/234 [==============================] - 7s 30ms/step - loss: 0.0859 - categorical_accuracy: 0.9690 - val_loss: 0.2157 - val_categorical_accuracy: 0.9519\n",
            "Epoch 15/500\n",
            "234/234 [==============================] - 5s 22ms/step - loss: 0.2003 - categorical_accuracy: 0.9338 - val_loss: 0.1687 - val_categorical_accuracy: 0.9744\n",
            "Epoch 16/500\n",
            "234/234 [==============================] - 9s 37ms/step - loss: 0.1869 - categorical_accuracy: 0.9295 - val_loss: 0.2255 - val_categorical_accuracy: 0.9006\n",
            "Epoch 17/500\n",
            "234/234 [==============================] - 7s 31ms/step - loss: 0.1558 - categorical_accuracy: 0.9423 - val_loss: 0.1912 - val_categorical_accuracy: 0.9487\n",
            "Epoch 18/500\n",
            "234/234 [==============================] - 8s 33ms/step - loss: 0.1692 - categorical_accuracy: 0.9402 - val_loss: 0.3474 - val_categorical_accuracy: 0.9103\n",
            "Epoch 19/500\n",
            "234/234 [==============================] - 8s 36ms/step - loss: 0.1157 - categorical_accuracy: 0.9669 - val_loss: 0.2915 - val_categorical_accuracy: 0.9006\n",
            "Epoch 20/500\n",
            "234/234 [==============================] - 5s 21ms/step - loss: 0.0861 - categorical_accuracy: 0.9733 - val_loss: 0.1666 - val_categorical_accuracy: 0.9647\n",
            "Epoch 21/500\n",
            "234/234 [==============================] - 7s 31ms/step - loss: 0.0804 - categorical_accuracy: 0.9786 - val_loss: 0.1671 - val_categorical_accuracy: 0.9647\n",
            "Epoch 22/500\n",
            "234/234 [==============================] - 5s 21ms/step - loss: 0.0511 - categorical_accuracy: 0.9829 - val_loss: 0.1846 - val_categorical_accuracy: 0.9551\n",
            "Epoch 23/500\n",
            "234/234 [==============================] - 5s 22ms/step - loss: 0.1967 - categorical_accuracy: 0.9423 - val_loss: 0.1924 - val_categorical_accuracy: 0.9487\n",
            "Epoch 24/500\n",
            "234/234 [==============================] - 7s 30ms/step - loss: 0.1965 - categorical_accuracy: 0.9487 - val_loss: 0.1997 - val_categorical_accuracy: 0.9455\n",
            "Epoch 25/500\n",
            "234/234 [==============================] - 5s 22ms/step - loss: 0.0701 - categorical_accuracy: 0.9818 - val_loss: 0.1520 - val_categorical_accuracy: 0.9647\n",
            "Epoch 26/500\n",
            "234/234 [==============================] - 6s 27ms/step - loss: 0.0749 - categorical_accuracy: 0.9829 - val_loss: 0.2159 - val_categorical_accuracy: 0.9519\n",
            "Epoch 27/500\n",
            "234/234 [==============================] - 6s 25ms/step - loss: 0.1256 - categorical_accuracy: 0.9583 - val_loss: 0.1686 - val_categorical_accuracy: 0.9647\n",
            "Epoch 28/500\n",
            "234/234 [==============================] - 5s 21ms/step - loss: 0.9049 - categorical_accuracy: 0.7553 - val_loss: 0.6068 - val_categorical_accuracy: 0.7756\n",
            "Epoch 29/500\n",
            "234/234 [==============================] - 7s 30ms/step - loss: 0.3360 - categorical_accuracy: 0.8750 - val_loss: 0.3050 - val_categorical_accuracy: 0.8878\n",
            "Epoch 30/500\n",
            "234/234 [==============================] - 5s 22ms/step - loss: 0.1560 - categorical_accuracy: 0.9509 - val_loss: 0.1588 - val_categorical_accuracy: 0.9712\n",
            "Epoch 31/500\n",
            "234/234 [==============================] - 5s 22ms/step - loss: 0.1284 - categorical_accuracy: 0.9658 - val_loss: 0.1896 - val_categorical_accuracy: 0.9487\n",
            "Epoch 32/500\n",
            "234/234 [==============================] - 7s 28ms/step - loss: 0.0865 - categorical_accuracy: 0.9712 - val_loss: 0.1295 - val_categorical_accuracy: 0.9712\n",
            "Epoch 33/500\n",
            "234/234 [==============================] - 5s 21ms/step - loss: 0.1026 - categorical_accuracy: 0.9690 - val_loss: 0.1142 - val_categorical_accuracy: 0.9712\n",
            "Epoch 34/500\n",
            "234/234 [==============================] - 6s 24ms/step - loss: 0.2073 - categorical_accuracy: 0.9391 - val_loss: 0.3205 - val_categorical_accuracy: 0.9359\n",
            "Epoch 35/500\n",
            "234/234 [==============================] - 6s 25ms/step - loss: 0.1147 - categorical_accuracy: 0.9776 - val_loss: 0.1606 - val_categorical_accuracy: 0.9583\n",
            "Epoch 36/500\n",
            "234/234 [==============================] - 5s 20ms/step - loss: 0.0706 - categorical_accuracy: 0.9786 - val_loss: 0.0884 - val_categorical_accuracy: 0.9776\n",
            "Epoch 37/500\n",
            "234/234 [==============================] - 6s 27ms/step - loss: 0.1217 - categorical_accuracy: 0.9615 - val_loss: 0.2515 - val_categorical_accuracy: 0.9199\n",
            "Epoch 38/500\n",
            "234/234 [==============================] - 5s 23ms/step - loss: 0.0868 - categorical_accuracy: 0.9712 - val_loss: 0.1347 - val_categorical_accuracy: 0.9776\n",
            "Epoch 39/500\n",
            "234/234 [==============================] - 5s 20ms/step - loss: 0.0387 - categorical_accuracy: 0.9925 - val_loss: 0.1321 - val_categorical_accuracy: 0.9712\n",
            "Epoch 40/500\n",
            "234/234 [==============================] - 7s 30ms/step - loss: 0.0317 - categorical_accuracy: 0.9925 - val_loss: 0.0995 - val_categorical_accuracy: 0.9872\n",
            "Epoch 41/500\n",
            "234/234 [==============================] - 5s 20ms/step - loss: 0.0270 - categorical_accuracy: 0.9915 - val_loss: 0.1146 - val_categorical_accuracy: 0.9808\n",
            "Epoch 42/500\n",
            "234/234 [==============================] - 5s 22ms/step - loss: 0.0409 - categorical_accuracy: 0.9861 - val_loss: 0.1185 - val_categorical_accuracy: 0.9744\n",
            "Epoch 43/500\n",
            "234/234 [==============================] - 7s 29ms/step - loss: 0.3286 - categorical_accuracy: 0.9156 - val_loss: 0.2206 - val_categorical_accuracy: 0.9551\n",
            "Epoch 44/500\n",
            "234/234 [==============================] - 5s 21ms/step - loss: 0.0969 - categorical_accuracy: 0.9658 - val_loss: 0.1521 - val_categorical_accuracy: 0.9744\n",
            "Epoch 45/500\n",
            "234/234 [==============================] - 8s 33ms/step - loss: 0.0341 - categorical_accuracy: 0.9893 - val_loss: 0.0929 - val_categorical_accuracy: 0.9872\n",
            "Epoch 46/500\n",
            "234/234 [==============================] - 6s 27ms/step - loss: 0.0210 - categorical_accuracy: 0.9957 - val_loss: 0.1022 - val_categorical_accuracy: 0.9679\n",
            "Epoch 47/500\n",
            "234/234 [==============================] - 5s 21ms/step - loss: 0.0199 - categorical_accuracy: 0.9925 - val_loss: 0.1153 - val_categorical_accuracy: 0.9744\n",
            "Epoch 48/500\n",
            "234/234 [==============================] - 6s 27ms/step - loss: 0.0747 - categorical_accuracy: 0.9744 - val_loss: 0.1081 - val_categorical_accuracy: 0.9776\n",
            "Epoch 49/500\n",
            "234/234 [==============================] - 6s 24ms/step - loss: 0.0178 - categorical_accuracy: 0.9936 - val_loss: 0.1431 - val_categorical_accuracy: 0.9647\n",
            "Epoch 50/500\n",
            "234/234 [==============================] - 5s 20ms/step - loss: 0.1119 - categorical_accuracy: 0.9840 - val_loss: 0.5622 - val_categorical_accuracy: 0.8526\n",
            "Epoch 51/500\n",
            "234/234 [==============================] - 7s 31ms/step - loss: 0.1665 - categorical_accuracy: 0.9541 - val_loss: 0.2661 - val_categorical_accuracy: 0.9551\n",
            "Epoch 52/500\n",
            "234/234 [==============================] - 5s 21ms/step - loss: 0.1803 - categorical_accuracy: 0.9519 - val_loss: 0.2150 - val_categorical_accuracy: 0.9359\n",
            "Epoch 53/500\n",
            "234/234 [==============================] - 5s 22ms/step - loss: 0.0880 - categorical_accuracy: 0.9733 - val_loss: 0.1692 - val_categorical_accuracy: 0.9583\n",
            "Epoch 54/500\n",
            "234/234 [==============================] - 7s 29ms/step - loss: 0.1308 - categorical_accuracy: 0.9562 - val_loss: 0.1167 - val_categorical_accuracy: 0.9679\n",
            "Epoch 55/500\n",
            "234/234 [==============================] - 5s 21ms/step - loss: 0.0461 - categorical_accuracy: 0.9840 - val_loss: 0.2041 - val_categorical_accuracy: 0.9455\n",
            "Epoch 56/500\n",
            "234/234 [==============================] - 6s 25ms/step - loss: 0.0383 - categorical_accuracy: 0.9882 - val_loss: 0.1755 - val_categorical_accuracy: 0.9359\n",
            "Epoch 57/500\n",
            "234/234 [==============================] - 6s 26ms/step - loss: 0.1247 - categorical_accuracy: 0.9615 - val_loss: 0.1411 - val_categorical_accuracy: 0.9712\n",
            "Epoch 58/500\n",
            "234/234 [==============================] - 5s 20ms/step - loss: 0.0272 - categorical_accuracy: 0.9936 - val_loss: 0.1104 - val_categorical_accuracy: 0.9840\n",
            "Epoch 59/500\n",
            "234/234 [==============================] - 6s 28ms/step - loss: 0.0231 - categorical_accuracy: 0.9947 - val_loss: 0.1172 - val_categorical_accuracy: 0.9776\n",
            "Epoch 60/500\n",
            "234/234 [==============================] - 5s 23ms/step - loss: 0.0104 - categorical_accuracy: 0.9957 - val_loss: 0.1390 - val_categorical_accuracy: 0.9808\n",
            "Epoch 61/500\n",
            "234/234 [==============================] - 5s 22ms/step - loss: 0.0585 - categorical_accuracy: 0.9829 - val_loss: 0.1063 - val_categorical_accuracy: 0.9840\n",
            "Epoch 62/500\n",
            "234/234 [==============================] - 7s 31ms/step - loss: 0.0111 - categorical_accuracy: 0.9979 - val_loss: 0.0974 - val_categorical_accuracy: 0.9840\n",
            "Epoch 63/500\n",
            "234/234 [==============================] - 5s 22ms/step - loss: 0.0081 - categorical_accuracy: 0.9979 - val_loss: 0.0964 - val_categorical_accuracy: 0.9872\n",
            "Epoch 64/500\n",
            "234/234 [==============================] - 5s 23ms/step - loss: 0.0141 - categorical_accuracy: 0.9957 - val_loss: 0.0996 - val_categorical_accuracy: 0.9872\n",
            "Epoch 65/500\n",
            "234/234 [==============================] - 7s 28ms/step - loss: 0.0505 - categorical_accuracy: 0.9840 - val_loss: 0.1774 - val_categorical_accuracy: 0.9679\n",
            "Epoch 66/500\n",
            "234/234 [==============================] - 5s 21ms/step - loss: 0.0264 - categorical_accuracy: 0.9925 - val_loss: 0.1107 - val_categorical_accuracy: 0.9776\n",
            "Epoch 67/500\n",
            "234/234 [==============================] - 7s 28ms/step - loss: 0.2043 - categorical_accuracy: 0.9338 - val_loss: 0.2323 - val_categorical_accuracy: 0.9551\n",
            "Epoch 68/500\n",
            "234/234 [==============================] - 5s 23ms/step - loss: 0.0819 - categorical_accuracy: 0.9765 - val_loss: 0.0997 - val_categorical_accuracy: 0.9840\n",
            "Epoch 69/500\n",
            "234/234 [==============================] - 5s 21ms/step - loss: 0.0436 - categorical_accuracy: 0.9915 - val_loss: 0.2062 - val_categorical_accuracy: 0.9391\n",
            "Epoch 70/500\n",
            "234/234 [==============================] - 7s 31ms/step - loss: 1.3665 - categorical_accuracy: 0.9402 - val_loss: 0.1232 - val_categorical_accuracy: 0.9615\n",
            "Epoch 71/500\n",
            "234/234 [==============================] - 8s 33ms/step - loss: 0.1145 - categorical_accuracy: 0.9626 - val_loss: 0.1199 - val_categorical_accuracy: 0.9615\n",
            "Epoch 72/500\n",
            "234/234 [==============================] - 10s 41ms/step - loss: 0.0495 - categorical_accuracy: 0.9850 - val_loss: 0.0806 - val_categorical_accuracy: 0.9840\n",
            "Epoch 73/500\n",
            "234/234 [==============================] - 5s 22ms/step - loss: 0.0563 - categorical_accuracy: 0.9861 - val_loss: 0.0736 - val_categorical_accuracy: 0.9872\n",
            "Epoch 74/500\n",
            "234/234 [==============================] - 6s 26ms/step - loss: 0.8804 - categorical_accuracy: 0.9295 - val_loss: 0.6368 - val_categorical_accuracy: 0.8269\n",
            "Epoch 75/500\n",
            "234/234 [==============================] - 6s 24ms/step - loss: 0.2202 - categorical_accuracy: 0.9338 - val_loss: 0.1440 - val_categorical_accuracy: 0.9615\n",
            "Epoch 76/500\n",
            "234/234 [==============================] - 5s 22ms/step - loss: 0.1204 - categorical_accuracy: 0.9637 - val_loss: 0.1878 - val_categorical_accuracy: 0.9679\n",
            "Epoch 77/500\n",
            "234/234 [==============================] - 7s 31ms/step - loss: 0.1276 - categorical_accuracy: 0.9754 - val_loss: 0.1292 - val_categorical_accuracy: 0.9647\n",
            "Epoch 78/500\n",
            "234/234 [==============================] - 5s 22ms/step - loss: 0.0791 - categorical_accuracy: 0.9765 - val_loss: 0.1293 - val_categorical_accuracy: 0.9647\n",
            "Epoch 79/500\n",
            "234/234 [==============================] - 5s 22ms/step - loss: 0.0352 - categorical_accuracy: 0.9893 - val_loss: 0.1271 - val_categorical_accuracy: 0.9615\n",
            "Epoch 80/500\n",
            "234/234 [==============================] - 7s 29ms/step - loss: 0.0381 - categorical_accuracy: 0.9872 - val_loss: 0.1576 - val_categorical_accuracy: 0.9615\n",
            "Epoch 81/500\n",
            "234/234 [==============================] - 5s 22ms/step - loss: 0.0218 - categorical_accuracy: 0.9947 - val_loss: 0.1159 - val_categorical_accuracy: 0.9679\n",
            "Epoch 82/500\n",
            "234/234 [==============================] - 6s 27ms/step - loss: 0.0380 - categorical_accuracy: 0.9882 - val_loss: 0.1013 - val_categorical_accuracy: 0.9647\n",
            "Epoch 83/500\n",
            "234/234 [==============================] - 5s 23ms/step - loss: 0.0253 - categorical_accuracy: 0.9904 - val_loss: 0.1365 - val_categorical_accuracy: 0.9679\n",
            "Epoch 84/500\n",
            "234/234 [==============================] - 5s 22ms/step - loss: 0.0536 - categorical_accuracy: 0.9808 - val_loss: 0.1230 - val_categorical_accuracy: 0.9647\n",
            "Epoch 85/500\n",
            "234/234 [==============================] - 8s 34ms/step - loss: 0.0498 - categorical_accuracy: 0.9850 - val_loss: 0.1411 - val_categorical_accuracy: 0.9647\n",
            "Epoch 86/500\n",
            "234/234 [==============================] - 6s 27ms/step - loss: 0.0524 - categorical_accuracy: 0.9850 - val_loss: 0.2785 - val_categorical_accuracy: 0.9359\n",
            "Epoch 87/500\n",
            "234/234 [==============================] - 5s 22ms/step - loss: 0.0573 - categorical_accuracy: 0.9818 - val_loss: 0.1002 - val_categorical_accuracy: 0.9615\n",
            "Epoch 88/500\n",
            "234/234 [==============================] - 7s 30ms/step - loss: 0.0129 - categorical_accuracy: 0.9968 - val_loss: 0.1076 - val_categorical_accuracy: 0.9615\n",
            "Epoch 89/500\n",
            "234/234 [==============================] - 5s 21ms/step - loss: 0.0221 - categorical_accuracy: 0.9936 - val_loss: 0.1460 - val_categorical_accuracy: 0.9519\n",
            "Epoch 90/500\n",
            "234/234 [==============================] - 5s 22ms/step - loss: 0.0451 - categorical_accuracy: 0.9893 - val_loss: 0.2195 - val_categorical_accuracy: 0.9295\n",
            "Epoch 91/500\n",
            "234/234 [==============================] - 7s 30ms/step - loss: 0.0510 - categorical_accuracy: 0.9786 - val_loss: 0.1287 - val_categorical_accuracy: 0.9679\n",
            "Epoch 92/500\n",
            "234/234 [==============================] - 5s 22ms/step - loss: 0.0245 - categorical_accuracy: 0.9936 - val_loss: 0.0976 - val_categorical_accuracy: 0.9583\n",
            "Epoch 93/500\n",
            "234/234 [==============================] - 6s 24ms/step - loss: 0.0074 - categorical_accuracy: 0.9979 - val_loss: 0.0993 - val_categorical_accuracy: 0.9744\n",
            "Epoch 94/500\n",
            "234/234 [==============================] - 6s 27ms/step - loss: 0.0038 - categorical_accuracy: 0.9989 - val_loss: 0.1033 - val_categorical_accuracy: 0.9679\n",
            "Epoch 95/500\n",
            "234/234 [==============================] - 5s 21ms/step - loss: 0.0033 - categorical_accuracy: 0.9989 - val_loss: 0.1124 - val_categorical_accuracy: 0.9679\n",
            "Epoch 96/500\n",
            "234/234 [==============================] - 7s 29ms/step - loss: 0.0672 - categorical_accuracy: 0.9840 - val_loss: 0.1229 - val_categorical_accuracy: 0.9551\n",
            "Epoch 97/500\n",
            "234/234 [==============================] - 5s 23ms/step - loss: 0.1073 - categorical_accuracy: 0.9615 - val_loss: 0.4841 - val_categorical_accuracy: 0.9103\n",
            "Epoch 98/500\n",
            "234/234 [==============================] - 5s 21ms/step - loss: 0.0509 - categorical_accuracy: 0.9861 - val_loss: 0.0996 - val_categorical_accuracy: 0.9744\n",
            "Epoch 99/500\n",
            "234/234 [==============================] - 7s 31ms/step - loss: 0.0090 - categorical_accuracy: 0.9989 - val_loss: 0.0859 - val_categorical_accuracy: 0.9712\n",
            "Epoch 100/500\n",
            "234/234 [==============================] - 5s 23ms/step - loss: 0.0050 - categorical_accuracy: 0.9979 - val_loss: 0.0652 - val_categorical_accuracy: 0.9904\n",
            "Epoch 101/500\n",
            "234/234 [==============================] - 6s 25ms/step - loss: 0.0286 - categorical_accuracy: 0.9882 - val_loss: 0.1776 - val_categorical_accuracy: 0.9519\n",
            "Epoch 102/500\n",
            "234/234 [==============================] - 6s 28ms/step - loss: 0.0248 - categorical_accuracy: 0.9936 - val_loss: 0.1632 - val_categorical_accuracy: 0.9391\n",
            "Epoch 103/500\n",
            "234/234 [==============================] - 5s 22ms/step - loss: 0.0427 - categorical_accuracy: 0.9850 - val_loss: 0.1002 - val_categorical_accuracy: 0.9679\n",
            "Epoch 104/500\n",
            "234/234 [==============================] - 7s 30ms/step - loss: 0.0071 - categorical_accuracy: 0.9989 - val_loss: 0.0783 - val_categorical_accuracy: 0.9776\n",
            "Epoch 105/500\n",
            "234/234 [==============================] - 5s 22ms/step - loss: 0.0537 - categorical_accuracy: 0.9850 - val_loss: 0.1309 - val_categorical_accuracy: 0.9712\n",
            "Epoch 106/500\n",
            "234/234 [==============================] - 5s 22ms/step - loss: 0.0141 - categorical_accuracy: 0.9968 - val_loss: 0.0761 - val_categorical_accuracy: 0.9840\n",
            "Epoch 107/500\n",
            "234/234 [==============================] - 7s 30ms/step - loss: 0.0038 - categorical_accuracy: 0.9989 - val_loss: 0.0813 - val_categorical_accuracy: 0.9840\n",
            "Epoch 108/500\n",
            "234/234 [==============================] - 5s 21ms/step - loss: 0.0212 - categorical_accuracy: 0.9904 - val_loss: 0.2062 - val_categorical_accuracy: 0.9583\n",
            "Epoch 109/500\n",
            "234/234 [==============================] - 6s 26ms/step - loss: 0.1176 - categorical_accuracy: 0.9797 - val_loss: 0.4446 - val_categorical_accuracy: 0.8878\n",
            "Epoch 110/500\n",
            "234/234 [==============================] - 6s 26ms/step - loss: 0.1017 - categorical_accuracy: 0.9701 - val_loss: 0.1628 - val_categorical_accuracy: 0.9744\n",
            "Epoch 111/500\n",
            "234/234 [==============================] - 5s 22ms/step - loss: 0.0258 - categorical_accuracy: 0.9925 - val_loss: 0.1221 - val_categorical_accuracy: 0.9744\n",
            "Epoch 112/500\n",
            "234/234 [==============================] - 7s 30ms/step - loss: 0.0111 - categorical_accuracy: 0.9968 - val_loss: 0.1837 - val_categorical_accuracy: 0.9776\n",
            "Epoch 113/500\n",
            "234/234 [==============================] - 5s 21ms/step - loss: 0.0073 - categorical_accuracy: 0.9979 - val_loss: 0.1200 - val_categorical_accuracy: 0.9776\n",
            "Epoch 114/500\n",
            "234/234 [==============================] - 5s 22ms/step - loss: 0.0079 - categorical_accuracy: 0.9989 - val_loss: 0.1057 - val_categorical_accuracy: 0.9776\n",
            "Epoch 115/500\n",
            "234/234 [==============================] - 7s 31ms/step - loss: 0.0044 - categorical_accuracy: 0.9989 - val_loss: 0.1135 - val_categorical_accuracy: 0.9776\n",
            "Epoch 116/500\n",
            "234/234 [==============================] - 5s 22ms/step - loss: 0.0033 - categorical_accuracy: 0.9989 - val_loss: 0.1142 - val_categorical_accuracy: 0.9776\n",
            "Epoch 117/500\n",
            "234/234 [==============================] - 6s 24ms/step - loss: 0.0422 - categorical_accuracy: 0.9904 - val_loss: 0.3193 - val_categorical_accuracy: 0.9551\n",
            "Epoch 118/500\n",
            "234/234 [==============================] - 6s 27ms/step - loss: 0.1045 - categorical_accuracy: 0.9765 - val_loss: 0.1233 - val_categorical_accuracy: 0.9744\n",
            "Epoch 119/500\n",
            "234/234 [==============================] - 5s 22ms/step - loss: 0.0246 - categorical_accuracy: 0.9904 - val_loss: 0.1257 - val_categorical_accuracy: 0.9744\n",
            "Epoch 120/500\n",
            "234/234 [==============================] - 7s 28ms/step - loss: 0.0029 - categorical_accuracy: 0.9989 - val_loss: 0.1117 - val_categorical_accuracy: 0.9904\n",
            "Epoch 121/500\n",
            "234/234 [==============================] - 5s 22ms/step - loss: 0.1805 - categorical_accuracy: 0.9637 - val_loss: 0.6954 - val_categorical_accuracy: 0.8141\n",
            "Epoch 122/500\n",
            "234/234 [==============================] - 5s 22ms/step - loss: 0.3589 - categorical_accuracy: 0.9220 - val_loss: 0.3587 - val_categorical_accuracy: 0.9551\n",
            "Epoch 123/500\n",
            "234/234 [==============================] - 7s 31ms/step - loss: 0.0876 - categorical_accuracy: 0.9786 - val_loss: 0.2626 - val_categorical_accuracy: 0.9455\n",
            "Epoch 124/500\n",
            "234/234 [==============================] - 5s 22ms/step - loss: 0.0386 - categorical_accuracy: 0.9872 - val_loss: 0.3455 - val_categorical_accuracy: 0.9295\n",
            "Epoch 125/500\n",
            "234/234 [==============================] - 6s 28ms/step - loss: 0.0307 - categorical_accuracy: 0.9925 - val_loss: 0.5459 - val_categorical_accuracy: 0.8974\n",
            "Epoch 126/500\n",
            "234/234 [==============================] - 8s 36ms/step - loss: 0.0635 - categorical_accuracy: 0.9829 - val_loss: 0.1798 - val_categorical_accuracy: 0.9744\n",
            "Epoch 127/500\n",
            "234/234 [==============================] - 5s 22ms/step - loss: 0.0617 - categorical_accuracy: 0.9882 - val_loss: 0.1119 - val_categorical_accuracy: 0.9712\n",
            "Epoch 128/500\n",
            "234/234 [==============================] - 6s 25ms/step - loss: 0.0410 - categorical_accuracy: 0.9893 - val_loss: 0.1530 - val_categorical_accuracy: 0.9647\n",
            "Epoch 129/500\n",
            "234/234 [==============================] - 6s 27ms/step - loss: 0.0328 - categorical_accuracy: 0.9872 - val_loss: 0.1869 - val_categorical_accuracy: 0.9551\n",
            "Epoch 130/500\n",
            "234/234 [==============================] - 5s 22ms/step - loss: 0.0139 - categorical_accuracy: 0.9968 - val_loss: 0.0974 - val_categorical_accuracy: 0.9744\n",
            "Epoch 131/500\n",
            "234/234 [==============================] - 7s 28ms/step - loss: 0.0089 - categorical_accuracy: 0.9968 - val_loss: 0.1477 - val_categorical_accuracy: 0.9808\n",
            "Epoch 132/500\n",
            "234/234 [==============================] - 5s 23ms/step - loss: 0.0056 - categorical_accuracy: 0.9979 - val_loss: 0.1452 - val_categorical_accuracy: 0.9776\n",
            "Epoch 133/500\n",
            "234/234 [==============================] - 5s 21ms/step - loss: 0.0024 - categorical_accuracy: 1.0000 - val_loss: 0.1444 - val_categorical_accuracy: 0.9808\n",
            "Epoch 134/500\n",
            "234/234 [==============================] - 7s 30ms/step - loss: 0.0020 - categorical_accuracy: 1.0000 - val_loss: 0.1353 - val_categorical_accuracy: 0.9808\n",
            "Epoch 135/500\n",
            "234/234 [==============================] - 5s 21ms/step - loss: 0.0016 - categorical_accuracy: 1.0000 - val_loss: 0.1356 - val_categorical_accuracy: 0.9808\n",
            "Epoch 136/500\n",
            "234/234 [==============================] - 5s 22ms/step - loss: 0.0101 - categorical_accuracy: 0.9979 - val_loss: 0.2164 - val_categorical_accuracy: 0.9583\n",
            "Epoch 137/500\n",
            "234/234 [==============================] - 7s 28ms/step - loss: 0.1509 - categorical_accuracy: 0.9626 - val_loss: 0.1407 - val_categorical_accuracy: 0.9679\n",
            "Epoch 138/500\n",
            "234/234 [==============================] - 5s 21ms/step - loss: 0.0600 - categorical_accuracy: 0.9840 - val_loss: 0.3157 - val_categorical_accuracy: 0.9647\n",
            "Epoch 139/500\n",
            "234/234 [==============================] - 6s 25ms/step - loss: 0.0090 - categorical_accuracy: 0.9989 - val_loss: 0.1877 - val_categorical_accuracy: 0.9776\n",
            "Epoch 140/500\n",
            "234/234 [==============================] - 6s 26ms/step - loss: 0.0111 - categorical_accuracy: 0.9968 - val_loss: 0.1748 - val_categorical_accuracy: 0.9776\n",
            "Epoch 141/500\n",
            "234/234 [==============================] - 5s 22ms/step - loss: 0.0160 - categorical_accuracy: 0.9936 - val_loss: 0.1792 - val_categorical_accuracy: 0.9679\n",
            "Epoch 142/500\n",
            "234/234 [==============================] - 7s 30ms/step - loss: 0.0017 - categorical_accuracy: 1.0000 - val_loss: 0.1668 - val_categorical_accuracy: 0.9776\n",
            "Epoch 143/500\n",
            "234/234 [==============================] - 5s 21ms/step - loss: 8.9552e-04 - categorical_accuracy: 1.0000 - val_loss: 0.1565 - val_categorical_accuracy: 0.9808\n",
            "Epoch 144/500\n",
            "234/234 [==============================] - 5s 21ms/step - loss: 6.3222e-04 - categorical_accuracy: 1.0000 - val_loss: 0.1586 - val_categorical_accuracy: 0.9808\n",
            "Epoch 145/500\n",
            "234/234 [==============================] - 7s 31ms/step - loss: 5.1802e-04 - categorical_accuracy: 1.0000 - val_loss: 0.1610 - val_categorical_accuracy: 0.9808\n",
            "Epoch 146/500\n",
            "234/234 [==============================] - 5s 21ms/step - loss: 4.1406e-04 - categorical_accuracy: 1.0000 - val_loss: 0.1609 - val_categorical_accuracy: 0.9808\n",
            "Epoch 147/500\n",
            "234/234 [==============================] - 6s 24ms/step - loss: 3.6044e-04 - categorical_accuracy: 1.0000 - val_loss: 0.1623 - val_categorical_accuracy: 0.9808\n",
            "Epoch 148/500\n",
            "234/234 [==============================] - 7s 28ms/step - loss: 3.0451e-04 - categorical_accuracy: 1.0000 - val_loss: 0.1615 - val_categorical_accuracy: 0.9840\n",
            "Epoch 149/500\n",
            "234/234 [==============================] - 5s 21ms/step - loss: 2.6324e-04 - categorical_accuracy: 1.0000 - val_loss: 0.1604 - val_categorical_accuracy: 0.9840\n",
            "Epoch 150/500\n",
            "234/234 [==============================] - 7s 28ms/step - loss: 2.3077e-04 - categorical_accuracy: 1.0000 - val_loss: 0.1606 - val_categorical_accuracy: 0.9840\n",
            "Epoch 151/500\n",
            "234/234 [==============================] - 5s 23ms/step - loss: 2.0214e-04 - categorical_accuracy: 1.0000 - val_loss: 0.1670 - val_categorical_accuracy: 0.9776\n",
            "Epoch 152/500\n",
            "234/234 [==============================] - 5s 21ms/step - loss: 1.7236e-04 - categorical_accuracy: 1.0000 - val_loss: 0.1762 - val_categorical_accuracy: 0.9776\n",
            "Epoch 153/500\n",
            "234/234 [==============================] - 7s 31ms/step - loss: 1.4757e-04 - categorical_accuracy: 1.0000 - val_loss: 0.1835 - val_categorical_accuracy: 0.9776\n",
            "Epoch 154/500\n",
            "234/234 [==============================] - 5s 22ms/step - loss: 1.2373e-04 - categorical_accuracy: 1.0000 - val_loss: 0.1912 - val_categorical_accuracy: 0.9776\n",
            "Epoch 155/500\n",
            "234/234 [==============================] - 6s 24ms/step - loss: 1.0379e-04 - categorical_accuracy: 1.0000 - val_loss: 0.1879 - val_categorical_accuracy: 0.9776\n",
            "Epoch 156/500\n",
            "234/234 [==============================] - 6s 27ms/step - loss: 8.6519e-05 - categorical_accuracy: 1.0000 - val_loss: 0.1937 - val_categorical_accuracy: 0.9808\n",
            "Epoch 157/500\n",
            "234/234 [==============================] - 5s 21ms/step - loss: 7.1607e-05 - categorical_accuracy: 1.0000 - val_loss: 0.1979 - val_categorical_accuracy: 0.9808\n",
            "Epoch 158/500\n",
            "234/234 [==============================] - 6s 27ms/step - loss: 5.9038e-05 - categorical_accuracy: 1.0000 - val_loss: 0.1999 - val_categorical_accuracy: 0.9808\n",
            "Epoch 159/500\n",
            "234/234 [==============================] - 6s 24ms/step - loss: 6.2508e-05 - categorical_accuracy: 1.0000 - val_loss: 0.2038 - val_categorical_accuracy: 0.9776\n",
            "Epoch 160/500\n",
            "234/234 [==============================] - 5s 21ms/step - loss: 6.6393e-05 - categorical_accuracy: 1.0000 - val_loss: 0.2010 - val_categorical_accuracy: 0.9808\n",
            "Epoch 161/500\n",
            "234/234 [==============================] - 7s 30ms/step - loss: 3.7317e-05 - categorical_accuracy: 1.0000 - val_loss: 0.1838 - val_categorical_accuracy: 0.9840\n",
            "Epoch 162/500\n",
            "234/234 [==============================] - 5s 22ms/step - loss: 2.9201e-05 - categorical_accuracy: 1.0000 - val_loss: 0.1855 - val_categorical_accuracy: 0.9840\n",
            "Epoch 163/500\n",
            "234/234 [==============================] - 5s 22ms/step - loss: 2.3299e-05 - categorical_accuracy: 1.0000 - val_loss: 0.1874 - val_categorical_accuracy: 0.9840\n",
            "Epoch 164/500\n",
            "234/234 [==============================] - 7s 31ms/step - loss: 1.8918e-05 - categorical_accuracy: 1.0000 - val_loss: 0.1911 - val_categorical_accuracy: 0.9840\n",
            "Epoch 165/500\n",
            "234/234 [==============================] - 5s 22ms/step - loss: 1.5703e-05 - categorical_accuracy: 1.0000 - val_loss: 0.1934 - val_categorical_accuracy: 0.9840\n",
            "Epoch 166/500\n",
            "234/234 [==============================] - 7s 32ms/step - loss: 1.3124e-05 - categorical_accuracy: 1.0000 - val_loss: 0.1947 - val_categorical_accuracy: 0.9840\n",
            "Epoch 167/500\n",
            "234/234 [==============================] - 7s 29ms/step - loss: 1.0967e-05 - categorical_accuracy: 1.0000 - val_loss: 0.1963 - val_categorical_accuracy: 0.9840\n",
            "Epoch 168/500\n",
            "234/234 [==============================] - 5s 22ms/step - loss: 9.1771e-06 - categorical_accuracy: 1.0000 - val_loss: 0.1984 - val_categorical_accuracy: 0.9840\n",
            "Epoch 169/500\n",
            "234/234 [==============================] - 6s 27ms/step - loss: 7.7759e-06 - categorical_accuracy: 1.0000 - val_loss: 0.2011 - val_categorical_accuracy: 0.9808\n",
            "Epoch 170/500\n",
            "234/234 [==============================] - 6s 25ms/step - loss: 6.3691e-06 - categorical_accuracy: 1.0000 - val_loss: 0.2010 - val_categorical_accuracy: 0.9840\n",
            "Epoch 171/500\n",
            "234/234 [==============================] - 5s 21ms/step - loss: 5.2796e-06 - categorical_accuracy: 1.0000 - val_loss: 0.2021 - val_categorical_accuracy: 0.9840\n",
            "Epoch 172/500\n",
            "234/234 [==============================] - 7s 30ms/step - loss: 4.4365e-06 - categorical_accuracy: 1.0000 - val_loss: 0.2008 - val_categorical_accuracy: 0.9840\n",
            "Epoch 173/500\n",
            "234/234 [==============================] - 5s 21ms/step - loss: 3.6961e-06 - categorical_accuracy: 1.0000 - val_loss: 0.2019 - val_categorical_accuracy: 0.9840\n",
            "Epoch 174/500\n",
            "234/234 [==============================] - 5s 22ms/step - loss: 3.1224e-06 - categorical_accuracy: 1.0000 - val_loss: 0.2058 - val_categorical_accuracy: 0.9840\n",
            "Epoch 175/500\n",
            "234/234 [==============================] - 7s 30ms/step - loss: 2.5761e-06 - categorical_accuracy: 1.0000 - val_loss: 0.2085 - val_categorical_accuracy: 0.9840\n",
            "Epoch 176/500\n",
            "234/234 [==============================] - 5s 21ms/step - loss: 1.8147e-06 - categorical_accuracy: 1.0000 - val_loss: 0.2106 - val_categorical_accuracy: 0.9840\n",
            "Epoch 177/500\n",
            "234/234 [==============================] - 6s 24ms/step - loss: 1.4455e-06 - categorical_accuracy: 1.0000 - val_loss: 0.2093 - val_categorical_accuracy: 0.9840\n",
            "Epoch 178/500\n",
            "234/234 [==============================] - 7s 28ms/step - loss: 1.1684e-06 - categorical_accuracy: 1.0000 - val_loss: 0.2116 - val_categorical_accuracy: 0.9840\n",
            "Epoch 179/500\n",
            "234/234 [==============================] - 5s 21ms/step - loss: 9.8570e-07 - categorical_accuracy: 1.0000 - val_loss: 0.2127 - val_categorical_accuracy: 0.9840\n",
            "Epoch 180/500\n",
            "234/234 [==============================] - 7s 28ms/step - loss: 8.4435e-07 - categorical_accuracy: 1.0000 - val_loss: 0.2158 - val_categorical_accuracy: 0.9840\n",
            "Epoch 181/500\n",
            "234/234 [==============================] - 5s 23ms/step - loss: 7.2286e-07 - categorical_accuracy: 1.0000 - val_loss: 0.2132 - val_categorical_accuracy: 0.9840\n",
            "Epoch 182/500\n",
            "234/234 [==============================] - 5s 22ms/step - loss: 6.3257e-07 - categorical_accuracy: 1.0000 - val_loss: 0.2164 - val_categorical_accuracy: 0.9840\n",
            "Epoch 183/500\n",
            "234/234 [==============================] - 7s 31ms/step - loss: 5.3859e-07 - categorical_accuracy: 1.0000 - val_loss: 0.2182 - val_categorical_accuracy: 0.9840\n",
            "Epoch 184/500\n",
            "234/234 [==============================] - 5s 22ms/step - loss: 4.6956e-07 - categorical_accuracy: 1.0000 - val_loss: 0.2205 - val_categorical_accuracy: 0.9840\n",
            "Epoch 185/500\n",
            "234/234 [==============================] - 5s 23ms/step - loss: 4.0347e-07 - categorical_accuracy: 1.0000 - val_loss: 0.2216 - val_categorical_accuracy: 0.9840\n",
            "Epoch 186/500\n",
            "234/234 [==============================] - 7s 28ms/step - loss: 3.5011e-07 - categorical_accuracy: 1.0000 - val_loss: 0.2190 - val_categorical_accuracy: 0.9840\n",
            "Epoch 187/500\n",
            "234/234 [==============================] - 5s 22ms/step - loss: 3.1063e-07 - categorical_accuracy: 1.0000 - val_loss: 0.2228 - val_categorical_accuracy: 0.9840\n",
            "Epoch 188/500\n",
            "234/234 [==============================] - 6s 26ms/step - loss: 2.7178e-07 - categorical_accuracy: 1.0000 - val_loss: 0.2250 - val_categorical_accuracy: 0.9840\n",
            "Epoch 189/500\n",
            "234/234 [==============================] - 6s 25ms/step - loss: 2.3536e-07 - categorical_accuracy: 1.0000 - val_loss: 0.2278 - val_categorical_accuracy: 0.9840\n",
            "Epoch 190/500\n",
            "234/234 [==============================] - 5s 22ms/step - loss: 1.9944e-07 - categorical_accuracy: 1.0000 - val_loss: 0.2345 - val_categorical_accuracy: 0.9840\n",
            "Epoch 191/500\n",
            "234/234 [==============================] - 7s 30ms/step - loss: 1.7321e-07 - categorical_accuracy: 1.0000 - val_loss: 0.2338 - val_categorical_accuracy: 0.9840\n",
            "Epoch 192/500\n",
            "234/234 [==============================] - 5s 22ms/step - loss: 1.4264e-07 - categorical_accuracy: 1.0000 - val_loss: 0.2367 - val_categorical_accuracy: 0.9840\n",
            "Epoch 193/500\n",
            "234/234 [==============================] - 5s 22ms/step - loss: 1.1857e-07 - categorical_accuracy: 1.0000 - val_loss: 0.2377 - val_categorical_accuracy: 0.9840\n",
            "Epoch 194/500\n",
            "234/234 [==============================] - 7s 30ms/step - loss: 1.0380e-07 - categorical_accuracy: 1.0000 - val_loss: 0.2405 - val_categorical_accuracy: 0.9840\n",
            "Epoch 195/500\n",
            "234/234 [==============================] - 5s 22ms/step - loss: 9.2081e-08 - categorical_accuracy: 1.0000 - val_loss: 0.2435 - val_categorical_accuracy: 0.9840\n",
            "Epoch 196/500\n",
            "234/234 [==============================] - 6s 25ms/step - loss: 0.2291 - categorical_accuracy: 0.9776 - val_loss: 0.5182 - val_categorical_accuracy: 0.8910\n",
            "Epoch 197/500\n",
            "234/234 [==============================] - 6s 26ms/step - loss: 4.8019 - categorical_accuracy: 0.6966 - val_loss: 1.3343 - val_categorical_accuracy: 0.6891\n",
            "Epoch 198/500\n",
            "234/234 [==============================] - 5s 21ms/step - loss: 1.4611 - categorical_accuracy: 0.7479 - val_loss: 1.2277 - val_categorical_accuracy: 0.7660\n",
            "Epoch 199/500\n",
            "234/234 [==============================] - 7s 29ms/step - loss: 0.6970 - categorical_accuracy: 0.8280 - val_loss: 1.4303 - val_categorical_accuracy: 0.7468\n",
            "Epoch 200/500\n",
            "234/234 [==============================] - 5s 22ms/step - loss: 0.3735 - categorical_accuracy: 0.8718 - val_loss: 0.6841 - val_categorical_accuracy: 0.8718\n"
          ]
        }
      ],
      "source": [
        "epoch = 500\n",
        "log_dir = os.path.join('Logs')\n",
        "tb_callback = TensorBoard(log_dir=log_dir)\n",
        "early_stopping_callback_acc = EarlyStopping(monitor = 'val_loss', patience = epoch / 5, mode = 'min', restore_best_weights = True)\n",
        "model_history = model.fit(x = X_train, y = y_train, epochs = 500, shuffle = True, validation_data=[X_val, y_val], batch_size=4, callbacks = [early_stopping_callback_acc])"
      ]
    },
    {
      "cell_type": "code",
      "execution_count": 60,
      "metadata": {
        "colab": {
          "base_uri": "https://localhost:8080/"
        },
        "id": "m0oEBPlmo_4M",
        "outputId": "b28cc151-b2e1-43ab-d3e2-0199fba84166"
      },
      "outputs": [
        {
          "name": "stdout",
          "output_type": "stream",
          "text": [
            "10/10 [==============================] - 0s 23ms/step - loss: 0.1318 - categorical_accuracy: 0.9776\n"
          ]
        },
        {
          "data": {
            "text/plain": [
              "[0.13177159428596497, 0.9775640964508057]"
            ]
          },
          "execution_count": 60,
          "metadata": {},
          "output_type": "execute_result"
        }
      ],
      "source": [
        "# path_weight = './weights_1681109498.3648455.h5'\n",
        "# model = tf.keras.models.load_model(path_weight)\n",
        "model.evaluate(X_test, y_test)"
      ]
    },
    {
      "cell_type": "code",
      "execution_count": 61,
      "metadata": {
        "id": "sajVI17Lo_4N"
      },
      "outputs": [],
      "source": [
        "import time\n",
        "path_weight =f'{DATA_PATH}/weight_rich{time.time()}.h5'\n",
        "model.save(path_weight)"
      ]
    },
    {
      "cell_type": "markdown",
      "metadata": {
        "id": "gTCfc33Vo_4N"
      },
      "source": [
        "# 10. Evaluation using Confusion Matrix and Accuracy"
      ]
    },
    {
      "cell_type": "code",
      "execution_count": 62,
      "metadata": {
        "id": "yNwukd_Fo_4N"
      },
      "outputs": [],
      "source": [
        "import matplotlib.pyplot as plt\n",
        "from sklearn.metrics import multilabel_confusion_matrix, accuracy_score"
      ]
    },
    {
      "cell_type": "code",
      "execution_count": 63,
      "metadata": {
        "id": "0rj-6icKo_4N"
      },
      "outputs": [],
      "source": [
        "def plot_metric(model_training_history, metric_name_1, metric_name_2, plot_name, color_1='blue', color_2='red'):\n",
        "    metric_value_1 = model_training_history.history[metric_name_1]\n",
        "    metric_value_2 = model_training_history.history[metric_name_2]\n",
        "    \n",
        "    epochs = range(len(metric_value_1))\n",
        " \n",
        "    plt.plot(epochs, metric_value_1, color_1, label = metric_name_1)\n",
        "    plt.plot(epochs, metric_value_2, color_2, label = metric_name_2)\n",
        " \n",
        "    plt.title(str(plot_name))\n",
        " \n",
        "    plt.legend()"
      ]
    },
    {
      "cell_type": "code",
      "execution_count": 64,
      "metadata": {
        "colab": {
          "base_uri": "https://localhost:8080/",
          "height": 452
        },
        "id": "Ee1pHSdpo_4N",
        "outputId": "3fcdf205-a2c8-4593-afde-901c8d80d833"
      },
      "outputs": [
        {
          "data": {
            "image/png": "[encoded data removed]",
            "text/plain": [
              "<Figure size 640x480 with 1 Axes>"
            ]
          },
          "metadata": {},
          "output_type": "display_data"
        }
      ],
      "source": [
        "plot_metric(model_history, 'categorical_accuracy', 'val_categorical_accuracy', 'Total Accuracy vs Total Validation Accuracy')"
      ]
    },
    {
      "cell_type": "code",
      "execution_count": 65,
      "metadata": {
        "colab": {
          "base_uri": "https://localhost:8080/",
          "height": 452
        },
        "id": "MqhxBJuPo_4O",
        "outputId": "b3e0af06-438b-4aba-da7f-035fd81b4e4e"
      },
      "outputs": [
        {
          "data": {
            "image/png": "[encoded data removed]",
            "text/plain": [
              "<Figure size 640x480 with 1 Axes>"
            ]
          },
          "metadata": {},
          "output_type": "display_data"
        }
      ],
      "source": [
        "plot_metric(model_history, 'loss', 'val_loss', 'Total Loss vs Total Validation Loss')"
      ]
    },
    {
      "cell_type": "code",
      "execution_count": 36,
      "metadata": {
        "colab": {
          "base_uri": "https://localhost:8080/"
        },
        "id": "v9WY9z6co_4O",
        "outputId": "ffa0f0e6-64fd-4c1f-e616-37367ab3b418"
      },
      "outputs": [
        {
          "name": "stdout",
          "output_type": "stream",
          "text": [
            "10/10 [==============================] - 1s 12ms/step\n"
          ]
        }
      ],
      "source": [
        "model = tf.keras.models.load_model(path_weight)\n",
        "yhat = model.predict(X_test)"
      ]
    },
    {
      "cell_type": "code",
      "execution_count": 37,
      "metadata": {
        "colab": {
          "base_uri": "https://localhost:8080/"
        },
        "id": "_wk2UMcQo_4O",
        "outputId": "5da71049-dc15-44eb-ac07-356fab8cc7fa"
      },
      "outputs": [
        {
          "data": {
            "text/plain": [
              "0.9615384615384616"
            ]
          },
          "execution_count": 37,
          "metadata": {},
          "output_type": "execute_result"
        }
      ],
      "source": [
        "ytrue = np.argmax(y_test, axis=1).tolist()\n",
        "yhat = np.argmax(yhat, axis=1).tolist()\n",
        "accuracy_score(y_true=ytrue, y_pred=yhat)\n"
      ]
    },
    {
      "cell_type": "code",
      "execution_count": 66,
      "metadata": {
        "colab": {
          "base_uri": "https://localhost:8080/",
          "height": 623
        },
        "id": "TnQL5yYuo_4O",
        "outputId": "10b933d8-c378-4059-ae40-13bb3e52b7b7"
      },
      "outputs": [
        {
          "data": {
            "text/plain": [
              "<Axes: >"
            ]
          },
          "execution_count": 66,
          "metadata": {},
          "output_type": "execute_result"
        },
        {
          "data": {
            "image/png": "[encoded data removed]",
            "text/plain": [
              "<Figure size 1000x700 with 2 Axes>"
            ]
          },
          "metadata": {},
          "output_type": "display_data"
        }
      ],
      "source": [
        "from sklearn.metrics import confusion_matrix\n",
        "import pandas as pd\n",
        "import seaborn as sn\n",
        "\n",
        "\n",
        "array = confusion_matrix(ytrue, yhat)\n",
        "df_cm = pd.DataFrame(array, index = [i for i in actions],\n",
        "                  columns = [i for i in actions])\n",
        "plt.figure(figsize = (10,7))\n",
        "sn.heatmap(df_cm, annot=True)"
      ]
    },
    {
      "cell_type": "markdown",
      "metadata": {
        "id": "jidQMxmQo_4O"
      },
      "source": [
        "# 11. Test in Real Time"
      ]
    },
    {
      "cell_type": "code",
      "execution_count": 67,
      "metadata": {
        "id": "Tdu0mGZOo_4P"
      },
      "outputs": [],
      "source": [
        "from scipy import stats\n",
        "import threading\n",
        "from tensorflow.keras.models import Sequential\n",
        "from tensorflow.keras.layers import Dense, Dropout, LSTM\n",
        "from tensorflow.keras.callbacks import TensorBoard\n",
        "from tensorflow.keras.callbacks import EarlyStopping\n",
        "import tensorflow as tf"
      ]
    },
    {
      "cell_type": "code",
      "execution_count": 68,
      "metadata": {
        "id": "nEIyq8lco_4P"
      },
      "outputs": [],
      "source": [
        "colors = [(245,117,16), (117,245,16), (16,117,245)]\n",
        "def prob_viz(res, actions, input_frame, colors):\n",
        "    output_frame = input_frame.copy()\n",
        "    for num, prob in enumerate(res):\n",
        "        cv2.rectangle(output_frame, (0,60+num*40), (int(prob*100), 90+num*40), colors[num%3], -1)\n",
        "        cv2.putText(output_frame, actions[num], (0, 85+num*40), cv2.FONT_HERSHEY_SIMPLEX, 1, (255,255,255), 2, cv2.LINE_AA)\n",
        "    \n",
        "    # for num, prob in enumerate(res[6:]):\n",
        "    #     cv2.rectangle(output_frame, (input_frame.shape[1]-120,60+num*40), (input_frame.shape[1]-120+int(prob*100), 90+num*40), colors[num%3], -1)\n",
        "    #     cv2.putText(output_frame, actions[num+6], (input_frame.shape[1]-120, 85+num*40), cv2.FONT_HERSHEY_SIMPLEX, 1, (255,255,255), 2, cv2.LINE_AA)\n",
        "        \n",
        "    return output_frame"
      ]
    },
    {
      "cell_type": "code",
      "execution_count": 69,
      "metadata": {
        "colab": {
          "base_uri": "https://localhost:8080/",
          "height": 344
        },
        "id": "XxsGX3Qno_4P",
        "outputId": "8d1d4aee-61df-4ca7-c237-51ec178d0c65"
      },
      "outputs": [
        {
          "ename": "OSError",
          "evalue": "ignored",
          "output_type": "error",
          "traceback": [
            "\u001b[0;31m---------------------------------------------------------------------------\u001b[0m",
            "\u001b[0;31mOSError\u001b[0m                                   Traceback (most recent call last)",
            "\u001b[0;32m<ipython-input-69-6d3094a2afbd>\u001b[0m in \u001b[0;36m<cell line: 2>\u001b[0;34m()\u001b[0m\n\u001b[1;32m      1\u001b[0m \u001b[0mpath_weight\u001b[0m \u001b[0;34m=\u001b[0m \u001b[0;34m'./weights_1681109498.3648455.h5'\u001b[0m\u001b[0;34m\u001b[0m\u001b[0;34m\u001b[0m\u001b[0m\n\u001b[0;32m----> 2\u001b[0;31m \u001b[0mmodel\u001b[0m \u001b[0;34m=\u001b[0m \u001b[0mtf\u001b[0m\u001b[0;34m.\u001b[0m\u001b[0mkeras\u001b[0m\u001b[0;34m.\u001b[0m\u001b[0mmodels\u001b[0m\u001b[0;34m.\u001b[0m\u001b[0mload_model\u001b[0m\u001b[0;34m(\u001b[0m\u001b[0mpath_weight\u001b[0m\u001b[0;34m)\u001b[0m\u001b[0;34m\u001b[0m\u001b[0;34m\u001b[0m\u001b[0m\n\u001b[0m",
            "\u001b[0;32m/usr/local/lib/python3.9/dist-packages/keras/saving/saving_api.py\u001b[0m in \u001b[0;36mload_model\u001b[0;34m(filepath, custom_objects, compile, safe_mode, **kwargs)\u001b[0m\n\u001b[1;32m    210\u001b[0m \u001b[0;34m\u001b[0m\u001b[0m\n\u001b[1;32m    211\u001b[0m     \u001b[0;31m# Legacy case.\u001b[0m\u001b[0;34m\u001b[0m\u001b[0;34m\u001b[0m\u001b[0m\n\u001b[0;32m--> 212\u001b[0;31m     return legacy_sm_saving_lib.load_model(\n\u001b[0m\u001b[1;32m    213\u001b[0m         \u001b[0mfilepath\u001b[0m\u001b[0;34m,\u001b[0m \u001b[0mcustom_objects\u001b[0m\u001b[0;34m=\u001b[0m\u001b[0mcustom_objects\u001b[0m\u001b[0;34m,\u001b[0m \u001b[0mcompile\u001b[0m\u001b[0;34m=\u001b[0m\u001b[0mcompile\u001b[0m\u001b[0;34m,\u001b[0m \u001b[0;34m**\u001b[0m\u001b[0mkwargs\u001b[0m\u001b[0;34m\u001b[0m\u001b[0;34m\u001b[0m\u001b[0m\n\u001b[1;32m    214\u001b[0m     )\n",
            "\u001b[0;32m/usr/local/lib/python3.9/dist-packages/keras/utils/traceback_utils.py\u001b[0m in \u001b[0;36merror_handler\u001b[0;34m(*args, **kwargs)\u001b[0m\n\u001b[1;32m     68\u001b[0m             \u001b[0;31m# To get the full stack trace, call:\u001b[0m\u001b[0;34m\u001b[0m\u001b[0;34m\u001b[0m\u001b[0m\n\u001b[1;32m     69\u001b[0m             \u001b[0;31m# `tf.debugging.disable_traceback_filtering()`\u001b[0m\u001b[0;34m\u001b[0m\u001b[0;34m\u001b[0m\u001b[0m\n\u001b[0;32m---> 70\u001b[0;31m             \u001b[0;32mraise\u001b[0m \u001b[0me\u001b[0m\u001b[0;34m.\u001b[0m\u001b[0mwith_traceback\u001b[0m\u001b[0;34m(\u001b[0m\u001b[0mfiltered_tb\u001b[0m\u001b[0;34m)\u001b[0m \u001b[0;32mfrom\u001b[0m \u001b[0;32mNone\u001b[0m\u001b[0;34m\u001b[0m\u001b[0;34m\u001b[0m\u001b[0m\n\u001b[0m\u001b[1;32m     71\u001b[0m         \u001b[0;32mfinally\u001b[0m\u001b[0;34m:\u001b[0m\u001b[0;34m\u001b[0m\u001b[0;34m\u001b[0m\u001b[0m\n\u001b[1;32m     72\u001b[0m             \u001b[0;32mdel\u001b[0m \u001b[0mfiltered_tb\u001b[0m\u001b[0;34m\u001b[0m\u001b[0;34m\u001b[0m\u001b[0m\n",
            "\u001b[0;32m/usr/local/lib/python3.9/dist-packages/keras/saving/legacy/save.py\u001b[0m in \u001b[0;36mload_model\u001b[0;34m(filepath, custom_objects, compile, options)\u001b[0m\n\u001b[1;32m    228\u001b[0m                     \u001b[0;32mif\u001b[0m \u001b[0misinstance\u001b[0m\u001b[0;34m(\u001b[0m\u001b[0mfilepath_str\u001b[0m\u001b[0;34m,\u001b[0m \u001b[0mstr\u001b[0m\u001b[0;34m)\u001b[0m\u001b[0;34m:\u001b[0m\u001b[0;34m\u001b[0m\u001b[0;34m\u001b[0m\u001b[0m\n\u001b[1;32m    229\u001b[0m                         \u001b[0;32mif\u001b[0m \u001b[0;32mnot\u001b[0m \u001b[0mtf\u001b[0m\u001b[0;34m.\u001b[0m\u001b[0mio\u001b[0m\u001b[0;34m.\u001b[0m\u001b[0mgfile\u001b[0m\u001b[0;34m.\u001b[0m\u001b[0mexists\u001b[0m\u001b[0;34m(\u001b[0m\u001b[0mfilepath_str\u001b[0m\u001b[0;34m)\u001b[0m\u001b[0;34m:\u001b[0m\u001b[0;34m\u001b[0m\u001b[0;34m\u001b[0m\u001b[0m\n\u001b[0;32m--> 230\u001b[0;31m                             raise IOError(\n\u001b[0m\u001b[1;32m    231\u001b[0m                                 \u001b[0;34mf\"No file or directory found at {filepath_str}\"\u001b[0m\u001b[0;34m\u001b[0m\u001b[0;34m\u001b[0m\u001b[0m\n\u001b[1;32m    232\u001b[0m                             )\n",
            "\u001b[0;31mOSError\u001b[0m: No file or directory found at ./weights_1681109498.3648455.h5"
          ]
        }
      ],
      "source": [
        "# path_weight = './weights_1681109498.3648455.h5'\n",
        "model = tf.keras.models.load_model(path_weight)"
      ]
    },
    {
      "cell_type": "code",
      "execution_count": null,
      "metadata": {
        "id": "-w84kUTro_4P"
      },
      "outputs": [],
      "source": [
        "# 1. New detection variables\n",
        "sequence = []\n",
        "sentence = []\n",
        "predictions = []\n",
        "threshold = 0.5\n",
        "\n",
        "cap = cv2.VideoCapture(0)\n",
        "# Set mediapipe model \n",
        "with mp_holistic.Holistic(min_detection_confidence=0.5, min_tracking_confidence=0.5) as holistic:\n",
        "    while cap.isOpened():\n",
        "\n",
        "        # Read feed\n",
        "        ret, frame = cap.read()\n",
        "\n",
        "        # Make detections\n",
        "        image, results = mediapipe_detection(frame, holistic)\n",
        "        print(results)\n",
        "        \n",
        "        # Draw landmarks\n",
        "        draw_styled_landmarks(image, results)\n",
        "        \n",
        "        # 2. Prediction logic\n",
        "        keypoints = extract_keypoints(results)\n",
        "        sequence.append(keypoints)\n",
        "        sequence = sequence[-sequence_length:]\n",
        "        \n",
        "        if len(sequence) == sequence_length:\n",
        "            res = model.predict(np.expand_dims(sequence, axis=0))[0]\n",
        "            print(actions[np.argmax(res)])\n",
        "            predictions.append(np.argmax(res))\n",
        "            \n",
        "            \n",
        "        #3. Viz logic\n",
        "            if np.unique(predictions[-10:])[0]==np.argmax(res): \n",
        "                if res[np.argmax(res)] > threshold: \n",
        "                    \n",
        "                    if len(sentence) > 0: \n",
        "                        if actions[np.argmax(res)] != sentence[-1]:\n",
        "                            sentence.append(actions[np.argmax(res)])\n",
        "                    else:\n",
        "                        sentence.append(actions[np.argmax(res)])\n",
        "                        sequence = []\n",
        "\n",
        "\n",
        "            if len(sentence) > 5: \n",
        "                sentence = sentence[-5:]\n",
        "\n",
        "            # Viz probabilities\n",
        "            image = prob_viz(res, actions, image, colors)\n",
        "            \n",
        "        cv2.rectangle(image, (0,0), (640, 40), (245, 117, 16), -1)\n",
        "        cv2.putText(image, ' '.join(sentence), (3,20), \n",
        "                       cv2.FONT_HERSHEY_SIMPLEX, 1, (255, 255, 255), 2, cv2.LINE_AA)\n",
        "        \n",
        "        # Show to screen\n",
        "        cv2.imshow('OpenCV Feed', image)\n",
        "\n",
        "        # Break gracefully\n",
        "        if cv2.waitKey(10) & 0xFF == ord('q'):\n",
        "            break\n",
        "    cap.release()\n",
        "    cv2.destroyAllWindows()"
      ]
    },
    {
      "cell_type": "code",
      "execution_count": null,
      "metadata": {
        "id": "M1XHabByo_4Q"
      },
      "outputs": [],
      "source": [
        "cap.release()\n",
        "cv2.destroyAllWindows()"
      ]
    },
    {
      "cell_type": "code",
      "execution_count": null,
      "metadata": {
        "id": "b_SkFWxGo_4Q"
      },
      "outputs": [],
      "source": []
    },
    {
      "cell_type": "code",
      "execution_count": null,
      "metadata": {
        "id": "8-FlZTAYo_4Q"
      },
      "outputs": [],
      "source": []
    }
  ],
  "metadata": {
    "accelerator": "GPU",
    "colab": {
      "provenance": []
    },
    "gpuClass": "standard",
    "kernelspec": {
      "display_name": "Python 3",
      "language": "python",
      "name": "python3"
    },
    "language_info": {
      "codemirror_mode": {
        "name": "ipython",
        "version": 3
      },
      "file_extension": ".py",
      "mimetype": "text/x-python",
      "name": "python",
      "nbconvert_exporter": "python",
      "pygments_lexer": "ipython3",
      "version": "3.7.6"
    },
    "vscode": {
      "interpreter": {
        "hash": "916dbcbb3f70747c44a77c7bcd40155683ae19c65e1c03b4aa3499c5328201f1"
      }
    }
  },
  "nbformat": 4,
  "nbformat_minor": 0
}
