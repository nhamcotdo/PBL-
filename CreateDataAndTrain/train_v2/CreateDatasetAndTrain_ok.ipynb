{
  "cells": [
    {
      "cell_type": "code",
      "execution_count": 2,
      "metadata": {
        "colab": {
          "base_uri": "https://localhost:8080/"
        },
        "id": "LZqZOwTpo_3z",
        "outputId": "0cfc45c2-1a92-4777-fe39-0c650fd53c27"
      },
      "outputs": [
        {
          "name": "stdout",
          "output_type": "stream",
          "text": [
            "Looking in indexes: https://pypi.org/simple, https://us-python.pkg.dev/colab-wheels/public/simple/\n",
            "Collecting mediapipe\n",
            "  Downloading mediapipe-0.9.3.0-cp39-cp39-manylinux_2_17_x86_64.manylinux2014_x86_64.whl (33.9 MB)\n",
            "\u001b[2K     \u001b[90m━━━━━━━━━━━━━━━━━━━━━━━━━━━━━━━━━━━━━━━━\u001b[0m \u001b[32m33.9/33.9 MB\u001b[0m \u001b[31m12.1 MB/s\u001b[0m eta \u001b[36m0:00:00\u001b[0m\n",
            "\u001b[?25hRequirement already satisfied: attrs>=19.1.0 in /usr/local/lib/python3.9/dist-packages (from mediapipe) (23.1.0)\n",
            "Requirement already satisfied: numpy in /usr/local/lib/python3.9/dist-packages (from mediapipe) (1.22.4)\n",
            "Requirement already satisfied: opencv-contrib-python in /usr/local/lib/python3.9/dist-packages (from mediapipe) (4.7.0.72)\n",
            "Requirement already satisfied: flatbuffers>=2.0 in /usr/local/lib/python3.9/dist-packages (from mediapipe) (23.3.3)\n",
            "Requirement already satisfied: absl-py in /usr/local/lib/python3.9/dist-packages (from mediapipe) (1.4.0)\n",
            "Requirement already satisfied: matplotlib in /usr/local/lib/python3.9/dist-packages (from mediapipe) (3.7.1)\n",
            "Requirement already satisfied: protobuf<4,>=3.11 in /usr/local/lib/python3.9/dist-packages (from mediapipe) (3.20.3)\n",
            "Collecting sounddevice>=0.4.4\n",
            "  Downloading sounddevice-0.4.6-py3-none-any.whl (31 kB)\n",
            "Requirement already satisfied: CFFI>=1.0 in /usr/local/lib/python3.9/dist-packages (from sounddevice>=0.4.4->mediapipe) (1.15.1)\n",
            "Requirement already satisfied: importlib-resources>=3.2.0 in /usr/local/lib/python3.9/dist-packages (from matplotlib->mediapipe) (5.12.0)\n",
            "Requirement already satisfied: kiwisolver>=1.0.1 in /usr/local/lib/python3.9/dist-packages (from matplotlib->mediapipe) (1.4.4)\n",
            "Requirement already satisfied: fonttools>=4.22.0 in /usr/local/lib/python3.9/dist-packages (from matplotlib->mediapipe) (4.39.3)\n",
            "Requirement already satisfied: cycler>=0.10 in /usr/local/lib/python3.9/dist-packages (from matplotlib->mediapipe) (0.11.0)\n",
            "Requirement already satisfied: contourpy>=1.0.1 in /usr/local/lib/python3.9/dist-packages (from matplotlib->mediapipe) (1.0.7)\n",
            "Requirement already satisfied: packaging>=20.0 in /usr/local/lib/python3.9/dist-packages (from matplotlib->mediapipe) (23.1)\n",
            "Requirement already satisfied: pyparsing>=2.3.1 in /usr/local/lib/python3.9/dist-packages (from matplotlib->mediapipe) (3.0.9)\n",
            "Requirement already satisfied: python-dateutil>=2.7 in /usr/local/lib/python3.9/dist-packages (from matplotlib->mediapipe) (2.8.2)\n",
            "Requirement already satisfied: pillow>=6.2.0 in /usr/local/lib/python3.9/dist-packages (from matplotlib->mediapipe) (8.4.0)\n",
            "Requirement already satisfied: pycparser in /usr/local/lib/python3.9/dist-packages (from CFFI>=1.0->sounddevice>=0.4.4->mediapipe) (2.21)\n",
            "Requirement already satisfied: zipp>=3.1.0 in /usr/local/lib/python3.9/dist-packages (from importlib-resources>=3.2.0->matplotlib->mediapipe) (3.15.0)\n",
            "Requirement already satisfied: six>=1.5 in /usr/local/lib/python3.9/dist-packages (from python-dateutil>=2.7->matplotlib->mediapipe) (1.16.0)\n",
            "Installing collected packages: sounddevice, mediapipe\n",
            "Successfully installed mediapipe-0.9.3.0 sounddevice-0.4.6\n",
            "Looking in indexes: https://pypi.org/simple, https://us-python.pkg.dev/colab-wheels/public/simple/\n",
            "Requirement already satisfied: pandas in /usr/local/lib/python3.9/dist-packages (1.5.3)\n",
            "Requirement already satisfied: pytz>=2020.1 in /usr/local/lib/python3.9/dist-packages (from pandas) (2022.7.1)\n",
            "Requirement already satisfied: numpy>=1.20.3 in /usr/local/lib/python3.9/dist-packages (from pandas) (1.22.4)\n",
            "Requirement already satisfied: python-dateutil>=2.8.1 in /usr/local/lib/python3.9/dist-packages (from pandas) (2.8.2)\n",
            "Requirement already satisfied: six>=1.5 in /usr/local/lib/python3.9/dist-packages (from python-dateutil>=2.8.1->pandas) (1.16.0)\n",
            "Looking in indexes: https://pypi.org/simple, https://us-python.pkg.dev/colab-wheels/public/simple/\n",
            "Requirement already satisfied: numpy in /usr/local/lib/python3.9/dist-packages (1.22.4)\n",
            "Looking in indexes: https://pypi.org/simple, https://us-python.pkg.dev/colab-wheels/public/simple/\n",
            "Requirement already satisfied: pydot in /usr/local/lib/python3.9/dist-packages (1.4.2)\n",
            "Requirement already satisfied: pyparsing>=2.1.4 in /usr/local/lib/python3.9/dist-packages (from pydot) (3.0.9)\n"
          ]
        }
      ],
      "source": [
        "# Nếu chưa có thư viện thì run cell này\n",
        "!pip install mediapipe\n",
        "!pip install pandas\n",
        "!pip install numpy\n",
        "!pip install pydot"
      ]
    },
    {
      "cell_type": "code",
      "execution_count": 8,
      "metadata": {
        "colab": {
          "base_uri": "https://localhost:8080/"
        },
        "id": "x2QfIyJGpum8",
        "outputId": "9825ea3b-217b-40b2-aa37-e06f26c3623d"
      },
      "outputs": [
        {
          "name": "stdout",
          "output_type": "stream",
          "text": [
            "Mounted at /content/drive\n"
          ]
        }
      ],
      "source": [
        "from google.colab import drive\n",
        "drive.mount('/content/drive')"
      ]
    },
    {
      "attachments": {},
      "cell_type": "markdown",
      "metadata": {
        "id": "dDV1tdTdo_33"
      },
      "source": [
        "# 1. Import and Install Dependencies"
      ]
    },
    {
      "cell_type": "code",
      "execution_count": null,
      "metadata": {
        "id": "Kh3UZtVDo_34"
      },
      "outputs": [],
      "source": [
        "import cv2\n",
        "import numpy as np\n",
        "import os\n",
        "from matplotlib import pyplot as plt\n",
        "import time\n",
        "import mediapipe as mp"
      ]
    },
    {
      "attachments": {},
      "cell_type": "markdown",
      "metadata": {
        "id": "uEwTOLbeo_34"
      },
      "source": [
        "# 2. Keypoints using MP Holistic"
      ]
    },
    {
      "cell_type": "code",
      "execution_count": null,
      "metadata": {
        "id": "qGD_26t3o_35"
      },
      "outputs": [],
      "source": [
        "mp_holistic = mp.solutions.holistic # Holistic model\n",
        "mp_drawing = mp.solutions.drawing_utils # Drawing utilities"
      ]
    },
    {
      "cell_type": "code",
      "execution_count": null,
      "metadata": {
        "id": "nsZDwD_ko_35"
      },
      "outputs": [],
      "source": [
        "def mediapipe_detection(image, model):\n",
        "    image = cv2.cvtColor(image, cv2.COLOR_BGR2RGB) # COLOR CONVERSION BGR 2 RGB\n",
        "    image.flags.writeable = False                  # Image is no longer writeable\n",
        "    results = model.process(image)                 # Make prediction\n",
        "    image.flags.writeable = True                   # Image is now writeable \n",
        "    image = cv2.cvtColor(image, cv2.COLOR_RGB2BGR) # COLOR COVERSION RGB 2 BGR\n",
        "    return image, results"
      ]
    },
    {
      "cell_type": "code",
      "execution_count": null,
      "metadata": {
        "id": "0RCg1KzIo_36"
      },
      "outputs": [],
      "source": [
        "def draw_landmarks(image, results):\n",
        "    mp_drawing.draw_landmarks(image, results.pose_landmarks, mp_holistic.POSE_CONNECTIONS) # Draw pose connections\n",
        "    mp_drawing.draw_landmarks(image, results.left_hand_landmarks, mp_holistic.HAND_CONNECTIONS) # Draw left hand connections\n",
        "    mp_drawing.draw_landmarks(image, results.right_hand_landmarks, mp_holistic.HAND_CONNECTIONS) # Draw right hand connections"
      ]
    },
    {
      "cell_type": "code",
      "execution_count": null,
      "metadata": {
        "id": "Wz4ur5U3o_36"
      },
      "outputs": [],
      "source": [
        "def draw_styled_landmarks(image, results):\n",
        "    # Draw pose connections\n",
        "    mp_drawing.draw_landmarks(image, results.pose_landmarks, mp_holistic.POSE_CONNECTIONS,\n",
        "                             mp_drawing.DrawingSpec(color=(80,22,10), thickness=2, circle_radius=4), \n",
        "                             mp_drawing.DrawingSpec(color=(80,44,121), thickness=2, circle_radius=2)\n",
        "                             ) \n",
        "    # Draw left hand connections\n",
        "    mp_drawing.draw_landmarks(image, results.left_hand_landmarks, mp_holistic.HAND_CONNECTIONS, \n",
        "                             mp_drawing.DrawingSpec(color=(121,22,76), thickness=2, circle_radius=4), \n",
        "                             mp_drawing.DrawingSpec(color=(121,44,250), thickness=2, circle_radius=2)\n",
        "                             ) \n",
        "    # Draw right hand connections  \n",
        "    mp_drawing.draw_landmarks(image, results.right_hand_landmarks, mp_holistic.HAND_CONNECTIONS, \n",
        "                             mp_drawing.DrawingSpec(color=(245,117,66), thickness=2, circle_radius=4), \n",
        "                             mp_drawing.DrawingSpec(color=(245,66,230), thickness=2, circle_radius=2)\n",
        "                             ) "
      ]
    },
    {
      "cell_type": "code",
      "execution_count": null,
      "metadata": {
        "id": "MtCQ32fzo_3-"
      },
      "outputs": [],
      "source": [
        "# cap = cv2.VideoCapture(0)\n",
        "# # Set mediapipe model \n",
        "# with mp_holistic.Holistic(min_detection_confidence=0.5, min_tracking_confidence=0.5) as holistic:\n",
        "#     while cap.isOpened():\n",
        "\n",
        "#         # Read feed\n",
        "#         ret, frame = cap.read()\n",
        "\n",
        "#         # Make detections\n",
        "#         image, results = mediapipe_detection(frame, holistic)\n",
        "#         print(results)\n",
        "        \n",
        "#         # Draw landmarks\n",
        "#         draw_styled_landmarks(image, results)\n",
        "\n",
        "#         # Show to screen\n",
        "#         cv2.imshow('OpenCV Feed', image)\n",
        "\n",
        "#         # Break gracefully\n",
        "#         if cv2.waitKey(10) & 0xFF == ord('q'):\n",
        "#             break\n",
        "#     cap.release()\n",
        "#     cv2.destroyAllWindows()"
      ]
    },
    {
      "attachments": {},
      "cell_type": "markdown",
      "metadata": {
        "id": "vVcxCZbto_3-"
      },
      "source": [
        "# 3. Setup Folders for Collection"
      ]
    },
    {
      "cell_type": "code",
      "execution_count": null,
      "metadata": {
        "id": "RtysfZFfo_3_"
      },
      "outputs": [],
      "source": [
        "# Path for exported data, numpy arrays\n",
        "# DATA_PATH = os.path.join('./Data')\n",
        "DATA_PATH = os.path.join('./drive/MyDrive/PBL5/Data/')\n",
        "\n",
        "# Actions that we try to detect\n",
        "actions = np.array(\n",
        "    ['Bye', 'Fine', 'Good', 'Hello', 'I', 'You', 'Love', 'None']\n",
        "    )\n",
        "\n",
        "# Path for exported data, numpy arrays\n",
        "# DATASET_PATH = os.path.join('./Data')\n",
        "\n"
      ]
    },
    {
      "attachments": {},
      "cell_type": "markdown",
      "metadata": {
        "id": "BTSjYUp6o_4A"
      },
      "source": [
        "# 4. Extract Keypoint Values"
      ]
    },
    {
      "cell_type": "code",
      "execution_count": null,
      "metadata": {
        "id": "XFmAHFpQo_4A"
      },
      "outputs": [],
      "source": [
        "list_num_frames  = []\n",
        "for class_index, class_name in enumerate(actions):\n",
        "    files_list = os.listdir(os.path.join(DATA_PATH, class_name))\n",
        "    # Iterate through all the files present in the files list.\n",
        "    for file_name in files_list:\n",
        "        # print(file_name)\n",
        "        # Get the complete video path.\n",
        "        video_file_path = os.path.join(\n",
        "            DATA_PATH, class_name, file_name)\n",
        "        cap = cv2.VideoCapture(video_file_path)\n",
        "        num_frames = 0\n",
        "        while True:\n",
        "            num_frames += 1\n",
        "            rt, f = cap.read()\n",
        "            if not rt:\n",
        "                break\n",
        "        list_num_frames.append(num_frames)\n",
        "        cap.release()\n"
      ]
    },
    {
      "cell_type": "code",
      "execution_count": null,
      "metadata": {
        "colab": {
          "base_uri": "https://localhost:8080/",
          "height": 474
        },
        "id": "rZwwSGuwo_4B",
        "outputId": "df035c7c-274c-4356-83a6-10fe2ced9889"
      },
      "outputs": [
        {
          "data": {
            "text/plain": [
              "Text(0.5, 1.0, 'SỐ LƯỢNG FRAME MỖI HÀNH ĐỘNG')"
            ]
          },
          "execution_count": 19,
          "metadata": {},
          "output_type": "execute_result"
        },
        {
          "data": {
            "image/png": "[encoded data removed]",
            "text/plain": [
              "<Figure size 640x480 with 1 Axes>"
            ]
          },
          "metadata": {},
          "output_type": "display_data"
        }
      ],
      "source": [
        "plt.hist(list_num_frames, bins=len(set(list_num_frames)))\n",
        "plt.title('SỐ LƯỢNG FRAME MỖI HÀNH ĐỘNG')"
      ]
    },
    {
      "cell_type": "code",
      "execution_count": null,
      "metadata": {
        "id": "JALRkJdxo_4C"
      },
      "outputs": [],
      "source": [
        "sequence_length = 10"
      ]
    },
    {
      "cell_type": "code",
      "execution_count": null,
      "metadata": {
        "id": "SxVlt1Qlo_4D"
      },
      "outputs": [],
      "source": [
        "def extract_keypoints(results):\n",
        "    pose = np.array([[res.x, res.y, res.z, res.visibility] for res in results.pose_landmarks.landmark]).flatten() if results.pose_landmarks else np.zeros(33*4)\n",
        "    lh = np.array([[res.x, res.y, res.z, res.visibility] for res in results.left_hand_landmarks.landmark]).flatten() if results.left_hand_landmarks else np.zeros(21*4)\n",
        "    rh = np.array([[res.x, res.y, res.z, res.visibility] for res in results.right_hand_landmarks.landmark]).flatten() if results.right_hand_landmarks else np.zeros(21*4)\n",
        "    return np.concatenate([pose, lh, rh])"
      ]
    },
    {
      "cell_type": "code",
      "execution_count": null,
      "metadata": {
        "id": "B0hJqPrlo_4D"
      },
      "outputs": [],
      "source": [
        "def rotate_image(image, angle):\n",
        "    image_center = tuple(np.array(image.shape[1::-1]) / 2)\n",
        "    rot_mat = cv2.getRotationMatrix2D(image_center, angle, 1.0)\n",
        "    result = cv2.warpAffine(image, rot_mat, image.shape[1::-1], flags=cv2.INTER_LINEAR)\n",
        "    return result"
      ]
    },
    {
      "cell_type": "code",
      "execution_count": null,
      "metadata": {
        "id": "NLmRPeFYo_4D"
      },
      "outputs": [],
      "source": [
        "def frames_extraction(video_path, rev=False, angle=0):\n",
        "    video_reader = cv2.VideoCapture(video_path)\n",
        "    video_frames_count = 0\n",
        "    s, f = video_reader.read()\n",
        "    while s:\n",
        "        s, f = video_reader.read()\n",
        "        video_frames_count += 1\n",
        "    video_reader.release()\n",
        "\n",
        "    if video_frames_count < sequence_length:\n",
        "        return []\n",
        "    \n",
        "    skip_frames_window = max(int(video_frames_count/sequence_length), 1)\n",
        "\n",
        "    # Danh sách chứa các frame sẽ lấy\n",
        "    video_keypoints = []\n",
        "\n",
        "    cap = cv2.VideoCapture(video_path)\n",
        "    with mp_holistic.Holistic(min_detection_confidence=0.5, min_tracking_confidence=0.5) as holistic:\n",
        "        for frame_counter in range(sequence_length):\n",
        "            cap.set(cv2.CAP_PROP_POS_FRAMES,\n",
        "                    frame_counter * skip_frames_window)\n",
        "            \n",
        "            ret, frame = cap.read()\n",
        "            if rev:\n",
        "                frame = cv2.flip(frame, 1)\n",
        "            if angle:\n",
        "                frame = rotate_image(frame, angle=angle)\n",
        "\n",
        "            if not ret:\n",
        "                # cap = cv2.VideoCapture(video_path)\n",
        "                print('eror')\n",
        "                continue\n",
        "                # break\n",
        "\n",
        "            image, results = mediapipe_detection(frame, holistic)\n",
        "            draw_styled_landmarks(image, results)   \n",
        "\n",
        "            keypoints = extract_keypoints(results)\n",
        "            video_keypoints.append(keypoints)\n",
        "            # cv2.imshow('OpenCV Feed', cv2.flip(image, 1))\n",
        "            if cv2.waitKey(1) == ord('e'):\n",
        "                return\n",
        "\n",
        "    return video_keypoints\n"
      ]
    },
    {
      "cell_type": "code",
      "execution_count": null,
      "metadata": {
        "id": "QsKtoOZuo_4E"
      },
      "outputs": [],
      "source": [
        "rs = frames_extraction('./Data/2023-04-09 13_04_06.avi', True)\n",
        "cv2.destroyAllWindows()\n"
      ]
    },
    {
      "cell_type": "code",
      "execution_count": null,
      "metadata": {
        "colab": {
          "base_uri": "https://localhost:8080/"
        },
        "id": "tqGWUDVjo_4F",
        "outputId": "3b225ddc-21a9-497a-889f-b355e9e04c60"
      },
      "outputs": [
        {
          "data": {
            "text/plain": [
              "(0,)"
            ]
          },
          "execution_count": 25,
          "metadata": {},
          "output_type": "execute_result"
        }
      ],
      "source": [
        "np.shape(rs)"
      ]
    },
    {
      "attachments": {},
      "cell_type": "markdown",
      "metadata": {
        "id": "Hf6CZNUbo_4F"
      },
      "source": [
        "# 5. Collect Keypoint Values for Training and Testing"
      ]
    },
    {
      "cell_type": "code",
      "execution_count": null,
      "metadata": {
        "id": "-7-Uwp3-o_4G"
      },
      "outputs": [],
      "source": [
        "def create_dataset():\n",
        "    features = []\n",
        "    labels = []\n",
        "\n",
        "    for class_index, class_name in enumerate(actions):\n",
        "        print(f'Extracting Data of Class: {class_name}')\n",
        "\n",
        "        files_list = os.listdir(os.path.join(DATA_PATH, class_name))\n",
        "\n",
        "        # Iterate through all the files present in the files list.\n",
        "        for file_name in files_list:\n",
        "            # print(file_name)\n",
        "            try:\n",
        "                video_file_path = os.path.join(\n",
        "                    DATA_PATH, class_name, file_name)\n",
        "\n",
        "                video_keypoints = frames_extraction(video_file_path)\n",
        "                if len(video_keypoints) == sequence_length:\n",
        "                    features.append(video_keypoints)\n",
        "                    labels.append(class_index)\n",
        "\n",
        "                # flip\n",
        "                video_keypoints = frames_extraction(video_file_path, True)\n",
        "                if len(video_keypoints) == sequence_length:\n",
        "                    features.append(video_keypoints)\n",
        "                    labels.append(class_index)\n",
        "                \n",
        "                \n",
        "                # random rotate\n",
        "                video_keypoints = frames_extraction(video_file_path, True, np.random.randint(10, 30))\n",
        "                if len(video_keypoints) == sequence_length:\n",
        "                    features.append(video_keypoints)\n",
        "                    labels.append(class_index)\n",
        "                \n",
        "                video_keypoints = frames_extraction(video_file_path, True, np.random.randint(-30, -10))\n",
        "                if len(video_keypoints) == sequence_length:\n",
        "                    features.append(video_keypoints)\n",
        "                    labels.append(class_index)\n",
        "                \n",
        "            except:\n",
        "                continue\n",
        "\n",
        "        cv2.destroyAllWindows()\n",
        "\n",
        "\n",
        "    features = np.asarray(features)\n",
        "    labels = np.array(labels)\n",
        "\n",
        "    return features, labels\n"
      ]
    },
    {
      "cell_type": "code",
      "execution_count": null,
      "metadata": {
        "colab": {
          "base_uri": "https://localhost:8080/",
          "height": 507
        },
        "id": "_NETHIgXo_4G",
        "outputId": "0b3c50fd-cce9-48c7-84f9-3e2957a3b9af"
      },
      "outputs": [],
      "source": [
        "features, labels = create_dataset()\n",
        "\n"
      ]
    },
    {
      "cell_type": "code",
      "execution_count": null,
      "metadata": {
        "id": "C5ky1CtY1Y-h"
      },
      "outputs": [],
      "source": [
        "np.savez_compressed(f'{DATA_PATH}/data_rich.npz', features=features, labels=labels)"
      ]
    },
    {
      "attachments": {},
      "cell_type": "markdown",
      "metadata": {
        "id": "hD-05nsao_4G"
      },
      "source": [
        "# 6. Preprocess Data and Create Labels and Features"
      ]
    },
    {
      "cell_type": "code",
      "execution_count": 3,
      "metadata": {
        "id": "pJmOqwfbo_4H"
      },
      "outputs": [],
      "source": [
        "from sklearn.model_selection import train_test_split\n",
        "from tensorflow.keras.utils import to_categorical\n",
        "from sklearn.model_selection import StratifiedShuffleSplit\n",
        "import cv2\n",
        "import numpy as np\n",
        "import os\n",
        "from matplotlib import pyplot as plt\n",
        "import time\n",
        "import mediapipe as mp\n"
      ]
    },
    {
      "cell_type": "code",
      "execution_count": 4,
      "metadata": {
        "id": "plAGkLtVcNr6"
      },
      "outputs": [],
      "source": [
        "# Path for exported data, numpy arrays\n",
        "# DATA_PATH = os.path.join('./Data')\n",
        "DATA_PATH = os.path.join('./drive/MyDrive/PBL5/Data/')\n",
        "\n",
        "# Actions that we try to detect\n",
        "actions = np.array(\n",
        "    ['Bye', 'Fine', 'Good', 'Hello', 'I', 'You', 'Love', 'None']\n",
        "    )\n",
        "sequence_length = 10\n",
        "# Path for exported data, numpy arrays\n",
        "# DATASET_PATH = os.path.join('./Data')"
      ]
    },
    {
      "cell_type": "code",
      "execution_count": 5,
      "metadata": {
        "colab": {
          "base_uri": "https://localhost:8080/"
        },
        "id": "iFwuV7e1o_4H",
        "outputId": "dc833514-b7b1-4880-fe08-78009657e840"
      },
      "outputs": [
        {
          "data": {
            "text/plain": [
              "{'Bye': 0,\n",
              " 'Fine': 1,\n",
              " 'Good': 2,\n",
              " 'Hello': 3,\n",
              " 'I': 4,\n",
              " 'You': 5,\n",
              " 'Love': 6,\n",
              " 'None': 7}"
            ]
          },
          "execution_count": 5,
          "metadata": {},
          "output_type": "execute_result"
        }
      ],
      "source": [
        "actions = np.array(\n",
        "    ['Bye', 'Fine', 'Good', 'Hello', 'I', 'You', 'Love', 'None']\n",
        "    )\n",
        "label_map = {label:num for num, label in enumerate(actions)}\n",
        "label_map"
      ]
    },
    {
      "cell_type": "code",
      "execution_count": 9,
      "metadata": {
        "id": "BKQ0DtV7o_4I"
      },
      "outputs": [],
      "source": [
        "data = np.load(f'{DATA_PATH}/data_rich.npz')\n",
        "X = data['features']\n",
        "labels = data['labels']"
      ]
    },
    {
      "cell_type": "code",
      "execution_count": 11,
      "metadata": {
        "colab": {
          "base_uri": "https://localhost:8080/"
        },
        "id": "uQGBWskxo_4I",
        "outputId": "6e03d7e1-1bbb-4503-f808-63433a154a0f"
      },
      "outputs": [
        {
          "data": {
            "text/plain": [
              "(1560, 10, 300)"
            ]
          },
          "execution_count": 11,
          "metadata": {},
          "output_type": "execute_result"
        }
      ],
      "source": [
        "X.shape"
      ]
    },
    {
      "cell_type": "code",
      "execution_count": 12,
      "metadata": {
        "id": "mwSYLmBPo_4I"
      },
      "outputs": [],
      "source": [
        "y = to_categorical(labels).astype(int)"
      ]
    },
    {
      "cell_type": "code",
      "execution_count": 13,
      "metadata": {
        "colab": {
          "base_uri": "https://localhost:8080/"
        },
        "id": "c1vtq8IVo_4J",
        "outputId": "338b1de7-fbf0-4596-f794-9e6531a86b2b"
      },
      "outputs": [
        {
          "data": {
            "text/plain": [
              "(1560, 8)"
            ]
          },
          "execution_count": 13,
          "metadata": {},
          "output_type": "execute_result"
        }
      ],
      "source": [
        "y.shape"
      ]
    },
    {
      "cell_type": "code",
      "execution_count": 14,
      "metadata": {
        "colab": {
          "base_uri": "https://localhost:8080/",
          "height": 485
        },
        "id": "cZav1-R9o_4J",
        "outputId": "5419f58d-6112-410d-9b18-32c422f75887"
      },
      "outputs": [
        {
          "data": {
            "text/plain": [
              "(array([32., 31., 40., 38., 42., 42., 45., 42.]),\n",
              " array([0.   , 0.875, 1.75 , 2.625, 3.5  , 4.375, 5.25 , 6.125, 7.   ]),\n",
              " <BarContainer object of 8 artists>)"
            ]
          },
          "execution_count": 14,
          "metadata": {},
          "output_type": "execute_result"
        },
        {
          "data": {
            "image/png": "[encoded data removed]",
            "text/plain": [
              "<Figure size 640x480 with 1 Axes>"
            ]
          },
          "metadata": {},
          "output_type": "display_data"
        }
      ],
      "source": [
        "from sklearn.model_selection import StratifiedShuffleSplit\n",
        "\n",
        "# Define the splitter\n",
        "splitter = StratifiedShuffleSplit(n_splits=1, test_size=0.2, random_state=42)\n",
        "\n",
        "# Get the indices for splitting\n",
        "train_idx, test_idx = next(splitter.split(X, y))\n",
        "\n",
        "# Split the data into train and test sets\n",
        "X_train_val = X[train_idx]\n",
        "X_test = X[test_idx]\n",
        "y_train_val = y[train_idx]\n",
        "y_test = y[test_idx]\n",
        "plt.hist(np.argmax(y_train_val, 1), bins=8, label=label_map)\n",
        "plt.hist(np.argmax(y_test, 1), bins=8, label=label_map)"
      ]
    },
    {
      "cell_type": "code",
      "execution_count": 15,
      "metadata": {
        "colab": {
          "base_uri": "https://localhost:8080/",
          "height": 488
        },
        "id": "72Tf08HTo_4K",
        "outputId": "53cf360f-b760-431d-b8e8-e18c90fe5a1d"
      },
      "outputs": [
        {
          "data": {
            "text/plain": [
              "(array([32., 31., 40., 37., 43., 43., 45., 41.]),\n",
              " array([0.   , 0.875, 1.75 , 2.625, 3.5  , 4.375, 5.25 , 6.125, 7.   ]),\n",
              " <BarContainer object of 8 artists>)"
            ]
          },
          "execution_count": 15,
          "metadata": {},
          "output_type": "execute_result"
        },
        {
          "data": {
            "image/png": "[encoded data removed]",
            "text/plain": [
              "<Figure size 640x480 with 1 Axes>"
            ]
          },
          "metadata": {},
          "output_type": "display_data"
        }
      ],
      "source": [
        "from sklearn.model_selection import StratifiedShuffleSplit\n",
        "\n",
        "# Define the splitter\n",
        "splitter2 = StratifiedShuffleSplit(n_splits=1, test_size=0.25, random_state=42)\n",
        "\n",
        "# Get the indices for splitting\n",
        "train_idx, val_idx = next(splitter2.split(X_train_val, y_train_val))\n",
        "\n",
        "# Split the data into train and val sets\n",
        "X_train = X_train_val[train_idx]\n",
        "X_val = X_train_val[val_idx]\n",
        "y_train = y_train_val[train_idx]\n",
        "y_val = y_train_val[val_idx]\n",
        "plt.hist(np.argmax(y_train, 1), bins=len(actions), label=label_map)\n",
        "plt.hist(np.argmax(y_val, 1), bins=len(actions), label=label_map)"
      ]
    },
    {
      "attachments": {},
      "cell_type": "markdown",
      "metadata": {
        "id": "H_oBDKG2o_4L"
      },
      "source": [
        "# 7. Build and Train LSTM Neural Network"
      ]
    },
    {
      "cell_type": "code",
      "execution_count": 70,
      "metadata": {
        "id": "n3TWBQcUo_4L"
      },
      "outputs": [],
      "source": [
        "from tensorflow.keras.models import Sequential\n",
        "from tensorflow.keras.optimizers import Adam\n",
        "from tensorflow.keras.layers import Dense, Dropout, LSTM\n",
        "from tensorflow.keras.callbacks import TensorBoard\n",
        "from tensorflow.keras.callbacks import EarlyStopping\n",
        "from tensorflow.keras.optimizers import Adam\n",
        "import tensorflow as tf"
      ]
    },
    {
      "cell_type": "code",
      "execution_count": 71,
      "metadata": {
        "id": "_Ha-GnTWo_4L"
      },
      "outputs": [],
      "source": [
        "model = Sequential()\n",
        "model.add(LSTM(64, return_sequences=True, activation='relu', input_shape=(sequence_length,X.shape[-1])))\n",
        "model.add(LSTM(128, return_sequences=True, activation='relu'))\n",
        "model.add(LSTM(64, return_sequences=False, activation='relu'))\n",
        "model.add(Dense(64, activation='relu'))\n",
        "model.add(Dense(32, activation='relu'))\n",
        "model.add(Dense(actions.shape[0], activation='softmax'))"
      ]
    },
    {
      "cell_type": "code",
      "execution_count": 72,
      "metadata": {
        "colab": {
          "base_uri": "https://localhost:8080/",
          "height": 754
        },
        "id": "Tyb-pis2o_4M",
        "outputId": "3bfcbea3-730b-4470-d37a-b0c3ba591628"
      },
      "outputs": [
        {
          "data": {
            "image/png": "[encoded data removed]",
            "text/plain": [
              "<IPython.core.display.Image object>"
            ]
          },
          "execution_count": 72,
          "metadata": {},
          "output_type": "execute_result"
        }
      ],
      "source": [
        "from keras.utils import plot_model\n",
        "\n",
        "# Plot the model\n",
        "plot_model(model, show_shapes=True, show_layer_names=True)"
      ]
    },
    {
      "cell_type": "code",
      "execution_count": 73,
      "metadata": {
        "colab": {
          "base_uri": "https://localhost:8080/"
        },
        "id": "phN83nf6o_4M",
        "outputId": "f46616ce-70e8-4ab8-c45f-073b9b773280"
      },
      "outputs": [
        {
          "name": "stdout",
          "output_type": "stream",
          "text": [
            "Model: \"sequential_3\"\n",
            "_________________________________________________________________\n",
            " Layer (type)                Output Shape              Param #   \n",
            "=================================================================\n",
            " lstm_9 (LSTM)               (None, 10, 64)            93440     \n",
            "                                                                 \n",
            " lstm_10 (LSTM)              (None, 10, 128)           98816     \n",
            "                                                                 \n",
            " lstm_11 (LSTM)              (None, 64)                49408     \n",
            "                                                                 \n",
            " dense_9 (Dense)             (None, 64)                4160      \n",
            "                                                                 \n",
            " dense_10 (Dense)            (None, 32)                2080      \n",
            "                                                                 \n",
            " dense_11 (Dense)            (None, 8)                 264       \n",
            "                                                                 \n",
            "=================================================================\n",
            "Total params: 248,168\n",
            "Trainable params: 248,168\n",
            "Non-trainable params: 0\n",
            "_________________________________________________________________\n"
          ]
        }
      ],
      "source": [
        "model.summary()"
      ]
    },
    {
      "cell_type": "code",
      "execution_count": 77,
      "metadata": {
        "id": "8NBfmvUIo_4M"
      },
      "outputs": [],
      "source": [
        "model.compile(optimizer=Adam(learning_rate=0.001), loss='categorical_crossentropy', metrics=['categorical_accuracy'])"
      ]
    },
    {
      "cell_type": "code",
      "execution_count": 78,
      "metadata": {
        "colab": {
          "base_uri": "https://localhost:8080/"
        },
        "id": "ggCX345to_4M",
        "outputId": "4733991f-0e4a-494c-8700-1b28741434e5"
      },
      "outputs": [
        {
          "name": "stdout",
          "output_type": "stream",
          "text": [
            "Epoch 1/500\n",
            "234/234 [==============================] - 9s 23ms/step - loss: 1.5828 - categorical_accuracy: 0.4562 - val_loss: 1.2487 - val_categorical_accuracy: 0.4776\n",
            "Epoch 2/500\n",
            "234/234 [==============================] - 7s 29ms/step - loss: 1.0936 - categorical_accuracy: 0.6036 - val_loss: 0.8988 - val_categorical_accuracy: 0.6859\n",
            "Epoch 3/500\n",
            "234/234 [==============================] - 5s 20ms/step - loss: 0.6902 - categorical_accuracy: 0.7382 - val_loss: 0.6704 - val_categorical_accuracy: 0.8365\n",
            "Epoch 4/500\n",
            "234/234 [==============================] - 5s 21ms/step - loss: 0.4908 - categorical_accuracy: 0.8141 - val_loss: 0.5062 - val_categorical_accuracy: 0.8365\n",
            "Epoch 5/500\n",
            "234/234 [==============================] - 7s 30ms/step - loss: 0.4747 - categorical_accuracy: 0.8173 - val_loss: 0.7913 - val_categorical_accuracy: 0.6987\n",
            "Epoch 6/500\n",
            "234/234 [==============================] - 5s 20ms/step - loss: 0.4552 - categorical_accuracy: 0.8237 - val_loss: 0.3604 - val_categorical_accuracy: 0.8205\n",
            "Epoch 7/500\n",
            "234/234 [==============================] - 5s 22ms/step - loss: 0.2901 - categorical_accuracy: 0.8697 - val_loss: 0.1986 - val_categorical_accuracy: 0.9391\n",
            "Epoch 8/500\n",
            "234/234 [==============================] - 7s 28ms/step - loss: 0.3147 - categorical_accuracy: 0.8900 - val_loss: 0.3232 - val_categorical_accuracy: 0.8429\n",
            "Epoch 9/500\n",
            "234/234 [==============================] - 5s 21ms/step - loss: 0.2360 - categorical_accuracy: 0.9081 - val_loss: 0.3928 - val_categorical_accuracy: 0.8269\n",
            "Epoch 10/500\n",
            "234/234 [==============================] - 6s 24ms/step - loss: 0.1453 - categorical_accuracy: 0.9444 - val_loss: 0.1491 - val_categorical_accuracy: 0.9423\n",
            "Epoch 11/500\n",
            "234/234 [==============================] - 6s 24ms/step - loss: 0.2239 - categorical_accuracy: 0.9188 - val_loss: 0.3597 - val_categorical_accuracy: 0.8622\n",
            "Epoch 12/500\n",
            "234/234 [==============================] - 5s 19ms/step - loss: 0.1616 - categorical_accuracy: 0.9466 - val_loss: 0.3651 - val_categorical_accuracy: 0.8878\n",
            "Epoch 13/500\n",
            "234/234 [==============================] - 6s 26ms/step - loss: 0.1699 - categorical_accuracy: 0.9380 - val_loss: 0.1016 - val_categorical_accuracy: 0.9615\n",
            "Epoch 14/500\n",
            "234/234 [==============================] - 5s 22ms/step - loss: 0.3010 - categorical_accuracy: 0.8996 - val_loss: 0.2435 - val_categorical_accuracy: 0.9327\n",
            "Epoch 15/500\n",
            "234/234 [==============================] - 5s 19ms/step - loss: 0.1065 - categorical_accuracy: 0.9615 - val_loss: 0.0987 - val_categorical_accuracy: 0.9679\n",
            "Epoch 16/500\n",
            "234/234 [==============================] - 6s 27ms/step - loss: 0.0739 - categorical_accuracy: 0.9722 - val_loss: 0.2500 - val_categorical_accuracy: 0.9199\n",
            "Epoch 17/500\n",
            "234/234 [==============================] - 5s 22ms/step - loss: 0.0715 - categorical_accuracy: 0.9701 - val_loss: 0.0626 - val_categorical_accuracy: 0.9872\n",
            "Epoch 18/500\n",
            "234/234 [==============================] - 7s 32ms/step - loss: 0.2246 - categorical_accuracy: 0.9412 - val_loss: 0.1351 - val_categorical_accuracy: 0.9647\n",
            "Epoch 19/500\n",
            "234/234 [==============================] - 6s 25ms/step - loss: 0.1471 - categorical_accuracy: 0.9562 - val_loss: 0.2112 - val_categorical_accuracy: 0.9423\n",
            "Epoch 20/500\n",
            "234/234 [==============================] - 5s 21ms/step - loss: 0.2059 - categorical_accuracy: 0.9476 - val_loss: 0.1605 - val_categorical_accuracy: 0.9391\n",
            "Epoch 21/500\n",
            "234/234 [==============================] - 6s 25ms/step - loss: 0.2191 - categorical_accuracy: 0.9380 - val_loss: 0.4460 - val_categorical_accuracy: 0.9199\n",
            "Epoch 22/500\n",
            "234/234 [==============================] - 6s 23ms/step - loss: 0.4874 - categorical_accuracy: 0.9145 - val_loss: 0.3992 - val_categorical_accuracy: 0.8526\n",
            "Epoch 23/500\n",
            "234/234 [==============================] - 5s 21ms/step - loss: 0.1970 - categorical_accuracy: 0.9370 - val_loss: 0.1080 - val_categorical_accuracy: 0.9808\n",
            "Epoch 24/500\n",
            "234/234 [==============================] - 6s 28ms/step - loss: 0.0760 - categorical_accuracy: 0.9765 - val_loss: 0.0867 - val_categorical_accuracy: 0.9744\n",
            "Epoch 25/500\n",
            "234/234 [==============================] - 5s 22ms/step - loss: 0.0541 - categorical_accuracy: 0.9818 - val_loss: 0.0672 - val_categorical_accuracy: 0.9872\n",
            "Epoch 26/500\n",
            "234/234 [==============================] - 5s 21ms/step - loss: 0.0843 - categorical_accuracy: 0.9754 - val_loss: 0.0686 - val_categorical_accuracy: 0.9840\n",
            "Epoch 27/500\n",
            "234/234 [==============================] - 7s 29ms/step - loss: 0.0560 - categorical_accuracy: 0.9818 - val_loss: 0.3804 - val_categorical_accuracy: 0.9263\n",
            "Epoch 28/500\n",
            "234/234 [==============================] - 5s 21ms/step - loss: 0.0933 - categorical_accuracy: 0.9679 - val_loss: 0.0568 - val_categorical_accuracy: 0.9776\n",
            "Epoch 29/500\n",
            "234/234 [==============================] - 5s 20ms/step - loss: 0.0409 - categorical_accuracy: 0.9840 - val_loss: 0.1427 - val_categorical_accuracy: 0.9615\n",
            "Epoch 30/500\n",
            "234/234 [==============================] - 7s 28ms/step - loss: 0.0171 - categorical_accuracy: 0.9947 - val_loss: 0.0398 - val_categorical_accuracy: 0.9872\n",
            "Epoch 31/500\n",
            "234/234 [==============================] - 5s 20ms/step - loss: 0.0920 - categorical_accuracy: 0.9754 - val_loss: 0.0854 - val_categorical_accuracy: 0.9808\n",
            "Epoch 32/500\n",
            "234/234 [==============================] - 5s 22ms/step - loss: 0.6623 - categorical_accuracy: 0.8761 - val_loss: 0.3606 - val_categorical_accuracy: 0.9006\n",
            "Epoch 33/500\n",
            "234/234 [==============================] - 6s 27ms/step - loss: 0.2691 - categorical_accuracy: 0.9295 - val_loss: 0.2318 - val_categorical_accuracy: 0.9231\n",
            "Epoch 34/500\n",
            "234/234 [==============================] - 5s 20ms/step - loss: 0.0983 - categorical_accuracy: 0.9701 - val_loss: 0.1084 - val_categorical_accuracy: 0.9679\n",
            "Epoch 35/500\n",
            "234/234 [==============================] - 5s 23ms/step - loss: 0.1518 - categorical_accuracy: 0.9562 - val_loss: 0.3021 - val_categorical_accuracy: 0.9231\n",
            "Epoch 36/500\n",
            "234/234 [==============================] - 6s 25ms/step - loss: 0.0386 - categorical_accuracy: 0.9882 - val_loss: 0.2312 - val_categorical_accuracy: 0.9263\n",
            "Epoch 37/500\n",
            "234/234 [==============================] - 5s 21ms/step - loss: 0.1563 - categorical_accuracy: 0.9562 - val_loss: 0.1330 - val_categorical_accuracy: 0.9519\n",
            "Epoch 38/500\n",
            "234/234 [==============================] - 6s 25ms/step - loss: 0.0239 - categorical_accuracy: 0.9936 - val_loss: 0.2112 - val_categorical_accuracy: 0.9583\n",
            "Epoch 39/500\n",
            "234/234 [==============================] - 6s 24ms/step - loss: 0.0933 - categorical_accuracy: 0.9658 - val_loss: 0.0806 - val_categorical_accuracy: 0.9840\n",
            "Epoch 40/500\n",
            "234/234 [==============================] - 5s 20ms/step - loss: 0.0232 - categorical_accuracy: 0.9936 - val_loss: 0.1107 - val_categorical_accuracy: 0.9615\n",
            "Epoch 41/500\n",
            "234/234 [==============================] - 7s 28ms/step - loss: 0.1249 - categorical_accuracy: 0.9733 - val_loss: 0.1125 - val_categorical_accuracy: 0.9712\n",
            "Epoch 42/500\n",
            "234/234 [==============================] - 5s 20ms/step - loss: 0.0197 - categorical_accuracy: 0.9936 - val_loss: 0.0563 - val_categorical_accuracy: 0.9840\n",
            "Epoch 43/500\n",
            "234/234 [==============================] - 5s 21ms/step - loss: 0.0351 - categorical_accuracy: 0.9850 - val_loss: 0.1181 - val_categorical_accuracy: 0.9712\n",
            "Epoch 44/500\n",
            "234/234 [==============================] - 7s 29ms/step - loss: 0.0973 - categorical_accuracy: 0.9776 - val_loss: 0.0439 - val_categorical_accuracy: 0.9872\n",
            "Epoch 45/500\n",
            "234/234 [==============================] - 5s 20ms/step - loss: 0.0295 - categorical_accuracy: 0.9904 - val_loss: 0.0396 - val_categorical_accuracy: 0.9872\n",
            "Epoch 46/500\n",
            "234/234 [==============================] - 5s 19ms/step - loss: 0.1354 - categorical_accuracy: 0.9669 - val_loss: 0.0738 - val_categorical_accuracy: 0.9808\n",
            "Epoch 47/500\n",
            "234/234 [==============================] - 7s 29ms/step - loss: 0.0728 - categorical_accuracy: 0.9786 - val_loss: 0.4227 - val_categorical_accuracy: 0.8942\n",
            "Epoch 48/500\n",
            "234/234 [==============================] - 5s 20ms/step - loss: 0.1674 - categorical_accuracy: 0.9487 - val_loss: 0.3551 - val_categorical_accuracy: 0.8686\n",
            "Epoch 49/500\n",
            "234/234 [==============================] - 5s 20ms/step - loss: 0.1435 - categorical_accuracy: 0.9647 - val_loss: 0.3596 - val_categorical_accuracy: 0.9103\n",
            "Epoch 50/500\n",
            "234/234 [==============================] - 7s 29ms/step - loss: 0.0668 - categorical_accuracy: 0.9797 - val_loss: 0.1209 - val_categorical_accuracy: 0.9679\n",
            "Epoch 51/500\n",
            "234/234 [==============================] - 5s 20ms/step - loss: 0.0546 - categorical_accuracy: 0.9840 - val_loss: 0.0721 - val_categorical_accuracy: 0.9872\n",
            "Epoch 52/500\n",
            "234/234 [==============================] - 5s 22ms/step - loss: 0.0076 - categorical_accuracy: 0.9989 - val_loss: 0.1029 - val_categorical_accuracy: 0.9872\n",
            "Epoch 53/500\n",
            "234/234 [==============================] - 6s 26ms/step - loss: 0.0011 - categorical_accuracy: 1.0000 - val_loss: 0.1223 - val_categorical_accuracy: 0.9840\n",
            "Epoch 54/500\n",
            "234/234 [==============================] - 5s 21ms/step - loss: 0.1496 - categorical_accuracy: 0.9925 - val_loss: 1.4864 - val_categorical_accuracy: 0.6795\n",
            "Epoch 55/500\n",
            "234/234 [==============================] - 6s 24ms/step - loss: 0.1396 - categorical_accuracy: 0.9605 - val_loss: 0.2073 - val_categorical_accuracy: 0.9583\n",
            "Epoch 56/500\n",
            "234/234 [==============================] - 6s 24ms/step - loss: 0.0916 - categorical_accuracy: 0.9797 - val_loss: 0.0471 - val_categorical_accuracy: 0.9840\n",
            "Epoch 57/500\n",
            "234/234 [==============================] - 5s 21ms/step - loss: 0.0379 - categorical_accuracy: 0.9850 - val_loss: 0.0872 - val_categorical_accuracy: 0.9583\n",
            "Epoch 58/500\n",
            "234/234 [==============================] - 6s 26ms/step - loss: 0.0364 - categorical_accuracy: 0.9840 - val_loss: 0.1008 - val_categorical_accuracy: 0.9840\n",
            "Epoch 59/500\n",
            "234/234 [==============================] - 5s 22ms/step - loss: 0.0037 - categorical_accuracy: 1.0000 - val_loss: 0.0549 - val_categorical_accuracy: 0.9808\n",
            "Epoch 60/500\n",
            "234/234 [==============================] - 5s 19ms/step - loss: 0.5281 - categorical_accuracy: 0.8942 - val_loss: 0.3053 - val_categorical_accuracy: 0.8942\n",
            "Epoch 61/500\n",
            "234/234 [==============================] - 7s 29ms/step - loss: 0.1302 - categorical_accuracy: 0.9647 - val_loss: 0.0667 - val_categorical_accuracy: 0.9840\n",
            "Epoch 62/500\n",
            "234/234 [==============================] - 7s 30ms/step - loss: 0.0425 - categorical_accuracy: 0.9893 - val_loss: 0.0551 - val_categorical_accuracy: 0.9840\n",
            "Epoch 63/500\n",
            "234/234 [==============================] - 5s 21ms/step - loss: 0.0213 - categorical_accuracy: 0.9925 - val_loss: 0.0294 - val_categorical_accuracy: 0.9904\n",
            "Epoch 64/500\n",
            "234/234 [==============================] - 7s 28ms/step - loss: 0.0030 - categorical_accuracy: 1.0000 - val_loss: 0.0323 - val_categorical_accuracy: 0.9904\n",
            "Epoch 65/500\n",
            "234/234 [==============================] - 5s 21ms/step - loss: 7.5789e-04 - categorical_accuracy: 1.0000 - val_loss: 0.0320 - val_categorical_accuracy: 0.9936\n",
            "Epoch 66/500\n",
            "234/234 [==============================] - 5s 21ms/step - loss: 3.4929e-04 - categorical_accuracy: 1.0000 - val_loss: 0.0309 - val_categorical_accuracy: 0.9936\n",
            "Epoch 67/500\n",
            "234/234 [==============================] - 7s 29ms/step - loss: 2.3199e-04 - categorical_accuracy: 1.0000 - val_loss: 0.0328 - val_categorical_accuracy: 0.9968\n",
            "Epoch 68/500\n",
            "234/234 [==============================] - 5s 21ms/step - loss: 2.0975e-04 - categorical_accuracy: 1.0000 - val_loss: 0.0273 - val_categorical_accuracy: 0.9968\n",
            "Epoch 69/500\n",
            "234/234 [==============================] - 5s 20ms/step - loss: 1.2862e-04 - categorical_accuracy: 1.0000 - val_loss: 0.0265 - val_categorical_accuracy: 0.9968\n",
            "Epoch 70/500\n",
            "234/234 [==============================] - 7s 29ms/step - loss: 7.0890e-05 - categorical_accuracy: 1.0000 - val_loss: 0.0277 - val_categorical_accuracy: 0.9968\n",
            "Epoch 71/500\n",
            "234/234 [==============================] - 5s 20ms/step - loss: 5.3492e-05 - categorical_accuracy: 1.0000 - val_loss: 0.0293 - val_categorical_accuracy: 0.9968\n",
            "Epoch 72/500\n",
            "234/234 [==============================] - 5s 22ms/step - loss: 4.1239e-05 - categorical_accuracy: 1.0000 - val_loss: 0.0305 - val_categorical_accuracy: 0.9968\n",
            "Epoch 73/500\n",
            "234/234 [==============================] - 6s 27ms/step - loss: 2.9422e-05 - categorical_accuracy: 1.0000 - val_loss: 0.0304 - val_categorical_accuracy: 0.9968\n",
            "Epoch 74/500\n",
            "234/234 [==============================] - 5s 20ms/step - loss: 2.1044e-05 - categorical_accuracy: 1.0000 - val_loss: 0.0330 - val_categorical_accuracy: 0.9936\n",
            "Epoch 75/500\n",
            "234/234 [==============================] - 5s 23ms/step - loss: 1.5146e-05 - categorical_accuracy: 1.0000 - val_loss: 0.0342 - val_categorical_accuracy: 0.9936\n",
            "Epoch 76/500\n",
            "234/234 [==============================] - 6s 26ms/step - loss: 9.4017e-06 - categorical_accuracy: 1.0000 - val_loss: 0.0425 - val_categorical_accuracy: 0.9904\n",
            "Epoch 77/500\n",
            "234/234 [==============================] - 5s 21ms/step - loss: 1.2922e-05 - categorical_accuracy: 1.0000 - val_loss: 0.0322 - val_categorical_accuracy: 0.9968\n",
            "Epoch 78/500\n",
            "234/234 [==============================] - 6s 26ms/step - loss: 8.2820e-06 - categorical_accuracy: 1.0000 - val_loss: 0.0327 - val_categorical_accuracy: 0.9968\n",
            "Epoch 79/500\n",
            "234/234 [==============================] - 5s 23ms/step - loss: 4.1376e-06 - categorical_accuracy: 1.0000 - val_loss: 0.0344 - val_categorical_accuracy: 0.9936\n",
            "Epoch 80/500\n",
            "234/234 [==============================] - 5s 20ms/step - loss: 3.0604e-06 - categorical_accuracy: 1.0000 - val_loss: 0.0354 - val_categorical_accuracy: 0.9936\n",
            "Epoch 81/500\n",
            "234/234 [==============================] - 6s 27ms/step - loss: 2.3193e-06 - categorical_accuracy: 1.0000 - val_loss: 0.0365 - val_categorical_accuracy: 0.9904\n",
            "Epoch 82/500\n",
            "234/234 [==============================] - 5s 22ms/step - loss: 1.7942e-06 - categorical_accuracy: 1.0000 - val_loss: 0.0374 - val_categorical_accuracy: 0.9904\n",
            "Epoch 83/500\n",
            "234/234 [==============================] - 5s 21ms/step - loss: 1.3935e-06 - categorical_accuracy: 1.0000 - val_loss: 0.0379 - val_categorical_accuracy: 0.9904\n",
            "Epoch 84/500\n",
            "234/234 [==============================] - 7s 30ms/step - loss: 1.0565e-06 - categorical_accuracy: 1.0000 - val_loss: 0.0400 - val_categorical_accuracy: 0.9936\n",
            "Epoch 85/500\n",
            "234/234 [==============================] - 5s 20ms/step - loss: 8.0209e-07 - categorical_accuracy: 1.0000 - val_loss: 0.0464 - val_categorical_accuracy: 0.9872\n",
            "Epoch 86/500\n",
            "234/234 [==============================] - 5s 20ms/step - loss: 6.1692e-07 - categorical_accuracy: 1.0000 - val_loss: 0.0558 - val_categorical_accuracy: 0.9872\n",
            "Epoch 87/500\n",
            "234/234 [==============================] - 7s 29ms/step - loss: 4.8905e-07 - categorical_accuracy: 1.0000 - val_loss: 0.0602 - val_categorical_accuracy: 0.9872\n",
            "Epoch 88/500\n",
            "234/234 [==============================] - 5s 20ms/step - loss: 3.9455e-07 - categorical_accuracy: 1.0000 - val_loss: 0.0640 - val_categorical_accuracy: 0.9872\n",
            "Epoch 89/500\n",
            "234/234 [==============================] - 5s 20ms/step - loss: 3.2425e-07 - categorical_accuracy: 1.0000 - val_loss: 0.0682 - val_categorical_accuracy: 0.9872\n",
            "Epoch 90/500\n",
            "234/234 [==============================] - 7s 29ms/step - loss: 2.6134e-07 - categorical_accuracy: 1.0000 - val_loss: 0.0713 - val_categorical_accuracy: 0.9904\n",
            "Epoch 91/500\n",
            "234/234 [==============================] - 5s 20ms/step - loss: 2.1982e-07 - categorical_accuracy: 1.0000 - val_loss: 0.0759 - val_categorical_accuracy: 0.9872\n",
            "Epoch 92/500\n",
            "234/234 [==============================] - 5s 21ms/step - loss: 1.8251e-07 - categorical_accuracy: 1.0000 - val_loss: 0.0779 - val_categorical_accuracy: 0.9904\n",
            "Epoch 93/500\n",
            "234/234 [==============================] - 6s 27ms/step - loss: 1.5181e-07 - categorical_accuracy: 1.0000 - val_loss: 0.0806 - val_categorical_accuracy: 0.9904\n",
            "Epoch 94/500\n",
            "234/234 [==============================] - 5s 20ms/step - loss: 1.2647e-07 - categorical_accuracy: 1.0000 - val_loss: 0.0834 - val_categorical_accuracy: 0.9904\n",
            "Epoch 95/500\n",
            "234/234 [==============================] - 5s 23ms/step - loss: 1.1220e-07 - categorical_accuracy: 1.0000 - val_loss: 0.0868 - val_categorical_accuracy: 0.9872\n",
            "Epoch 96/500\n",
            "234/234 [==============================] - 6s 26ms/step - loss: 1.0303e-07 - categorical_accuracy: 1.0000 - val_loss: 0.0882 - val_categorical_accuracy: 0.9904\n",
            "Epoch 97/500\n",
            "234/234 [==============================] - 5s 20ms/step - loss: 8.0619e-08 - categorical_accuracy: 1.0000 - val_loss: 0.0895 - val_categorical_accuracy: 0.9904\n",
            "Epoch 98/500\n",
            "234/234 [==============================] - 6s 24ms/step - loss: 6.5972e-08 - categorical_accuracy: 1.0000 - val_loss: 0.0929 - val_categorical_accuracy: 0.9904\n",
            "Epoch 99/500\n",
            "234/234 [==============================] - 6s 24ms/step - loss: 5.5019e-08 - categorical_accuracy: 1.0000 - val_loss: 0.0962 - val_categorical_accuracy: 0.9904\n",
            "Epoch 100/500\n",
            "234/234 [==============================] - 5s 20ms/step - loss: 4.6614e-08 - categorical_accuracy: 1.0000 - val_loss: 0.0994 - val_categorical_accuracy: 0.9904\n",
            "Epoch 101/500\n",
            "234/234 [==============================] - 6s 26ms/step - loss: 3.9354e-08 - categorical_accuracy: 1.0000 - val_loss: 0.1025 - val_categorical_accuracy: 0.9904\n",
            "Epoch 102/500\n",
            "234/234 [==============================] - 5s 23ms/step - loss: 3.3241e-08 - categorical_accuracy: 1.0000 - val_loss: 0.1053 - val_categorical_accuracy: 0.9904\n",
            "Epoch 103/500\n",
            "234/234 [==============================] - 5s 20ms/step - loss: 2.8147e-08 - categorical_accuracy: 1.0000 - val_loss: 0.1088 - val_categorical_accuracy: 0.9872\n",
            "Epoch 104/500\n",
            "234/234 [==============================] - 6s 27ms/step - loss: 2.3689e-08 - categorical_accuracy: 1.0000 - val_loss: 0.1114 - val_categorical_accuracy: 0.9872\n",
            "Epoch 105/500\n",
            "234/234 [==============================] - 7s 30ms/step - loss: 2.0760e-08 - categorical_accuracy: 1.0000 - val_loss: 0.1142 - val_categorical_accuracy: 0.9872\n",
            "Epoch 106/500\n",
            "234/234 [==============================] - 5s 23ms/step - loss: 1.7194e-08 - categorical_accuracy: 1.0000 - val_loss: 0.1175 - val_categorical_accuracy: 0.9872\n",
            "Epoch 107/500\n",
            "234/234 [==============================] - 6s 27ms/step - loss: 1.4646e-08 - categorical_accuracy: 1.0000 - val_loss: 0.1191 - val_categorical_accuracy: 0.9904\n",
            "Epoch 108/500\n",
            "234/234 [==============================] - 5s 20ms/step - loss: 1.2099e-08 - categorical_accuracy: 1.0000 - val_loss: 0.1233 - val_categorical_accuracy: 0.9872\n",
            "Epoch 109/500\n",
            "234/234 [==============================] - 6s 24ms/step - loss: 1.0571e-08 - categorical_accuracy: 1.0000 - val_loss: 0.1265 - val_categorical_accuracy: 0.9872\n",
            "Epoch 110/500\n",
            "234/234 [==============================] - 6s 25ms/step - loss: 8.9152e-09 - categorical_accuracy: 1.0000 - val_loss: 0.1277 - val_categorical_accuracy: 0.9872\n",
            "Epoch 111/500\n",
            "234/234 [==============================] - 5s 21ms/step - loss: 7.3869e-09 - categorical_accuracy: 1.0000 - val_loss: 0.1308 - val_categorical_accuracy: 0.9872\n",
            "Epoch 112/500\n",
            "234/234 [==============================] - 6s 27ms/step - loss: 5.8586e-09 - categorical_accuracy: 1.0000 - val_loss: 0.1342 - val_categorical_accuracy: 0.9872\n",
            "Epoch 113/500\n",
            "234/234 [==============================] - 5s 22ms/step - loss: 5.4765e-09 - categorical_accuracy: 1.0000 - val_loss: 0.1374 - val_categorical_accuracy: 0.9872\n",
            "Epoch 114/500\n",
            "234/234 [==============================] - 5s 20ms/step - loss: 4.5850e-09 - categorical_accuracy: 1.0000 - val_loss: 0.1402 - val_categorical_accuracy: 0.9872\n",
            "Epoch 115/500\n",
            "234/234 [==============================] - 7s 28ms/step - loss: 3.8208e-09 - categorical_accuracy: 1.0000 - val_loss: 0.1455 - val_categorical_accuracy: 0.9872\n",
            "Epoch 116/500\n",
            "234/234 [==============================] - 5s 21ms/step - loss: 3.1840e-09 - categorical_accuracy: 1.0000 - val_loss: 0.1500 - val_categorical_accuracy: 0.9872\n",
            "Epoch 117/500\n",
            "234/234 [==============================] - 5s 20ms/step - loss: 2.6746e-09 - categorical_accuracy: 1.0000 - val_loss: 0.1512 - val_categorical_accuracy: 0.9872\n",
            "Epoch 118/500\n",
            "234/234 [==============================] - 7s 29ms/step - loss: 2.0378e-09 - categorical_accuracy: 1.0000 - val_loss: 0.1498 - val_categorical_accuracy: 0.9872\n",
            "Epoch 119/500\n",
            "234/234 [==============================] - 5s 21ms/step - loss: 2.0378e-09 - categorical_accuracy: 1.0000 - val_loss: 0.1500 - val_categorical_accuracy: 0.9872\n",
            "Epoch 120/500\n",
            "234/234 [==============================] - 5s 20ms/step - loss: 1.4010e-09 - categorical_accuracy: 1.0000 - val_loss: 0.1516 - val_categorical_accuracy: 0.9872\n",
            "Epoch 121/500\n",
            "234/234 [==============================] - 7s 30ms/step - loss: 1.2736e-09 - categorical_accuracy: 1.0000 - val_loss: 0.1525 - val_categorical_accuracy: 0.9872\n",
            "Epoch 122/500\n",
            "234/234 [==============================] - 5s 20ms/step - loss: 1.4010e-09 - categorical_accuracy: 1.0000 - val_loss: 0.1502 - val_categorical_accuracy: 0.9872\n",
            "Epoch 123/500\n",
            "234/234 [==============================] - 5s 21ms/step - loss: 1.0189e-09 - categorical_accuracy: 1.0000 - val_loss: 0.1509 - val_categorical_accuracy: 0.9872\n",
            "Epoch 124/500\n",
            "234/234 [==============================] - 7s 28ms/step - loss: 8.9152e-10 - categorical_accuracy: 1.0000 - val_loss: 0.1518 - val_categorical_accuracy: 0.9872\n",
            "Epoch 125/500\n",
            "234/234 [==============================] - 5s 20ms/step - loss: 6.3680e-10 - categorical_accuracy: 1.0000 - val_loss: 0.1525 - val_categorical_accuracy: 0.9872\n",
            "Epoch 126/500\n",
            "234/234 [==============================] - 5s 23ms/step - loss: 5.0944e-10 - categorical_accuracy: 1.0000 - val_loss: 0.1530 - val_categorical_accuracy: 0.9872\n",
            "Epoch 127/500\n",
            "234/234 [==============================] - 6s 28ms/step - loss: 5.0944e-10 - categorical_accuracy: 1.0000 - val_loss: 0.1472 - val_categorical_accuracy: 0.9872\n",
            "Epoch 128/500\n",
            "234/234 [==============================] - 5s 20ms/step - loss: 2.5472e-10 - categorical_accuracy: 1.0000 - val_loss: 0.1480 - val_categorical_accuracy: 0.9872\n",
            "Epoch 129/500\n",
            "234/234 [==============================] - 6s 26ms/step - loss: 2.5472e-10 - categorical_accuracy: 1.0000 - val_loss: 0.1475 - val_categorical_accuracy: 0.9872\n",
            "Epoch 130/500\n",
            "234/234 [==============================] - 5s 23ms/step - loss: 2.5472e-10 - categorical_accuracy: 1.0000 - val_loss: 0.1482 - val_categorical_accuracy: 0.9872\n",
            "Epoch 131/500\n",
            "234/234 [==============================] - 5s 20ms/step - loss: 2.5472e-10 - categorical_accuracy: 1.0000 - val_loss: 0.1477 - val_categorical_accuracy: 0.9872\n",
            "Epoch 132/500\n",
            "234/234 [==============================] - 7s 29ms/step - loss: 1.2736e-10 - categorical_accuracy: 1.0000 - val_loss: 0.1486 - val_categorical_accuracy: 0.9872\n",
            "Epoch 133/500\n",
            "234/234 [==============================] - 5s 22ms/step - loss: 0.0000e+00 - categorical_accuracy: 1.0000 - val_loss: 0.1484 - val_categorical_accuracy: 0.9872\n",
            "Epoch 134/500\n",
            "234/234 [==============================] - 5s 20ms/step - loss: 0.0000e+00 - categorical_accuracy: 1.0000 - val_loss: 0.1476 - val_categorical_accuracy: 0.9872\n",
            "Epoch 135/500\n",
            "234/234 [==============================] - 7s 31ms/step - loss: 0.0000e+00 - categorical_accuracy: 1.0000 - val_loss: 0.1474 - val_categorical_accuracy: 0.9872\n",
            "Epoch 136/500\n",
            "234/234 [==============================] - 5s 20ms/step - loss: 0.0000e+00 - categorical_accuracy: 1.0000 - val_loss: 0.1463 - val_categorical_accuracy: 0.9872\n",
            "Epoch 137/500\n",
            "234/234 [==============================] - 5s 21ms/step - loss: 0.0000e+00 - categorical_accuracy: 1.0000 - val_loss: 0.1455 - val_categorical_accuracy: 0.9872\n",
            "Epoch 138/500\n",
            "234/234 [==============================] - 7s 29ms/step - loss: 0.0000e+00 - categorical_accuracy: 1.0000 - val_loss: 0.1454 - val_categorical_accuracy: 0.9872\n",
            "Epoch 139/500\n",
            "234/234 [==============================] - 5s 21ms/step - loss: 0.0000e+00 - categorical_accuracy: 1.0000 - val_loss: 0.1453 - val_categorical_accuracy: 0.9872\n",
            "Epoch 140/500\n",
            "234/234 [==============================] - 6s 24ms/step - loss: 1.2736e-10 - categorical_accuracy: 1.0000 - val_loss: 0.1508 - val_categorical_accuracy: 0.9872\n",
            "Epoch 141/500\n",
            "234/234 [==============================] - 6s 27ms/step - loss: 2.5472e-10 - categorical_accuracy: 1.0000 - val_loss: 0.1316 - val_categorical_accuracy: 0.9904\n",
            "Epoch 142/500\n",
            "234/234 [==============================] - 5s 22ms/step - loss: 2.5472e-10 - categorical_accuracy: 1.0000 - val_loss: 0.1463 - val_categorical_accuracy: 0.9904\n",
            "Epoch 143/500\n",
            "234/234 [==============================] - 6s 27ms/step - loss: 0.0000e+00 - categorical_accuracy: 1.0000 - val_loss: 0.1456 - val_categorical_accuracy: 0.9904\n",
            "Epoch 144/500\n",
            "234/234 [==============================] - 5s 22ms/step - loss: 0.0000e+00 - categorical_accuracy: 1.0000 - val_loss: 0.1451 - val_categorical_accuracy: 0.9904\n",
            "Epoch 145/500\n",
            "234/234 [==============================] - 5s 21ms/step - loss: 0.0000e+00 - categorical_accuracy: 1.0000 - val_loss: 0.1452 - val_categorical_accuracy: 0.9904\n",
            "Epoch 146/500\n",
            "234/234 [==============================] - 7s 29ms/step - loss: 0.0000e+00 - categorical_accuracy: 1.0000 - val_loss: 0.1444 - val_categorical_accuracy: 0.9904\n",
            "Epoch 147/500\n",
            "234/234 [==============================] - 5s 20ms/step - loss: 0.0000e+00 - categorical_accuracy: 1.0000 - val_loss: 0.1444 - val_categorical_accuracy: 0.9904\n",
            "Epoch 148/500\n",
            "234/234 [==============================] - 5s 22ms/step - loss: 0.0000e+00 - categorical_accuracy: 1.0000 - val_loss: 0.1440 - val_categorical_accuracy: 0.9904\n",
            "Epoch 149/500\n",
            "234/234 [==============================] - 8s 36ms/step - loss: 0.0000e+00 - categorical_accuracy: 1.0000 - val_loss: 0.1441 - val_categorical_accuracy: 0.9904\n",
            "Epoch 150/500\n",
            "234/234 [==============================] - 5s 23ms/step - loss: 0.0000e+00 - categorical_accuracy: 1.0000 - val_loss: 0.1441 - val_categorical_accuracy: 0.9904\n",
            "Epoch 151/500\n",
            "234/234 [==============================] - 5s 20ms/step - loss: 0.0000e+00 - categorical_accuracy: 1.0000 - val_loss: 0.1443 - val_categorical_accuracy: 0.9904\n",
            "Epoch 152/500\n",
            "234/234 [==============================] - 7s 30ms/step - loss: 0.0000e+00 - categorical_accuracy: 1.0000 - val_loss: 0.1443 - val_categorical_accuracy: 0.9904\n",
            "Epoch 153/500\n",
            "234/234 [==============================] - 5s 21ms/step - loss: 0.0000e+00 - categorical_accuracy: 1.0000 - val_loss: 0.1444 - val_categorical_accuracy: 0.9904\n",
            "Epoch 154/500\n",
            "234/234 [==============================] - 5s 21ms/step - loss: 0.0000e+00 - categorical_accuracy: 1.0000 - val_loss: 0.1444 - val_categorical_accuracy: 0.9904\n",
            "Epoch 155/500\n",
            "234/234 [==============================] - 7s 30ms/step - loss: 0.0000e+00 - categorical_accuracy: 1.0000 - val_loss: 0.1444 - val_categorical_accuracy: 0.9904\n",
            "Epoch 156/500\n",
            "234/234 [==============================] - 5s 21ms/step - loss: 0.0000e+00 - categorical_accuracy: 1.0000 - val_loss: 0.1443 - val_categorical_accuracy: 0.9872\n",
            "Epoch 157/500\n",
            "234/234 [==============================] - 6s 25ms/step - loss: 0.0000e+00 - categorical_accuracy: 1.0000 - val_loss: 0.1440 - val_categorical_accuracy: 0.9872\n",
            "Epoch 158/500\n",
            "234/234 [==============================] - 6s 26ms/step - loss: 0.0000e+00 - categorical_accuracy: 1.0000 - val_loss: 0.1443 - val_categorical_accuracy: 0.9872\n",
            "Epoch 159/500\n",
            "234/234 [==============================] - 5s 21ms/step - loss: 0.0000e+00 - categorical_accuracy: 1.0000 - val_loss: 0.1439 - val_categorical_accuracy: 0.9872\n",
            "Epoch 160/500\n",
            "234/234 [==============================] - 6s 27ms/step - loss: 0.0000e+00 - categorical_accuracy: 1.0000 - val_loss: 0.1440 - val_categorical_accuracy: 0.9872\n",
            "Epoch 161/500\n",
            "234/234 [==============================] - 5s 22ms/step - loss: 0.0000e+00 - categorical_accuracy: 1.0000 - val_loss: 0.1433 - val_categorical_accuracy: 0.9872\n",
            "Epoch 162/500\n",
            "234/234 [==============================] - 5s 22ms/step - loss: 0.0000e+00 - categorical_accuracy: 1.0000 - val_loss: 0.1431 - val_categorical_accuracy: 0.9872\n",
            "Epoch 163/500\n",
            "234/234 [==============================] - 7s 29ms/step - loss: 0.0000e+00 - categorical_accuracy: 1.0000 - val_loss: 0.1427 - val_categorical_accuracy: 0.9872\n",
            "Epoch 164/500\n",
            "234/234 [==============================] - 5s 20ms/step - loss: 0.0000e+00 - categorical_accuracy: 1.0000 - val_loss: 0.1424 - val_categorical_accuracy: 0.9872\n",
            "Epoch 165/500\n",
            "234/234 [==============================] - 5s 20ms/step - loss: 0.0000e+00 - categorical_accuracy: 1.0000 - val_loss: 0.1420 - val_categorical_accuracy: 0.9904\n",
            "Epoch 166/500\n",
            "234/234 [==============================] - 7s 29ms/step - loss: 0.0000e+00 - categorical_accuracy: 1.0000 - val_loss: 0.1418 - val_categorical_accuracy: 0.9904\n",
            "Epoch 167/500\n",
            "234/234 [==============================] - 5s 20ms/step - loss: 0.0000e+00 - categorical_accuracy: 1.0000 - val_loss: 0.1409 - val_categorical_accuracy: 0.9904\n",
            "Epoch 168/500\n",
            "234/234 [==============================] - 5s 22ms/step - loss: 0.0000e+00 - categorical_accuracy: 1.0000 - val_loss: 0.1407 - val_categorical_accuracy: 0.9904\n",
            "Epoch 169/500\n",
            "234/234 [==============================] - 7s 29ms/step - loss: 0.0000e+00 - categorical_accuracy: 1.0000 - val_loss: 0.1402 - val_categorical_accuracy: 0.9904\n"
          ]
        }
      ],
      "source": [
        "epoch = 500\n",
        "log_dir = os.path.join('Logs')\n",
        "tb_callback = TensorBoard(log_dir=log_dir)\n",
        "early_stopping_callback_acc = EarlyStopping(monitor = 'val_loss', patience = epoch / 5, mode = 'min', restore_best_weights = True)\n",
        "model_history = model.fit(x = X_train, y = y_train, epochs = 500, shuffle = True, validation_data=[X_val, y_val], batch_size=4, callbacks = [early_stopping_callback_acc])"
      ]
    },
    {
      "cell_type": "code",
      "execution_count": 79,
      "metadata": {
        "colab": {
          "base_uri": "https://localhost:8080/"
        },
        "id": "m0oEBPlmo_4M",
        "outputId": "99f47ac3-a9a7-42dd-f4a7-b9e7aee53812"
      },
      "outputs": [
        {
          "name": "stdout",
          "output_type": "stream",
          "text": [
            "10/10 [==============================] - 1s 13ms/step - loss: 0.0281 - categorical_accuracy: 0.9904\n"
          ]
        },
        {
          "data": {
            "text/plain": [
              "[0.028110980987548828, 0.9903846383094788]"
            ]
          },
          "execution_count": 79,
          "metadata": {},
          "output_type": "execute_result"
        }
      ],
      "source": [
        "# path_weight = './weights_1681109498.3648455.h5'\n",
        "# model = tf.keras.models.load_model(path_weight)\n",
        "model.evaluate(X_test, y_test)"
      ]
    },
    {
      "cell_type": "code",
      "execution_count": 80,
      "metadata": {
        "id": "sajVI17Lo_4N"
      },
      "outputs": [],
      "source": [
        "import time\n",
        "path_weight =f'{DATA_PATH}/weight_rich{time.time()}.h5'\n",
        "model.save(path_weight)"
      ]
    },
    {
      "attachments": {},
      "cell_type": "markdown",
      "metadata": {
        "id": "gTCfc33Vo_4N"
      },
      "source": [
        "# 10. Evaluation using Confusion Matrix and Accuracy"
      ]
    },
    {
      "cell_type": "code",
      "execution_count": 81,
      "metadata": {
        "id": "yNwukd_Fo_4N"
      },
      "outputs": [],
      "source": [
        "import matplotlib.pyplot as plt\n",
        "from sklearn.metrics import multilabel_confusion_matrix, accuracy_score"
      ]
    },
    {
      "cell_type": "code",
      "execution_count": 82,
      "metadata": {
        "id": "0rj-6icKo_4N"
      },
      "outputs": [],
      "source": [
        "def plot_metric(model_training_history, metric_name_1, metric_name_2, plot_name, color_1='blue', color_2='red'):\n",
        "    metric_value_1 = model_training_history.history[metric_name_1]\n",
        "    metric_value_2 = model_training_history.history[metric_name_2]\n",
        "    \n",
        "    epochs = range(len(metric_value_1))\n",
        " \n",
        "    plt.plot(epochs, metric_value_1, color_1, label = metric_name_1)\n",
        "    plt.plot(epochs, metric_value_2, color_2, label = metric_name_2)\n",
        " \n",
        "    plt.title(str(plot_name))\n",
        " \n",
        "    plt.legend()"
      ]
    },
    {
      "cell_type": "code",
      "execution_count": 83,
      "metadata": {
        "colab": {
          "base_uri": "https://localhost:8080/",
          "height": 452
        },
        "id": "Ee1pHSdpo_4N",
        "outputId": "aef9b71f-3151-4fbe-da41-4c8b68dc070c"
      },
      "outputs": [
        {
          "data": {
            "image/png": "[encoded data removed]",
            "text/plain": [
              "<Figure size 640x480 with 1 Axes>"
            ]
          },
          "metadata": {},
          "output_type": "display_data"
        }
      ],
      "source": [
        "plot_metric(model_history, 'categorical_accuracy', 'val_categorical_accuracy', 'Total Accuracy vs Total Validation Accuracy')"
      ]
    },
    {
      "cell_type": "code",
      "execution_count": 85,
      "metadata": {
        "colab": {
          "base_uri": "https://localhost:8080/",
          "height": 452
        },
        "id": "MqhxBJuPo_4O",
        "outputId": "2d188b4a-10ef-4d1c-81b4-32184d79e731"
      },
      "outputs": [
        {
          "data": {
            "image/png": "[encoded data removed]",
            "text/plain": [
              "<Figure size 640x480 with 1 Axes>"
            ]
          },
          "metadata": {},
          "output_type": "display_data"
        }
      ],
      "source": [
        "plot_metric(model_history, 'loss', 'val_loss', 'Total Loss vs Total Validation Loss')"
      ]
    },
    {
      "cell_type": "code",
      "execution_count": 86,
      "metadata": {
        "colab": {
          "base_uri": "https://localhost:8080/"
        },
        "id": "v9WY9z6co_4O",
        "outputId": "a190cd45-3e00-4951-a5d9-f09c0ddcefe9"
      },
      "outputs": [
        {
          "name": "stdout",
          "output_type": "stream",
          "text": [
            "10/10 [==============================] - 1s 14ms/step\n"
          ]
        }
      ],
      "source": [
        "model = tf.keras.models.load_model(path_weight)\n",
        "yhat = model.predict(X_test)"
      ]
    },
    {
      "cell_type": "code",
      "execution_count": 87,
      "metadata": {
        "colab": {
          "base_uri": "https://localhost:8080/"
        },
        "id": "_wk2UMcQo_4O",
        "outputId": "57614dae-72ff-4a68-f2d2-7c388a68acf5"
      },
      "outputs": [
        {
          "data": {
            "text/plain": [
              "0.9903846153846154"
            ]
          },
          "execution_count": 87,
          "metadata": {},
          "output_type": "execute_result"
        }
      ],
      "source": [
        "ytrue = np.argmax(y_test, axis=1).tolist()\n",
        "yhat = np.argmax(yhat, axis=1).tolist()\n",
        "accuracy_score(y_true=ytrue, y_pred=yhat)\n"
      ]
    },
    {
      "cell_type": "code",
      "execution_count": 88,
      "metadata": {
        "colab": {
          "base_uri": "https://localhost:8080/",
          "height": 623
        },
        "id": "TnQL5yYuo_4O",
        "outputId": "ff5de4b9-0068-4256-dba6-a310c2202ac6"
      },
      "outputs": [
        {
          "data": {
            "text/plain": [
              "<Axes: >"
            ]
          },
          "execution_count": 88,
          "metadata": {},
          "output_type": "execute_result"
        },
        {
          "data": {
            "image/png": "[encoded data removed]",
            "text/plain": [
              "<Figure size 1000x700 with 2 Axes>"
            ]
          },
          "metadata": {},
          "output_type": "display_data"
        }
      ],
      "source": [
        "from sklearn.metrics import confusion_matrix\n",
        "import pandas as pd\n",
        "import seaborn as sn\n",
        "\n",
        "\n",
        "array = confusion_matrix(ytrue, yhat)\n",
        "df_cm = pd.DataFrame(array, index = [i for i in actions],\n",
        "                  columns = [i for i in actions])\n",
        "plt.figure(figsize = (10,7))\n",
        "sn.heatmap(df_cm, annot=True)"
      ]
    },
    {
      "attachments": {},
      "cell_type": "markdown",
      "metadata": {
        "id": "jidQMxmQo_4O"
      },
      "source": [
        "# 11. Test in Real Time"
      ]
    },
    {
      "cell_type": "code",
      "execution_count": 67,
      "metadata": {
        "id": "Tdu0mGZOo_4P"
      },
      "outputs": [],
      "source": [
        "from scipy import stats\n",
        "import threading\n",
        "from tensorflow.keras.models import Sequential\n",
        "from tensorflow.keras.layers import Dense, Dropout, LSTM\n",
        "from tensorflow.keras.callbacks import TensorBoard\n",
        "from tensorflow.keras.callbacks import EarlyStopping\n",
        "import tensorflow as tf"
      ]
    },
    {
      "cell_type": "code",
      "execution_count": 68,
      "metadata": {
        "id": "nEIyq8lco_4P"
      },
      "outputs": [],
      "source": [
        "colors = [(245,117,16), (117,245,16), (16,117,245)]\n",
        "def prob_viz(res, actions, input_frame, colors):\n",
        "    output_frame = input_frame.copy()\n",
        "    for num, prob in enumerate(res):\n",
        "        cv2.rectangle(output_frame, (0,60+num*40), (int(prob*100), 90+num*40), colors[num%3], -1)\n",
        "        cv2.putText(output_frame, actions[num], (0, 85+num*40), cv2.FONT_HERSHEY_SIMPLEX, 1, (255,255,255), 2, cv2.LINE_AA)\n",
        "    \n",
        "    # for num, prob in enumerate(res[6:]):\n",
        "    #     cv2.rectangle(output_frame, (input_frame.shape[1]-120,60+num*40), (input_frame.shape[1]-120+int(prob*100), 90+num*40), colors[num%3], -1)\n",
        "    #     cv2.putText(output_frame, actions[num+6], (input_frame.shape[1]-120, 85+num*40), cv2.FONT_HERSHEY_SIMPLEX, 1, (255,255,255), 2, cv2.LINE_AA)\n",
        "        \n",
        "    return output_frame"
      ]
    },
    {
      "cell_type": "code",
      "execution_count": null,
      "metadata": {
        "colab": {
          "base_uri": "https://localhost:8080/",
          "height": 344
        },
        "id": "XxsGX3Qno_4P",
        "outputId": "8d1d4aee-61df-4ca7-c237-51ec178d0c65"
      },
      "outputs": [],
      "source": [
        "# path_weight = './weights_1681109498.3648455.h5'\n",
        "model = tf.keras.models.load_model(path_weight)"
      ]
    },
    {
      "cell_type": "code",
      "execution_count": null,
      "metadata": {
        "id": "-w84kUTro_4P"
      },
      "outputs": [],
      "source": [
        "# 1. New detection variables\n",
        "sequence = []\n",
        "sentence = []\n",
        "predictions = []\n",
        "threshold = 0.5\n",
        "\n",
        "cap = cv2.VideoCapture(0)\n",
        "# Set mediapipe model \n",
        "with mp_holistic.Holistic(min_detection_confidence=0.5, min_tracking_confidence=0.5) as holistic:\n",
        "    while cap.isOpened():\n",
        "\n",
        "        # Read feed\n",
        "        ret, frame = cap.read()\n",
        "\n",
        "        # Make detections\n",
        "        image, results = mediapipe_detection(frame, holistic)\n",
        "        print(results)\n",
        "        \n",
        "        # Draw landmarks\n",
        "        draw_styled_landmarks(image, results)\n",
        "        \n",
        "        # 2. Prediction logic\n",
        "        keypoints = extract_keypoints(results)\n",
        "        sequence.append(keypoints)\n",
        "        sequence = sequence[-sequence_length:]\n",
        "        \n",
        "        if len(sequence) == sequence_length:\n",
        "            res = model.predict(np.expand_dims(sequence, axis=0))[0]\n",
        "            print(actions[np.argmax(res)])\n",
        "            predictions.append(np.argmax(res))\n",
        "            \n",
        "            \n",
        "        #3. Viz logic\n",
        "            if np.unique(predictions[-10:])[0]==np.argmax(res): \n",
        "                if res[np.argmax(res)] > threshold: \n",
        "                    \n",
        "                    if len(sentence) > 0: \n",
        "                        if actions[np.argmax(res)] != sentence[-1]:\n",
        "                            sentence.append(actions[np.argmax(res)])\n",
        "                    else:\n",
        "                        sentence.append(actions[np.argmax(res)])\n",
        "                        sequence = []\n",
        "\n",
        "\n",
        "            if len(sentence) > 5: \n",
        "                sentence = sentence[-5:]\n",
        "\n",
        "            # Viz probabilities\n",
        "            image = prob_viz(res, actions, image, colors)\n",
        "            \n",
        "        cv2.rectangle(image, (0,0), (640, 40), (245, 117, 16), -1)\n",
        "        cv2.putText(image, ' '.join(sentence), (3,20), \n",
        "                       cv2.FONT_HERSHEY_SIMPLEX, 1, (255, 255, 255), 2, cv2.LINE_AA)\n",
        "        \n",
        "        # Show to screen\n",
        "        cv2.imshow('OpenCV Feed', image)\n",
        "\n",
        "        # Break gracefully\n",
        "        if cv2.waitKey(10) & 0xFF == ord('q'):\n",
        "            break\n",
        "    cap.release()\n",
        "    cv2.destroyAllWindows()"
      ]
    },
    {
      "cell_type": "code",
      "execution_count": null,
      "metadata": {
        "id": "M1XHabByo_4Q"
      },
      "outputs": [],
      "source": [
        "cap.release()\n",
        "cv2.destroyAllWindows()"
      ]
    },
    {
      "cell_type": "code",
      "execution_count": null,
      "metadata": {
        "id": "b_SkFWxGo_4Q"
      },
      "outputs": [],
      "source": []
    },
    {
      "cell_type": "code",
      "execution_count": null,
      "metadata": {
        "id": "8-FlZTAYo_4Q"
      },
      "outputs": [],
      "source": []
    }
  ],
  "metadata": {
    "accelerator": "GPU",
    "colab": {
      "provenance": []
    },
    "gpuClass": "standard",
    "kernelspec": {
      "display_name": "Python 3",
      "language": "python",
      "name": "python3"
    },
    "language_info": {
      "codemirror_mode": {
        "name": "ipython",
        "version": 3
      },
      "file_extension": ".py",
      "mimetype": "text/x-python",
      "name": "python",
      "nbconvert_exporter": "python",
      "pygments_lexer": "ipython3",
      "version": "3.7.6"
    },
    "vscode": {
      "interpreter": {
        "hash": "916dbcbb3f70747c44a77c7bcd40155683ae19c65e1c03b4aa3499c5328201f1"
      }
    }
  },
  "nbformat": 4,
  "nbformat_minor": 0
}
