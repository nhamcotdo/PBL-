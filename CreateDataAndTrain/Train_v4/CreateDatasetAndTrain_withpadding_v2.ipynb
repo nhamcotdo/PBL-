{
  "cells": [
    {
      "cell_type": "code",
      "execution_count": 1,
      "metadata": {
        "colab": {
          "base_uri": "https://localhost:8080/"
        },
        "id": "LZqZOwTpo_3z",
        "outputId": "b9604734-8173-43f9-ef73-9f67cd4e877d"
      },
      "outputs": [
        {
          "name": "stdout",
          "output_type": "stream",
          "text": [
            "Looking in indexes: https://pypi.org/simple, https://us-python.pkg.dev/colab-wheels/public/simple/\n",
            "Collecting mediapipe\n",
            "  Downloading mediapipe-0.10.0-cp310-cp310-manylinux_2_17_x86_64.manylinux2014_x86_64.whl (33.9 MB)\n",
            "\u001b[2K     \u001b[90m━━━━━━━━━━━━━━━━━━━━━━━━━━━━━━━━━━━━━━━━\u001b[0m \u001b[32m33.9/33.9 MB\u001b[0m \u001b[31m15.5 MB/s\u001b[0m eta \u001b[36m0:00:00\u001b[0m\n",
            "\u001b[?25hRequirement already satisfied: absl-py in /usr/local/lib/python3.10/dist-packages (from mediapipe) (1.4.0)\n",
            "Requirement already satisfied: attrs>=19.1.0 in /usr/local/lib/python3.10/dist-packages (from mediapipe) (23.1.0)\n",
            "Requirement already satisfied: flatbuffers>=2.0 in /usr/local/lib/python3.10/dist-packages (from mediapipe) (23.3.3)\n",
            "Requirement already satisfied: matplotlib in /usr/local/lib/python3.10/dist-packages (from mediapipe) (3.7.1)\n",
            "Requirement already satisfied: numpy in /usr/local/lib/python3.10/dist-packages (from mediapipe) (1.22.4)\n",
            "Requirement already satisfied: opencv-contrib-python in /usr/local/lib/python3.10/dist-packages (from mediapipe) (4.7.0.72)\n",
            "Requirement already satisfied: protobuf<4,>=3.11 in /usr/local/lib/python3.10/dist-packages (from mediapipe) (3.20.3)\n",
            "Collecting sounddevice>=0.4.4 (from mediapipe)\n",
            "  Downloading sounddevice-0.4.6-py3-none-any.whl (31 kB)\n",
            "Requirement already satisfied: CFFI>=1.0 in /usr/local/lib/python3.10/dist-packages (from sounddevice>=0.4.4->mediapipe) (1.15.1)\n",
            "Requirement already satisfied: contourpy>=1.0.1 in /usr/local/lib/python3.10/dist-packages (from matplotlib->mediapipe) (1.0.7)\n",
            "Requirement already satisfied: cycler>=0.10 in /usr/local/lib/python3.10/dist-packages (from matplotlib->mediapipe) (0.11.0)\n",
            "Requirement already satisfied: fonttools>=4.22.0 in /usr/local/lib/python3.10/dist-packages (from matplotlib->mediapipe) (4.39.3)\n",
            "Requirement already satisfied: kiwisolver>=1.0.1 in /usr/local/lib/python3.10/dist-packages (from matplotlib->mediapipe) (1.4.4)\n",
            "Requirement already satisfied: packaging>=20.0 in /usr/local/lib/python3.10/dist-packages (from matplotlib->mediapipe) (23.1)\n",
            "Requirement already satisfied: pillow>=6.2.0 in /usr/local/lib/python3.10/dist-packages (from matplotlib->mediapipe) (8.4.0)\n",
            "Requirement already satisfied: pyparsing>=2.3.1 in /usr/local/lib/python3.10/dist-packages (from matplotlib->mediapipe) (3.0.9)\n",
            "Requirement already satisfied: python-dateutil>=2.7 in /usr/local/lib/python3.10/dist-packages (from matplotlib->mediapipe) (2.8.2)\n",
            "Requirement already satisfied: pycparser in /usr/local/lib/python3.10/dist-packages (from CFFI>=1.0->sounddevice>=0.4.4->mediapipe) (2.21)\n",
            "Requirement already satisfied: six>=1.5 in /usr/local/lib/python3.10/dist-packages (from python-dateutil>=2.7->matplotlib->mediapipe) (1.16.0)\n",
            "Installing collected packages: sounddevice, mediapipe\n",
            "Successfully installed mediapipe-0.10.0 sounddevice-0.4.6\n",
            "Looking in indexes: https://pypi.org/simple, https://us-python.pkg.dev/colab-wheels/public/simple/\n",
            "Requirement already satisfied: pandas in /usr/local/lib/python3.10/dist-packages (1.5.3)\n",
            "Requirement already satisfied: python-dateutil>=2.8.1 in /usr/local/lib/python3.10/dist-packages (from pandas) (2.8.2)\n",
            "Requirement already satisfied: pytz>=2020.1 in /usr/local/lib/python3.10/dist-packages (from pandas) (2022.7.1)\n",
            "Requirement already satisfied: numpy>=1.21.0 in /usr/local/lib/python3.10/dist-packages (from pandas) (1.22.4)\n",
            "Requirement already satisfied: six>=1.5 in /usr/local/lib/python3.10/dist-packages (from python-dateutil>=2.8.1->pandas) (1.16.0)\n",
            "Looking in indexes: https://pypi.org/simple, https://us-python.pkg.dev/colab-wheels/public/simple/\n",
            "Requirement already satisfied: numpy in /usr/local/lib/python3.10/dist-packages (1.22.4)\n",
            "Looking in indexes: https://pypi.org/simple, https://us-python.pkg.dev/colab-wheels/public/simple/\n",
            "Requirement already satisfied: pydot in /usr/local/lib/python3.10/dist-packages (1.4.2)\n",
            "Requirement already satisfied: pyparsing>=2.1.4 in /usr/local/lib/python3.10/dist-packages (from pydot) (3.0.9)\n"
          ]
        }
      ],
      "source": [
        "# Nếu chưa có thư viện thì run cell này\n",
        "!pip install mediapipe\n",
        "!pip install pandas\n",
        "!pip install numpy\n",
        "!pip install pydot"
      ]
    },
    {
      "cell_type": "code",
      "execution_count": 9,
      "metadata": {
        "colab": {
          "base_uri": "https://localhost:8080/"
        },
        "id": "x2QfIyJGpum8",
        "outputId": "39505432-38fa-4fa1-a7e8-4ec3ca574f63"
      },
      "outputs": [
        {
          "name": "stdout",
          "output_type": "stream",
          "text": [
            "Drive already mounted at /content/drive; to attempt to forcibly remount, call drive.mount(\"/content/drive\", force_remount=True).\n"
          ]
        }
      ],
      "source": [
        "from google.colab import drive\n",
        "drive.mount('/content/drive')"
      ]
    },
    {
      "attachments": {},
      "cell_type": "markdown",
      "metadata": {
        "id": "dDV1tdTdo_33"
      },
      "source": [
        "# 1. Import and Install Dependencies"
      ]
    },
    {
      "cell_type": "code",
      "execution_count": 10,
      "metadata": {
        "id": "Kh3UZtVDo_34"
      },
      "outputs": [],
      "source": [
        "import cv2\n",
        "import numpy as np\n",
        "import os\n",
        "from matplotlib import pyplot as plt\n",
        "import time\n",
        "import mediapipe as mp\n",
        "from PIL import Image, ImageOps\n",
        "import traceback\n",
        "import time"
      ]
    },
    {
      "attachments": {},
      "cell_type": "markdown",
      "metadata": {
        "id": "uEwTOLbeo_34"
      },
      "source": [
        "# 2. Keypoints using MP Holistic"
      ]
    },
    {
      "cell_type": "code",
      "execution_count": 11,
      "metadata": {
        "id": "qGD_26t3o_35"
      },
      "outputs": [],
      "source": [
        "mp_holistic = mp.solutions.holistic # Holistic model\n",
        "mp_drawing = mp.solutions.drawing_utils # Drawing utilities"
      ]
    },
    {
      "cell_type": "code",
      "execution_count": 12,
      "metadata": {
        "id": "nsZDwD_ko_35"
      },
      "outputs": [],
      "source": [
        "def mediapipe_detection(image, model):\n",
        "    image = cv2.cvtColor(image, cv2.COLOR_BGR2RGB) # COLOR CONVERSION BGR 2 RGB\n",
        "    image.flags.writeable = False                  # Image is no longer writeable\n",
        "    results = model.process(image)                 # Make prediction\n",
        "    image.flags.writeable = True                   # Image is now writeable \n",
        "    image = cv2.cvtColor(image, cv2.COLOR_RGB2BGR) # COLOR COVERSION RGB 2 BGR\n",
        "    return image, results"
      ]
    },
    {
      "cell_type": "code",
      "execution_count": 13,
      "metadata": {
        "id": "0RCg1KzIo_36"
      },
      "outputs": [],
      "source": [
        "def draw_landmarks(image, results):\n",
        "    mp_drawing.draw_landmarks(image, results.pose_landmarks, mp_holistic.POSE_CONNECTIONS) # Draw pose connections\n",
        "    mp_drawing.draw_landmarks(image, results.left_hand_landmarks, mp_holistic.HAND_CONNECTIONS) # Draw left hand connections\n",
        "    mp_drawing.draw_landmarks(image, results.right_hand_landmarks, mp_holistic.HAND_CONNECTIONS) # Draw right hand connections"
      ]
    },
    {
      "cell_type": "code",
      "execution_count": 14,
      "metadata": {
        "id": "Wz4ur5U3o_36"
      },
      "outputs": [],
      "source": [
        "def draw_styled_landmarks(image, results):\n",
        "    # Draw pose connections\n",
        "    mp_drawing.draw_landmarks(image, results.pose_landmarks, mp_holistic.POSE_CONNECTIONS,\n",
        "                             mp_drawing.DrawingSpec(color=(80,22,10), thickness=2, circle_radius=4), \n",
        "                             mp_drawing.DrawingSpec(color=(80,44,121), thickness=2, circle_radius=2)\n",
        "                             ) \n",
        "    # Draw left hand connections\n",
        "    mp_drawing.draw_landmarks(image, results.left_hand_landmarks, mp_holistic.HAND_CONNECTIONS, \n",
        "                             mp_drawing.DrawingSpec(color=(121,22,76), thickness=2, circle_radius=4), \n",
        "                             mp_drawing.DrawingSpec(color=(121,44,250), thickness=2, circle_radius=2)\n",
        "                             ) \n",
        "    # Draw right hand connections  \n",
        "    mp_drawing.draw_landmarks(image, results.right_hand_landmarks, mp_holistic.HAND_CONNECTIONS, \n",
        "                             mp_drawing.DrawingSpec(color=(245,117,66), thickness=2, circle_radius=4), \n",
        "                             mp_drawing.DrawingSpec(color=(245,66,230), thickness=2, circle_radius=2)\n",
        "                             ) "
      ]
    },
    {
      "cell_type": "code",
      "execution_count": 15,
      "metadata": {
        "id": "MtCQ32fzo_3-"
      },
      "outputs": [],
      "source": [
        "# cap = cv2.VideoCapture(0)\n",
        "# # Set mediapipe model \n",
        "# with mp_holistic.Holistic(min_detection_confidence=0.5, min_tracking_confidence=0.5) as holistic:\n",
        "#     while cap.isOpened():\n",
        "\n",
        "#         # Read feed\n",
        "#         ret, frame = cap.read()\n",
        "\n",
        "#         # Make detections\n",
        "#         image, results = mediapipe_detection(frame, holistic)\n",
        "#         print(results)\n",
        "        \n",
        "#         # Draw landmarks\n",
        "#         draw_styled_landmarks(image, results)\n",
        "\n",
        "#         # Show to screen\n",
        "#         cv2.imshow('OpenCV Feed', image)\n",
        "\n",
        "#         # Break gracefully\n",
        "#         if cv2.waitKey(10) & 0xFF == ord('q'):\n",
        "#             break\n",
        "#     cap.release()\n",
        "#     cv2.destroyAllWindows()"
      ]
    },
    {
      "attachments": {},
      "cell_type": "markdown",
      "metadata": {
        "id": "vVcxCZbto_3-"
      },
      "source": [
        "# 3. Setup Folders for Collection"
      ]
    },
    {
      "cell_type": "code",
      "execution_count": 16,
      "metadata": {
        "id": "RtysfZFfo_3_"
      },
      "outputs": [],
      "source": [
        "# Path for exported data, numpy arrays\n",
        "# DATA_PATH = os.path.join('./Data')\n",
        "DATA_PATH = os.path.join('./drive/MyDrive/PBL5/Data/')\n",
        "LOG_PATH = os.path.join('./drive/MyDrive/PBL5/Logs/')\n",
        "\n",
        "# Actions that we try to detect\n",
        "actions = np.array(\n",
        "[\n",
        "    \"Bye\",\n",
        "    \"Eat\",\n",
        "    \"Fine\",\n",
        "    \"Good\",\n",
        "    \"Hello\",\n",
        "    \"I\",\n",
        "    \"You\",\n",
        "    \"Love\",\n",
        "    \"None\",\n",
        "    \"Read\",\n",
        "    \"What\",\n",
        "    \"Name\",\n",
        "    \"Sleep\",\n",
        "    \"Your\"\n",
        "  ]\n",
        "    )\n",
        "\n",
        "# Path for exported data, numpy arrays\n",
        "# DATASET_PATH = os.path.join('./Data')\n",
        "\n"
      ]
    },
    {
      "cell_type": "code",
      "execution_count": 17,
      "metadata": {
        "colab": {
          "base_uri": "https://localhost:8080/"
        },
        "id": "wnkmyzq7R6Ke",
        "outputId": "52da176c-9a07-47b6-ac2f-c7e031b2e8dd"
      },
      "outputs": [
        {
          "data": {
            "text/plain": [
              "14"
            ]
          },
          "execution_count": 17,
          "metadata": {},
          "output_type": "execute_result"
        }
      ],
      "source": [
        "len(set(actions))"
      ]
    },
    {
      "attachments": {},
      "cell_type": "markdown",
      "metadata": {
        "id": "BTSjYUp6o_4A"
      },
      "source": [
        "# 4. Extract Keypoint Values"
      ]
    },
    {
      "cell_type": "code",
      "execution_count": 18,
      "metadata": {
        "id": "XFmAHFpQo_4A"
      },
      "outputs": [],
      "source": [
        "import subprocess\n",
        "list_num_frames  = []\n",
        "\n",
        "for class_index, class_name in enumerate(actions):\n",
        "    files_list = os.listdir(os.path.join(DATA_PATH, class_name))\n",
        "    # Iterate through all the files present in the files list.\n",
        "    for file_name in files_list:\n",
        "        # print(file_name)\n",
        "        # Get the complete video path.\n",
        "        video_file_path = os.path.join(\n",
        "            DATA_PATH, class_name, file_name)\n",
        "        c = 'ffmpeg -y -i ' + video_file_path + ' -r 20 -c:v libx264 -preset ultrafast -movflags +faststart ' + video_file_path\n",
        "        subprocess.call(c, shell=True)\n",
        "        cap = cv2.VideoCapture(video_file_path)\n",
        "        num_frames = 0\n",
        "        while True:\n",
        "            num_frames += 1\n",
        "            rt, f = cap.read()\n",
        "            if not rt:\n",
        "                break\n",
        "        list_num_frames.append(num_frames)\n",
        "        cap.release()\n"
      ]
    },
    {
      "cell_type": "code",
      "execution_count": 27,
      "metadata": {
        "colab": {
          "base_uri": "https://localhost:8080/",
          "height": 499
        },
        "id": "WnGYdqAXiISB",
        "outputId": "a7b8df04-8bf1-41c2-edb9-286001ea398d"
      },
      "outputs": [
        {
          "data": {
            "text/plain": [
              "(array([264., 213.,  32.,  14.,  16.,  48.,  70.,  20.,   1.,   1.]),\n",
              " array([  9. ,  22.6,  36.2,  49.8,  63.4,  77. ,  90.6, 104.2, 117.8,\n",
              "        131.4, 145. ]),\n",
              " <BarContainer object of 10 artists>)"
            ]
          },
          "execution_count": 27,
          "metadata": {},
          "output_type": "execute_result"
        },
        {
          "data": {
            "image/png": "[encoded data removed]",
            "text/plain": [
              "<Figure size 640x480 with 1 Axes>"
            ]
          },
          "metadata": {},
          "output_type": "display_data"
        }
      ],
      "source": [
        "plt.hist(list_num_frames)"
      ]
    },
    {
      "cell_type": "code",
      "execution_count": 28,
      "metadata": {
        "colab": {
          "base_uri": "https://localhost:8080/"
        },
        "id": "YHtWwwU8FSGg",
        "outputId": "3204e82d-cd23-4653-8e4f-4228f7bcdc62"
      },
      "outputs": [
        {
          "data": {
            "text/plain": [
              "673"
            ]
          },
          "execution_count": 28,
          "metadata": {},
          "output_type": "execute_result"
        }
      ],
      "source": [
        "sum(np.array(list_num_frames) > 10)"
      ]
    },
    {
      "cell_type": "code",
      "execution_count": 32,
      "metadata": {
        "colab": {
          "base_uri": "https://localhost:8080/"
        },
        "id": "FyK7-XkmiYpW",
        "outputId": "3e522847-10f4-49d2-9fbd-9fec81629ffc"
      },
      "outputs": [
        {
          "data": {
            "text/plain": [
              "648"
            ]
          },
          "execution_count": 32,
          "metadata": {},
          "output_type": "execute_result"
        }
      ],
      "source": [
        "sum(np.array(list_num_frames) > 12)"
      ]
    },
    {
      "cell_type": "code",
      "execution_count": 34,
      "metadata": {
        "id": "JALRkJdxo_4C"
      },
      "outputs": [],
      "source": [
        "sequence_length = 12"
      ]
    },
    {
      "cell_type": "code",
      "execution_count": 35,
      "metadata": {
        "id": "SxVlt1Qlo_4D"
      },
      "outputs": [],
      "source": [
        "def extract_keypoints(results):\n",
        "    pose = np.array([[res.x, res.y, res.z, res.visibility] for res in results.pose_landmarks.landmark]).flatten() if results.pose_landmarks else np.zeros(33*4)\n",
        "    lh = np.array([[res.x, res.y, res.z, res.visibility] for res in results.left_hand_landmarks.landmark]).flatten() if results.left_hand_landmarks else np.zeros(21*4)\n",
        "    rh = np.array([[res.x, res.y, res.z, res.visibility] for res in results.right_hand_landmarks.landmark]).flatten() if results.right_hand_landmarks else np.zeros(21*4)\n",
        "    return np.concatenate([pose, lh, rh])"
      ]
    },
    {
      "cell_type": "code",
      "execution_count": 36,
      "metadata": {
        "id": "B0hJqPrlo_4D"
      },
      "outputs": [],
      "source": [
        "def rotate_image(image, angle):\n",
        "    image_center = tuple(np.array(image.shape[1::-1]) / 2)\n",
        "    rot_mat = cv2.getRotationMatrix2D(image_center, angle, 1.0)\n",
        "    result = cv2.warpAffine(image, rot_mat, image.shape[1::-1], flags=cv2.INTER_LINEAR)\n",
        "    return result"
      ]
    },
    {
      "cell_type": "code",
      "execution_count": 37,
      "metadata": {
        "id": "mtoNKigw-ECr"
      },
      "outputs": [],
      "source": [
        "def resize_with_padding(img, expected_size):\n",
        "    img = Image.fromarray(img)\n",
        "    img.thumbnail((expected_size[0], expected_size[1]))\n",
        "    delta_width = expected_size[0] - img.size[0]\n",
        "    delta_height = expected_size[1] - img.size[1]\n",
        "    pad_width = delta_width // 2\n",
        "    pad_height = delta_height // 2\n",
        "    padding = (pad_width, pad_height, delta_width - pad_width, delta_height - pad_height)\n",
        "    return np.array(ImageOps.expand(img, padding))"
      ]
    },
    {
      "cell_type": "code",
      "execution_count": 81,
      "metadata": {
        "id": "NLmRPeFYo_4D"
      },
      "outputs": [],
      "source": [
        "def frames_extraction(video_path, rev=False, angle=0, padding=False, skip_frames_window=0, skip_frames=0):\n",
        "    video_reader = cv2.VideoCapture(video_path)\n",
        "   \n",
        "    # Danh sách chứa các frame sẽ lấy\n",
        "    video_keypoints = []\n",
        "\n",
        "    cap = cv2.VideoCapture(video_path)\n",
        "    with mp_holistic.Holistic(min_detection_confidence=0.5, min_tracking_confidence=0.5) as holistic:\n",
        "        for frame_counter in range(sequence_length):\n",
        "            cap.set(cv2.CAP_PROP_POS_FRAMES,\n",
        "                    skip_frames + frame_counter * skip_frames_window)\n",
        "            \n",
        "            ret, frame = cap.read()\n",
        "            if not ret:\n",
        "                print('eror')\n",
        "                continue\n",
        "\n",
        "            if rev:\n",
        "                frame = cv2.flip(frame, 1)\n",
        "            if angle:\n",
        "                frame = rotate_image(frame, angle=angle)\n",
        "            if padding: \n",
        "                padding = np.random.randint(12, 17) / 10\n",
        "                frame = resize_with_padding(frame, (int(frame.shape[1] * padding),int(frame.shape[0] * padding)))\n",
        "\n",
        "            image, results = mediapipe_detection(frame, holistic)\n",
        "            draw_styled_landmarks(image, results)   \n",
        "\n",
        "            keypoints = extract_keypoints(results)\n",
        "            video_keypoints.append(keypoints)\n",
        "    if len(video_keypoints) < sequence_length:\n",
        "        return np.empty((0))\n",
        "    video_keypoints = np.reshape(video_keypoints, (1, sequence_length, 300))\n",
        "    return video_keypoints\n"
      ]
    },
    {
      "attachments": {},
      "cell_type": "markdown",
      "metadata": {
        "id": "Hf6CZNUbo_4F"
      },
      "source": [
        "# 5. Collect Keypoint Values for Training and Testing"
      ]
    },
    {
      "cell_type": "code",
      "execution_count": 92,
      "metadata": {
        "id": "H4tx7lmB-ECt"
      },
      "outputs": [],
      "source": [
        "import numpy as np\n",
        "\n",
        "features = np.empty((0, sequence_length, 300))\n",
        "labels = np.empty((0))\n",
        "\n",
        "def dataOneFile(video_file_path, class_index, padding=False):\n",
        "    global features\n",
        "    global labels\n",
        "    video_reader = cv2.VideoCapture(video_file_path)\n",
        "    video_frames_count = 0\n",
        "    s, f = video_reader.read()\n",
        "    while s:\n",
        "        s, f = video_reader.read()\n",
        "        video_frames_count += 1\n",
        "    video_reader.release()\n",
        "\n",
        "    if video_frames_count < sequence_length:\n",
        "        return []\n",
        "    skip_frames = int(0.05 * video_frames_count)\n",
        "    skip_frames_window = max(int((video_frames_count - skip_frames*2) /sequence_length), 1)\n",
        "\n",
        "    video_keypoints = frames_extraction(video_file_path, padding=padding, skip_frames_window=skip_frames_window, skip_frames=skip_frames)\n",
        "    if video_keypoints.any():\n",
        "        features = np.concatenate((features, video_keypoints), axis=0)\n",
        "        labels = np.concatenate((labels, np.array([class_index])))\n",
        "\n",
        "    # flip \n",
        "    video_keypoints = frames_extraction(video_file_path,  padding=padding, rev=True, skip_frames_window=skip_frames_window, skip_frames=skip_frames)\n",
        "    if video_keypoints.any():\n",
        "        features = np.concatenate((features, video_keypoints), axis=0)\n",
        "        labels = np.concatenate((labels, np.array([class_index])))\n",
        "\n",
        "    # random rotate\n",
        "    video_keypoints = frames_extraction(video_file_path, angle=np.random.randint(10, 30), padding=padding, rev=True, skip_frames_window=skip_frames_window, skip_frames=skip_frames)\n",
        "    if video_keypoints.any():\n",
        "        features = np.concatenate((features, video_keypoints), axis=0)\n",
        "        labels = np.concatenate((labels, np.array([class_index])))\n",
        "\n",
        "    video_keypoints = frames_extraction(video_file_path, angle=np.random.randint(-30, -10), padding=padding, rev=True, skip_frames_window=skip_frames_window, skip_frames=skip_frames)\n",
        "    if video_keypoints.any():\n",
        "        features = np.concatenate((features, video_keypoints), axis=0)\n",
        "        labels = np.concatenate((labels, np.array([class_index])))\n",
        "\n",
        "    video_keypoints = frames_extraction(video_file_path, padding=padding, rev=False, skip_frames_window=skip_frames_window, skip_frames=skip_frames)\n",
        "    if video_keypoints.any():\n",
        "        features = np.concatenate((features, video_keypoints), axis=0)\n",
        "        labels = np.concatenate((labels, np.array([class_index])))\n",
        "\n",
        "    # random rotate\n",
        "    video_keypoints = frames_extraction(video_file_path, angle=np.random.randint(10, 30), padding=padding, rev=False, skip_frames_window=skip_frames_window, skip_frames=skip_frames)\n",
        "    if video_keypoints.any():\n",
        "        features = np.concatenate((features, video_keypoints), axis=0)\n",
        "        labels = np.concatenate((labels, np.array([class_index])))\n",
        "\n",
        "    video_keypoints = frames_extraction(video_file_path, angle=np.random.randint(-30, -10), padding=padding, rev=False, skip_frames_window=skip_frames_window, skip_frames=skip_frames)\n",
        "    if video_keypoints.any():\n",
        "        features = np.concatenate((features, video_keypoints), axis=0)\n",
        "        labels = np.concatenate((labels, np.array([class_index])))\n",
        "\n",
        "# Đảm bảo features và labels là mảng NumPy\n",
        "features = np.array(features)\n",
        "labels = np.array(labels)\n"
      ]
    },
    {
      "cell_type": "code",
      "execution_count": 93,
      "metadata": {
        "id": "-7-Uwp3-o_4G"
      },
      "outputs": [],
      "source": [
        "def create_dataset():\n",
        "    for class_index, class_name in enumerate(actions):\n",
        "        print(f'Extracting Data of Class: {class_name}')\n",
        "\n",
        "        files_list = os.listdir(os.path.join(DATA_PATH, class_name))\n",
        "\n",
        "        # Iterate through all the files present in the files list.\n",
        "        for file_name in files_list:\n",
        "            # print(file_name)\n",
        "            try:\n",
        "                video_file_path = os.path.join(\n",
        "                    DATA_PATH, class_name, file_name)\n",
        "                dataOneFile(video_file_path, class_index)\n",
        "                dataOneFile(video_file_path, class_index, True)\n",
        "                \n",
        "            except Exception as e:\n",
        "                print(e)\n",
        "                traceback.print_stack()\n",
        "                continue\n",
        "\n",
        "        cv2.destroyAllWindows()\n",
        "    return features, labels"
      ]
    },
    {
      "cell_type": "code",
      "execution_count": 94,
      "metadata": {
        "colab": {
          "base_uri": "https://localhost:8080/"
        },
        "id": "_NETHIgXo_4G",
        "outputId": "45c376af-c04b-401e-dbb7-3019513e4737"
      },
      "outputs": [
        {
          "name": "stdout",
          "output_type": "stream",
          "text": [
            "Extracting Data of Class: Bye\n",
            "Extracting Data of Class: Eat\n",
            "Extracting Data of Class: Fine\n",
            "Extracting Data of Class: Good\n",
            "Extracting Data of Class: Hello\n",
            "Extracting Data of Class: I\n",
            "Extracting Data of Class: You\n",
            "Extracting Data of Class: Love\n",
            "Extracting Data of Class: None\n",
            "Extracting Data of Class: Read\n",
            "Extracting Data of Class: What\n",
            "Extracting Data of Class: Name\n",
            "Extracting Data of Class: Sleep\n",
            "Extracting Data of Class: Your\n",
            "total time:  16956.75657248497\n"
          ]
        }
      ],
      "source": [
        "time_start = time.time()\n",
        "create_dataset()\n",
        "# features = np.asarray(features)\n",
        "# labels = np.array(labels)\n",
        "np.savez_compressed(f'{DATA_PATH}/data_rich_full_padding_v2.npz', features=features, labels=labels)\n",
        "time_end = time.time()\n",
        "\n",
        "\n",
        "print('total time: ', time_end - time_start)"
      ]
    },
    {
      "cell_type": "code",
      "execution_count": 95,
      "metadata": {
        "colab": {
          "base_uri": "https://localhost:8080/"
        },
        "id": "wqlq2ntBpZQx",
        "outputId": "beff818a-525a-48dc-ccc6-b58bcefc2098"
      },
      "outputs": [
        {
          "data": {
            "text/plain": [
              "(9065, 12, 300)"
            ]
          },
          "execution_count": 95,
          "metadata": {},
          "output_type": "execute_result"
        }
      ],
      "source": [
        "features.shape"
      ]
    },
    {
      "cell_type": "code",
      "execution_count": 96,
      "metadata": {
        "colab": {
          "base_uri": "https://localhost:8080/"
        },
        "id": "cjUWbWJNrR3M",
        "outputId": "96123380-63dc-4581-a105-57c55520274c"
      },
      "outputs": [
        {
          "data": {
            "text/plain": [
              "(9065,)"
            ]
          },
          "execution_count": 96,
          "metadata": {},
          "output_type": "execute_result"
        }
      ],
      "source": [
        "labels.shape"
      ]
    },
    {
      "cell_type": "code",
      "execution_count": 97,
      "metadata": {
        "id": "BDVQBvnWuN_J"
      },
      "outputs": [],
      "source": [
        "# data1 = np.load(f'{DATA_PATH}data_rich_full_padding1.npz')\n",
        "# X1 = data1['features']\n",
        "# labels1 = data1['labels']\n",
        "# set(labels1)"
      ]
    },
    {
      "cell_type": "code",
      "execution_count": 98,
      "metadata": {
        "id": "8OxHelJquxgc"
      },
      "outputs": [],
      "source": [
        "# data2 = np.load(f'{DATA_PATH}data_rich_full_padding2.npz')\n",
        "# X2 = data2['features']\n",
        "# labels2 = data2['labels']\n",
        "# set(labels2)"
      ]
    },
    {
      "cell_type": "code",
      "execution_count": 99,
      "metadata": {
        "id": "7RHFCcEwu6Ub"
      },
      "outputs": [],
      "source": [
        "# data3 = np.load(f'{DATA_PATH}data_rich_full_padding3.npz')\n",
        "# X3 = data3['features']\n",
        "# labels3 = data3['labels'] \n",
        "# set(labels3)"
      ]
    },
    {
      "cell_type": "code",
      "execution_count": null,
      "metadata": {
        "id": "DnCAn_OdyXa8"
      },
      "outputs": [],
      "source": [
        "# x10 = X3[labels==10]\n",
        "# labels10 = labels3[labels3==10]\n",
        "# x10 = x10[:658]\n",
        "# labels10 = labels10[:658]\n",
        "# X3 = np.concatenate([X3, x10])\n",
        "# labels3 = np.concatenate([labels3, labels10])\n"
      ]
    },
    {
      "cell_type": "code",
      "execution_count": null,
      "metadata": {
        "colab": {
          "base_uri": "https://localhost:8080/"
        },
        "id": "WLLkAC-VvjnQ",
        "outputId": "2d0efc03-b647-432c-eeb7-77bb2c7a2c57"
      },
      "outputs": [
        {
          "data": {
            "text/plain": [
              "(10220, 10, 300)"
            ]
          },
          "execution_count": 12,
          "metadata": {},
          "output_type": "execute_result"
        }
      ],
      "source": [
        "# X = np.concatenate([X1, X2, X3])\n",
        "# X.shape"
      ]
    },
    {
      "cell_type": "code",
      "execution_count": null,
      "metadata": {
        "colab": {
          "base_uri": "https://localhost:8080/"
        },
        "id": "h762aoamvk_b",
        "outputId": "0d87a63a-4741-47aa-9b72-bdc8d013de6b"
      },
      "outputs": [
        {
          "data": {
            "text/plain": [
              "(10220,)"
            ]
          },
          "execution_count": 13,
          "metadata": {},
          "output_type": "execute_result"
        }
      ],
      "source": [
        "# labels = np.concatenate([labels1, labels2, labels3])\n",
        "# labels.shape"
      ]
    },
    {
      "cell_type": "code",
      "execution_count": null,
      "metadata": {
        "id": "uRyxobXCBwoB"
      },
      "outputs": [],
      "source": [
        "# np.savez_compressed(f'{DATA_PATH}/data_rich_full_padding.npz', features=X, labels=labels)"
      ]
    },
    {
      "attachments": {},
      "cell_type": "markdown",
      "metadata": {
        "id": "hD-05nsao_4G"
      },
      "source": [
        "# 6. Preprocess Data and Create Labels and Features"
      ]
    },
    {
      "cell_type": "code",
      "execution_count": 1,
      "metadata": {
        "colab": {
          "base_uri": "https://localhost:8080/"
        },
        "id": "kVfjLQDrjK3I",
        "outputId": "53f4b038-3c1c-430d-a4b1-872d0ebefb2a"
      },
      "outputs": [
        {
          "name": "stdout",
          "output_type": "stream",
          "text": [
            "Looking in indexes: https://pypi.org/simple, https://us-python.pkg.dev/colab-wheels/public/simple/\n",
            "Collecting mediapipe\n",
            "  Downloading mediapipe-0.10.0-cp310-cp310-manylinux_2_17_x86_64.manylinux2014_x86_64.whl (33.9 MB)\n",
            "\u001b[2K     \u001b[90m━━━━━━━━━━━━━━━━━━━━━━━━━━━━━━━━━━━━━━━━\u001b[0m \u001b[32m33.9/33.9 MB\u001b[0m \u001b[31m18.0 MB/s\u001b[0m eta \u001b[36m0:00:00\u001b[0m\n",
            "\u001b[?25hRequirement already satisfied: absl-py in /usr/local/lib/python3.10/dist-packages (from mediapipe) (1.4.0)\n",
            "Requirement already satisfied: attrs>=19.1.0 in /usr/local/lib/python3.10/dist-packages (from mediapipe) (23.1.0)\n",
            "Requirement already satisfied: flatbuffers>=2.0 in /usr/local/lib/python3.10/dist-packages (from mediapipe) (23.3.3)\n",
            "Requirement already satisfied: matplotlib in /usr/local/lib/python3.10/dist-packages (from mediapipe) (3.7.1)\n",
            "Requirement already satisfied: numpy in /usr/local/lib/python3.10/dist-packages (from mediapipe) (1.22.4)\n",
            "Requirement already satisfied: opencv-contrib-python in /usr/local/lib/python3.10/dist-packages (from mediapipe) (4.7.0.72)\n",
            "Requirement already satisfied: protobuf<4,>=3.11 in /usr/local/lib/python3.10/dist-packages (from mediapipe) (3.20.3)\n",
            "Collecting sounddevice>=0.4.4 (from mediapipe)\n",
            "  Downloading sounddevice-0.4.6-py3-none-any.whl (31 kB)\n",
            "Requirement already satisfied: CFFI>=1.0 in /usr/local/lib/python3.10/dist-packages (from sounddevice>=0.4.4->mediapipe) (1.15.1)\n",
            "Requirement already satisfied: contourpy>=1.0.1 in /usr/local/lib/python3.10/dist-packages (from matplotlib->mediapipe) (1.0.7)\n",
            "Requirement already satisfied: cycler>=0.10 in /usr/local/lib/python3.10/dist-packages (from matplotlib->mediapipe) (0.11.0)\n",
            "Requirement already satisfied: fonttools>=4.22.0 in /usr/local/lib/python3.10/dist-packages (from matplotlib->mediapipe) (4.39.3)\n",
            "Requirement already satisfied: kiwisolver>=1.0.1 in /usr/local/lib/python3.10/dist-packages (from matplotlib->mediapipe) (1.4.4)\n",
            "Requirement already satisfied: packaging>=20.0 in /usr/local/lib/python3.10/dist-packages (from matplotlib->mediapipe) (23.1)\n",
            "Requirement already satisfied: pillow>=6.2.0 in /usr/local/lib/python3.10/dist-packages (from matplotlib->mediapipe) (8.4.0)\n",
            "Requirement already satisfied: pyparsing>=2.3.1 in /usr/local/lib/python3.10/dist-packages (from matplotlib->mediapipe) (3.0.9)\n",
            "Requirement already satisfied: python-dateutil>=2.7 in /usr/local/lib/python3.10/dist-packages (from matplotlib->mediapipe) (2.8.2)\n",
            "Requirement already satisfied: pycparser in /usr/local/lib/python3.10/dist-packages (from CFFI>=1.0->sounddevice>=0.4.4->mediapipe) (2.21)\n",
            "Requirement already satisfied: six>=1.5 in /usr/local/lib/python3.10/dist-packages (from python-dateutil>=2.7->matplotlib->mediapipe) (1.16.0)\n",
            "Installing collected packages: sounddevice, mediapipe\n",
            "Successfully installed mediapipe-0.10.0 sounddevice-0.4.6\n",
            "Looking in indexes: https://pypi.org/simple, https://us-python.pkg.dev/colab-wheels/public/simple/\n",
            "Requirement already satisfied: pandas in /usr/local/lib/python3.10/dist-packages (1.5.3)\n",
            "Requirement already satisfied: python-dateutil>=2.8.1 in /usr/local/lib/python3.10/dist-packages (from pandas) (2.8.2)\n",
            "Requirement already satisfied: pytz>=2020.1 in /usr/local/lib/python3.10/dist-packages (from pandas) (2022.7.1)\n",
            "Requirement already satisfied: numpy>=1.21.0 in /usr/local/lib/python3.10/dist-packages (from pandas) (1.22.4)\n",
            "Requirement already satisfied: six>=1.5 in /usr/local/lib/python3.10/dist-packages (from python-dateutil>=2.8.1->pandas) (1.16.0)\n",
            "Looking in indexes: https://pypi.org/simple, https://us-python.pkg.dev/colab-wheels/public/simple/\n",
            "Requirement already satisfied: numpy in /usr/local/lib/python3.10/dist-packages (1.22.4)\n",
            "Looking in indexes: https://pypi.org/simple, https://us-python.pkg.dev/colab-wheels/public/simple/\n",
            "Requirement already satisfied: pydot in /usr/local/lib/python3.10/dist-packages (1.4.2)\n",
            "Requirement already satisfied: pyparsing>=2.1.4 in /usr/local/lib/python3.10/dist-packages (from pydot) (3.0.9)\n"
          ]
        }
      ],
      "source": [
        "# Nếu chưa có thư viện thì run cell này\n",
        "!pip install mediapipe\n",
        "!pip install pandas\n",
        "!pip install numpy\n",
        "!pip install pydot"
      ]
    },
    {
      "cell_type": "code",
      "execution_count": 2,
      "metadata": {
        "colab": {
          "base_uri": "https://localhost:8080/"
        },
        "id": "vFvzRGvKjX1_",
        "outputId": "0086411f-e146-467c-981a-d5ae0ed7c234"
      },
      "outputs": [
        {
          "name": "stdout",
          "output_type": "stream",
          "text": [
            "Mounted at /content/drive\n"
          ]
        }
      ],
      "source": [
        "from google.colab import drive\n",
        "drive.mount('/content/drive')"
      ]
    },
    {
      "cell_type": "code",
      "execution_count": 10,
      "metadata": {
        "id": "pJmOqwfbo_4H"
      },
      "outputs": [],
      "source": [
        "from sklearn.model_selection import train_test_split\n",
        "from tensorflow.keras.utils import to_categorical\n",
        "from sklearn.model_selection import StratifiedShuffleSplit\n",
        "import cv2\n",
        "import numpy as np\n",
        "import os\n",
        "from matplotlib import pyplot as plt\n",
        "import time\n",
        "import mediapipe as mp\n",
        "import matplotlib.pyplot as plt\n",
        "from sklearn.metrics import multilabel_confusion_matrix, accuracy_score\n"
      ]
    },
    {
      "cell_type": "code",
      "execution_count": 11,
      "metadata": {
        "colab": {
          "base_uri": "https://localhost:8080/"
        },
        "id": "plAGkLtVcNr6",
        "outputId": "18f9bc2b-eaa7-46fe-a457-2e7ca3a4ff0e"
      },
      "outputs": [
        {
          "data": {
            "text/plain": [
              "{'Bye': 0,\n",
              " 'Eat': 1,\n",
              " 'Fine': 2,\n",
              " 'Good': 3,\n",
              " 'Hello': 4,\n",
              " 'I': 5,\n",
              " 'You': 6,\n",
              " 'Love': 7,\n",
              " 'None': 8,\n",
              " 'Read': 9,\n",
              " 'What': 10,\n",
              " 'Name': 11,\n",
              " 'Sleep': 12,\n",
              " 'Your': 13}"
            ]
          },
          "execution_count": 11,
          "metadata": {},
          "output_type": "execute_result"
        }
      ],
      "source": [
        "# Path for exported data, numpy arrays\n",
        "# DATA_PATH = os.path.join('./Data')\n",
        "DATA_PATH = os.path.join('./drive/MyDrive/PBL5/Data/')\n",
        "log_dir = os.path.join(f'./drive/MyDrive/PBL5/Logs/{time.time()}')\n",
        "checkpoint_filepath = f'./drive/MyDrive/PBL5/checkpoint/{time.time()}'\n",
        "\n",
        "\n",
        "# Actions that we try to detect\n",
        "actions = np.array(\n",
        "['Bye','Eat', 'Fine', 'Good', 'Hello', 'I', 'You', 'Love', 'None', 'Read', 'What', 'Name', 'Sleep', 'Your']\n",
        "    )\n",
        "sequence_length = 12\n",
        "# Path for exported data, numpy arrays\n",
        "# DATASET_PATH = os.path.join('./Data')\n",
        "label_map = {label:num for num, label in enumerate(actions)}\n",
        "label_map"
      ]
    },
    {
      "cell_type": "code",
      "execution_count": 12,
      "metadata": {
        "id": "BKQ0DtV7o_4I"
      },
      "outputs": [],
      "source": [
        "data = np.load(f'{DATA_PATH}/data_rich_full_padding_v2.npz')\n",
        "X = data['features']\n",
        "labels = data['labels']"
      ]
    },
    {
      "cell_type": "code",
      "execution_count": 13,
      "metadata": {
        "colab": {
          "base_uri": "https://localhost:8080/"
        },
        "id": "j5L1OQolvoMk",
        "outputId": "41a7e53f-9b42-474f-b6ac-833ba61a33b5"
      },
      "outputs": [
        {
          "data": {
            "text/plain": [
              "(9065, 12, 300)"
            ]
          },
          "execution_count": 13,
          "metadata": {},
          "output_type": "execute_result"
        }
      ],
      "source": [
        "X.shape"
      ]
    },
    {
      "cell_type": "code",
      "execution_count": 14,
      "metadata": {
        "id": "mwSYLmBPo_4I"
      },
      "outputs": [],
      "source": [
        "y = to_categorical(labels).astype(int)"
      ]
    },
    {
      "cell_type": "code",
      "execution_count": 15,
      "metadata": {
        "colab": {
          "base_uri": "https://localhost:8080/"
        },
        "id": "c1vtq8IVo_4J",
        "outputId": "9c26f047-b2a7-4f75-8fcf-3a448dbfe3ba"
      },
      "outputs": [
        {
          "data": {
            "text/plain": [
              "(9065, 14)"
            ]
          },
          "execution_count": 15,
          "metadata": {},
          "output_type": "execute_result"
        }
      ],
      "source": [
        "y.shape"
      ]
    },
    {
      "cell_type": "code",
      "execution_count": 16,
      "metadata": {
        "colab": {
          "base_uri": "https://localhost:8080/"
        },
        "id": "OD0OLxaUw1OI",
        "outputId": "7eb91b47-30ae-4186-cdb6-c6f7985c8365"
      },
      "outputs": [
        {
          "data": {
            "text/plain": [
              "array([ 4.24572110e-01,  3.91099453e-01, -6.20995164e-01,  9.99823034e-01,\n",
              "        4.48766142e-01,  3.35250854e-01, -5.96656501e-01,  9.99713480e-01,\n",
              "        4.64428782e-01,  3.33132446e-01, -5.96550465e-01,  9.99755323e-01,\n",
              "        4.75912452e-01,  3.32369387e-01, -5.96911073e-01,  9.99762595e-01,\n",
              "        4.00368094e-01,  3.46564233e-01, -5.82663834e-01,  9.99599636e-01,\n",
              "        3.85374457e-01,  3.49617004e-01, -5.82187533e-01,  9.99587834e-01,\n",
              "        3.74935836e-01,  3.52028549e-01, -5.82514942e-01,  9.99527693e-01,\n",
              "        5.01627088e-01,  3.48988414e-01, -3.70840609e-01,  9.99843359e-01,\n",
              "        3.67427647e-01,  3.73072267e-01, -2.93987751e-01,  9.99661803e-01,\n",
              "        4.55950230e-01,  4.34353441e-01, -5.34410000e-01,  9.99911666e-01,\n",
              "        3.99439216e-01,  4.48770285e-01, -5.12012720e-01,  9.99860168e-01,\n",
              "        6.50432348e-01,  5.84906161e-01, -2.66828209e-01,  9.99697089e-01,\n",
              "        3.00807118e-01,  6.31576896e-01, -1.81701407e-01,  9.99257624e-01,\n",
              "        7.37803280e-01,  9.30136800e-01, -2.72723705e-01,  6.80977106e-01,\n",
              "        2.18073696e-01,  9.17846560e-01, -3.20939660e-01,  3.80628437e-01,\n",
              "        8.04012120e-01,  1.19258690e+00, -4.41825479e-01,  5.60165718e-02,\n",
              "        6.76547885e-02,  1.03141010e+00, -8.59580815e-01,  9.70420986e-02,\n",
              "        8.39756787e-01,  1.27988458e+00, -4.97685194e-01,  5.08617498e-02,\n",
              "        1.83971226e-02,  1.15352428e+00, -9.50771511e-01,  1.01771064e-01,\n",
              "        8.04873884e-01,  1.28018045e+00, -5.47462702e-01,  8.54260549e-02,\n",
              "        4.00642790e-02,  1.14498723e+00, -1.03334939e+00,  1.44351304e-01,\n",
              "        7.84770966e-01,  1.24665952e+00, -4.71887439e-01,  9.33711156e-02,\n",
              "        4.08217609e-02,  1.03657329e+00, -9.16934192e-01,  1.69648722e-01,\n",
              "        6.06648624e-01,  1.24762738e+00, -3.90191711e-02,  6.10396080e-03,\n",
              "        3.69470894e-01,  1.25758934e+00,  4.29794043e-02,  5.64875035e-03,\n",
              "        6.08708739e-01,  1.74599385e+00,  3.50302532e-02,  8.79165891e-04,\n",
              "        3.70770097e-01,  1.75413692e+00,  1.07111104e-01,  2.59853754e-04,\n",
              "        6.05196476e-01,  2.18850946e+00,  5.23340821e-01,  5.20399808e-05,\n",
              "        3.76138270e-01,  2.20215654e+00,  4.19366270e-01,  1.24645894e-05,\n",
              "        6.16137564e-01,  2.25776100e+00,  5.47292411e-01,  5.68035430e-05,\n",
              "        3.74464691e-01,  2.27612448e+00,  4.37064558e-01,  2.35102725e-05,\n",
              "        5.62914968e-01,  2.34491873e+00,  1.44965172e-01,  3.09102797e-05,\n",
              "        4.15845752e-01,  2.35697436e+00, -2.08390299e-02,  1.69667728e-05,\n",
              "        0.00000000e+00,  0.00000000e+00,  0.00000000e+00,  0.00000000e+00,\n",
              "        0.00000000e+00,  0.00000000e+00,  0.00000000e+00,  0.00000000e+00,\n",
              "        0.00000000e+00,  0.00000000e+00,  0.00000000e+00,  0.00000000e+00,\n",
              "        0.00000000e+00,  0.00000000e+00,  0.00000000e+00,  0.00000000e+00,\n",
              "        0.00000000e+00,  0.00000000e+00,  0.00000000e+00,  0.00000000e+00,\n",
              "        0.00000000e+00,  0.00000000e+00,  0.00000000e+00,  0.00000000e+00,\n",
              "        0.00000000e+00,  0.00000000e+00,  0.00000000e+00,  0.00000000e+00,\n",
              "        0.00000000e+00,  0.00000000e+00,  0.00000000e+00,  0.00000000e+00,\n",
              "        0.00000000e+00,  0.00000000e+00,  0.00000000e+00,  0.00000000e+00,\n",
              "        0.00000000e+00,  0.00000000e+00,  0.00000000e+00,  0.00000000e+00,\n",
              "        0.00000000e+00,  0.00000000e+00,  0.00000000e+00,  0.00000000e+00,\n",
              "        0.00000000e+00,  0.00000000e+00,  0.00000000e+00,  0.00000000e+00,\n",
              "        0.00000000e+00,  0.00000000e+00,  0.00000000e+00,  0.00000000e+00,\n",
              "        0.00000000e+00,  0.00000000e+00,  0.00000000e+00,  0.00000000e+00,\n",
              "        0.00000000e+00,  0.00000000e+00,  0.00000000e+00,  0.00000000e+00,\n",
              "        0.00000000e+00,  0.00000000e+00,  0.00000000e+00,  0.00000000e+00,\n",
              "        0.00000000e+00,  0.00000000e+00,  0.00000000e+00,  0.00000000e+00,\n",
              "        0.00000000e+00,  0.00000000e+00,  0.00000000e+00,  0.00000000e+00,\n",
              "        0.00000000e+00,  0.00000000e+00,  0.00000000e+00,  0.00000000e+00,\n",
              "        0.00000000e+00,  0.00000000e+00,  0.00000000e+00,  0.00000000e+00,\n",
              "        0.00000000e+00,  0.00000000e+00,  0.00000000e+00,  0.00000000e+00,\n",
              "        0.00000000e+00,  0.00000000e+00,  0.00000000e+00,  0.00000000e+00,\n",
              "        0.00000000e+00,  0.00000000e+00,  0.00000000e+00,  0.00000000e+00,\n",
              "        0.00000000e+00,  0.00000000e+00,  0.00000000e+00,  0.00000000e+00,\n",
              "        0.00000000e+00,  0.00000000e+00,  0.00000000e+00,  0.00000000e+00,\n",
              "        0.00000000e+00,  0.00000000e+00,  0.00000000e+00,  0.00000000e+00,\n",
              "        0.00000000e+00,  0.00000000e+00,  0.00000000e+00,  0.00000000e+00,\n",
              "        0.00000000e+00,  0.00000000e+00,  0.00000000e+00,  0.00000000e+00,\n",
              "        0.00000000e+00,  0.00000000e+00,  0.00000000e+00,  0.00000000e+00,\n",
              "        0.00000000e+00,  0.00000000e+00,  0.00000000e+00,  0.00000000e+00,\n",
              "        0.00000000e+00,  0.00000000e+00,  0.00000000e+00,  0.00000000e+00,\n",
              "        0.00000000e+00,  0.00000000e+00,  0.00000000e+00,  0.00000000e+00,\n",
              "        0.00000000e+00,  0.00000000e+00,  0.00000000e+00,  0.00000000e+00,\n",
              "        0.00000000e+00,  0.00000000e+00,  0.00000000e+00,  0.00000000e+00,\n",
              "        0.00000000e+00,  0.00000000e+00,  0.00000000e+00,  0.00000000e+00,\n",
              "        0.00000000e+00,  0.00000000e+00,  0.00000000e+00,  0.00000000e+00,\n",
              "        0.00000000e+00,  0.00000000e+00,  0.00000000e+00,  0.00000000e+00,\n",
              "        0.00000000e+00,  0.00000000e+00,  0.00000000e+00,  0.00000000e+00,\n",
              "        0.00000000e+00,  0.00000000e+00,  0.00000000e+00,  0.00000000e+00,\n",
              "        0.00000000e+00,  0.00000000e+00,  0.00000000e+00,  0.00000000e+00,\n",
              "        0.00000000e+00,  0.00000000e+00,  0.00000000e+00,  0.00000000e+00,\n",
              "        0.00000000e+00,  0.00000000e+00,  0.00000000e+00,  0.00000000e+00])"
            ]
          },
          "execution_count": 16,
          "metadata": {},
          "output_type": "execute_result"
        }
      ],
      "source": [
        "X[0][0]"
      ]
    },
    {
      "cell_type": "code",
      "execution_count": 17,
      "metadata": {
        "colab": {
          "base_uri": "https://localhost:8080/"
        },
        "id": "eZkcsgA-w31S",
        "outputId": "48047eb0-ea0c-4a6c-a291-cec16b637759"
      },
      "outputs": [
        {
          "data": {
            "text/plain": [
              "-1.4836552143096924"
            ]
          },
          "execution_count": 17,
          "metadata": {},
          "output_type": "execute_result"
        }
      ],
      "source": [
        "np.min(X[0])\n"
      ]
    },
    {
      "cell_type": "code",
      "execution_count": null,
      "metadata": {},
      "outputs": [],
      "source": [
        "# Chuẩn hóa \n",
        "for idx, x in enumerate(X):\n",
        "  X[idx] = x / np.max([np.abs(x), np.abs(x)])"
      ]
    },
    {
      "cell_type": "code",
      "execution_count": 18,
      "metadata": {
        "colab": {
          "base_uri": "https://localhost:8080/"
        },
        "id": "X_tQ_nCbv5i4",
        "outputId": "6f477370-1bc3-4e5c-b7bb-16c54c24f087"
      },
      "outputs": [
        {
          "name": "stdout",
          "output_type": "stream",
          "text": [
            "0.0 532\n",
            "1.0 742\n",
            "2.0 476\n",
            "3.0 630\n",
            "4.0 630\n",
            "5.0 616\n",
            "6.0 742\n",
            "7.0 784\n",
            "8.0 728\n",
            "9.0 602\n",
            "10.0 588\n",
            "11.0 642\n",
            "12.0 695\n",
            "13.0 658\n"
          ]
        }
      ],
      "source": [
        "for i in set(labels):\n",
        "  print(i, len(y[labels==i]))"
      ]
    },
    {
      "cell_type": "code",
      "execution_count": 19,
      "metadata": {
        "colab": {
          "base_uri": "https://localhost:8080/",
          "height": 517
        },
        "id": "cZav1-R9o_4J",
        "outputId": "dd672f2c-2c9e-4146-c462-87c6cd515909"
      },
      "outputs": [
        {
          "data": {
            "text/plain": [
              "(array([106., 149.,  95., 126., 126., 123., 148., 157., 146., 120., 118.,\n",
              "        128., 139., 132.]),\n",
              " array([ 0.,  1.,  2.,  3.,  4.,  5.,  6.,  7.,  8.,  9., 10., 11., 12.,\n",
              "        13., 14.]),\n",
              " <BarContainer object of 14 artists>)"
            ]
          },
          "execution_count": 19,
          "metadata": {},
          "output_type": "execute_result"
        },
        {
          "data": {
            "image/png": "[encoded data removed]",
            "text/plain": [
              "<Figure size 640x480 with 1 Axes>"
            ]
          },
          "metadata": {},
          "output_type": "display_data"
        }
      ],
      "source": [
        "from sklearn.model_selection import StratifiedShuffleSplit\n",
        "\n",
        "# Define the splitter\n",
        "splitter = StratifiedShuffleSplit(n_splits=1, test_size=0.2, random_state=42)\n",
        "\n",
        "# Get the indices for splitting\n",
        "train_idx, test_idx = next(splitter.split(X, y))\n",
        "\n",
        "# Split the data into train and test sets\n",
        "X_train_val = X[train_idx]\n",
        "X_test = X[test_idx]\n",
        "y_train_val = y[train_idx]\n",
        "y_test = y[test_idx]\n",
        "plt.hist(np.argmax(y_train_val, 1), bins=np.arange(0,15), label=label_map)\n",
        "plt.hist(np.argmax(y_test, 1), bins=np.arange(0,15), label=label_map)"
      ]
    },
    {
      "cell_type": "code",
      "execution_count": 20,
      "metadata": {
        "colab": {
          "base_uri": "https://localhost:8080/",
          "height": 517
        },
        "id": "72Tf08HTo_4K",
        "outputId": "3271989c-748c-4327-ceec-283b7640406c"
      },
      "outputs": [
        {
          "data": {
            "text/plain": [
              "(array([ 85., 119.,  76., 101., 101.,  99., 119., 126., 116.,  96.,  94.,\n",
              "        103., 111., 105.]),\n",
              " array([ 0.,  1.,  2.,  3.,  4.,  5.,  6.,  7.,  8.,  9., 10., 11., 12.,\n",
              "        13., 14.]),\n",
              " <BarContainer object of 14 artists>)"
            ]
          },
          "execution_count": 20,
          "metadata": {},
          "output_type": "execute_result"
        },
        {
          "data": {
            "image/png": "[encoded data removed]",
            "text/plain": [
              "<Figure size 640x480 with 1 Axes>"
            ]
          },
          "metadata": {},
          "output_type": "display_data"
        }
      ],
      "source": [
        "from sklearn.model_selection import StratifiedShuffleSplit\n",
        "\n",
        "# Define the splitter\n",
        "splitter2 = StratifiedShuffleSplit(n_splits=1, test_size=0.2, random_state=42)\n",
        "\n",
        "# Get the indices for splitting\n",
        "train_idx, val_idx = next(splitter2.split(X_train_val, y_train_val))\n",
        "\n",
        "# Split the data into train and val sets\n",
        "X_train = X_train_val[train_idx]\n",
        "X_val = X_train_val[val_idx]\n",
        "y_train = y_train_val[train_idx]\n",
        "y_val = y_train_val[val_idx]\n",
        "plt.hist(np.argmax(y_train, 1), bins=range(0,15), label=label_map)\n",
        "plt.hist(np.argmax(y_val, 1), bins=range(0,15), label=label_map)"
      ]
    },
    {
      "attachments": {},
      "cell_type": "markdown",
      "metadata": {
        "id": "H_oBDKG2o_4L"
      },
      "source": [
        "# 7. Build and Train LSTM Neural Network"
      ]
    },
    {
      "cell_type": "code",
      "execution_count": 21,
      "metadata": {
        "id": "n3TWBQcUo_4L"
      },
      "outputs": [],
      "source": [
        "from tensorflow.keras.models import Sequential\n",
        "from tensorflow.keras.optimizers import Adam\n",
        "from tensorflow.keras.layers import Dense, Dropout, LSTM\n",
        "from tensorflow.keras.callbacks import TensorBoard, EarlyStopping\n",
        "from tensorflow.keras import initializers\n",
        "import tensorflow as tf\n",
        "import time"
      ]
    },
    {
      "cell_type": "code",
      "execution_count": 22,
      "metadata": {
        "colab": {
          "base_uri": "https://localhost:8080/"
        },
        "id": "_Ha-GnTWo_4L",
        "outputId": "4c07c940-4317-4f6b-90a2-dc7a388af41e"
      },
      "outputs": [
        {
          "name": "stderr",
          "output_type": "stream",
          "text": [
            "WARNING:tensorflow:Layer lstm will not use cuDNN kernels since it doesn't meet the criteria. It will use a generic GPU kernel as fallback when running on GPU.\n",
            "WARNING:tensorflow:Layer lstm_1 will not use cuDNN kernels since it doesn't meet the criteria. It will use a generic GPU kernel as fallback when running on GPU.\n",
            "WARNING:tensorflow:Layer lstm_2 will not use cuDNN kernels since it doesn't meet the criteria. It will use a generic GPU kernel as fallback when running on GPU.\n"
          ]
        }
      ],
      "source": [
        "# set Glorot initialization for all layers\n",
        "\n",
        "model = Sequential()\n",
        "model.add(LSTM(64, return_sequences=True, activation='relu', kernel_initializer= initializers.he_normal(), input_shape=(sequence_length,X.shape[-1])))\n",
        "model.add(LSTM(128, return_sequences=True, activation='relu', kernel_initializer= initializers.he_normal()))\n",
        "model.add(LSTM(64, return_sequences=False, activation='relu', kernel_initializer= initializers.he_normal()))\n",
        "model.add(Dense(64, activation='relu', kernel_initializer= initializers.he_normal()))\n",
        "model.add(Dense(32, activation='relu', kernel_initializer= initializers.he_normal()))\n",
        "model.add(Dense(actions.shape[0], activation='softmax', kernel_initializer= initializers.he_normal()))"
      ]
    },
    {
      "cell_type": "code",
      "execution_count": 26,
      "metadata": {
        "colab": {
          "base_uri": "https://localhost:8080/",
          "height": 754
        },
        "id": "Tyb-pis2o_4M",
        "outputId": "ffaabba8-30b9-49e2-8ce5-33bcc87bbf11"
      },
      "outputs": [
        {
          "data": {
            "image/png": "[encoded data removed]",
            "text/plain": [
              "<IPython.core.display.Image object>"
            ]
          },
          "execution_count": 26,
          "metadata": {},
          "output_type": "execute_result"
        }
      ],
      "source": [
        "from keras.utils import plot_model\n",
        "\n",
        "# Plot the model\n",
        "plot_model(model, show_shapes=True, show_layer_names=True)"
      ]
    },
    {
      "cell_type": "code",
      "execution_count": 126,
      "metadata": {
        "colab": {
          "base_uri": "https://localhost:8080/"
        },
        "id": "phN83nf6o_4M",
        "outputId": "05eea3f1-450b-45e5-9fda-b0c7e3ee240d"
      },
      "outputs": [
        {
          "name": "stdout",
          "output_type": "stream",
          "text": [
            "Model: \"sequential\"\n",
            "_________________________________________________________________\n",
            " Layer (type)                Output Shape              Param #   \n",
            "=================================================================\n",
            " lstm (LSTM)                 (None, 12, 64)            93440     \n",
            "                                                                 \n",
            " lstm_1 (LSTM)               (None, 12, 128)           98816     \n",
            "                                                                 \n",
            " lstm_2 (LSTM)               (None, 64)                49408     \n",
            "                                                                 \n",
            " dense (Dense)               (None, 64)                4160      \n",
            "                                                                 \n",
            " dense_1 (Dense)             (None, 32)                2080      \n",
            "                                                                 \n",
            " dense_2 (Dense)             (None, 14)                462       \n",
            "                                                                 \n",
            "=================================================================\n",
            "Total params: 248,366\n",
            "Trainable params: 248,366\n",
            "Non-trainable params: 0\n",
            "_________________________________________________________________\n"
          ]
        }
      ],
      "source": [
        "model.summary()"
      ]
    },
    {
      "cell_type": "code",
      "execution_count": 8,
      "metadata": {
        "colab": {
          "base_uri": "https://localhost:8080/"
        },
        "id": "kp-pNoqkjr37",
        "outputId": "8e226294-f8c8-43bd-8fa0-11e3a3d12dc6"
      },
      "outputs": [
        {
          "data": {
            "text/plain": [
              "['/device:GPU:0']"
            ]
          },
          "execution_count": 8,
          "metadata": {},
          "output_type": "execute_result"
        }
      ],
      "source": [
        "from tensorflow.python.client import device_lib\n",
        "\n",
        "def get_available_gpus():\n",
        "    local_device_protos = device_lib.list_local_devices()\n",
        "    return [x.name for x in local_device_protos if x.device_type == 'GPU']\n",
        "\n",
        "get_available_gpus()"
      ]
    },
    {
      "cell_type": "code",
      "execution_count": 24,
      "metadata": {
        "colab": {
          "base_uri": "https://localhost:8080/"
        },
        "id": "ggCX345to_4M",
        "outputId": "f75c1c43-19a3-4bbc-e718-f2f0addf9b0b"
      },
      "outputs": [
        {
          "name": "stdout",
          "output_type": "stream",
          "text": [
            "Epoch 1/300\n",
            "1451/1451 [==============================] - 131s 85ms/step - loss: 1.5082 - categorical_accuracy: 0.4935 - val_loss: 0.9117 - val_categorical_accuracy: 0.7023 - lr: 0.0010\n",
            "Epoch 2/300\n",
            "1451/1451 [==============================] - 123s 85ms/step - loss: 0.8414 - categorical_accuracy: 0.7107 - val_loss: 0.7089 - val_categorical_accuracy: 0.7726 - lr: 0.0010\n",
            "Epoch 3/300\n",
            "1451/1451 [==============================] - 119s 82ms/step - loss: 0.6601 - categorical_accuracy: 0.7773 - val_loss: 0.7229 - val_categorical_accuracy: 0.7547 - lr: 0.0010\n",
            "Epoch 4/300\n",
            "1451/1451 [==============================] - 123s 85ms/step - loss: 0.5422 - categorical_accuracy: 0.8205 - val_loss: 0.4567 - val_categorical_accuracy: 0.8442 - lr: 0.0010\n",
            "Epoch 5/300\n",
            "1451/1451 [==============================] - 125s 86ms/step - loss: 0.4596 - categorical_accuracy: 0.8524 - val_loss: 0.3768 - val_categorical_accuracy: 0.8766 - lr: 0.0010\n",
            "Epoch 6/300\n",
            "1451/1451 [==============================] - 125s 86ms/step - loss: 0.4115 - categorical_accuracy: 0.8678 - val_loss: 0.3923 - val_categorical_accuracy: 0.8649 - lr: 0.0010\n",
            "Epoch 7/300\n",
            "1451/1451 [==============================] - 120s 83ms/step - loss: 0.6083 - categorical_accuracy: 0.8719 - val_loss: 0.8639 - val_categorical_accuracy: 0.7016 - lr: 0.0010\n",
            "Epoch 8/300\n",
            "1451/1451 [==============================] - 124s 85ms/step - loss: 0.3841 - categorical_accuracy: 0.8719 - val_loss: 0.3389 - val_categorical_accuracy: 0.9056 - lr: 0.0010\n",
            "Epoch 9/300\n",
            "1451/1451 [==============================] - 121s 84ms/step - loss: 0.6394 - categorical_accuracy: 0.8588 - val_loss: 0.4567 - val_categorical_accuracy: 0.8498 - lr: 0.0010\n",
            "Epoch 10/300\n",
            "1451/1451 [==============================] - 125s 86ms/step - loss: 0.3172 - categorical_accuracy: 0.8905 - val_loss: 0.3632 - val_categorical_accuracy: 0.8808 - lr: 0.0010\n",
            "Epoch 11/300\n",
            "1451/1451 [==============================] - 124s 85ms/step - loss: 0.1946 - categorical_accuracy: 0.9271 - val_loss: 0.2603 - val_categorical_accuracy: 0.9132 - lr: 5.0000e-04\n",
            "Epoch 12/300\n",
            "1451/1451 [==============================] - 125s 86ms/step - loss: 0.1832 - categorical_accuracy: 0.9362 - val_loss: 0.2848 - val_categorical_accuracy: 0.9111 - lr: 5.0000e-04\n",
            "Epoch 13/300\n",
            "1451/1451 [==============================] - 122s 84ms/step - loss: 0.1734 - categorical_accuracy: 0.9402 - val_loss: 0.2055 - val_categorical_accuracy: 0.9297 - lr: 5.0000e-04\n",
            "Epoch 14/300\n",
            "1451/1451 [==============================] - 128s 88ms/step - loss: 0.1599 - categorical_accuracy: 0.9440 - val_loss: 0.2192 - val_categorical_accuracy: 0.9338 - lr: 5.0000e-04\n",
            "Epoch 15/300\n",
            "1451/1451 [==============================] - 123s 85ms/step - loss: 0.1752 - categorical_accuracy: 0.9454 - val_loss: 0.2388 - val_categorical_accuracy: 0.9318 - lr: 5.0000e-04\n",
            "Epoch 16/300\n",
            "1451/1451 [==============================] - 123s 85ms/step - loss: 0.1543 - categorical_accuracy: 0.9457 - val_loss: 0.2286 - val_categorical_accuracy: 0.9269 - lr: 5.0000e-04\n",
            "Epoch 17/300\n",
            "1451/1451 [==============================] - 123s 85ms/step - loss: 0.1272 - categorical_accuracy: 0.9571 - val_loss: 0.2408 - val_categorical_accuracy: 0.9207 - lr: 5.0000e-04\n",
            "Epoch 18/300\n",
            "1451/1451 [==============================] - 120s 82ms/step - loss: 0.1216 - categorical_accuracy: 0.9576 - val_loss: 0.2695 - val_categorical_accuracy: 0.9249 - lr: 5.0000e-04\n",
            "Epoch 19/300\n",
            "1451/1451 [==============================] - 125s 86ms/step - loss: 0.1377 - categorical_accuracy: 0.9536 - val_loss: 0.2438 - val_categorical_accuracy: 0.9283 - lr: 5.0000e-04\n",
            "Epoch 20/300\n",
            "1451/1451 [==============================] - 125s 86ms/step - loss: 0.1129 - categorical_accuracy: 0.9610 - val_loss: 0.2399 - val_categorical_accuracy: 0.9263 - lr: 5.0000e-04\n",
            "Epoch 21/300\n",
            "1451/1451 [==============================] - 125s 86ms/step - loss: 0.0509 - categorical_accuracy: 0.9835 - val_loss: 0.1892 - val_categorical_accuracy: 0.9504 - lr: 2.5000e-04\n",
            "Epoch 22/300\n",
            "1451/1451 [==============================] - 123s 85ms/step - loss: 0.0438 - categorical_accuracy: 0.9853 - val_loss: 0.2603 - val_categorical_accuracy: 0.9366 - lr: 2.5000e-04\n",
            "Epoch 23/300\n",
            "1451/1451 [==============================] - 125s 86ms/step - loss: 0.0613 - categorical_accuracy: 0.9838 - val_loss: 0.2228 - val_categorical_accuracy: 0.9435 - lr: 2.5000e-04\n",
            "Epoch 24/300\n",
            "1451/1451 [==============================] - 121s 84ms/step - loss: 0.0534 - categorical_accuracy: 0.9835 - val_loss: 0.2315 - val_categorical_accuracy: 0.9490 - lr: 2.5000e-04\n",
            "Epoch 25/300\n",
            "1451/1451 [==============================] - 125s 86ms/step - loss: 0.0396 - categorical_accuracy: 0.9890 - val_loss: 0.1958 - val_categorical_accuracy: 0.9552 - lr: 2.5000e-04\n",
            "Epoch 26/300\n",
            "1451/1451 [==============================] - 124s 85ms/step - loss: 0.0401 - categorical_accuracy: 0.9872 - val_loss: 0.2061 - val_categorical_accuracy: 0.9545 - lr: 2.5000e-04\n",
            "Epoch 27/300\n",
            "1451/1451 [==============================] - 123s 84ms/step - loss: 0.0297 - categorical_accuracy: 0.9886 - val_loss: 0.2385 - val_categorical_accuracy: 0.9511 - lr: 2.5000e-04\n",
            "Epoch 28/300\n",
            "1451/1451 [==============================] - 127s 87ms/step - loss: 0.0461 - categorical_accuracy: 0.9890 - val_loss: 0.1989 - val_categorical_accuracy: 0.9545 - lr: 2.5000e-04\n",
            "Epoch 29/300\n",
            "1451/1451 [==============================] - 123s 85ms/step - loss: 0.0283 - categorical_accuracy: 0.9909 - val_loss: 0.2672 - val_categorical_accuracy: 0.9449 - lr: 2.5000e-04\n",
            "Epoch 30/300\n",
            "1451/1451 [==============================] - 124s 86ms/step - loss: 0.0392 - categorical_accuracy: 0.9888 - val_loss: 0.2751 - val_categorical_accuracy: 0.9435 - lr: 2.5000e-04\n",
            "Epoch 31/300\n",
            "1451/1451 [==============================] - 121s 83ms/step - loss: 0.0132 - categorical_accuracy: 0.9960 - val_loss: 0.2126 - val_categorical_accuracy: 0.9628 - lr: 1.2500e-04\n",
            "Epoch 32/300\n",
            "1451/1451 [==============================] - 124s 86ms/step - loss: 0.0101 - categorical_accuracy: 0.9972 - val_loss: 0.2195 - val_categorical_accuracy: 0.9586 - lr: 1.2500e-04\n",
            "Epoch 33/300\n",
            "1451/1451 [==============================] - 123s 84ms/step - loss: 0.0103 - categorical_accuracy: 0.9967 - val_loss: 0.2510 - val_categorical_accuracy: 0.9531 - lr: 1.2500e-04\n",
            "Epoch 34/300\n",
            "1451/1451 [==============================] - 125s 86ms/step - loss: 0.0094 - categorical_accuracy: 0.9969 - val_loss: 0.2250 - val_categorical_accuracy: 0.9607 - lr: 1.2500e-04\n",
            "Epoch 35/300\n",
            "1451/1451 [==============================] - 123s 85ms/step - loss: 0.0062 - categorical_accuracy: 0.9979 - val_loss: 0.2673 - val_categorical_accuracy: 0.9586 - lr: 1.2500e-04\n",
            "Epoch 36/300\n",
            "1451/1451 [==============================] - 125s 86ms/step - loss: 0.0062 - categorical_accuracy: 0.9979 - val_loss: 0.2515 - val_categorical_accuracy: 0.9628 - lr: 1.2500e-04\n",
            "total time: -74.27755298614503h\n"
          ]
        }
      ],
      "source": [
        "time_start = time.time()\n",
        "learning_rate = 0.001\n",
        "def scheduler(epoch, lr):\n",
        "    if epoch % 10 == 0 and epoch != 0:\n",
        "        lr = lr / 2\n",
        "    return lr\n",
        "\n",
        "# Create a callback to use the scheduler\n",
        "lr_scheduler = tf.keras.callbacks.LearningRateScheduler(scheduler)\n",
        "\n",
        "model.compile(optimizer=Adam(learning_rate=learning_rate, ), loss='categorical_crossentropy', metrics=['categorical_accuracy'])\n",
        "\n",
        "\n",
        "epoch = 300\n",
        "batch_size = 4\n",
        "tb_callback = TensorBoard(log_dir=log_dir)\n",
        "early_stopping_callback_acc = EarlyStopping(monitor = 'val_loss', patience = 15, mode = 'min', restore_best_weights = True)\n",
        "\n",
        "model_checkpoint_callback = tf.keras.callbacks.ModelCheckpoint(\n",
        "    filepath=checkpoint_filepath,\n",
        "    save_weights_only=False,\n",
        "    monitor='val_accuracy',\n",
        "    mode='max',\n",
        "    save_best_only=False)\n",
        "\n",
        "# model = tf.keras.models.load_model(path_weight)\n",
        "model_history = model.fit(x = X_train, y = y_train, epochs = epoch, shuffle = True, validation_data=[X_val, y_val], batch_size=batch_size, callbacks = [early_stopping_callback_acc, tb_callback, model_checkpoint_callback, lr_scheduler])\n",
        "\n",
        "path_weight =f'{DATA_PATH}/weight_rich_padding_bs{batch_size}_lr{learning_rate}_v2.h5'\n",
        "model.save(path_weight)\n",
        "time_end = time.time()\n",
        "print(f'total time: {(time_start-time_end)/60}h')"
      ]
    },
    {
      "cell_type": "code",
      "execution_count": 25,
      "metadata": {
        "colab": {
          "base_uri": "https://localhost:8080/"
        },
        "id": "m0oEBPlmo_4M",
        "outputId": "f49b9dfb-8059-460c-80e0-29c80d0dcbd1"
      },
      "outputs": [
        {
          "name": "stdout",
          "output_type": "stream",
          "text": [
            "57/57 [==============================] - 0s 8ms/step - loss: 0.2117 - categorical_accuracy: 0.9415\n"
          ]
        },
        {
          "data": {
            "text/plain": [
              "[0.211740642786026, 0.9415333867073059]"
            ]
          },
          "execution_count": 25,
          "metadata": {},
          "output_type": "execute_result"
        }
      ],
      "source": [
        "\n",
        "# path_weight = './weights_1681109498.3648455.h5'\n",
        "# model = tf.keras.models.load_model(path_weight)\n",
        "model.evaluate(X_test, y_test)"
      ]
    },
    {
      "attachments": {},
      "cell_type": "markdown",
      "metadata": {
        "id": "gTCfc33Vo_4N"
      },
      "source": [
        "# 10. Evaluation using Confusion Matrix and Accuracy"
      ]
    },
    {
      "cell_type": "code",
      "execution_count": 27,
      "metadata": {
        "id": "0rj-6icKo_4N"
      },
      "outputs": [],
      "source": [
        "def plot_metric(model_training_history, metric_name_1, metric_name_2, plot_name, color_1='blue', color_2='red'):\n",
        "    metric_value_1 = model_training_history.history[metric_name_1]\n",
        "    metric_value_2 = model_training_history.history[metric_name_2]\n",
        "    \n",
        "    epochs = range(len(metric_value_1))\n",
        " \n",
        "    plt.plot(epochs, metric_value_1, color_1, label = metric_name_1)\n",
        "    plt.plot(epochs, metric_value_2, color_2, label = metric_name_2)\n",
        " \n",
        "    plt.title(str(plot_name))\n",
        " \n",
        "    plt.legend()"
      ]
    },
    {
      "cell_type": "code",
      "execution_count": 28,
      "metadata": {
        "colab": {
          "base_uri": "https://localhost:8080/",
          "height": 452
        },
        "id": "Ee1pHSdpo_4N",
        "outputId": "0789e099-90b8-404a-bdc1-03b9b58f46b4"
      },
      "outputs": [
        {
          "data": {
            "image/png": "[encoded data removed]",
            "text/plain": [
              "<Figure size 640x480 with 1 Axes>"
            ]
          },
          "metadata": {},
          "output_type": "display_data"
        }
      ],
      "source": [
        "plot_metric(model_history, 'categorical_accuracy', 'val_categorical_accuracy', 'Total Accuracy vs Total Validation Accuracy')"
      ]
    },
    {
      "cell_type": "code",
      "execution_count": 29,
      "metadata": {
        "colab": {
          "base_uri": "https://localhost:8080/",
          "height": 452
        },
        "id": "MqhxBJuPo_4O",
        "outputId": "783838bf-fd95-4ca5-9d18-c7e865906fb3"
      },
      "outputs": [
        {
          "data": {
            "image/png": "[encoded data removed]",
            "text/plain": [
              "<Figure size 640x480 with 1 Axes>"
            ]
          },
          "metadata": {},
          "output_type": "display_data"
        }
      ],
      "source": [
        "plot_metric(model_history, 'loss', 'val_loss', 'Total Loss vs Total Validation Loss')"
      ]
    },
    {
      "cell_type": "code",
      "execution_count": 30,
      "metadata": {
        "colab": {
          "base_uri": "https://localhost:8080/"
        },
        "id": "v9WY9z6co_4O",
        "outputId": "1df25c1d-de9b-4297-ef88-4eff254e8ce2"
      },
      "outputs": [
        {
          "name": "stderr",
          "output_type": "stream",
          "text": [
            "WARNING:tensorflow:Layer lstm will not use cuDNN kernels since it doesn't meet the criteria. It will use a generic GPU kernel as fallback when running on GPU.\n",
            "WARNING:tensorflow:Layer lstm_1 will not use cuDNN kernels since it doesn't meet the criteria. It will use a generic GPU kernel as fallback when running on GPU.\n",
            "WARNING:tensorflow:Layer lstm_2 will not use cuDNN kernels since it doesn't meet the criteria. It will use a generic GPU kernel as fallback when running on GPU.\n"
          ]
        },
        {
          "name": "stdout",
          "output_type": "stream",
          "text": [
            "57/57 [==============================] - 3s 21ms/step\n"
          ]
        }
      ],
      "source": [
        "model = tf.keras.models.load_model(path_weight)\n",
        "yhat = model.predict(X_test)"
      ]
    },
    {
      "cell_type": "code",
      "execution_count": 31,
      "metadata": {
        "colab": {
          "base_uri": "https://localhost:8080/"
        },
        "id": "_wk2UMcQo_4O",
        "outputId": "bbb113eb-efb5-4e8c-ba07-95c92150d3a3"
      },
      "outputs": [
        {
          "data": {
            "text/plain": [
              "0.9415333701047987"
            ]
          },
          "execution_count": 31,
          "metadata": {},
          "output_type": "execute_result"
        }
      ],
      "source": [
        "ytrue = np.argmax(y_test, axis=1).tolist()\n",
        "yhat = np.argmax(yhat, axis=1).tolist()\n",
        "accuracy_score(y_true=ytrue, y_pred=yhat)\n"
      ]
    },
    {
      "cell_type": "code",
      "execution_count": 32,
      "metadata": {
        "colab": {
          "base_uri": "https://localhost:8080/",
          "height": 616
        },
        "id": "TnQL5yYuo_4O",
        "outputId": "242ad909-18e0-410c-83d7-6e0523108966"
      },
      "outputs": [
        {
          "data": {
            "text/plain": [
              "<Axes: >"
            ]
          },
          "execution_count": 32,
          "metadata": {},
          "output_type": "execute_result"
        },
        {
          "data": {
            "image/png": "[encoded data removed]",
            "text/plain": [
              "<Figure size 1000x700 with 2 Axes>"
            ]
          },
          "metadata": {},
          "output_type": "display_data"
        }
      ],
      "source": [
        "from sklearn.metrics import confusion_matrix\n",
        "import pandas as pd\n",
        "import seaborn as sn\n",
        "array = confusion_matrix(ytrue, yhat)\n",
        "df_cm = pd.DataFrame(array, index = [i for i in actions],\n",
        "                  columns = [i for i in actions])\n",
        "plt.figure(figsize = (10,7))\n",
        "sn.heatmap(df_cm, annot=True, fmt='d')\n",
        "# dự đoán là dọc"
      ]
    },
    {
      "attachments": {},
      "cell_type": "markdown",
      "metadata": {
        "id": "jidQMxmQo_4O"
      },
      "source": [
        "# 11. Test in Real Time"
      ]
    },
    {
      "cell_type": "code",
      "execution_count": null,
      "metadata": {
        "id": "Tdu0mGZOo_4P"
      },
      "outputs": [],
      "source": [
        "from scipy import stats\n",
        "import threading\n",
        "from tensorflow.keras.models import Sequential\n",
        "from tensorflow.keras.layers import Dense, Dropout, LSTM\n",
        "from tensorflow.keras.callbacks import TensorBoard\n",
        "from tensorflow.keras.callbacks import EarlyStopping\n",
        "import tensorflow as tf"
      ]
    },
    {
      "cell_type": "code",
      "execution_count": null,
      "metadata": {
        "id": "nEIyq8lco_4P"
      },
      "outputs": [],
      "source": [
        "colors = [(245,117,16), (117,245,16), (16,117,245)]\n",
        "def prob_viz(res, actions, input_frame, colors):\n",
        "    output_frame = input_frame.copy()\n",
        "    for num, prob in enumerate(res):\n",
        "        cv2.rectangle(output_frame, (0,60+num*40), (int(prob*100), 90+num*40), colors[num%3], -1)\n",
        "        cv2.putText(output_frame, actions[num], (0, 85+num*40), cv2.FONT_HERSHEY_SIMPLEX, 1, (255,255,255), 2, cv2.LINE_AA)\n",
        "    \n",
        "    # for num, prob in enumerate(res[6:]):\n",
        "    #     cv2.rectangle(output_frame, (input_frame.shape[1]-120,60+num*40), (input_frame.shape[1]-120+int(prob*100), 90+num*40), colors[num%3], -1)\n",
        "    #     cv2.putText(output_frame, actions[num+6], (input_frame.shape[1]-120, 85+num*40), cv2.FONT_HERSHEY_SIMPLEX, 1, (255,255,255), 2, cv2.LINE_AA)\n",
        "        \n",
        "    return output_frame"
      ]
    },
    {
      "cell_type": "code",
      "execution_count": null,
      "metadata": {
        "id": "XxsGX3Qno_4P"
      },
      "outputs": [],
      "source": [
        "# path_weight = './weights_1681109498.3648455.h5'\n",
        "model = tf.keras.models.load_model(path_weight)"
      ]
    },
    {
      "cell_type": "code",
      "execution_count": null,
      "metadata": {
        "id": "-w84kUTro_4P"
      },
      "outputs": [],
      "source": [
        "# 1. New detection variables\n",
        "sequence = []\n",
        "sentence = []\n",
        "predictions = []\n",
        "threshold = 0.5\n",
        "\n",
        "cap = cv2.VideoCapture(0)\n",
        "# Set mediapipe model \n",
        "with mp_holistic.Holistic(min_detection_confidence=0.5, min_tracking_confidence=0.5) as holistic:\n",
        "    while cap.isOpened():\n",
        "\n",
        "        # Read feed\n",
        "        ret, frame = cap.read()\n",
        "\n",
        "        # Make detections\n",
        "        image, results = mediapipe_detection(frame, holistic)\n",
        "        print(results)\n",
        "        \n",
        "        # Draw landmarks\n",
        "        draw_styled_landmarks(image, results)\n",
        "        \n",
        "        # 2. Prediction logic\n",
        "        keypoints = extract_keypoints(results)\n",
        "        sequence.append(keypoints)\n",
        "        sequence = sequence[-sequence_length:]\n",
        "        \n",
        "        if len(sequence) == sequence_length:\n",
        "            res = model.predict(np.expand_dims(sequence, axis=0))[0]\n",
        "            print(actions[np.argmax(res)])\n",
        "            predictions.append(np.argmax(res))\n",
        "            \n",
        "            \n",
        "        #3. Viz logic\n",
        "            if np.unique(predictions[-10:])[0]==np.argmax(res): \n",
        "                if res[np.argmax(res)] > threshold: \n",
        "                    \n",
        "                    if len(sentence) > 0: \n",
        "                        if actions[np.argmax(res)] != sentence[-1]:\n",
        "                            sentence.append(actions[np.argmax(res)])\n",
        "                    else:\n",
        "                        sentence.append(actions[np.argmax(res)])\n",
        "                        sequence = []\n",
        "\n",
        "\n",
        "            if len(sentence) > 5: \n",
        "                sentence = sentence[-5:]\n",
        "\n",
        "            # Viz probabilities\n",
        "            image = prob_viz(res, actions, image, colors)\n",
        "            \n",
        "        cv2.rectangle(image, (0,0), (640, 40), (245, 117, 16), -1)\n",
        "        cv2.putText(image, ' '.join(sentence), (3,20), \n",
        "                       cv2.FONT_HERSHEY_SIMPLEX, 1, (255, 255, 255), 2, cv2.LINE_AA)\n",
        "        \n",
        "        # Show to screen\n",
        "        cv2.imshow('OpenCV Feed', image)\n",
        "\n",
        "        # Break gracefully\n",
        "        if cv2.waitKey(10) & 0xFF == ord('q'):\n",
        "            break\n",
        "    cap.release()\n",
        "    cv2.destroyAllWindows()"
      ]
    },
    {
      "cell_type": "code",
      "execution_count": null,
      "metadata": {
        "id": "M1XHabByo_4Q"
      },
      "outputs": [],
      "source": [
        "cap.release()\n",
        "cv2.destroyAllWindows()"
      ]
    },
    {
      "cell_type": "code",
      "execution_count": null,
      "metadata": {
        "id": "b_SkFWxGo_4Q"
      },
      "outputs": [],
      "source": []
    },
    {
      "cell_type": "code",
      "execution_count": null,
      "metadata": {
        "id": "8-FlZTAYo_4Q"
      },
      "outputs": [],
      "source": []
    }
  ],
  "metadata": {
    "accelerator": "GPU",
    "colab": {
      "gpuType": "T4",
      "provenance": []
    },
    "gpuClass": "standard",
    "kernelspec": {
      "display_name": "Python 3",
      "language": "python",
      "name": "python3"
    },
    "language_info": {
      "codemirror_mode": {
        "name": "ipython",
        "version": 3
      },
      "file_extension": ".py",
      "mimetype": "text/x-python",
      "name": "python",
      "nbconvert_exporter": "python",
      "pygments_lexer": "ipython3",
      "version": "3.7.6"
    },
    "vscode": {
      "interpreter": {
        "hash": "916dbcbb3f70747c44a77c7bcd40155683ae19c65e1c03b4aa3499c5328201f1"
      }
    }
  },
  "nbformat": 4,
  "nbformat_minor": 0
}
