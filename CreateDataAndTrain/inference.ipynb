{
 "cells": [
  {
   "cell_type": "code",
   "execution_count": 1,
   "metadata": {},
   "outputs": [],
   "source": [
    "# # Nếu chưa có thư viện thì run cell này\n",
    "# !pip install mediapipe\n",
    "# !pip install pandas\n",
    "# !pip install tensorflow\n",
    "# !pip install numpy"
   ]
  },
  {
   "cell_type": "markdown",
   "metadata": {},
   "source": [
    "# 1. Import and Install Dependencies"
   ]
  },
  {
   "cell_type": "code",
   "execution_count": 2,
   "metadata": {},
   "outputs": [],
   "source": [
    "import cv2\n",
    "import numpy as np\n",
    "import os\n",
    "from matplotlib import pyplot as plt\n",
    "import time\n",
    "import mediapipe as mp"
   ]
  },
  {
   "cell_type": "markdown",
   "metadata": {},
   "source": [
    "# 2. Keypoints using MP Holistic"
   ]
  },
  {
   "cell_type": "code",
   "execution_count": null,
   "metadata": {},
   "outputs": [],
   "source": []
  },
  {
   "cell_type": "code",
   "execution_count": 3,
   "metadata": {},
   "outputs": [],
   "source": [
    "mp_holistic = mp.solutions.holistic # Holistic model\n",
    "mp_drawing = mp.solutions.drawing_utils # Drawing utilities"
   ]
  },
  {
   "cell_type": "code",
   "execution_count": 4,
   "metadata": {},
   "outputs": [],
   "source": [
    "def mediapipe_detection(image, model):\n",
    "    image = cv2.cvtColor(image, cv2.COLOR_BGR2RGB) # COLOR CONVERSION BGR 2 RGB\n",
    "    image.flags.writeable = False                  # Image is no longer writeable\n",
    "    results = model.process(\n",
    "        image\n",
    "        # cv2.resize(image, (320, 240))\n",
    "        )                 # Make prediction\n",
    "    image.flags.writeable = True                   # Image is now writeable \n",
    "    image = cv2.cvtColor(image, cv2.COLOR_RGB2BGR) # COLOR COVERSION RGB 2 BGR\n",
    "    return image, results"
   ]
  },
  {
   "cell_type": "code",
   "execution_count": 5,
   "metadata": {},
   "outputs": [],
   "source": [
    "def draw_styled_landmarks(image, results):\n",
    "    # # Draw face connections\n",
    "    # mp_drawing.draw_landmarks(image, results.face_landmarks, mp_holistic.FACEMESH_CONTOURS, \n",
    "    #                          mp_drawing.DrawingSpec(color=(80,110,10), thickness=1, circle_radius=1), \n",
    "    #                          mp_drawing.DrawingSpec(color=(80,256,121), thickness=1, circle_radius=1)\n",
    "    #                          ) \n",
    "    # Draw pose connections\n",
    "    mp_drawing.draw_landmarks(image, results.pose_landmarks, mp_holistic.POSE_CONNECTIONS,\n",
    "                             mp_drawing.DrawingSpec(color=(80,22,10), thickness=2, circle_radius=4), \n",
    "                             mp_drawing.DrawingSpec(color=(80,44,121), thickness=2, circle_radius=2)\n",
    "                             ) \n",
    "    # Draw left hand connections\n",
    "    mp_drawing.draw_landmarks(image, results.left_hand_landmarks, mp_holistic.HAND_CONNECTIONS, \n",
    "                             mp_drawing.DrawingSpec(color=(121,22,76), thickness=2, circle_radius=4), \n",
    "                             mp_drawing.DrawingSpec(color=(121,44,250), thickness=2, circle_radius=2)\n",
    "                             ) \n",
    "    # Draw right hand connections  \n",
    "    mp_drawing.draw_landmarks(image, results.right_hand_landmarks, mp_holistic.HAND_CONNECTIONS, \n",
    "                             mp_drawing.DrawingSpec(color=(245,117,66), thickness=2, circle_radius=4), \n",
    "                             mp_drawing.DrawingSpec(color=(245,66,230), thickness=2, circle_radius=2)\n",
    "                             ) "
   ]
  },
  {
   "cell_type": "code",
   "execution_count": 6,
   "metadata": {},
   "outputs": [],
   "source": [
    "def extract_keypoints(results):\n",
    "    pose = np.array([[res.x, res.y, res.z, res.visibility] for res in results.pose_landmarks.landmark]).flatten() if results.pose_landmarks else np.zeros(33*4)\n",
    "    lh = np.array([[res.x, res.y, res.z, res.visibility] for res in results.left_hand_landmarks.landmark]).flatten() if results.left_hand_landmarks else np.zeros(21*4)\n",
    "    rh = np.array([[res.x, res.y, res.z, res.visibility] for res in results.right_hand_landmarks.landmark]).flatten() if results.right_hand_landmarks else np.zeros(21*4)\n",
    "    return np.concatenate([pose, lh, rh])"
   ]
  },
  {
   "attachments": {},
   "cell_type": "markdown",
   "metadata": {},
   "source": [
    "# 3. Setup Folders for Collection"
   ]
  },
  {
   "cell_type": "code",
   "execution_count": 7,
   "metadata": {},
   "outputs": [],
   "source": [
    "actions = np.array(\n",
    "        ['Bye', 'Fine', 'Good', 'Hello', 'I', 'You']\n",
    "    )\n",
    "WEIGHT_PATH = os.path.join('./weights_1680861604.8567774.h5')\n",
    "\n",
    "sequence_length = 10\n"
   ]
  },
  {
   "attachments": {},
   "cell_type": "markdown",
   "metadata": {},
   "source": [
    "# 4. Test in Real Time"
   ]
  },
  {
   "cell_type": "code",
   "execution_count": 8,
   "metadata": {},
   "outputs": [],
   "source": [
    "import tensorflow as tf"
   ]
  },
  {
   "cell_type": "code",
   "execution_count": 9,
   "metadata": {},
   "outputs": [
    {
     "data": {
      "text/plain": [
       "'2.11.0'"
      ]
     },
     "execution_count": 9,
     "metadata": {},
     "output_type": "execute_result"
    }
   ],
   "source": [
    "tf.__version__"
   ]
  },
  {
   "cell_type": "code",
   "execution_count": 10,
   "metadata": {},
   "outputs": [],
   "source": [
    "colors = [(245,117,16), (117,245,16), (16,117,245)]\n",
    "def prob_viz(res, actions, input_frame, colors):\n",
    "    output_frame = input_frame.copy()\n",
    "    for num, prob in enumerate(res[:6]):\n",
    "        cv2.rectangle(output_frame, (0,60+num*40), (int(prob*100), 90+num*40), colors[num%3], -1)\n",
    "        cv2.putText(output_frame, actions[num], (0, 85+num*40), cv2.FONT_HERSHEY_SIMPLEX, 1, (255,255,255), 2, cv2.LINE_AA)\n",
    "    \n",
    "    for num, prob in enumerate(res[6:]):\n",
    "        cv2.rectangle(output_frame, (input_frame.shape[1]-120,60+num*40), (input_frame.shape[1]-120+int(prob*100), 90+num*40), colors[num%3], -1)\n",
    "        cv2.putText(output_frame, actions[num+6], (input_frame.shape[1]-120, 85+num*40), cv2.FONT_HERSHEY_SIMPLEX, 1, (255,255,255), 2, cv2.LINE_AA)\n",
    "        \n",
    "    return output_frame"
   ]
  },
  {
   "cell_type": "code",
   "execution_count": 11,
   "metadata": {},
   "outputs": [],
   "source": [
    "model = tf.keras.models.load_model(WEIGHT_PATH)"
   ]
  },
  {
   "cell_type": "code",
   "execution_count": 19,
   "metadata": {},
   "outputs": [
    {
     "name": "stdout",
     "output_type": "stream",
     "text": [
      "1/1 [==============================] - 0s 24ms/step\n",
      "Fine\n",
      "1/1 [==============================] - 0s 28ms/step\n",
      "Fine\n",
      "1/1 [==============================] - 0s 25ms/step\n",
      "Fine\n",
      "1/1 [==============================] - 0s 34ms/step\n",
      "Fine\n",
      "1/1 [==============================] - 0s 22ms/step\n",
      "Fine\n",
      "1/1 [==============================] - 0s 31ms/step\n",
      "Fine\n",
      "1/1 [==============================] - 0s 22ms/step\n",
      "Fine\n",
      "1/1 [==============================] - 0s 24ms/step\n",
      "Fine\n",
      "1/1 [==============================] - 0s 21ms/step\n",
      "Fine\n",
      "1/1 [==============================] - 0s 21ms/step\n",
      "Fine\n",
      "1/1 [==============================] - 0s 21ms/step\n",
      "Fine\n",
      "1/1 [==============================] - 0s 25ms/step\n",
      "Fine\n",
      "1/1 [==============================] - 0s 21ms/step\n",
      "Fine\n",
      "1/1 [==============================] - 0s 23ms/step\n",
      "Fine\n",
      "1/1 [==============================] - 0s 23ms/step\n",
      "Fine\n",
      "1/1 [==============================] - 0s 22ms/step\n",
      "Fine\n",
      "1/1 [==============================] - 0s 22ms/step\n",
      "Fine\n",
      "1/1 [==============================] - 0s 23ms/step\n",
      "Fine\n",
      "1/1 [==============================] - 0s 22ms/step\n",
      "I\n",
      "1/1 [==============================] - 0s 23ms/step\n",
      "I\n",
      "1/1 [==============================] - 0s 26ms/step\n",
      "I\n",
      "1/1 [==============================] - 0s 23ms/step\n",
      "Bye\n",
      "1/1 [==============================] - 0s 23ms/step\n",
      "Bye\n",
      "1/1 [==============================] - 0s 23ms/step\n",
      "Bye\n",
      "1/1 [==============================] - 0s 21ms/step\n",
      "Bye\n",
      "1/1 [==============================] - 0s 21ms/step\n",
      "Bye\n",
      "1/1 [==============================] - 0s 20ms/step\n",
      "Bye\n",
      "1/1 [==============================] - 0s 22ms/step\n",
      "Bye\n",
      "1/1 [==============================] - 0s 24ms/step\n",
      "Bye\n",
      "1/1 [==============================] - 0s 22ms/step\n",
      "Bye\n",
      "1/1 [==============================] - 0s 22ms/step\n",
      "Bye\n",
      "1/1 [==============================] - 0s 25ms/step\n",
      "Bye\n",
      "1/1 [==============================] - 0s 22ms/step\n",
      "Bye\n",
      "1/1 [==============================] - 0s 21ms/step\n",
      "Bye\n",
      "1/1 [==============================] - 0s 22ms/step\n",
      "Bye\n",
      "1/1 [==============================] - 0s 23ms/step\n",
      "Bye\n",
      "1/1 [==============================] - 0s 22ms/step\n",
      "Bye\n",
      "1/1 [==============================] - 0s 22ms/step\n",
      "I\n",
      "1/1 [==============================] - 0s 23ms/step\n",
      "Hello\n",
      "1/1 [==============================] - 0s 24ms/step\n",
      "Fine\n",
      "1/1 [==============================] - 0s 25ms/step\n",
      "Fine\n",
      "1/1 [==============================] - 0s 23ms/step\n",
      "Fine\n",
      "1/1 [==============================] - 0s 25ms/step\n",
      "Fine\n",
      "1/1 [==============================] - 0s 23ms/step\n",
      "Fine\n",
      "1/1 [==============================] - 0s 22ms/step\n",
      "Fine\n",
      "1/1 [==============================] - 0s 21ms/step\n",
      "Fine\n",
      "1/1 [==============================] - 0s 22ms/step\n",
      "Fine\n",
      "1/1 [==============================] - 0s 22ms/step\n",
      "Fine\n",
      "1/1 [==============================] - 0s 23ms/step\n",
      "Fine\n",
      "1/1 [==============================] - 0s 21ms/step\n",
      "Fine\n",
      "1/1 [==============================] - 0s 24ms/step\n",
      "Fine\n",
      "1/1 [==============================] - 0s 22ms/step\n",
      "Fine\n",
      "1/1 [==============================] - 0s 21ms/step\n",
      "Fine\n",
      "1/1 [==============================] - 0s 41ms/step\n",
      "Fine\n",
      "1/1 [==============================] - 0s 24ms/step\n",
      "Fine\n",
      "1/1 [==============================] - 0s 22ms/step\n",
      "Fine\n",
      "1/1 [==============================] - 0s 24ms/step\n",
      "Fine\n",
      "1/1 [==============================] - 0s 22ms/step\n",
      "Fine\n",
      "1/1 [==============================] - 0s 22ms/step\n",
      "Fine\n",
      "1/1 [==============================] - 0s 22ms/step\n",
      "Fine\n",
      "1/1 [==============================] - 0s 23ms/step\n",
      "Fine\n",
      "1/1 [==============================] - 0s 24ms/step\n",
      "Fine\n",
      "1/1 [==============================] - 0s 22ms/step\n",
      "Fine\n",
      "1/1 [==============================] - 0s 21ms/step\n",
      "Fine\n",
      "1/1 [==============================] - 0s 23ms/step\n",
      "Fine\n",
      "1/1 [==============================] - 0s 24ms/step\n",
      "Fine\n",
      "1/1 [==============================] - 0s 25ms/step\n",
      "Fine\n",
      "1/1 [==============================] - 0s 22ms/step\n",
      "Fine\n",
      "1/1 [==============================] - 0s 24ms/step\n",
      "Fine\n",
      "1/1 [==============================] - 0s 22ms/step\n",
      "Fine\n",
      "1/1 [==============================] - 0s 22ms/step\n",
      "Fine\n",
      "1/1 [==============================] - 0s 23ms/step\n",
      "Fine\n",
      "1/1 [==============================] - 0s 24ms/step\n",
      "Fine\n",
      "1/1 [==============================] - 0s 22ms/step\n",
      "Fine\n",
      "1/1 [==============================] - 0s 23ms/step\n",
      "Fine\n",
      "1/1 [==============================] - 0s 23ms/step\n",
      "Fine\n",
      "1/1 [==============================] - 0s 24ms/step\n",
      "Fine\n",
      "1/1 [==============================] - 0s 46ms/step\n",
      "Fine\n",
      "1/1 [==============================] - 0s 23ms/step\n",
      "Fine\n",
      "1/1 [==============================] - 0s 20ms/step\n",
      "Fine\n",
      "1/1 [==============================] - 0s 22ms/step\n",
      "Fine\n",
      "1/1 [==============================] - 0s 23ms/step\n",
      "Fine\n",
      "1/1 [==============================] - 0s 22ms/step\n",
      "Fine\n",
      "1/1 [==============================] - 0s 26ms/step\n",
      "Fine\n",
      "1/1 [==============================] - 0s 25ms/step\n",
      "Fine\n",
      "1/1 [==============================] - 0s 22ms/step\n",
      "Fine\n"
     ]
    }
   ],
   "source": [
    "# 1. New detection variables\n",
    "sequence = []\n",
    "sentence = []\n",
    "predictions = []\n",
    "threshold = 0.5\n",
    "\n",
    "# cap = cv2.VideoCapture('http://192.168.18.20:81/stream')\n",
    "cap = cv2.VideoCapture(0)\n",
    "# Set mediapipe model\n",
    "with mp_holistic.Holistic(min_detection_confidence=0.5, min_tracking_confidence=0.5) as holistic:\n",
    "    while cap.isOpened():\n",
    "\n",
    "        # Read feed\n",
    "        ret, frame = cap.read()\n",
    "\n",
    "        # Make detections\n",
    "        image, results = mediapipe_detection(frame, holistic)\n",
    "\n",
    "        # Draw landmarks\n",
    "        # draw_styled_landmarks(image, results)\n",
    "\n",
    "        # 2. Prediction logic\n",
    "        keypoints = extract_keypoints(results)\n",
    "        sequence.append(keypoints)\n",
    "        sequence = sequence[-sequence_length:]\n",
    "\n",
    "        if len(sequence) == sequence_length:\n",
    "            res = model.predict(np.expand_dims(sequence, axis=0))[0]\n",
    "            print(actions[np.argmax(res)])\n",
    "            predictions.append(np.argmax(res))\n",
    "\n",
    "            if np.unique(predictions[-10:])[0] == np.argmax(res):\n",
    "                if res[np.argmax(res)] > threshold:\n",
    "\n",
    "                    if len(sentence) > 0:\n",
    "                        if actions[np.argmax(res)] != sentence[-1]:\n",
    "                            sentence.append(actions[np.argmax(res)])\n",
    "                    else:\n",
    "                        sentence.append(actions[np.argmax(res)])\n",
    "\n",
    "            if len(sentence) > 5:\n",
    "                sentence = sentence[-5:]\n",
    "\n",
    "            # Viz probabilities\n",
    "            image = prob_viz(res, actions, cv2.flip(image, 1), colors)\n",
    "\n",
    "        cv2.rectangle(image, (0, 0), (640, 40), (245, 117, 16), -1)\n",
    "        cv2.putText(image, ' '.join(sentence), (3, 20),\n",
    "                    cv2.FONT_HERSHEY_SIMPLEX, 1, (255, 255, 255), 2, cv2.LINE_AA)\n",
    "\n",
    "        # Show to screen\n",
    "        cv2.imshow('OpenCV Feed', image)\n",
    "\n",
    "        # Break gracefully\n",
    "        if cv2.waitKey(1) & 0xFF == ord('q'):\n",
    "            break\n",
    "    cap.release()\n",
    "    cv2.destroyAllWindows()\n"
   ]
  },
  {
   "cell_type": "code",
   "execution_count": 17,
   "metadata": {},
   "outputs": [],
   "source": [
    "cap.release()\n",
    "cv2.destroyAllWindows()"
   ]
  },
  {
   "cell_type": "code",
   "execution_count": 15,
   "metadata": {},
   "outputs": [
    {
     "data": {
      "text/plain": [
       "'4.7.0'"
      ]
     },
     "execution_count": 15,
     "metadata": {},
     "output_type": "execute_result"
    }
   ],
   "source": [
    "cv2.__version__"
   ]
  },
  {
   "cell_type": "code",
   "execution_count": null,
   "metadata": {},
   "outputs": [],
   "source": []
  }
 ],
 "metadata": {
  "kernelspec": {
   "display_name": "Python 3",
   "language": "python",
   "name": "python3"
  },
  "language_info": {
   "codemirror_mode": {
    "name": "ipython",
    "version": 3
   },
   "file_extension": ".py",
   "mimetype": "text/x-python",
   "name": "python",
   "nbconvert_exporter": "python",
   "pygments_lexer": "ipython3",
   "version": "3.7.6"
  },
  "orig_nbformat": 4,
  "vscode": {
   "interpreter": {
    "hash": "916dbcbb3f70747c44a77c7bcd40155683ae19c65e1c03b4aa3499c5328201f1"
   }
  }
 },
 "nbformat": 4,
 "nbformat_minor": 2
}
