{
  "cells": [
    {
      "cell_type": "code",
      "execution_count": null,
      "metadata": {
        "id": "jBt4nvVNZ5xt"
      },
      "outputs": [],
      "source": [
        "#!pip install tensorflow\n",
        "# !pip install -U scikit-learn\n",
        "# !pip install mediapipe"
      ]
    },
    {
      "cell_type": "code",
      "execution_count": 1,
      "metadata": {
        "colab": {
          "base_uri": "https://localhost:8080/"
        },
        "id": "QuK7CQu5Z9ej",
        "outputId": "d28988dd-c266-49ba-d0a5-08033881890f"
      },
      "outputs": [
        {
          "output_type": "stream",
          "name": "stdout",
          "text": [
            "Mounted at /content/drive/\n"
          ]
        }
      ],
      "source": [
        "from google.colab import drive\n",
        "drive.mount('/content/drive/')"
      ]
    },
    {
      "cell_type": "code",
      "execution_count": 3,
      "metadata": {
        "id": "mtCkynDEZ5xw"
      },
      "outputs": [],
      "source": [
        "import cv2\n",
        "import numpy as np\n",
        "import os\n",
        "import pandas as pd\n",
        "from PIL import Image\n",
        "import numpy as np\n",
        "import pandas as pd\n",
        "# Import the required libraries.\n",
        "import os\n",
        "import cv2\n",
        "import random\n",
        "import numpy as np\n",
        "import datetime as dt\n",
        "import tensorflow as tf\n",
        "from collections import deque\n",
        "import matplotlib.pyplot as plt\n",
        " \n",
        "%matplotlib inline\n",
        " \n",
        "from sklearn.model_selection import train_test_split\n",
        " \n",
        "from tensorflow.keras.layers import *\n",
        "from tensorflow.keras.models import Sequential\n",
        "from tensorflow.keras.utils import to_categorical\n",
        "from tensorflow.keras.callbacks import EarlyStopping\n",
        "from tensorflow.keras.utils import plot_model"
      ]
    },
    {
      "cell_type": "code",
      "execution_count": 4,
      "metadata": {
        "id": "Qm9tnxToZ5xz"
      },
      "outputs": [],
      "source": [
        "# Kích thướng mỗi frame\n",
        "IMAGE_WIDTH,  IMAGE_HEIGHT = 160, 120\n",
        "# số lượng frame sẽ lấy ở mỗi video\n",
        "SEQUENCE_LENGTH = 20\n",
        "# Những hành động sẽ nhận dạng\n",
        "CLASSES_LIST = ['Your', 'Love', 'Sleep', 'Name',\n",
        "                'What', 'Read', 'I', 'Bye', 'You', 'Eat', 'Hello']\n",
        "\n",
        "# Link thư mục chứa video train\n",
        "DATASET_DIR = './drive/MyDrive/PBL5'\n",
        "# DATASET_DIR = './'\n"
      ]
    },
    {
      "cell_type": "code",
      "execution_count": 5,
      "metadata": {
        "id": "BnNIyaINZ5x2"
      },
      "outputs": [],
      "source": [
        "dataset = np.load(f'{DATASET_DIR}/dataset_2.npz')\n",
        "features=dataset['features']\n",
        "labels=dataset['labels']\n",
        "video_files_paths=dataset['video_files_paths']"
      ]
    },
    {
      "cell_type": "code",
      "execution_count": 6,
      "metadata": {
        "colab": {
          "base_uri": "https://localhost:8080/"
        },
        "id": "wsWtftWIZ5x3",
        "outputId": "7c1299fc-56cb-4874-c111-590c07597afd"
      },
      "outputs": [
        {
          "output_type": "execute_result",
          "data": {
            "text/plain": [
              "(209, 20, 120, 160, 3)"
            ]
          },
          "metadata": {},
          "execution_count": 6
        }
      ],
      "source": [
        "features.shape"
      ]
    },
    {
      "cell_type": "code",
      "execution_count": 7,
      "metadata": {
        "id": "TXTpbzC_Z5x4"
      },
      "outputs": [],
      "source": [
        "one_hot_encoded_labels = to_categorical(labels)"
      ]
    },
    {
      "cell_type": "code",
      "execution_count": 8,
      "metadata": {
        "id": "PkG56Bu3Z5x5"
      },
      "outputs": [],
      "source": [
        "seed_constant = 27\n",
        "np.random.seed(seed_constant)\n",
        "random.seed(seed_constant)\n",
        "tf.random.set_seed(seed_constant)"
      ]
    },
    {
      "cell_type": "code",
      "execution_count": 9,
      "metadata": {
        "id": "oI8XFXwFZ5x6"
      },
      "outputs": [],
      "source": [
        "features_train, features_test, labels_train, labels_test = train_test_split(features, one_hot_encoded_labels, test_size = 0.2, shuffle = True, random_state = seed_constant)"
      ]
    },
    {
      "cell_type": "code",
      "execution_count": null,
      "metadata": {
        "id": "nsNkOIDPZ5x7"
      },
      "outputs": [],
      "source": [
        "def create_convlstm_model():\n",
        "    '''\n",
        "    This function will construct the required convlstm model.\n",
        "    Returns:\n",
        "        model: It is the required constructed convlstm model.\n",
        "    '''\n",
        " \n",
        "    # We will use a Sequential model for model construction\n",
        "    model = Sequential()\n",
        " \n",
        "    # Define the Model Architecture.\n",
        "    ########################################################################################################################\n",
        "    \n",
        "    model.add(ConvLSTM2D(filters = 4, kernel_size = (3, 3), activation = 'tanh',data_format = \"channels_last\",\n",
        "                         recurrent_dropout=0.2, return_sequences=True, input_shape = (SEQUENCE_LENGTH,\n",
        "                                                                                      IMAGE_HEIGHT, IMAGE_WIDTH, 3)))\n",
        "    \n",
        "    model.add(MaxPooling3D(pool_size=(1, 2, 2), padding='same', data_format='channels_last'))\n",
        "    model.add(TimeDistributed(Dropout(0.2)))\n",
        "    \n",
        "    model.add(ConvLSTM2D(filters = 8, kernel_size = (3, 3), activation = 'tanh', data_format = \"channels_last\",\n",
        "                         recurrent_dropout=0.2, return_sequences=True))\n",
        "    \n",
        "    model.add(MaxPooling3D(pool_size=(1, 2, 2), padding='same', data_format='channels_last'))\n",
        "    model.add(TimeDistributed(Dropout(0.2)))\n",
        "    \n",
        "    model.add(ConvLSTM2D(filters = 14, kernel_size = (3, 3), activation = 'tanh', data_format = \"channels_last\",\n",
        "                         recurrent_dropout=0.2, return_sequences=True))\n",
        "    \n",
        "    model.add(MaxPooling3D(pool_size=(1, 2, 2), padding='same', data_format='channels_last'))\n",
        "    model.add(TimeDistributed(Dropout(0.2)))\n",
        "    \n",
        "    model.add(ConvLSTM2D(filters = 16, kernel_size = (3, 3), activation = 'tanh', data_format = \"channels_last\",\n",
        "                         recurrent_dropout=0.2, return_sequences=True))\n",
        "    \n",
        "    model.add(MaxPooling3D(pool_size=(1, 2, 2), padding='same', data_format='channels_last'))\n",
        "    model.add(TimeDistributed(Dropout(0.2)))\n",
        "    \n",
        "    model.add(Flatten()) \n",
        "    \n",
        "    model.add(Dense(len(CLASSES_LIST), activation = \"softmax\"))\n",
        "    \n",
        "    ########################################################################################################################\n",
        "     \n",
        "    # Display the models summary.\n",
        "    model.summary()\n",
        "    \n",
        "    # Return the constructed convlstm model.\n",
        "    return model"
      ]
    },
    {
      "cell_type": "code",
      "execution_count": null,
      "metadata": {
        "id": "bcv9x_-2Z5x8",
        "outputId": "26f7f85b-947f-4d30-8d09-87c88dbee6e2"
      },
      "outputs": [
        {
          "name": "stderr",
          "output_type": "stream",
          "text": [
            "2023-03-24 22:49:32.966380: W tensorflow/compiler/xla/stream_executor/platform/default/dso_loader.cc:64] Could not load dynamic library 'libcuda.so.1'; dlerror: libcuda.so.1: cannot open shared object file: No such file or directory; LD_LIBRARY_PATH: /home/nhamcotdo/.local/lib/python3.10/site-packages/cv2/../../lib64:\n",
            "2023-03-24 22:49:32.967090: W tensorflow/compiler/xla/stream_executor/cuda/cuda_driver.cc:265] failed call to cuInit: UNKNOWN ERROR (303)\n",
            "2023-03-24 22:49:32.967138: I tensorflow/compiler/xla/stream_executor/cuda/cuda_diagnostics.cc:156] kernel driver does not appear to be running on this host (nhamcotdo): /proc/driver/nvidia/version does not exist\n",
            "2023-03-24 22:49:32.970053: I tensorflow/core/platform/cpu_feature_guard.cc:193] This TensorFlow binary is optimized with oneAPI Deep Neural Network Library (oneDNN) to use the following CPU instructions in performance-critical operations:  AVX2 FMA\n",
            "To enable them in other operations, rebuild TensorFlow with the appropriate compiler flags.\n"
          ]
        },
        {
          "name": "stdout",
          "output_type": "stream",
          "text": [
            "Model: \"sequential\"\n",
            "_________________________________________________________________\n",
            " Layer (type)                Output Shape              Param #   \n",
            "=================================================================\n",
            " conv_lstm2d (ConvLSTM2D)    (None, 20, 118, 158, 4)   1024      \n",
            "                                                                 \n",
            " max_pooling3d (MaxPooling3D  (None, 20, 59, 79, 4)    0         \n",
            " )                                                               \n",
            "                                                                 \n",
            " time_distributed (TimeDistr  (None, 20, 59, 79, 4)    0         \n",
            " ibuted)                                                         \n",
            "                                                                 \n",
            " conv_lstm2d_1 (ConvLSTM2D)  (None, 20, 57, 77, 8)     3488      \n",
            "                                                                 \n",
            " max_pooling3d_1 (MaxPooling  (None, 20, 29, 39, 8)    0         \n",
            " 3D)                                                             \n",
            "                                                                 \n",
            " time_distributed_1 (TimeDis  (None, 20, 29, 39, 8)    0         \n",
            " tributed)                                                       \n",
            "                                                                 \n",
            " conv_lstm2d_2 (ConvLSTM2D)  (None, 20, 27, 37, 14)    11144     \n",
            "                                                                 \n",
            " max_pooling3d_2 (MaxPooling  (None, 20, 14, 19, 14)   0         \n",
            " 3D)                                                             \n",
            "                                                                 \n",
            " time_distributed_2 (TimeDis  (None, 20, 14, 19, 14)   0         \n",
            " tributed)                                                       \n",
            "                                                                 \n",
            " conv_lstm2d_3 (ConvLSTM2D)  (None, 20, 12, 17, 16)    17344     \n",
            "                                                                 \n",
            " max_pooling3d_3 (MaxPooling  (None, 20, 6, 9, 16)     0         \n",
            " 3D)                                                             \n",
            "                                                                 \n",
            " time_distributed_3 (TimeDis  (None, 20, 6, 9, 16)     0         \n",
            " tributed)                                                       \n",
            "                                                                 \n",
            " flatten (Flatten)           (None, 17280)             0         \n",
            "                                                                 \n",
            " dense (Dense)               (None, 11)                190091    \n",
            "                                                                 \n",
            "=================================================================\n",
            "Total params: 223,091\n",
            "Trainable params: 223,091\n",
            "Non-trainable params: 0\n",
            "_________________________________________________________________\n",
            "Model Created Successfully!\n"
          ]
        }
      ],
      "source": [
        "# Construct the required convlstm model.\n",
        "convlstm_model = create_convlstm_model()\n",
        " \n",
        "# Display the success message. \n",
        "print(\"Model Created Successfully!\")"
      ]
    },
    {
      "cell_type": "code",
      "execution_count": null,
      "metadata": {
        "id": "WF25E-1zZ5x9"
      },
      "outputs": [],
      "source": [
        "# plot_model(convlstm_model, to_file = 'convlstm_model_structure_plot.png', show_shapes = True, show_layer_names = True)"
      ]
    },
    {
      "cell_type": "code",
      "execution_count": 15,
      "metadata": {
        "id": "2iUWDMoVdBwo"
      },
      "outputs": [],
      "source": [
        "\n",
        "def plot_metric(model_training_history, metric_name_1, metric_name_2, plot_name):\n",
        "    '''\n",
        "    This function will plot the metrics passed to it in a graph.\n",
        "    Args:\n",
        "        model_training_history: A history object containing a record of training and validation \n",
        "                                loss values and metrics values at successive epochs\n",
        "        metric_name_1:          The name of the first metric that needs to be plotted in the graph.\n",
        "        metric_name_2:          The name of the second metric that needs to be plotted in the graph.\n",
        "        plot_name:              The title of the graph.\n",
        "    '''\n",
        "    \n",
        "    # Get metric values using metric names as identifiers.\n",
        "    metric_value_1 = model_training_history.history[metric_name_1]\n",
        "    metric_value_2 = model_training_history.history[metric_name_2]\n",
        "    \n",
        "    # Construct a range object which will be used as x-axis (horizontal plane) of the graph.\n",
        "    epochs = range(len(metric_value_1))\n",
        " \n",
        "    # Plot the Graph.\n",
        "    plt.plot(epochs, metric_value_1, 'blue', label = metric_name_1)\n",
        "    plt.plot(epochs, metric_value_2, 'red', label = metric_name_2)\n",
        " \n",
        "    # Add title to the plot.\n",
        "    plt.title(str(plot_name))\n",
        " \n",
        "    # Add legend to the plot.\n",
        "    plt.legend()"
      ]
    },
    {
      "cell_type": "code",
      "execution_count": null,
      "metadata": {
        "id": "QEMch-CKZ5x9"
      },
      "outputs": [],
      "source": [
        "# !pip install pydot"
      ]
    },
    {
      "cell_type": "code",
      "execution_count": null,
      "metadata": {
        "id": "-lieSpjvZ5x-"
      },
      "outputs": [],
      "source": [
        "early_stopping_callback = EarlyStopping(monitor = 'val_loss', patience = 10, mode = 'min', restore_best_weights = True)\n",
        " \n",
        "# Compile the model and specify loss function, optimizer and metrics values to the model\n",
        "convlstm_model.compile(loss = 'categorical_crossentropy', optimizer = 'Adam', metrics = [\"accuracy\"])\n"
      ]
    },
    {
      "cell_type": "code",
      "execution_count": null,
      "metadata": {
        "id": "bOFMe7CSeblp"
      },
      "outputs": [],
      "source": [
        "# # Start training the model.\n",
        "# convlstm_model_training_history = convlstm_model.fit(x = features_train, y = labels_train, epochs = 50, batch_size = 4,shuffle = True, validation_split = 0.2, callbacks = [early_stopping_callback])"
      ]
    },
    {
      "cell_type": "code",
      "execution_count": null,
      "metadata": {
        "id": "MoQehneKZ5x-"
      },
      "outputs": [],
      "source": [
        " \t\n",
        "# # Evaluate the trained model.\n",
        "# model_evaluation_history = convlstm_model.evaluate(features_test, labels_test)"
      ]
    },
    {
      "cell_type": "code",
      "execution_count": null,
      "metadata": {
        "id": "JLGNaBP3Z5x-"
      },
      "outputs": [],
      "source": [
        "# model_evaluation_loss, model_evaluation_accuracy = model_evaluation_history\n",
        " \n",
        "# # Define the string date format.\n",
        "# # Get the current Date and Time in a DateTime Object.\n",
        "# # Convert the DateTime object to string according to the style mentioned in date_time_format string.\n",
        "# date_time_format = '%Y_%m_%d__%H_%M_%S'\n",
        "# current_date_time_dt = dt.datetime.now()\n",
        "# current_date_time_string = dt.datetime.strftime(current_date_time_dt, date_time_format)\n",
        " \n",
        "# # Define a useful name for our model to make it easy for us while navigating through multiple saved models.\n",
        "# model_file_name = f'{DATASET_DIR}/convlstm_model___Date_Time_{current_date_time_string}___Loss_{model_evaluation_loss}___Accuracy_{model_evaluation_accuracy}.h5'\n",
        " \n",
        "# # Save your Model.\n",
        "# convlstm_model.save(model_file_name)"
      ]
    },
    {
      "cell_type": "code",
      "execution_count": null,
      "metadata": {
        "id": "Ed4Q8ZXsdxnx"
      },
      "outputs": [],
      "source": [
        "# plot_metric(convlstm_model_training_history, 'accuracy', 'val_accuracy', 'Total Accuracy vs Total Validation Accuracy') "
      ]
    },
    {
      "cell_type": "code",
      "execution_count": null,
      "metadata": {
        "id": "tWnQIYHFd2Rs"
      },
      "outputs": [],
      "source": [
        "# plot_metric(convlstm_model_training_history, 'loss', 'val_loss', 'Total Loss vs Total Validation Loss')"
      ]
    },
    {
      "cell_type": "code",
      "execution_count": null,
      "metadata": {
        "id": "u68TKa56Z5x_"
      },
      "outputs": [],
      "source": [
        "def create_LRCN_model():\n",
        "    '''\n",
        "    This function will construct the required LRCN model.\n",
        "    Returns:\n",
        "        model: It is the required constructed LRCN model.\n",
        "    '''\n",
        "\n",
        "    # We will use a Sequential model for model construction.\n",
        "    model = Sequential()\n",
        "    \n",
        "    # Define the Model Architecture.\n",
        "    ########################################################################################################################\n",
        "    \n",
        "    model.add(TimeDistributed(Conv2D(16, (3, 3), padding='same',activation = 'relu'),\n",
        "                              input_shape = (SEQUENCE_LENGTH,IMAGE_HEIGHT, IMAGE_WIDTH, 3)))\n",
        "    \n",
        "    model.add(TimeDistributed(MaxPooling2D((4, 4)))) \n",
        "    model.add(TimeDistributed(Dropout(0.2)))\n",
        "    \n",
        "    model.add(TimeDistributed(Conv2D(32, (3, 3), padding='same',activation = 'relu')))\n",
        "    model.add(TimeDistributed(MaxPooling2D((4, 4))))\n",
        "    model.add(TimeDistributed(Dropout(0.2)))\n",
        "    \n",
        "    model.add(TimeDistributed(Conv2D(64, (3, 3), padding='same',activation = 'relu')))\n",
        "    model.add(TimeDistributed(MaxPooling2D((2, 2))))\n",
        "    model.add(TimeDistributed(Dropout(0.2)))\n",
        "    \n",
        "    model.add(TimeDistributed(Conv2D(64, (3, 3), padding='same',activation = 'relu')))\n",
        "    model.add(TimeDistributed(MaxPooling2D((2, 2))))\n",
        "    #model.add(TimeDistributed(Dropout(0.25)))\n",
        "                                      \n",
        "    model.add(TimeDistributed(Flatten()))\n",
        "                                      \n",
        "    model.add(LSTM(32))\n",
        "                                      \n",
        "    model.add(Dense(len(CLASSES_LIST), activation = 'softmax'))\n",
        "\n",
        "    ########################################################################################################################\n",
        "\n",
        "    # Display the models summary.\n",
        "    model.summary()\n",
        "    \n",
        "    # Return the constructed LRCN model.\n",
        "    return model"
      ]
    },
    {
      "cell_type": "code",
      "execution_count": null,
      "metadata": {
        "colab": {
          "base_uri": "https://localhost:8080/"
        },
        "id": "5lJ7K3nWZ5x_",
        "outputId": "312081e4-9087-4248-d2dc-dc58c0c2ba09"
      },
      "outputs": [
        {
          "name": "stdout",
          "output_type": "stream",
          "text": [
            "Model: \"sequential_1\"\n",
            "_________________________________________________________________\n",
            " Layer (type)                Output Shape              Param #   \n",
            "=================================================================\n",
            " time_distributed_4 (TimeDis  (None, 20, 120, 160, 16)  448      \n",
            " tributed)                                                       \n",
            "                                                                 \n",
            " time_distributed_5 (TimeDis  (None, 20, 30, 40, 16)   0         \n",
            " tributed)                                                       \n",
            "                                                                 \n",
            " time_distributed_6 (TimeDis  (None, 20, 30, 40, 16)   0         \n",
            " tributed)                                                       \n",
            "                                                                 \n",
            " time_distributed_7 (TimeDis  (None, 20, 30, 40, 32)   4640      \n",
            " tributed)                                                       \n",
            "                                                                 \n",
            " time_distributed_8 (TimeDis  (None, 20, 7, 10, 32)    0         \n",
            " tributed)                                                       \n",
            "                                                                 \n",
            " time_distributed_9 (TimeDis  (None, 20, 7, 10, 32)    0         \n",
            " tributed)                                                       \n",
            "                                                                 \n",
            " time_distributed_10 (TimeDi  (None, 20, 7, 10, 64)    18496     \n",
            " stributed)                                                      \n",
            "                                                                 \n",
            " time_distributed_11 (TimeDi  (None, 20, 3, 5, 64)     0         \n",
            " stributed)                                                      \n",
            "                                                                 \n",
            " time_distributed_12 (TimeDi  (None, 20, 3, 5, 64)     0         \n",
            " stributed)                                                      \n",
            "                                                                 \n",
            " time_distributed_13 (TimeDi  (None, 20, 3, 5, 64)     36928     \n",
            " stributed)                                                      \n",
            "                                                                 \n",
            " time_distributed_14 (TimeDi  (None, 20, 1, 2, 64)     0         \n",
            " stributed)                                                      \n",
            "                                                                 \n",
            " time_distributed_15 (TimeDi  (None, 20, 128)          0         \n",
            " stributed)                                                      \n",
            "                                                                 \n",
            " lstm (LSTM)                 (None, 32)                20608     \n",
            "                                                                 \n",
            " dense_1 (Dense)             (None, 11)                363       \n",
            "                                                                 \n",
            "=================================================================\n",
            "Total params: 81,483\n",
            "Trainable params: 81,483\n",
            "Non-trainable params: 0\n",
            "_________________________________________________________________\n",
            "Model Created Successfully!\n"
          ]
        }
      ],
      "source": [
        "LRCN_model = create_LRCN_model()\n",
        " \n",
        "# Display the success message.\n",
        "print(\"Model Created Successfully!\")"
      ]
    },
    {
      "cell_type": "code",
      "execution_count": null,
      "metadata": {
        "id": "2nuubC4Pebls"
      },
      "outputs": [],
      "source": []
    },
    {
      "cell_type": "code",
      "execution_count": null,
      "metadata": {
        "id": "uteQ0OucZ5yA"
      },
      "outputs": [],
      "source": [
        "early_stopping_callback = EarlyStopping(monitor = 'val_loss', patience = 15, mode = 'min', restore_best_weights = True)\n",
        "\n",
        "# Compile the model and specify loss function, optimizer and metrics to the model.\n",
        "LRCN_model.compile(loss = 'categorical_crossentropy', optimizer = 'Adam', metrics = [\"accuracy\"])\n"
      ]
    },
    {
      "cell_type": "code",
      "execution_count": null,
      "metadata": {
        "id": "NOfx7KnQeblt",
        "outputId": "a199da0c-a26f-4b6c-8238-5f9e533bd7d3"
      },
      "outputs": [
        {
          "name": "stdout",
          "output_type": "stream",
          "text": [
            "Epoch 1/100\n",
            "125/125 [==============================] - 29s 200ms/step - loss: 2.4941 - accuracy: 0.0880 - val_loss: 2.4250 - val_accuracy: 0.1429\n",
            "Epoch 2/100\n",
            "125/125 [==============================] - 22s 179ms/step - loss: 2.3631 - accuracy: 0.1040 - val_loss: 2.3903 - val_accuracy: 0.1667\n",
            "Epoch 3/100\n",
            "125/125 [==============================] - 24s 191ms/step - loss: 2.2991 - accuracy: 0.1600 - val_loss: 2.3802 - val_accuracy: 0.2143\n",
            "Epoch 4/100\n",
            "125/125 [==============================] - 23s 182ms/step - loss: 2.2479 - accuracy: 0.1840 - val_loss: 2.3141 - val_accuracy: 0.2143\n",
            "Epoch 5/100\n",
            "125/125 [==============================] - 24s 188ms/step - loss: 2.1964 - accuracy: 0.2080 - val_loss: 2.2865 - val_accuracy: 0.1905\n",
            "Epoch 6/100\n",
            "125/125 [==============================] - 24s 189ms/step - loss: 2.1414 - accuracy: 0.2160 - val_loss: 2.2045 - val_accuracy: 0.2381\n",
            "Epoch 7/100\n",
            "125/125 [==============================] - 23s 183ms/step - loss: 2.0705 - accuracy: 0.2080 - val_loss: 2.1794 - val_accuracy: 0.2857\n",
            "Epoch 8/100\n",
            "125/125 [==============================] - 19s 155ms/step - loss: 1.9582 - accuracy: 0.3360 - val_loss: 2.1596 - val_accuracy: 0.2381\n",
            "Epoch 9/100\n",
            "125/125 [==============================] - 19s 153ms/step - loss: 1.8616 - accuracy: 0.3600 - val_loss: 2.1621 - val_accuracy: 0.2143\n",
            "Epoch 10/100\n",
            "125/125 [==============================] - 20s 156ms/step - loss: 1.8595 - accuracy: 0.4000 - val_loss: 2.2706 - val_accuracy: 0.1667\n",
            "Epoch 11/100\n",
            "125/125 [==============================] - 20s 156ms/step - loss: 2.0960 - accuracy: 0.3200 - val_loss: 2.1028 - val_accuracy: 0.1905\n",
            "Epoch 12/100\n",
            "125/125 [==============================] - 29s 231ms/step - loss: 1.8682 - accuracy: 0.3840 - val_loss: 2.0422 - val_accuracy: 0.3095\n",
            "Epoch 13/100\n",
            "125/125 [==============================] - 24s 189ms/step - loss: 1.8229 - accuracy: 0.4000 - val_loss: 2.0552 - val_accuracy: 0.2857\n",
            "Epoch 14/100\n",
            "125/125 [==============================] - 24s 188ms/step - loss: 1.7329 - accuracy: 0.4880 - val_loss: 1.9761 - val_accuracy: 0.3333\n",
            "Epoch 15/100\n",
            "125/125 [==============================] - 23s 187ms/step - loss: 1.6020 - accuracy: 0.5200 - val_loss: 1.9225 - val_accuracy: 0.3095\n",
            "Epoch 16/100\n",
            "125/125 [==============================] - 24s 189ms/step - loss: 1.4780 - accuracy: 0.5840 - val_loss: 1.8574 - val_accuracy: 0.4048\n",
            "Epoch 17/100\n",
            "125/125 [==============================] - 21s 170ms/step - loss: 1.4298 - accuracy: 0.5760 - val_loss: 1.8423 - val_accuracy: 0.3333\n",
            "Epoch 18/100\n",
            "125/125 [==============================] - 20s 158ms/step - loss: 1.3801 - accuracy: 0.5920 - val_loss: 1.7808 - val_accuracy: 0.3095\n",
            "Epoch 19/100\n",
            "125/125 [==============================] - 21s 165ms/step - loss: 1.4314 - accuracy: 0.6000 - val_loss: 1.8263 - val_accuracy: 0.3333\n",
            "Epoch 20/100\n",
            "125/125 [==============================] - 25s 200ms/step - loss: 1.3846 - accuracy: 0.5360 - val_loss: 1.7617 - val_accuracy: 0.4048\n",
            "Epoch 21/100\n",
            "125/125 [==============================] - 24s 195ms/step - loss: 1.3374 - accuracy: 0.5840 - val_loss: 1.7755 - val_accuracy: 0.3810\n",
            "Epoch 22/100\n",
            "125/125 [==============================] - 24s 195ms/step - loss: 1.2267 - accuracy: 0.6800 - val_loss: 1.6750 - val_accuracy: 0.3095\n",
            "Epoch 23/100\n",
            "125/125 [==============================] - 24s 195ms/step - loss: 1.1186 - accuracy: 0.6720 - val_loss: 1.6306 - val_accuracy: 0.4286\n",
            "Epoch 24/100\n",
            "125/125 [==============================] - 25s 197ms/step - loss: 1.0168 - accuracy: 0.7760 - val_loss: 1.6231 - val_accuracy: 0.4286\n",
            "Epoch 25/100\n",
            "125/125 [==============================] - 25s 197ms/step - loss: 0.9089 - accuracy: 0.8000 - val_loss: 1.4875 - val_accuracy: 0.5000\n",
            "Epoch 26/100\n",
            "125/125 [==============================] - 24s 189ms/step - loss: 0.8592 - accuracy: 0.7840 - val_loss: 1.4596 - val_accuracy: 0.4524\n",
            "Epoch 27/100\n",
            "125/125 [==============================] - 24s 190ms/step - loss: 0.7882 - accuracy: 0.8560 - val_loss: 1.3601 - val_accuracy: 0.5000\n",
            "Epoch 28/100\n",
            "125/125 [==============================] - 20s 158ms/step - loss: 0.7258 - accuracy: 0.8800 - val_loss: 1.5433 - val_accuracy: 0.4048\n",
            "Epoch 29/100\n",
            "125/125 [==============================] - 20s 162ms/step - loss: 0.6953 - accuracy: 0.8720 - val_loss: 1.3208 - val_accuracy: 0.5000\n",
            "Epoch 30/100\n",
            "125/125 [==============================] - 23s 184ms/step - loss: 0.6227 - accuracy: 0.8800 - val_loss: 1.3603 - val_accuracy: 0.5238\n",
            "Epoch 31/100\n",
            "125/125 [==============================] - 25s 199ms/step - loss: 0.5737 - accuracy: 0.8800 - val_loss: 1.3857 - val_accuracy: 0.5952\n",
            "Epoch 32/100\n",
            "125/125 [==============================] - 24s 195ms/step - loss: 0.5226 - accuracy: 0.8640 - val_loss: 1.3846 - val_accuracy: 0.5714\n",
            "Epoch 33/100\n",
            "125/125 [==============================] - 24s 195ms/step - loss: 0.4625 - accuracy: 0.9200 - val_loss: 1.3752 - val_accuracy: 0.5476\n",
            "Epoch 34/100\n",
            "125/125 [==============================] - 22s 178ms/step - loss: 0.3955 - accuracy: 0.9600 - val_loss: 1.5553 - val_accuracy: 0.5238\n",
            "Epoch 35/100\n",
            "125/125 [==============================] - 20s 163ms/step - loss: 0.3755 - accuracy: 0.9600 - val_loss: 1.4210 - val_accuracy: 0.5238\n",
            "Epoch 36/100\n",
            "125/125 [==============================] - 21s 166ms/step - loss: 0.3615 - accuracy: 0.9360 - val_loss: 1.3829 - val_accuracy: 0.6429\n",
            "Epoch 37/100\n",
            "125/125 [==============================] - 23s 183ms/step - loss: 0.2759 - accuracy: 0.9760 - val_loss: 1.3265 - val_accuracy: 0.6190\n",
            "Epoch 38/100\n",
            "125/125 [==============================] - 27s 215ms/step - loss: 0.3148 - accuracy: 0.9600 - val_loss: 1.3870 - val_accuracy: 0.6190\n",
            "Epoch 39/100\n",
            "125/125 [==============================] - 25s 199ms/step - loss: 0.2305 - accuracy: 0.9840 - val_loss: 1.3058 - val_accuracy: 0.6429\n",
            "Epoch 40/100\n",
            "125/125 [==============================] - 24s 196ms/step - loss: 0.2172 - accuracy: 0.9840 - val_loss: 1.3852 - val_accuracy: 0.5000\n",
            "Epoch 41/100\n",
            "125/125 [==============================] - 24s 195ms/step - loss: 0.2076 - accuracy: 0.9680 - val_loss: 1.2611 - val_accuracy: 0.6429\n",
            "Epoch 42/100\n",
            "125/125 [==============================] - 25s 197ms/step - loss: 0.1923 - accuracy: 0.9760 - val_loss: 1.2947 - val_accuracy: 0.6667\n",
            "Epoch 43/100\n",
            "125/125 [==============================] - 25s 200ms/step - loss: 0.1414 - accuracy: 1.0000 - val_loss: 1.2314 - val_accuracy: 0.6429\n",
            "Epoch 44/100\n",
            "125/125 [==============================] - 25s 197ms/step - loss: 0.1423 - accuracy: 0.9920 - val_loss: 1.3117 - val_accuracy: 0.6190\n",
            "Epoch 45/100\n",
            "125/125 [==============================] - 24s 190ms/step - loss: 0.1275 - accuracy: 1.0000 - val_loss: 1.3046 - val_accuracy: 0.6190\n",
            "Epoch 46/100\n",
            "125/125 [==============================] - 24s 193ms/step - loss: 0.1133 - accuracy: 1.0000 - val_loss: 1.3743 - val_accuracy: 0.5714\n",
            "Epoch 47/100\n",
            "125/125 [==============================] - 24s 194ms/step - loss: 0.1044 - accuracy: 0.9920 - val_loss: 1.2068 - val_accuracy: 0.6429\n",
            "Epoch 48/100\n",
            "125/125 [==============================] - 24s 194ms/step - loss: 0.0930 - accuracy: 1.0000 - val_loss: 1.2243 - val_accuracy: 0.6905\n",
            "Epoch 49/100\n",
            "125/125 [==============================] - 21s 164ms/step - loss: 0.0783 - accuracy: 1.0000 - val_loss: 1.2678 - val_accuracy: 0.5952\n",
            "Epoch 50/100\n",
            "125/125 [==============================] - 22s 173ms/step - loss: 0.0639 - accuracy: 1.0000 - val_loss: 1.3337 - val_accuracy: 0.6190\n",
            "Epoch 51/100\n",
            "125/125 [==============================] - 21s 167ms/step - loss: 0.0627 - accuracy: 1.0000 - val_loss: 1.1486 - val_accuracy: 0.6905\n",
            "Epoch 52/100\n",
            "125/125 [==============================] - 21s 170ms/step - loss: 0.0670 - accuracy: 1.0000 - val_loss: 1.3571 - val_accuracy: 0.5714\n",
            "Epoch 53/100\n",
            "125/125 [==============================] - 21s 170ms/step - loss: 0.0517 - accuracy: 1.0000 - val_loss: 1.3769 - val_accuracy: 0.6190\n",
            "Epoch 54/100\n",
            "125/125 [==============================] - 17s 134ms/step - loss: 0.0457 - accuracy: 1.0000 - val_loss: 1.3956 - val_accuracy: 0.5952\n",
            "Epoch 55/100\n",
            "125/125 [==============================] - 16s 125ms/step - loss: 0.0453 - accuracy: 1.0000 - val_loss: 1.3475 - val_accuracy: 0.6429\n",
            "Epoch 56/100\n",
            "125/125 [==============================] - 16s 124ms/step - loss: 0.0419 - accuracy: 1.0000 - val_loss: 1.2105 - val_accuracy: 0.6905\n",
            "Epoch 57/100\n",
            "125/125 [==============================] - 16s 126ms/step - loss: 0.0666 - accuracy: 0.9840 - val_loss: 1.2998 - val_accuracy: 0.7143\n",
            "Epoch 58/100\n",
            "125/125 [==============================] - 19s 155ms/step - loss: 0.0692 - accuracy: 0.9920 - val_loss: 1.4318 - val_accuracy: 0.6190\n",
            "Epoch 59/100\n",
            "125/125 [==============================] - 16s 131ms/step - loss: 0.0945 - accuracy: 0.9920 - val_loss: 1.4481 - val_accuracy: 0.6190\n",
            "Epoch 60/100\n",
            "125/125 [==============================] - 17s 133ms/step - loss: 0.0777 - accuracy: 0.9920 - val_loss: 1.3677 - val_accuracy: 0.5952\n",
            "Epoch 61/100\n",
            "125/125 [==============================] - 16s 130ms/step - loss: 0.1415 - accuracy: 0.9680 - val_loss: 1.8329 - val_accuracy: 0.5000\n",
            "Epoch 62/100\n",
            "125/125 [==============================] - 15s 122ms/step - loss: 0.1448 - accuracy: 0.9760 - val_loss: 1.4782 - val_accuracy: 0.5714\n",
            "Epoch 63/100\n",
            "125/125 [==============================] - 15s 122ms/step - loss: 0.1129 - accuracy: 0.9760 - val_loss: 1.4468 - val_accuracy: 0.6429\n",
            "Epoch 64/100\n",
            "125/125 [==============================] - 15s 122ms/step - loss: 0.0518 - accuracy: 1.0000 - val_loss: 1.4957 - val_accuracy: 0.6667\n",
            "Epoch 65/100\n",
            "125/125 [==============================] - 17s 136ms/step - loss: 0.0391 - accuracy: 1.0000 - val_loss: 1.3091 - val_accuracy: 0.6190\n",
            "Epoch 66/100\n",
            "125/125 [==============================] - 16s 130ms/step - loss: 0.0262 - accuracy: 1.0000 - val_loss: 1.3967 - val_accuracy: 0.6667\n"
          ]
        }
      ],
      "source": [
        "# Start training the model.\n",
        "LRCN_model_training_history = LRCN_model.fit(x = features_train, y = labels_train, epochs = 100, batch_size = 1 , shuffle = True, validation_split = 0.25, callbacks = [early_stopping_callback])"
      ]
    },
    {
      "cell_type": "code",
      "execution_count": null,
      "metadata": {
        "colab": {
          "base_uri": "https://localhost:8080/"
        },
        "id": "GXUBBwpsZ5yB",
        "outputId": "8e48e153-7783-4d86-eb30-880d4bf2d25a"
      },
      "outputs": [
        {
          "name": "stderr",
          "output_type": "stream",
          "text": [
            "2023-03-24 23:13:32.602659: W tensorflow/tsl/framework/cpu_allocator_impl.cc:82] Allocation of 786432000 exceeds 10% of free system memory.\n"
          ]
        },
        {
          "name": "stdout",
          "output_type": "stream",
          "text": [
            "2/2 [==============================] - 3s 577ms/step - loss: 1.2290 - accuracy: 0.7143\n"
          ]
        }
      ],
      "source": [
        "model_evaluation_history = LRCN_model.evaluate(features_test, labels_test)"
      ]
    },
    {
      "cell_type": "code",
      "execution_count": null,
      "metadata": {
        "id": "MkvQBuRGZ5yC"
      },
      "outputs": [],
      "source": [
        "model_evaluation_loss, model_evaluation_accuracy = model_evaluation_history\n",
        " \n",
        "# Define the string date format.\n",
        "# Get the current Date and Time in a DateTime Object.\n",
        "# Convert the DateTime object to string according to the style mentioned in date_time_format string.\n",
        "date_time_format = '%Y_%m_%d__%H_%M_%S'\n",
        "current_date_time_dt = dt.datetime.now()\n",
        "current_date_time_string = dt.datetime.strftime(current_date_time_dt, date_time_format)\n",
        "    \n",
        "# Define a useful name for our model to make it easy for us while navigating through multiple saved models.\n",
        "model_file_name = f'{DATASET_DIR}/LRCN_model___Date_Time_{current_date_time_string}___Loss_{model_evaluation_loss}___Accuracy_{model_evaluation_accuracy}.h5'\n",
        " \n",
        "# Save the Model.\n",
        "LRCN_model.save(model_file_name)"
      ]
    },
    {
      "cell_type": "code",
      "execution_count": null,
      "metadata": {
        "colab": {
          "base_uri": "https://localhost:8080/",
          "height": 281
        },
        "id": "BEeUctLYcQ-X",
        "outputId": "54b160f3-f08c-4df1-c3ef-4c095b87a0c8"
      },
      "outputs": [
        {
          "data": {
            "image/png": "[encoded data removed]",
            "text/plain": [
              "<Figure size 640x480 with 1 Axes>"
            ]
          },
          "metadata": {},
          "output_type": "display_data"
        }
      ],
      "source": [
        "plot_metric(LRCN_model_training_history, 'loss', 'val_loss', 'Total Loss vs Total Validation Loss')"
      ]
    },
    {
      "cell_type": "code",
      "execution_count": null,
      "metadata": {
        "colab": {
          "base_uri": "https://localhost:8080/",
          "height": 281
        },
        "id": "Vqn3G21TcXkT",
        "outputId": "7ff6be46-3633-4046-e84a-85bcce55a90e"
      },
      "outputs": [
        {
          "data": {
            "image/png": "[encoded data removed]",
            "text/plain": [
              "<Figure size 640x480 with 1 Axes>"
            ]
          },
          "metadata": {},
          "output_type": "display_data"
        }
      ],
      "source": [
        "plot_metric(LRCN_model_training_history, 'accuracy', 'val_accuracy', 'Total Accuracy vs Total Validation Accuracy') "
      ]
    },
    {
      "cell_type": "code",
      "execution_count": null,
      "metadata": {
        "id": "YPyJXn0Weblu",
        "outputId": "860d633f-e6e2-4736-d406-6e8c6a33af96"
      },
      "outputs": [
        {
          "name": "stderr",
          "output_type": "stream",
          "text": [
            "2023-03-24 23:13:36.313443: W tensorflow/tsl/framework/cpu_allocator_impl.cc:82] Allocation of 786432000 exceeds 10% of free system memory.\n"
          ]
        },
        {
          "name": "stdout",
          "output_type": "stream",
          "text": [
            "2/2 [==============================] - 3s 574ms/step - loss: 0.8039 - accuracy: 0.7857\n"
          ]
        },
        {
          "data": {
            "text/plain": [
              "[0.8039475679397583, 0.7857142686843872]"
            ]
          },
          "execution_count": 29,
          "metadata": {},
          "output_type": "execute_result"
        }
      ],
      "source": [
        "LRCN_model.load_weights(f'{DATASET_DIR}/LRCN_model___Date_Time_2023_03_23__17_07_44___Loss_0.8039475679397583___Accuracy_0.7857142686843872.h5') \n",
        "LRCN_model.evaluate(features_test, labels_test)\n"
      ]
    },
    {
      "cell_type": "code",
      "execution_count": 10,
      "metadata": {
        "id": "CtrfY-KFeblu"
      },
      "outputs": [],
      "source": [
        "def create_LRCN_model_opt():\n",
        "    '''\n",
        "    This function will construct the required LRCN model.\n",
        "    Returns:\n",
        "        model: It is the required constructed LRCN model.\n",
        "    '''\n",
        "\n",
        "    # We will use a Sequential model for model construction.\n",
        "    model = Sequential()\n",
        "\n",
        "    # Define the Model Architecture.\n",
        "    ########################################################################################################################\n",
        "\n",
        "    model.add(TimeDistributed(Conv2D(32, (3, 3), padding='same', activation='relu'),\n",
        "                              input_shape=(SEQUENCE_LENGTH, IMAGE_HEIGHT, IMAGE_WIDTH, 3)))\n",
        "\n",
        "    model.add(TimeDistributed(MaxPooling2D((4, 4))))\n",
        "    model.add(TimeDistributed(Dropout(0.25)))\n",
        "\n",
        "    model.add(TimeDistributed(\n",
        "        Conv2D(64, (3, 3), padding='same', activation='relu')))\n",
        "    model.add(TimeDistributed(MaxPooling2D((4, 4))))5\n",
        "    model.add(TimeDistributed(Dropout(0.25)))\n",
        "\n",
        "    model.add(TimeDistributed(\n",
        "        Conv2D(128, (3, 3), padding='same', activation='relu')))\n",
        "    model.add(TimeDistributed(MaxPooling2D((2, 2))))\n",
        "    model.add(TimeDistributed(Dropout(0.25)))\n",
        "\n",
        "    model.add(TimeDistributed(\n",
        "        Conv2D(256, (3, 3), padding='same', activation='relu')))\n",
        "    model.add(TimeDistributed(MaxPooling2D((2, 2))))\n",
        "\n",
        "    model.add(TimeDistributed(Flatten()))\n",
        "\n",
        "    model.add(LSTM(64, activation='tanh', dropout=0.2, recurrent_dropout=0.2))\n",
        "\n",
        "    model.add(Dense(len(CLASSES_LIST), activation='softmax'))\n",
        "\n",
        "    ########################################################################################################################\n",
        "\n",
        "    # Display the models summary.\n",
        "    model.summary()\n",
        "\n",
        "    # Return the constructed LRCN model.\n",
        "    return model\n"
      ]
    },
    {
      "cell_type": "code",
      "execution_count": 11,
      "metadata": {
        "colab": {
          "base_uri": "https://localhost:8080/"
        },
        "id": "WklgmJDKeblv",
        "outputId": "0975e122-c507-4b15-f89a-41bd9f858af2"
      },
      "outputs": [
        {
          "output_type": "stream",
          "name": "stderr",
          "text": [
            "WARNING:tensorflow:Layer lstm will not use cuDNN kernels since it doesn't meet the criteria. It will use a generic GPU kernel as fallback when running on GPU.\n"
          ]
        },
        {
          "output_type": "stream",
          "name": "stdout",
          "text": [
            "Model: \"sequential\"\n",
            "_________________________________________________________________\n",
            " Layer (type)                Output Shape              Param #   \n",
            "=================================================================\n",
            " time_distributed (TimeDistr  (None, 20, 120, 160, 32)  896      \n",
            " ibuted)                                                         \n",
            "                                                                 \n",
            " time_distributed_1 (TimeDis  (None, 20, 30, 40, 32)   0         \n",
            " tributed)                                                       \n",
            "                                                                 \n",
            " time_distributed_2 (TimeDis  (None, 20, 30, 40, 32)   0         \n",
            " tributed)                                                       \n",
            "                                                                 \n",
            " time_distributed_3 (TimeDis  (None, 20, 30, 40, 64)   18496     \n",
            " tributed)                                                       \n",
            "                                                                 \n",
            " time_distributed_4 (TimeDis  (None, 20, 7, 10, 64)    0         \n",
            " tributed)                                                       \n",
            "                                                                 \n",
            " time_distributed_5 (TimeDis  (None, 20, 7, 10, 64)    0         \n",
            " tributed)                                                       \n",
            "                                                                 \n",
            " time_distributed_6 (TimeDis  (None, 20, 7, 10, 128)   73856     \n",
            " tributed)                                                       \n",
            "                                                                 \n",
            " time_distributed_7 (TimeDis  (None, 20, 3, 5, 128)    0         \n",
            " tributed)                                                       \n",
            "                                                                 \n",
            " time_distributed_8 (TimeDis  (None, 20, 3, 5, 128)    0         \n",
            " tributed)                                                       \n",
            "                                                                 \n",
            " time_distributed_9 (TimeDis  (None, 20, 3, 5, 256)    295168    \n",
            " tributed)                                                       \n",
            "                                                                 \n",
            " time_distributed_10 (TimeDi  (None, 20, 1, 2, 256)    0         \n",
            " stributed)                                                      \n",
            "                                                                 \n",
            " time_distributed_11 (TimeDi  (None, 20, 512)          0         \n",
            " stributed)                                                      \n",
            "                                                                 \n",
            " lstm (LSTM)                 (None, 64)                147712    \n",
            "                                                                 \n",
            " dense (Dense)               (None, 11)                715       \n",
            "                                                                 \n",
            "=================================================================\n",
            "Total params: 536,843\n",
            "Trainable params: 536,843\n",
            "Non-trainable params: 0\n",
            "_________________________________________________________________\n",
            "Model Created Successfully!\n"
          ]
        }
      ],
      "source": [
        "LRCN_model_opt = create_LRCN_model_opt()\n",
        " \n",
        "# Display the success message.\n",
        "print(\"Model Created Successfully!\")"
      ]
    },
    {
      "cell_type": "code",
      "execution_count": 12,
      "metadata": {
        "id": "aygP2TEreblv"
      },
      "outputs": [],
      "source": [
        "early_stopping_callback = EarlyStopping(monitor = 'val_loss', patience = 15, mode = 'min', restore_best_weights = True)\n",
        "\n",
        "# Compile the model and specify loss function, optimizer and metrics to the model.\n",
        "LRCN_model_opt.compile(loss = 'categorical_crossentropy', optimizer = 'Adam', metrics = [\"accuracy\"])\n"
      ]
    },
    {
      "cell_type": "code",
      "execution_count": 13,
      "metadata": {
        "colab": {
          "base_uri": "https://localhost:8080/"
        },
        "id": "nJ7PAIS1eblw",
        "outputId": "3a8b6c79-4941-42a9-9e79-a29c74128294"
      },
      "outputs": [
        {
          "output_type": "stream",
          "name": "stdout",
          "text": [
            "Epoch 1/100\n",
            "125/125 [==============================] - 23s 60ms/step - loss: 2.4591 - accuracy: 0.1040 - val_loss: 2.4069 - val_accuracy: 0.0714\n",
            "Epoch 2/100\n",
            "125/125 [==============================] - 7s 57ms/step - loss: 2.3954 - accuracy: 0.0880 - val_loss: 2.4041 - val_accuracy: 0.0714\n",
            "Epoch 3/100\n",
            "125/125 [==============================] - 6s 48ms/step - loss: 2.4017 - accuracy: 0.1120 - val_loss: 2.4198 - val_accuracy: 0.0714\n",
            "Epoch 4/100\n",
            "125/125 [==============================] - 7s 56ms/step - loss: 2.3938 - accuracy: 0.1040 - val_loss: 2.4186 - val_accuracy: 0.0714\n",
            "Epoch 5/100\n",
            "125/125 [==============================] - 6s 49ms/step - loss: 2.3972 - accuracy: 0.0960 - val_loss: 2.3997 - val_accuracy: 0.0714\n",
            "Epoch 6/100\n",
            "125/125 [==============================] - 7s 56ms/step - loss: 2.3951 - accuracy: 0.1200 - val_loss: 2.4106 - val_accuracy: 0.0714\n",
            "Epoch 7/100\n",
            "125/125 [==============================] - 9s 76ms/step - loss: 2.3928 - accuracy: 0.1040 - val_loss: 2.4056 - val_accuracy: 0.0714\n",
            "Epoch 8/100\n",
            "125/125 [==============================] - 9s 70ms/step - loss: 2.3827 - accuracy: 0.1360 - val_loss: 2.2993 - val_accuracy: 0.2143\n",
            "Epoch 9/100\n",
            "125/125 [==============================] - 6s 49ms/step - loss: 2.2821 - accuracy: 0.1600 - val_loss: 2.1010 - val_accuracy: 0.2143\n",
            "Epoch 10/100\n",
            "125/125 [==============================] - 7s 59ms/step - loss: 2.1130 - accuracy: 0.2480 - val_loss: 1.9741 - val_accuracy: 0.2619\n",
            "Epoch 11/100\n",
            "125/125 [==============================] - 6s 49ms/step - loss: 1.7728 - accuracy: 0.3920 - val_loss: 1.7988 - val_accuracy: 0.4048\n",
            "Epoch 12/100\n",
            "125/125 [==============================] - 7s 58ms/step - loss: 1.5638 - accuracy: 0.4480 - val_loss: 1.8099 - val_accuracy: 0.3571\n",
            "Epoch 13/100\n",
            "125/125 [==============================] - 6s 48ms/step - loss: 1.1872 - accuracy: 0.6000 - val_loss: 1.4963 - val_accuracy: 0.5476\n",
            "Epoch 14/100\n",
            "125/125 [==============================] - 7s 58ms/step - loss: 1.0974 - accuracy: 0.6480 - val_loss: 1.5083 - val_accuracy: 0.5238\n",
            "Epoch 15/100\n",
            "125/125 [==============================] - 6s 48ms/step - loss: 0.6770 - accuracy: 0.7600 - val_loss: 1.4662 - val_accuracy: 0.5714\n",
            "Epoch 16/100\n",
            "125/125 [==============================] - 7s 58ms/step - loss: 0.5532 - accuracy: 0.8320 - val_loss: 1.3105 - val_accuracy: 0.6429\n",
            "Epoch 17/100\n",
            "125/125 [==============================] - 6s 47ms/step - loss: 0.4101 - accuracy: 0.8640 - val_loss: 1.1758 - val_accuracy: 0.6905\n",
            "Epoch 18/100\n",
            "125/125 [==============================] - 7s 56ms/step - loss: 0.2485 - accuracy: 0.9280 - val_loss: 1.0467 - val_accuracy: 0.7619\n",
            "Epoch 19/100\n",
            "125/125 [==============================] - 6s 49ms/step - loss: 0.2385 - accuracy: 0.9440 - val_loss: 1.0495 - val_accuracy: 0.7143\n",
            "Epoch 20/100\n",
            "125/125 [==============================] - 7s 58ms/step - loss: 0.1387 - accuracy: 0.9520 - val_loss: 0.9802 - val_accuracy: 0.8095\n",
            "Epoch 21/100\n",
            "125/125 [==============================] - 7s 52ms/step - loss: 0.0637 - accuracy: 0.9920 - val_loss: 0.9733 - val_accuracy: 0.7619\n",
            "Epoch 22/100\n",
            "125/125 [==============================] - 7s 57ms/step - loss: 0.0751 - accuracy: 0.9840 - val_loss: 1.2021 - val_accuracy: 0.7381\n",
            "Epoch 23/100\n",
            "125/125 [==============================] - 6s 49ms/step - loss: 0.0752 - accuracy: 0.9840 - val_loss: 1.0828 - val_accuracy: 0.7619\n",
            "Epoch 24/100\n",
            "125/125 [==============================] - 7s 56ms/step - loss: 0.0288 - accuracy: 0.9920 - val_loss: 1.1702 - val_accuracy: 0.7381\n",
            "Epoch 25/100\n",
            "125/125 [==============================] - 6s 48ms/step - loss: 0.0294 - accuracy: 0.9920 - val_loss: 1.1325 - val_accuracy: 0.7619\n",
            "Epoch 26/100\n",
            "125/125 [==============================] - 7s 57ms/step - loss: 0.0148 - accuracy: 1.0000 - val_loss: 1.1620 - val_accuracy: 0.7619\n",
            "Epoch 27/100\n",
            "125/125 [==============================] - 6s 48ms/step - loss: 0.0103 - accuracy: 1.0000 - val_loss: 1.1567 - val_accuracy: 0.7619\n",
            "Epoch 28/100\n",
            "125/125 [==============================] - 7s 60ms/step - loss: 0.0084 - accuracy: 1.0000 - val_loss: 1.1811 - val_accuracy: 0.7619\n",
            "Epoch 29/100\n",
            "125/125 [==============================] - 6s 48ms/step - loss: 0.0073 - accuracy: 1.0000 - val_loss: 1.2074 - val_accuracy: 0.7619\n",
            "Epoch 30/100\n",
            "125/125 [==============================] - 7s 58ms/step - loss: 0.0061 - accuracy: 1.0000 - val_loss: 1.1664 - val_accuracy: 0.7619\n",
            "Epoch 31/100\n",
            "125/125 [==============================] - 8s 64ms/step - loss: 0.0052 - accuracy: 1.0000 - val_loss: 1.1623 - val_accuracy: 0.7619\n",
            "Epoch 32/100\n",
            "125/125 [==============================] - 9s 75ms/step - loss: 0.0048 - accuracy: 1.0000 - val_loss: 1.2116 - val_accuracy: 0.7619\n",
            "Epoch 33/100\n",
            "125/125 [==============================] - 8s 63ms/step - loss: 0.0039 - accuracy: 1.0000 - val_loss: 1.2414 - val_accuracy: 0.7619\n",
            "Epoch 34/100\n",
            "125/125 [==============================] - 6s 49ms/step - loss: 0.0035 - accuracy: 1.0000 - val_loss: 1.2101 - val_accuracy: 0.7857\n",
            "Epoch 35/100\n",
            "125/125 [==============================] - 7s 55ms/step - loss: 0.0029 - accuracy: 1.0000 - val_loss: 1.1989 - val_accuracy: 0.7857\n",
            "Epoch 36/100\n",
            "125/125 [==============================] - 6s 50ms/step - loss: 0.0028 - accuracy: 1.0000 - val_loss: 1.2475 - val_accuracy: 0.7857\n"
          ]
        }
      ],
      "source": [
        "# Start training the model.\n",
        "LRCN_model_opt_training_history = LRCN_model_opt.fit(x = features_train, y = labels_train, epochs = 100, batch_size = 1 , shuffle = True, validation_split = 0.25, callbacks = [early_stopping_callback])"
      ]
    },
    {
      "cell_type": "code",
      "execution_count": 19,
      "metadata": {
        "colab": {
          "base_uri": "https://localhost:8080/"
        },
        "id": "-6MsU-TGeblw",
        "outputId": "d1b560dd-82c6-484a-81c8-d726a1b2634d"
      },
      "outputs": [
        {
          "output_type": "stream",
          "name": "stdout",
          "text": [
            "2/2 [==============================] - 2s 402ms/step - loss: 0.9960 - accuracy: 0.7619\n"
          ]
        }
      ],
      "source": [
        "model_opt_evaluation_history = LRCN_model_opt.evaluate(features_test, labels_test)"
      ]
    },
    {
      "cell_type": "code",
      "execution_count": 20,
      "metadata": {
        "id": "ojoitmpAeblx"
      },
      "outputs": [],
      "source": [
        "model_opt_evaluation_loss, model_opt_evaluation_accuracy = model_opt_evaluation_history\n",
        " \n",
        "# Define the string date format.\n",
        "# Get the current Date and Time in a DateTime Object.\n",
        "# Convert the DateTime object to string according to the style mentioned in date_time_format string.\n",
        "date_time_format = '%Y_%m_%d__%H_%M_%S'\n",
        "current_date_time_dt = dt.datetime.now()\n",
        "current_date_time_string = dt.datetime.strftime(current_date_time_dt, date_time_format)\n",
        "    \n",
        "# Define a useful name for our model_opt to make it easy for us while navigating through multiple saved model_opts.\n",
        "model_opt_file_name = f'{DATASET_DIR}/LRCN_model_opt___Date_Time_{current_date_time_string}___Loss_{model_opt_evaluation_loss}___Accuracy_{model_opt_evaluation_accuracy}.h5'\n",
        " \n",
        "# Save the Model_opt.\n",
        "LRCN_model_opt.save(model_opt_file_name)"
      ]
    },
    {
      "cell_type": "code",
      "execution_count": 17,
      "metadata": {
        "colab": {
          "base_uri": "https://localhost:8080/",
          "height": 281
        },
        "id": "_9yWXbOSeblx",
        "outputId": "43292990-364c-464a-fe0f-e418eaf66979"
      },
      "outputs": [
        {
          "output_type": "display_data",
          "data": {
            "text/plain": [
              "<Figure size 432x288 with 1 Axes>"
            ],
            "image/png": "[encoded data removed]"
          },
          "metadata": {
            "needs_background": "light"
          }
        }
      ],
      "source": [
        "plot_metric(LRCN_model_opt_training_history, 'accuracy', 'val_accuracy', 'Total Accuracy vs Total Validation Accuracy') "
      ]
    },
    {
      "cell_type": "code",
      "execution_count": 18,
      "metadata": {
        "colab": {
          "base_uri": "https://localhost:8080/",
          "height": 281
        },
        "id": "rzJxHIqNeblx",
        "outputId": "20aeac4b-1b13-4719-d6eb-3303607d3a97"
      },
      "outputs": [
        {
          "output_type": "display_data",
          "data": {
            "text/plain": [
              "<Figure size 432x288 with 1 Axes>"
            ],
            "image/png": "[encoded data removed]"
          },
          "metadata": {
            "needs_background": "light"
          }
        }
      ],
      "source": [
        "plot_metric(LRCN_model_opt_training_history, 'loss', 'val_loss', 'Total Loss vs Total Validation Loss') "
      ]
    },
    {
      "cell_type": "code",
      "source": [
        "dataset = np.load(f'{DATASET_DIR}/dataset_3.npz')\n",
        "features=dataset['origin_features']\n",
        "labels=dataset['labels']\n",
        "video_files_paths=dataset['video_files_paths']"
      ],
      "metadata": {
        "id": "eprHoukKf4TB"
      },
      "execution_count": 21,
      "outputs": []
    },
    {
      "cell_type": "code",
      "source": [
        "one_hot_encoded_labels = to_categorical(labels)\n",
        "features_train, features_test, labels_train, labels_test = train_test_split(features, one_hot_encoded_labels, test_size = 0.2, shuffle = True, random_state = seed_constant)"
      ],
      "metadata": {
        "id": "RZx2QfwehA_q"
      },
      "execution_count": 22,
      "outputs": []
    },
    {
      "cell_type": "code",
      "source": [
        "LRCN_model_opt = create_LRCN_model_opt()\n",
        " \n",
        "# Display the success message.\n",
        "print(\"Model Created Successfully!\")"
      ],
      "metadata": {
        "colab": {
          "base_uri": "https://localhost:8080/"
        },
        "id": "yi6u1jQtf8f6",
        "outputId": "9c28392e-49c6-459c-ac9c-fa7ac18e98ed"
      },
      "execution_count": 23,
      "outputs": [
        {
          "output_type": "stream",
          "name": "stderr",
          "text": [
            "WARNING:tensorflow:Layer lstm_1 will not use cuDNN kernels since it doesn't meet the criteria. It will use a generic GPU kernel as fallback when running on GPU.\n"
          ]
        },
        {
          "output_type": "stream",
          "name": "stdout",
          "text": [
            "Model: \"sequential_1\"\n",
            "_________________________________________________________________\n",
            " Layer (type)                Output Shape              Param #   \n",
            "=================================================================\n",
            " time_distributed_12 (TimeDi  (None, 20, 120, 160, 32)  896      \n",
            " stributed)                                                      \n",
            "                                                                 \n",
            " time_distributed_13 (TimeDi  (None, 20, 30, 40, 32)   0         \n",
            " stributed)                                                      \n",
            "                                                                 \n",
            " time_distributed_14 (TimeDi  (None, 20, 30, 40, 32)   0         \n",
            " stributed)                                                      \n",
            "                                                                 \n",
            " time_distributed_15 (TimeDi  (None, 20, 30, 40, 64)   18496     \n",
            " stributed)                                                      \n",
            "                                                                 \n",
            " time_distributed_16 (TimeDi  (None, 20, 7, 10, 64)    0         \n",
            " stributed)                                                      \n",
            "                                                                 \n",
            " time_distributed_17 (TimeDi  (None, 20, 7, 10, 64)    0         \n",
            " stributed)                                                      \n",
            "                                                                 \n",
            " time_distributed_18 (TimeDi  (None, 20, 7, 10, 128)   73856     \n",
            " stributed)                                                      \n",
            "                                                                 \n",
            " time_distributed_19 (TimeDi  (None, 20, 3, 5, 128)    0         \n",
            " stributed)                                                      \n",
            "                                                                 \n",
            " time_distributed_20 (TimeDi  (None, 20, 3, 5, 128)    0         \n",
            " stributed)                                                      \n",
            "                                                                 \n",
            " time_distributed_21 (TimeDi  (None, 20, 3, 5, 256)    295168    \n",
            " stributed)                                                      \n",
            "                                                                 \n",
            " time_distributed_22 (TimeDi  (None, 20, 1, 2, 256)    0         \n",
            " stributed)                                                      \n",
            "                                                                 \n",
            " time_distributed_23 (TimeDi  (None, 20, 512)          0         \n",
            " stributed)                                                      \n",
            "                                                                 \n",
            " lstm_1 (LSTM)               (None, 64)                147712    \n",
            "                                                                 \n",
            " dense_1 (Dense)             (None, 11)                715       \n",
            "                                                                 \n",
            "=================================================================\n",
            "Total params: 536,843\n",
            "Trainable params: 536,843\n",
            "Non-trainable params: 0\n",
            "_________________________________________________________________\n",
            "Model Created Successfully!\n"
          ]
        }
      ]
    },
    {
      "cell_type": "code",
      "source": [
        "early_stopping_callback = EarlyStopping(monitor = 'val_loss', patience = 20, mode = 'min', restore_best_weights = True)\n",
        "\n",
        "# Compile the model and specify loss function, optimizer and metrics to the model.\n",
        "LRCN_model_opt.compile(loss = 'categorical_crossentropy', optimizer = 'Adam', metrics = [\"accuracy\"])\n"
      ],
      "metadata": {
        "id": "RHDTT_V9g3HA"
      },
      "execution_count": 28,
      "outputs": []
    },
    {
      "cell_type": "code",
      "execution_count": 29,
      "metadata": {
        "colab": {
          "base_uri": "https://localhost:8080/"
        },
        "outputId": "0a3c85e9-b6f7-42fe-9a66-cdadf385500d",
        "id": "oI8EI2Abg0oT"
      },
      "outputs": [
        {
          "output_type": "stream",
          "name": "stdout",
          "text": [
            "Epoch 1/100\n",
            "125/125 [==============================] - 11s 62ms/step - loss: 2.4024 - accuracy: 0.0720 - val_loss: 2.4045 - val_accuracy: 0.0714\n",
            "Epoch 2/100\n",
            "125/125 [==============================] - 7s 53ms/step - loss: 2.3917 - accuracy: 0.0720 - val_loss: 2.3988 - val_accuracy: 0.0714\n",
            "Epoch 3/100\n",
            "125/125 [==============================] - 7s 54ms/step - loss: 2.3916 - accuracy: 0.1280 - val_loss: 2.4022 - val_accuracy: 0.0714\n",
            "Epoch 4/100\n",
            "125/125 [==============================] - 6s 51ms/step - loss: 2.3634 - accuracy: 0.1280 - val_loss: 2.3584 - val_accuracy: 0.0714\n",
            "Epoch 5/100\n",
            "125/125 [==============================] - 7s 54ms/step - loss: 2.3061 - accuracy: 0.1360 - val_loss: 2.2825 - val_accuracy: 0.1429\n",
            "Epoch 6/100\n",
            "125/125 [==============================] - 7s 53ms/step - loss: 2.2660 - accuracy: 0.1920 - val_loss: 2.0924 - val_accuracy: 0.1667\n",
            "Epoch 7/100\n",
            "125/125 [==============================] - 7s 56ms/step - loss: 2.1206 - accuracy: 0.2080 - val_loss: 2.2329 - val_accuracy: 0.1429\n",
            "Epoch 8/100\n",
            "125/125 [==============================] - 7s 52ms/step - loss: 1.9670 - accuracy: 0.2720 - val_loss: 2.1477 - val_accuracy: 0.2143\n",
            "Epoch 9/100\n",
            "125/125 [==============================] - 7s 53ms/step - loss: 1.6376 - accuracy: 0.4080 - val_loss: 1.9474 - val_accuracy: 0.2857\n",
            "Epoch 10/100\n",
            "125/125 [==============================] - 7s 53ms/step - loss: 1.5131 - accuracy: 0.4240 - val_loss: 1.9764 - val_accuracy: 0.3810\n",
            "Epoch 11/100\n",
            "125/125 [==============================] - 7s 53ms/step - loss: 1.3284 - accuracy: 0.5200 - val_loss: 1.9018 - val_accuracy: 0.3333\n",
            "Epoch 12/100\n",
            "125/125 [==============================] - 7s 52ms/step - loss: 1.2605 - accuracy: 0.5440 - val_loss: 2.0676 - val_accuracy: 0.3810\n",
            "Epoch 13/100\n",
            "125/125 [==============================] - 7s 52ms/step - loss: 1.0451 - accuracy: 0.6480 - val_loss: 1.9839 - val_accuracy: 0.5000\n",
            "Epoch 14/100\n",
            "125/125 [==============================] - 7s 53ms/step - loss: 0.8983 - accuracy: 0.7440 - val_loss: 2.1162 - val_accuracy: 0.3810\n",
            "Epoch 15/100\n",
            "125/125 [==============================] - 6s 52ms/step - loss: 0.7649 - accuracy: 0.7440 - val_loss: 1.9613 - val_accuracy: 0.4286\n",
            "Epoch 16/100\n",
            "125/125 [==============================] - 7s 56ms/step - loss: 0.6881 - accuracy: 0.7920 - val_loss: 2.0344 - val_accuracy: 0.4762\n",
            "Epoch 17/100\n",
            "125/125 [==============================] - 7s 54ms/step - loss: 0.7886 - accuracy: 0.7680 - val_loss: 2.0026 - val_accuracy: 0.4286\n",
            "Epoch 18/100\n",
            "125/125 [==============================] - 7s 52ms/step - loss: 0.5201 - accuracy: 0.7920 - val_loss: 2.0618 - val_accuracy: 0.4524\n",
            "Epoch 19/100\n",
            "125/125 [==============================] - 7s 54ms/step - loss: 0.7717 - accuracy: 0.7440 - val_loss: 2.0768 - val_accuracy: 0.4286\n",
            "Epoch 20/100\n",
            "125/125 [==============================] - 7s 53ms/step - loss: 0.4710 - accuracy: 0.8080 - val_loss: 2.1221 - val_accuracy: 0.5000\n",
            "Epoch 21/100\n",
            "125/125 [==============================] - 6s 51ms/step - loss: 0.2854 - accuracy: 0.9120 - val_loss: 2.2201 - val_accuracy: 0.5238\n",
            "Epoch 22/100\n",
            "125/125 [==============================] - 7s 53ms/step - loss: 0.2374 - accuracy: 0.9520 - val_loss: 2.2308 - val_accuracy: 0.4524\n",
            "Epoch 23/100\n",
            "125/125 [==============================] - 6s 48ms/step - loss: 0.4314 - accuracy: 0.8480 - val_loss: 2.1313 - val_accuracy: 0.5238\n",
            "Epoch 24/100\n",
            "125/125 [==============================] - 7s 58ms/step - loss: 0.5276 - accuracy: 0.8240 - val_loss: 2.3105 - val_accuracy: 0.4762\n",
            "Epoch 25/100\n",
            "125/125 [==============================] - 6s 50ms/step - loss: 0.2523 - accuracy: 0.9600 - val_loss: 2.1138 - val_accuracy: 0.4524\n",
            "Epoch 26/100\n",
            "125/125 [==============================] - 7s 57ms/step - loss: 0.2038 - accuracy: 0.9120 - val_loss: 2.3288 - val_accuracy: 0.5000\n",
            "Epoch 27/100\n",
            "125/125 [==============================] - 6s 50ms/step - loss: 0.2081 - accuracy: 0.9360 - val_loss: 2.1500 - val_accuracy: 0.5238\n",
            "Epoch 28/100\n",
            "125/125 [==============================] - 7s 55ms/step - loss: 0.1841 - accuracy: 0.9440 - val_loss: 2.2489 - val_accuracy: 0.5000\n",
            "Epoch 29/100\n",
            "125/125 [==============================] - 6s 51ms/step - loss: 0.4138 - accuracy: 0.8560 - val_loss: 2.5449 - val_accuracy: 0.4524\n",
            "Epoch 30/100\n",
            "125/125 [==============================] - 7s 56ms/step - loss: 0.3803 - accuracy: 0.8720 - val_loss: 2.1298 - val_accuracy: 0.5238\n",
            "Epoch 31/100\n",
            "125/125 [==============================] - 6s 51ms/step - loss: 0.1662 - accuracy: 0.9600 - val_loss: 2.2575 - val_accuracy: 0.5238\n"
          ]
        }
      ],
      "source": [
        "# Start training the model.\n",
        "LRCN_model_opt_training_history = LRCN_model_opt.fit(x = features_train, y = labels_train, epochs = 100, batch_size = 1 , shuffle = True, validation_split = 0.25, callbacks = [early_stopping_callback])"
      ]
    },
    {
      "cell_type": "code",
      "source": [],
      "metadata": {
        "id": "hLGiiLGYhGGa"
      },
      "execution_count": null,
      "outputs": []
    }
  ],
  "metadata": {
    "accelerator": "GPU",
    "colab": {
      "provenance": []
    },
    "gpuClass": "standard",
    "kernelspec": {
      "display_name": "Python 3 (ipykernel)",
      "language": "python",
      "name": "python3"
    },
    "language_info": {
      "codemirror_mode": {
        "name": "ipython",
        "version": 3
      },
      "file_extension": ".py",
      "mimetype": "text/x-python",
      "name": "python",
      "nbconvert_exporter": "python",
      "pygments_lexer": "ipython3",
      "version": "3.10.6"
    }
  },
  "nbformat": 4,
  "nbformat_minor": 0
}