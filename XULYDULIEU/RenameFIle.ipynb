{
 "cells": [
  {
   "cell_type": "code",
   "execution_count": 3,
   "metadata": {},
   "outputs": [],
   "source": [
    "import os"
   ]
  },
  {
   "cell_type": "code",
   "execution_count": 4,
   "metadata": {},
   "outputs": [],
   "source": [
    "folderRoot = './PhanLoai'"
   ]
  },
  {
   "cell_type": "code",
   "execution_count": 5,
   "metadata": {},
   "outputs": [],
   "source": [
    "for subFolder in os.listdir(folderRoot):\n",
    "    for count,filename in enumerate(os.listdir(f'{folderRoot}/{subFolder}')):\n",
    "        dst = f'{subFolder}{count}.avi'\n",
    "        src =f\"{folderRoot}/{subFolder}/{filename}\"  # foldername/filename, if .py file is outside folder\n",
    "        dst =f\"{folderRoot}/{subFolder}/{dst}\"  # foldername/filename, if .py file is outside folder\n",
    "        os.rename(src, dst)\n"
   ]
  },
  {
   "cell_type": "code",
   "execution_count": 6,
   "metadata": {},
   "outputs": [
    {
     "data": {
      "text/plain": [
       "['Your',\n",
       " 'Love',\n",
       " 'Sleep',\n",
       " 'Name',\n",
       " 'What',\n",
       " 'Read',\n",
       " 'I',\n",
       " 'Bye',\n",
       " 'You',\n",
       " 'Eat',\n",
       " 'Hello']"
      ]
     },
     "execution_count": 6,
     "metadata": {},
     "output_type": "execute_result"
    }
   ],
   "source": [
    "os.listdir(folderRoot)"
   ]
  },
  {
   "cell_type": "code",
   "execution_count": null,
   "metadata": {},
   "outputs": [],
   "source": []
  }
 ],
 "metadata": {
  "kernelspec": {
   "display_name": "Python 3",
   "language": "python",
   "name": "python3"
  },
  "language_info": {
   "codemirror_mode": {
    "name": "ipython",
    "version": 3
   },
   "file_extension": ".py",
   "mimetype": "text/x-python",
   "name": "python",
   "nbconvert_exporter": "python",
   "pygments_lexer": "ipython3",
   "version": "3.10.6"
  },
  "orig_nbformat": 4
 },
 "nbformat": 4,
 "nbformat_minor": 2
}
