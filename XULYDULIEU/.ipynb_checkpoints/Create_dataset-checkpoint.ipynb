{
 "cells": [
  {
   "cell_type": "code",
   "execution_count": 1,
   "metadata": {},
   "outputs": [],
   "source": [
    "import cv2\n",
    "import mediapipe as mp\n",
    "import numpy as np\n",
    "import os\n",
    "import pandas as pd\n",
    "from PIL import Image\n",
    "import numpy as np\n",
    "import pandas as pd"
   ]
  },
  {
   "cell_type": "code",
   "execution_count": 2,
   "metadata": {},
   "outputs": [],
   "source": [
    "# Kích thướng mỗi frame\n",
    "IMAGE_HEIGHT , IMAGE_WIDTH = 320, 240\n",
    "# số lượng frame sẽ lấy ở mỗi video\n",
    "SEQUENCE_LENGTH = 20\n",
    "# Những hành động sẽ nhận dạng\n",
    "CLASSES_LIST = ['Your', 'Love', 'Sleep', 'Name',\n",
    "                'What', 'Read', 'I', 'Bye', 'You', 'Eat', 'Hello']\n",
    "\n",
    "# Link thư mục chứa video train\n",
    "DATASET_DIR = 'PhanLoai'\n"
   ]
  },
  {
   "cell_type": "code",
   "execution_count": 3,
   "metadata": {},
   "outputs": [],
   "source": [
    "mp_drawing = mp.solutions.drawing_utils\n",
    "mp_drawing_styles = mp.solutions.drawing_styles\n",
    "mp_pose = mp.solutions.pose\n",
    "mp_hands = mp.solutions.hands\n",
    "\n",
    "def frames_extraction(video_path):\n",
    "    '''\n",
    "    This function will extract the required frames from a video after resizing and normalizing them.\n",
    "    Args:\n",
    "        video_path: The path of the video in the disk, whose frames are to be extracted.\n",
    "    Returns:\n",
    "        frames_list: A list containing the resized and normalized frames of the video.\n",
    "    '''\n",
    "\n",
    "    video_reader = cv2.VideoCapture(video_path)\n",
    "    video_frames_count = 0\n",
    "    s, f = video_reader.read()\n",
    "    while s:\n",
    "        s, f = video_reader.read()\n",
    "        video_frames_count += 1\n",
    "    video_reader.release()\n",
    "\n",
    "    # ĐỌc video\n",
    "\n",
    "    # Calculate the the interval after which frames will be added to the list.\n",
    "    skip_frames_window = max(int(video_frames_count/SEQUENCE_LENGTH), 1)\n",
    "\n",
    "    # Danh sách chứa các frame sẽ lấy\n",
    "    frames_list = []\n",
    "\n",
    "    # Iterate through the Video Frames.\n",
    "    with mp_hands.Hands(\n",
    "            static_image_mode=True,\n",
    "            max_num_hands=2,\n",
    "            min_detection_confidence=0.5) as hands:\n",
    "        with mp_pose.Pose(\n",
    "                min_detection_confidence=0.5,\n",
    "                min_tracking_confidence=0.5) as pose:\n",
    "                \n",
    "            cap = cv2.VideoCapture(video_path)\n",
    "            for frame_counter in range(SEQUENCE_LENGTH):\n",
    "                cap.set(cv2.CAP_PROP_POS_FRAMES, frame_counter * skip_frames_window)\n",
    "                success, image = cap.read()\n",
    "\n",
    "                if not success:\n",
    "                    # cap = cv2.VideoCapture(video_path)\n",
    "                    # continue\n",
    "                    break\n",
    "\n",
    "                # To improve performance, optionally mark the image as not writeable to\n",
    "                image.flags.writeable = True\n",
    "                image = cv2.cvtColor(image, cv2.COLOR_RGB2BGR)\n",
    "                hand_results = hands.process(image)\n",
    "                pose_results = pose.process(image)\n",
    "\n",
    "     \n",
    "                image2 = np.ones((image.shape[0],image.shape[1],3), np.uint8)\n",
    "\n",
    "                # # Draw the hand annotation on the image.\n",
    "                if hand_results.multi_hand_landmarks:\n",
    "                    for hand_landmarks in hand_results.multi_hand_landmarks:\n",
    "                        mp_drawing.draw_landmarks(\n",
    "                            image2,\n",
    "                            hand_landmarks,\n",
    "                            mp_hands.HAND_CONNECTIONS,\n",
    "                            mp_drawing_styles.get_default_hand_landmarks_style(),\n",
    "                            mp_drawing_styles.get_default_hand_connections_style())\n",
    "\n",
    "\n",
    "                # Draw the pose annotation on the image.\n",
    "                image.flags.writeable = False\n",
    "                image = cv2.cvtColor(image, cv2.COLOR_RGB2BGR)\n",
    "                mp_drawing.draw_landmarks(\n",
    "                    image2,\n",
    "                    pose_results.pose_landmarks,\n",
    "                    mp_pose.POSE_CONNECTIONS,\n",
    "                    landmark_drawing_spec=mp_drawing_styles.get_default_pose_landmarks_style())\n",
    "\n",
    "                # Append to list feature\n",
    "\n",
    "                resized_frame = cv2.resize(image2, (IMAGE_HEIGHT, IMAGE_WIDTH))\n",
    "                normalized_frame = resized_frame / 255\n",
    "                frames_list.append(normalized_frame)\n",
    "\n",
    "                # Flip the image2 horizontally for a selfie-view display.\n",
    "                # cv2.imshow('MediaPipe Pose', cv2.flip(image2, 1))\n",
    "                # if cv2.waitKey(1) == ord('q'):\n",
    "                    # break\n",
    "\n",
    "\n",
    "    # Release the VideoCapture object.\n",
    "\n",
    "    # Return the frames list.\n",
    "    return frames_list\n"
   ]
  },
  {
   "cell_type": "code",
   "execution_count": 4,
   "metadata": {},
   "outputs": [
    {
     "name": "stderr",
     "output_type": "stream",
     "text": [
      "INFO: Created TensorFlow Lite XNNPACK delegate for CPU.\n"
     ]
    },
    {
     "data": {
      "text/plain": [
       "(20, 240, 320, 3)"
      ]
     },
     "execution_count": 4,
     "metadata": {},
     "output_type": "execute_result"
    }
   ],
   "source": [
    "frames = frames_extraction('./video2242896.avi')\n",
    "np.shape(frames)"
   ]
  },
  {
   "cell_type": "code",
   "execution_count": 5,
   "metadata": {},
   "outputs": [],
   "source": [
    "# for frame in frames:\n",
    "#     Image.fromarray((frame*255).astype(np.uint8), 'RGB').show()\n"
   ]
  },
  {
   "cell_type": "code",
   "execution_count": 6,
   "metadata": {},
   "outputs": [],
   "source": [
    "def create_dataset():\n",
    "    features = []\n",
    "    labels = []\n",
    "    video_files_paths = []\n",
    "\n",
    "    for class_index, class_name in enumerate(CLASSES_LIST):\n",
    "        \n",
    "        # Display the name of the class whose data is being extracted.\n",
    "        print(f'Extracting Data of Class: {class_name}')\n",
    "        \n",
    "        # Get the list of video files present in the specific class name directory.\n",
    "        files_list = os.listdir(os.path.join(DATASET_DIR, class_name))\n",
    "        \n",
    "        # Iterate through all the files present in the files list.\n",
    "        for file_name in files_list:\n",
    "            try:\n",
    "                # Get the complete video path.\n",
    "                video_file_path = os.path.join(DATASET_DIR, class_name, file_name)\n",
    "    \n",
    "                # Extract the frames of the video file.\n",
    "                frames = frames_extraction(video_file_path)\n",
    "    \n",
    "                # Check if the extracted frames are equal to the SEQUENCE_LENGTH specified above.\n",
    "                # So ignore the vides having frames less than the SEQUENCE_LENGTH.\n",
    "                if len(frames) == SEQUENCE_LENGTH:\n",
    "    \n",
    "                    # Append the data to their repective lists.\n",
    "                    features.append(frames)\n",
    "                    labels.append(class_index)\n",
    "                    video_files_paths.append(video_file_path)\n",
    "            except:\n",
    "                continue\n",
    "    \n",
    "        cv2.destroyAllWindows()\n",
    " \n",
    "    # Converting the list to numpy arrays\n",
    "    features = np.asarray(features)\n",
    "    labels = np.array(labels)  \n",
    "    \n",
    "    # Return the frames, class index, and video file path.\n",
    "    return features, labels, video_files_paths\n"
   ]
  },
  {
   "cell_type": "code",
   "execution_count": 7,
   "metadata": {},
   "outputs": [
    {
     "name": "stdout",
     "output_type": "stream",
     "text": [
      "Extracting Data of Class: Your\n",
      "Extracting Data of Class: Love\n",
      "Extracting Data of Class: Sleep\n",
      "Extracting Data of Class: Name\n",
      "Extracting Data of Class: What\n",
      "Extracting Data of Class: Read\n",
      "Extracting Data of Class: I\n",
      "Extracting Data of Class: Bye\n",
      "Extracting Data of Class: You\n",
      "Extracting Data of Class: Eat\n",
      "Extracting Data of Class: Hello\n"
     ]
    },
    {
     "name": "stderr",
     "output_type": "stream",
     "text": [
      "[mjpeg @ 0x559b9a15fb00] overread 8\n",
      "[mjpeg @ 0x559b9a0d1040] overread 8\n"
     ]
    }
   ],
   "source": [
    "features, labels, video_files_paths = create_dataset()"
   ]
  },
  {
   "cell_type": "code",
   "execution_count": null,
   "metadata": {},
   "outputs": [],
   "source": [
    "#import pickle\n",
    "#with open('data_frame.pickle', 'w+') as f:\n",
    "    #pickle.dump({'features': features.tolist(), 'labels': labels, 'video_files_paths': video_files_paths}, f, protocol=pickle.HIGHEST_PROTOCOL)\n"
   ]
  },
  {
   "cell_type": "code",
   "execution_count": null,
   "metadata": {},
   "outputs": [],
   "source": [
    "features"
   ]
  },
  {
   "cell_type": "code",
   "execution_count": null,
   "metadata": {},
   "outputs": [],
   "source": []
  }
 ],
 "metadata": {
  "kernelspec": {
   "display_name": "Python 3 (ipykernel)",
   "language": "python",
   "name": "python3"
  },
  "language_info": {
   "codemirror_mode": {
    "name": "ipython",
    "version": 3
   },
   "file_extension": ".py",
   "mimetype": "text/x-python",
   "name": "python",
   "nbconvert_exporter": "python",
   "pygments_lexer": "ipython3",
   "version": "3.10.6"
  }
 },
 "nbformat": 4,
 "nbformat_minor": 2
}
