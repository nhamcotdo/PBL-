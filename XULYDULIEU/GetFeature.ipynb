{
 "cells": [
  {
   "cell_type": "code",
   "execution_count": 12,
   "metadata": {},
   "outputs": [
    {
     "name": "stdout",
     "output_type": "stream",
     "text": [
      "Defaulting to user installation because normal site-packages is not writeable\n",
      "Requirement already satisfied: mediapipe in /home/nhamcotdo/.local/lib/python3.10/site-packages (0.9.0.1)\n",
      "Requirement already satisfied: opencv-contrib-python in /home/nhamcotdo/.local/lib/python3.10/site-packages (from mediapipe) (4.7.0.68)\n",
      "Requirement already satisfied: numpy in /home/nhamcotdo/.local/lib/python3.10/site-packages (from mediapipe) (1.24.1)\n",
      "Requirement already satisfied: attrs>=19.1.0 in /usr/lib/python3/dist-packages (from mediapipe) (21.2.0)\n",
      "Requirement already satisfied: protobuf<4,>=3.11 in /usr/lib/python3/dist-packages (from mediapipe) (3.12.4)\n",
      "Requirement already satisfied: absl-py in /home/nhamcotdo/.local/lib/python3.10/site-packages (from mediapipe) (1.4.0)\n",
      "Requirement already satisfied: matplotlib in /home/nhamcotdo/.local/lib/python3.10/site-packages (from mediapipe) (3.6.3)\n",
      "Requirement already satisfied: flatbuffers>=2.0 in /home/nhamcotdo/.local/lib/python3.10/site-packages (from mediapipe) (23.1.4)\n",
      "Requirement already satisfied: python-dateutil>=2.7 in /home/nhamcotdo/.local/lib/python3.10/site-packages (from matplotlib->mediapipe) (2.8.2)\n",
      "Requirement already satisfied: pillow>=6.2.0 in /usr/lib/python3/dist-packages (from matplotlib->mediapipe) (9.0.1)\n",
      "Requirement already satisfied: contourpy>=1.0.1 in /home/nhamcotdo/.local/lib/python3.10/site-packages (from matplotlib->mediapipe) (1.0.7)\n",
      "Requirement already satisfied: pyparsing>=2.2.1 in /usr/lib/python3/dist-packages (from matplotlib->mediapipe) (2.4.7)\n",
      "Requirement already satisfied: fonttools>=4.22.0 in /home/nhamcotdo/.local/lib/python3.10/site-packages (from matplotlib->mediapipe) (4.38.0)\n",
      "Requirement already satisfied: cycler>=0.10 in /home/nhamcotdo/.local/lib/python3.10/site-packages (from matplotlib->mediapipe) (0.11.0)\n",
      "Requirement already satisfied: packaging>=20.0 in /home/nhamcotdo/.local/lib/python3.10/site-packages (from matplotlib->mediapipe) (23.0)\n",
      "Requirement already satisfied: kiwisolver>=1.0.1 in /home/nhamcotdo/.local/lib/python3.10/site-packages (from matplotlib->mediapipe) (1.4.4)\n",
      "Requirement already satisfied: six>=1.5 in /usr/lib/python3/dist-packages (from python-dateutil>=2.7->matplotlib->mediapipe) (1.16.0)\n",
      "Defaulting to user installation because normal site-packages is not writeable\n",
      "Requirement already satisfied: pandas in /home/nhamcotdo/.local/lib/python3.10/site-packages (1.5.3)\n",
      "Requirement already satisfied: pytz>=2020.1 in /usr/lib/python3/dist-packages (from pandas) (2022.1)\n",
      "Requirement already satisfied: numpy>=1.21.0 in /home/nhamcotdo/.local/lib/python3.10/site-packages (from pandas) (1.24.1)\n",
      "Requirement already satisfied: python-dateutil>=2.8.1 in /home/nhamcotdo/.local/lib/python3.10/site-packages (from pandas) (2.8.2)\n",
      "Requirement already satisfied: six>=1.5 in /usr/lib/python3/dist-packages (from python-dateutil>=2.8.1->pandas) (1.16.0)\n"
     ]
    }
   ],
   "source": [
    "# Nếu chưa có thư viện thì run cell này\n",
    "!pip install mediapipe\n",
    "!pip install pandas\n",
    "!pip install numpy"
   ]
  },
  {
   "cell_type": "code",
   "execution_count": 1,
   "metadata": {},
   "outputs": [],
   "source": [
    "import cv2\n",
    "import mediapipe as mp\n",
    "import numpy as np\n",
    "import os\n",
    "import pandas as pd"
   ]
  },
  {
   "cell_type": "code",
   "execution_count": 2,
   "metadata": {},
   "outputs": [],
   "source": [
    "label = {'Your': 1,\n",
    "         'Love': 2,\n",
    "         'Sleep': 3,\n",
    "         'Name': 4,\n",
    "         'What': 5,\n",
    "         'Read': 6,\n",
    "         'I': 7,\n",
    "         'Bye': 8,\n",
    "         'You': 9,\n",
    "         'Eat': 10,\n",
    "         'Hello': 11}"
   ]
  },
  {
   "cell_type": "code",
   "execution_count": 3,
   "metadata": {},
   "outputs": [
    {
     "data": {
      "text/plain": [
       "11"
      ]
     },
     "execution_count": 3,
     "metadata": {},
     "output_type": "execute_result"
    }
   ],
   "source": [
    "# Chọn những điểm cần thiết\n",
    "indexPoseLandmark = [0, 11, 12, 13, 14, 15, 16, 17, 18, 19, 20, 21, 22]\n",
    "indexHandLandmark = [0, 3, 4, 5, 8, 9, 12, 13, 16, 17, 20]\n",
    "len(indexHandLandmark)"
   ]
  },
  {
   "cell_type": "code",
   "execution_count": 4,
   "metadata": {},
   "outputs": [],
   "source": [
    "#  Folder data\n",
    "root = './PhanLoai/'"
   ]
  },
  {
   "attachments": {},
   "cell_type": "markdown",
   "metadata": {},
   "source": [
    "# Test read with 1 File"
   ]
  },
  {
   "cell_type": "code",
   "execution_count": 5,
   "metadata": {},
   "outputs": [
    {
     "name": "stderr",
     "output_type": "stream",
     "text": [
      "INFO: Created TensorFlow Lite XNNPACK delegate for CPU.\n",
      "qt.qpa.plugin: Could not find the Qt platform plugin \"wayland\" in \"/home/nhamcotdo/.local/lib/python3.10/site-packages/cv2/qt/plugins\"\n"
     ]
    }
   ],
   "source": [
    "mp_drawing = mp.solutions.drawing_utils\n",
    "mp_drawing_styles = mp.solutions.drawing_styles\n",
    "mp_pose = mp.solutions.pose\n",
    "mp_hands = mp.solutions.hands\n",
    "\n",
    "# For static images:\n",
    "IMAGE_FILES = []\n",
    "BG_COLOR = (192, 192, 192)  # gray\n",
    "\n",
    "# For webcam input:\n",
    "filenames = ['Sleep/Sleep0.avi', 'Eat/Eat3.avi', 'I/I2.avi', 'You/You1.avi' ] \n",
    "features = [[] for _ in range(len(filenames))]\n",
    "for i, filename in enumerate(filenames):\n",
    "    filename = root+filename\n",
    "    cap = cv2.VideoCapture(filename)\n",
    "    with mp_hands.Hands(\n",
    "            static_image_mode=True,\n",
    "            max_num_hands=2,\n",
    "            min_detection_confidence=0.5) as hands:\n",
    "        with mp_pose.Pose(\n",
    "                min_detection_confidence=0.5,\n",
    "                min_tracking_confidence=0.5) as pose:\n",
    "            while True:\n",
    "                success, image = cap.read()\n",
    "                if not success:\n",
    "                    cap = cv2.VideoCapture(filename)\n",
    "                    # continue\n",
    "                    break\n",
    "\n",
    "                # To improve performance, optionally mark the image as not writeable to\n",
    "                image.flags.writeable = True\n",
    "                image = cv2.cvtColor(image, cv2.COLOR_RGB2BGR)\n",
    "\n",
    "                # HANDS\n",
    "                hand_results = hands.process(image)\n",
    "                #  GET HAND FEATURES\n",
    "                hand_feature = []\n",
    "                if hand_results.multi_hand_landmarks:\n",
    "                    hand_feature = np.array([[lm.x, lm.y, lm.z] for lm in np.array(\n",
    "                        hand_results.multi_hand_landmarks[0].landmark)[indexHandLandmark]])\n",
    "                else:\n",
    "                    hand_feature = np.array([[0, 0, 0] for i in range(len(indexHandLandmark))])\n",
    "\n",
    "                # Draw the hand annotation on the image.\n",
    "                if hand_results.multi_hand_landmarks:\n",
    "                    for hand_landmarks in hand_results.multi_hand_landmarks:\n",
    "                        mp_drawing.draw_landmarks(\n",
    "                            image,\n",
    "                            hand_landmarks,\n",
    "                            mp_hands.HAND_CONNECTIONS,\n",
    "                            mp_drawing_styles.get_default_hand_landmarks_style(),\n",
    "                            mp_drawing_styles.get_default_hand_connections_style())\n",
    "\n",
    "                # POSES\n",
    "                pose_results = pose.process(image)\n",
    "                #  GET POSE FEATURES\n",
    "                pose_feature = []\n",
    "                if pose_results.pose_landmarks:\n",
    "                    pose_feature = np.array([[lm.x, lm.y, lm.z]\n",
    "                                            for lm in np.array(pose_results.pose_landmarks.landmark)[indexPoseLandmark]])\n",
    "                else:\n",
    "                    pose_feature = np.array([[0, 0, 0] for i in range(len(indexPoseLandmark))])\n",
    "\n",
    "                # Draw the pose annotation on the image.\n",
    "                image.flags.writeable = False\n",
    "                image = cv2.cvtColor(image, cv2.COLOR_RGB2BGR)\n",
    "                mp_drawing.draw_landmarks(\n",
    "                    image,\n",
    "                    pose_results.pose_landmarks,\n",
    "                    mp_pose.POSE_CONNECTIONS,\n",
    "                    landmark_drawing_spec=mp_drawing_styles.get_default_pose_landmarks_style())\n",
    "\n",
    "                # Append to list feature\n",
    "                features[i].append(np.concatenate((pose_feature, hand_feature)))\n",
    "\n",
    "                # Flip the image horizontally for a selfie-view display.\n",
    "                cv2.imshow('MediaPipe Pose', cv2.flip(image, 1))\n",
    "                if cv2.waitKey(1) == ord('q'):\n",
    "                    break\n",
    "    cv2.destroyAllWindows()\n",
    "cap.release()\n"
   ]
  },
  {
   "attachments": {},
   "cell_type": "markdown",
   "metadata": {},
   "source": [
    "# Show feature by scatter plot and compare"
   ]
  },
  {
   "cell_type": "code",
   "execution_count": 6,
   "metadata": {},
   "outputs": [
    {
     "data": {
      "image/png": "[encoded data removed]",
      "text/plain": [
       "<Figure size 640x480 with 1 Axes>"
      ]
     },
     "metadata": {},
     "output_type": "display_data"
    },
    {
     "data": {
      "image/png": "[encoded data removed]",
      "text/plain": [
       "<Figure size 640x480 with 1 Axes>"
      ]
     },
     "metadata": {},
     "output_type": "display_data"
    },
    {
     "data": {
      "image/png": "[encoded data removed]",
      "text/plain": [
       "<Figure size 640x480 with 1 Axes>"
      ]
     },
     "metadata": {},
     "output_type": "display_data"
    },
    {
     "data": {
      "image/png": "[encoded data removed]",
      "text/plain": [
       "<Figure size 640x480 with 1 Axes>"
      ]
     },
     "metadata": {},
     "output_type": "display_data"
    }
   ],
   "source": [
    "import matplotlib.pyplot as plt\n",
    "from matplotlib import cm\n",
    "import numpy as np\n",
    "from celluloid import Camera\n",
    "\n",
    "for i, filename in enumerate(filenames):\n",
    "    numpoints = len(features[i][0][:])\n",
    "    points = np.array(features[i][0])[:, 0], np.array(features[i][0])[:, 1]\n",
    "    colors = cm.rainbow(np.linspace(0, 1, numpoints))\n",
    "    camera = Camera(plt.figure())\n",
    "    for _ in range(len(features[i])):\n",
    "        points = np.array(features[i][_])[:, 0], np.array(features[i][_])[:, 1]\n",
    "        plt.scatter(*points, c=colors, s=100)\n",
    "        camera.snap()\n",
    "    anim = camera.animate(blit=True)\n",
    "    anim.save(f'./compare/{i}.mp4')\n"
   ]
  },
  {
   "attachments": {},
   "cell_type": "markdown",
   "metadata": {},
   "source": [
    "# Labeling data"
   ]
  },
  {
   "cell_type": "code",
   "execution_count": 9,
   "metadata": {},
   "outputs": [
    {
     "name": "stdout",
     "output_type": "stream",
     "text": [
      "Your\n",
      "./PhanLoai/Your/Your5.avi\n",
      "./PhanLoai/Your/Your10.avi\n",
      "./PhanLoai/Your/Your1.avi\n",
      "./PhanLoai/Your/Your9.avi\n",
      "./PhanLoai/Your/Your3.avi\n",
      "./PhanLoai/Your/Your4.avi\n",
      "./PhanLoai/Your/Your2.avi\n",
      "./PhanLoai/Your/Your0.avi\n",
      "./PhanLoai/Your/Your8.avi\n",
      "./PhanLoai/Your/Your7.avi\n",
      "./PhanLoai/Your/Your6.avi\n",
      "Love\n",
      "./PhanLoai/Love/Love1.avi\n",
      "./PhanLoai/Love/Love8.avi\n",
      "./PhanLoai/Love/Love6.avi\n",
      "./PhanLoai/Love/Love9.avi\n",
      "./PhanLoai/Love/Love0.avi\n",
      "./PhanLoai/Love/Love5.avi\n",
      "./PhanLoai/Love/Love2.avi\n",
      "./PhanLoai/Love/Love4.avi\n",
      "./PhanLoai/Love/Love7.avi\n",
      "./PhanLoai/Love/Love3.avi\n",
      "Sleep\n",
      "./PhanLoai/Sleep/Sleep7.avi\n",
      "./PhanLoai/Sleep/Sleep0.avi\n",
      "./PhanLoai/Sleep/Sleep2.avi\n",
      "./PhanLoai/Sleep/Sleep3.avi\n",
      "./PhanLoai/Sleep/Sleep6.avi\n",
      "./PhanLoai/Sleep/Sleep5.avi\n",
      "./PhanLoai/Sleep/Sleep1.avi\n",
      "./PhanLoai/Sleep/Sleep4.avi\n",
      "Name\n",
      "./PhanLoai/Name/Name9.avi\n",
      "./PhanLoai/Name/Name7.avi\n",
      "./PhanLoai/Name/Name1.avi\n",
      "./PhanLoai/Name/Name8.avi\n",
      "./PhanLoai/Name/Name4.avi\n",
      "./PhanLoai/Name/Name12.avi\n",
      "./PhanLoai/Name/Name5.avi\n",
      "./PhanLoai/Name/Name10.avi\n",
      "./PhanLoai/Name/Name0.avi\n",
      "./PhanLoai/Name/Name2.avi\n",
      "./PhanLoai/Name/Name6.avi\n",
      "./PhanLoai/Name/Name3.avi\n",
      "./PhanLoai/Name/Name11.avi\n",
      "What\n",
      "./PhanLoai/What/What0.avi\n",
      "./PhanLoai/What/What5.avi\n",
      "./PhanLoai/What/What7.avi\n",
      "./PhanLoai/What/What4.avi\n",
      "./PhanLoai/What/What3.avi\n",
      "./PhanLoai/What/What1.avi\n",
      "./PhanLoai/What/What2.avi\n"
     ]
    },
    {
     "ename": "KeyboardInterrupt",
     "evalue": "",
     "output_type": "error",
     "traceback": [
      "\u001b[0;31m---------------------------------------------------------------------------\u001b[0m",
      "\u001b[0;31mKeyboardInterrupt\u001b[0m                         Traceback (most recent call last)",
      "Cell \u001b[0;32mIn[9], line 25\u001b[0m\n\u001b[1;32m     22\u001b[0m image \u001b[39m=\u001b[39m cv2\u001b[39m.\u001b[39mcvtColor(image, cv2\u001b[39m.\u001b[39mCOLOR_RGB2BGR)\n\u001b[1;32m     24\u001b[0m \u001b[39m# HANDS\u001b[39;00m\n\u001b[0;32m---> 25\u001b[0m hand_results \u001b[39m=\u001b[39m hands\u001b[39m.\u001b[39;49mprocess(image)\n\u001b[1;32m     26\u001b[0m \u001b[39m#  GET HAND FEATURES\u001b[39;00m\n\u001b[1;32m     27\u001b[0m left_hand_feature \u001b[39m=\u001b[39m []\n",
      "File \u001b[0;32m~/.local/lib/python3.10/site-packages/mediapipe/python/solutions/hands.py:153\u001b[0m, in \u001b[0;36mHands.process\u001b[0;34m(self, image)\u001b[0m\n\u001b[1;32m    132\u001b[0m \u001b[39mdef\u001b[39;00m \u001b[39mprocess\u001b[39m(\u001b[39mself\u001b[39m, image: np\u001b[39m.\u001b[39mndarray) \u001b[39m-\u001b[39m\u001b[39m>\u001b[39m NamedTuple:\n\u001b[1;32m    133\u001b[0m \u001b[39m  \u001b[39m\u001b[39m\"\"\"Processes an RGB image and returns the hand landmarks and handedness of each detected hand.\u001b[39;00m\n\u001b[1;32m    134\u001b[0m \n\u001b[1;32m    135\u001b[0m \u001b[39m  Args:\u001b[39;00m\n\u001b[0;32m   (...)\u001b[0m\n\u001b[1;32m    150\u001b[0m \u001b[39m         right hand) of the detected hand.\u001b[39;00m\n\u001b[1;32m    151\u001b[0m \u001b[39m  \"\"\"\u001b[39;00m\n\u001b[0;32m--> 153\u001b[0m   \u001b[39mreturn\u001b[39;00m \u001b[39msuper\u001b[39;49m()\u001b[39m.\u001b[39;49mprocess(input_data\u001b[39m=\u001b[39;49m{\u001b[39m'\u001b[39;49m\u001b[39mimage\u001b[39;49m\u001b[39m'\u001b[39;49m: image})\n",
      "File \u001b[0;32m~/.local/lib/python3.10/site-packages/mediapipe/python/solution_base.py:365\u001b[0m, in \u001b[0;36mSolutionBase.process\u001b[0;34m(self, input_data)\u001b[0m\n\u001b[1;32m    359\u001b[0m   \u001b[39melse\u001b[39;00m:\n\u001b[1;32m    360\u001b[0m     \u001b[39mself\u001b[39m\u001b[39m.\u001b[39m_graph\u001b[39m.\u001b[39madd_packet_to_input_stream(\n\u001b[1;32m    361\u001b[0m         stream\u001b[39m=\u001b[39mstream_name,\n\u001b[1;32m    362\u001b[0m         packet\u001b[39m=\u001b[39m\u001b[39mself\u001b[39m\u001b[39m.\u001b[39m_make_packet(input_stream_type,\n\u001b[1;32m    363\u001b[0m                                  data)\u001b[39m.\u001b[39mat(\u001b[39mself\u001b[39m\u001b[39m.\u001b[39m_simulated_timestamp))\n\u001b[0;32m--> 365\u001b[0m \u001b[39mself\u001b[39;49m\u001b[39m.\u001b[39;49m_graph\u001b[39m.\u001b[39;49mwait_until_idle()\n\u001b[1;32m    366\u001b[0m \u001b[39m# Create a NamedTuple object where the field names are mapping to the graph\u001b[39;00m\n\u001b[1;32m    367\u001b[0m \u001b[39m# output stream names.\u001b[39;00m\n\u001b[1;32m    368\u001b[0m solution_outputs \u001b[39m=\u001b[39m collections\u001b[39m.\u001b[39mnamedtuple(\n\u001b[1;32m    369\u001b[0m     \u001b[39m'\u001b[39m\u001b[39mSolutionOutputs\u001b[39m\u001b[39m'\u001b[39m, \u001b[39mself\u001b[39m\u001b[39m.\u001b[39m_output_stream_type_info\u001b[39m.\u001b[39mkeys())\n",
      "\u001b[0;31mKeyboardInterrupt\u001b[0m: "
     ]
    }
   ],
   "source": [
    "dataWithLabel = []\n",
    "for subFolder in os.listdir(root):\n",
    "    print(subFolder)\n",
    "    for i, filename in enumerate(os.listdir(f'{root}/{subFolder}')):\n",
    "        filename =f'{root}{subFolder}/{filename}'\n",
    "        cap = cv2.VideoCapture(filename)\n",
    "        with mp_hands.Hands(\n",
    "                static_image_mode=True,\n",
    "                max_num_hands=2,\n",
    "                min_detection_confidence=0.5) as hands:\n",
    "            with mp_pose.Pose(\n",
    "                    min_detection_confidence=0.5,\n",
    "                    min_tracking_confidence=0.5) as pose:\n",
    "                while True:\n",
    "                    success, image = cap.read()\n",
    "                    if not success:\n",
    "                        break\n",
    "\n",
    "                    # To improve performance, optionally mark the image as not writeable to\n",
    "                    image.flags.writeable = True\n",
    "                    image = cv2.cvtColor(image, cv2.COLOR_RGB2BGR)\n",
    "\n",
    "                    # HANDS\n",
    "                    hand_results = hands.process(image)\n",
    "                    #  GET HAND FEATURES\n",
    "                    left_hand_feature = []\n",
    "                    right_hand_feature = []\n",
    "                    if hand_results.multi_hand_landmarks:\n",
    "                        left_hand_feature = np.array([[lm.x, lm.y, lm.z] for lm in np.array(\n",
    "                            hand_results.multi_hand_landmarks[0].landmark)[indexHandLandmark]])\n",
    "                        \n",
    "                        if len(hand_results.multi_hand_landmarks) > 1:\n",
    "                            right_hand_feature = np.array([[lm.x, lm.y, lm.z] for lm in np.array(\n",
    "                            hand_results.multi_hand_landmarks[0].landmark)[indexHandLandmark]])\n",
    "                        else:\n",
    "                            right_hand_feature = np.array([[0, 0, 0] for i in range(len(indexHandLandmark))])\n",
    "                    else:\n",
    "                        left_hand_feature = np.array([[0, 0, 0] for i in range(len(indexHandLandmark))])\n",
    "                        right_hand_feature = np.array([[0, 0, 0] for i in range(len(indexHandLandmark))])\n",
    "\n",
    "                    # Draw the hand annotation on the image.\n",
    "                    if hand_results.multi_hand_landmarks:\n",
    "                        for hand_landmarks in hand_results.multi_hand_landmarks:\n",
    "                            mp_drawing.draw_landmarks(\n",
    "                                image,\n",
    "                                hand_landmarks,\n",
    "                                mp_hands.HAND_CONNECTIONS,\n",
    "                                mp_drawing_styles.get_default_hand_landmarks_style(),\n",
    "                                mp_drawing_styles.get_default_hand_connections_style())\n",
    "\n",
    "                    # POSES\n",
    "                    pose_results = pose.process(image)\n",
    "                    #  GET POSE FEATURES\n",
    "                    pose_feature = []\n",
    "                    if pose_results.pose_landmarks:\n",
    "                        pose_feature = np.array([[lm.x, lm.y, lm.z]\n",
    "                                                for lm in np.array(pose_results.pose_landmarks.landmark)[indexPoseLandmark]])\n",
    "                    else:\n",
    "                        pose_feature = np.array([[0, 0, 0] for i in range(len(indexPoseLandmark))])\n",
    "\n",
    "                    # Draw the pose annotation on the image.\n",
    "                    image.flags.writeable = False\n",
    "                    image = cv2.cvtColor(image, cv2.COLOR_RGB2BGR)\n",
    "                    mp_drawing.draw_landmarks(\n",
    "                        image,\n",
    "                        pose_results.pose_landmarks,\n",
    "                        mp_pose.POSE_CONNECTIONS,\n",
    "                        landmark_drawing_spec=mp_drawing_styles.get_default_pose_landmarks_style())\n",
    "\n",
    "                    # Append to list feature\n",
    "                    dataWithLabel.append([np.concatenate((pose_feature, left_hand_feature, right_hand_feature)), label[subFolder]])\n",
    "\n",
    "                    # Flip the image horizontally for a selfie-view display.\n",
    "                    cv2.imshow(filename, cv2.flip(image, 1))\n",
    "                    if cv2.waitKey(1) == ord('q'):\n",
    "                        break\n",
    "    cv2.destroyAllWindows()\n",
    "    cap.release()"
   ]
  },
  {
   "cell_type": "code",
   "execution_count": null,
   "metadata": {},
   "outputs": [],
   "source": [
    "df = pd.DataFrame(dataWithLabel)"
   ]
  },
  {
   "cell_type": "code",
   "execution_count": null,
   "metadata": {},
   "outputs": [],
   "source": [
    "df.to_csv('data.csv')"
   ]
  },
  {
   "cell_type": "code",
   "execution_count": null,
   "metadata": {},
   "outputs": [
    {
     "data": {
      "text/plain": [
       "35"
      ]
     },
     "execution_count": 36,
     "metadata": {},
     "output_type": "execute_result"
    }
   ],
   "source": [
    "len(dataWithLabel[0][0])"
   ]
  },
  {
   "cell_type": "code",
   "execution_count": 10,
   "metadata": {},
   "outputs": [],
   "source": [
    "cv2.destroyAllWindows()\n"
   ]
  }
 ],
 "metadata": {
  "kernelspec": {
   "display_name": "Python 3",
   "language": "python",
   "name": "python3"
  },
  "language_info": {
   "codemirror_mode": {
    "name": "ipython",
    "version": 3
   },
   "file_extension": ".py",
   "mimetype": "text/x-python",
   "name": "python",
   "nbconvert_exporter": "python",
   "pygments_lexer": "ipython3",
   "version": "3.10.6"
  },
  "orig_nbformat": 4,
  "vscode": {
   "interpreter": {
    "hash": "916dbcbb3f70747c44a77c7bcd40155683ae19c65e1c03b4aa3499c5328201f1"
   }
  }
 },
 "nbformat": 4,
 "nbformat_minor": 2
}
