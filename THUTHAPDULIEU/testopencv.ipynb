{
 "cells": [
  {
   "cell_type": "code",
   "execution_count": 1,
   "metadata": {},
   "outputs": [],
   "source": [
    "import cv2\n",
    "import mediapipe as mp"
   ]
  },
  {
   "cell_type": "code",
   "execution_count": 3,
   "metadata": {},
   "outputs": [
    {
     "name": "stdout",
     "output_type": "stream",
     "text": [
      "Recording started!\n",
      "Recording started!\n",
      "Recording started!\n",
      "Recording started!\n",
      "Recording started!\n",
      "Recording started!\n",
      "Recording started!\n"
     ]
    }
   ],
   "source": [
    "# Create a VideoCapture object to read the video stream\n",
    "cap = cv2.VideoCapture('http://192.168.157.20:81/stream')\n",
    "\n",
    "# Check if the video stream is opened successfully\n",
    "if not cap.isOpened():\n",
    "    print(\"Error opening video stream\")\n",
    "\n",
    "# Define a function to start recording\n",
    "def start_recording(event, x, y, flags, param):\n",
    "    global out, recording\n",
    "    if event == cv2.EVENT_LBUTTONDOWN:\n",
    "        fourcc = cv2.VideoWriter_fourcc(*'mp4v')\n",
    "        out = cv2.VideoWriter('output.mp4', fourcc, 20.0, (640, 480))\n",
    "        recording = True\n",
    "        print(\"Recording started!\")\n",
    "\n",
    "# Define a function to stop recording\n",
    "def stop_recording(event, x, y, flags, param):\n",
    "    global out, recording\n",
    "    if event == cv2.EVENT_LBUTTONDOWN:\n",
    "        out.release()\n",
    "        recording = False\n",
    "        print(\"Video saved!\")\n",
    "\n",
    "# Create a window to display the video stream and GUI\n",
    "cv2.namedWindow(\"Frame\")\n",
    "cv2.setMouseCallback(\"Frame\", start_recording)\n",
    "\n",
    "# Initialize variables for recording and the VideoWriter object\n",
    "recording = False\n",
    "out = None\n",
    "\n",
    "# Loop through the video frames and handle events\n",
    "while cap.isOpened():\n",
    "    # Read a frame from the video stream\n",
    "    ret, frame = cap.read()\n",
    "\n",
    "    # Check if the frame is read successfully\n",
    "    if not ret:\n",
    "        print(\"Can't receive frame (stream end?). Exiting...\")\n",
    "        break\n",
    "\n",
    "    # Apply some processing to the frame\n",
    "    gray = cv2.cvtColor(frame, cv2.COLOR_BGR2GRAY)\n",
    "\n",
    "    # Write the processed frame to the video file if recording is in progress\n",
    "    if recording:\n",
    "        out.write(gray)\n",
    "\n",
    "    # Display the processed frame\n",
    "    cv2.imshow(\"Frame\", gray)\n",
    "\n",
    "    # Handle events and wait for a key press to exit\n",
    "    key = cv2.waitKey(1)\n",
    "    if key == ord('q'):\n",
    "        break\n",
    "    elif key == ord('s'):\n",
    "        stop_recording(None, None, None, None, None)\n",
    "\n",
    "# Release the VideoCapture object, VideoWriter object, and close all windows\n",
    "cap.release()\n",
    "if out is not None:\n",
    "    out.release()\n",
    "cv2.destroyAllWindows()\n"
   ]
  },
  {
   "cell_type": "code",
   "execution_count": null,
   "metadata": {},
   "outputs": [],
   "source": []
  }
 ],
 "metadata": {
  "kernelspec": {
   "display_name": "Python 3",
   "language": "python",
   "name": "python3"
  },
  "language_info": {
   "codemirror_mode": {
    "name": "ipython",
    "version": 3
   },
   "file_extension": ".py",
   "mimetype": "text/x-python",
   "name": "python",
   "nbconvert_exporter": "python",
   "pygments_lexer": "ipython3",
   "version": "3.10.6"
  },
  "orig_nbformat": 4,
  "vscode": {
   "interpreter": {
    "hash": "e7370f93d1d0cde622a1f8e1c04877d8463912d04d973331ad4851f04de6915a"
   }
  }
 },
 "nbformat": 4,
 "nbformat_minor": 2
}
